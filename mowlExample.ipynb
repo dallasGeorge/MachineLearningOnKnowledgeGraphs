{
 "cells": [
  {
   "cell_type": "markdown",
   "metadata": {
    "id": "_QjceqWg-C0F"
   },
   "source": [
    "To notepad αυτό αποτελεί ένα \"hello-world\" για την χρήση της βιβλιοθήκης [mOWL](https://mowl.readthedocs.io/en/latest/index.html). Ο σκοπός είναι να στηθεί ένα απλό παράδειγμα που επιδεικνύει τη χρήση της mOWL για την αναγνώριση \"ακμών\" ενός γράφου γνώσης (ΓΓ).\n",
    "\n",
    "**Προσοχή: Εάν  το notebook τρέχει στο google colab, πρέπει να επιλεχθεί από το menu, η επιλογή Runtime -> Change runtime type και να επιλεχθεί ένα διαθέσιμο GPU. Αυτό γίνεται γιατί τα μοντέλα τρέχουν με χρήση CUDA, για γρηγορότερη εκπαίδευση.** </h5>"
   ]
  },
  {
   "cell_type": "code",
   "execution_count": 18,
   "metadata": {
    "colab": {
     "base_uri": "https://localhost:8080/"
    },
    "id": "8My_2PMm-D9a",
    "outputId": "a510a116-63d3-46d2-84a8-1f8fa4c45734"
   },
   "outputs": [
    {
     "name": "stdout",
     "output_type": "stream",
     "text": [
      "Requirement already satisfied: mowl-borg in c:\\users\\dalla\\appdata\\local\\programs\\python\\python310\\lib\\site-packages (1.0.1)"
     ]
    },
    {
     "name": "stderr",
     "output_type": "stream",
     "text": [
      "\n",
      "[notice] A new release of pip is available: 24.3.1 -> 25.0.1\n",
      "[notice] To update, run: python.exe -m pip install --upgrade pip\n"
     ]
    },
    {
     "name": "stdout",
     "output_type": "stream",
     "text": [
      "\n",
      "Requirement already satisfied: click in c:\\users\\dalla\\appdata\\local\\programs\\python\\python310\\lib\\site-packages (from mowl-borg) (8.1.8)\n",
      "Requirement already satisfied: deprecated in c:\\users\\dalla\\appdata\\local\\programs\\python\\python310\\lib\\site-packages (from mowl-borg) (1.2.15)\n",
      "Requirement already satisfied: gensim>=4.3.0 in c:\\users\\dalla\\appdata\\local\\programs\\python\\python310\\lib\\site-packages (from mowl-borg) (4.3.3)\n",
      "Requirement already satisfied: JPype1==1.5.0 in c:\\users\\dalla\\appdata\\local\\programs\\python\\python310\\lib\\site-packages (from mowl-borg) (1.5.0)\n",
      "Requirement already satisfied: matplotlib in c:\\users\\dalla\\appdata\\local\\programs\\python\\python310\\lib\\site-packages (from mowl-borg) (3.10.0)\n",
      "Requirement already satisfied: networkx in c:\\users\\dalla\\appdata\\local\\programs\\python\\python310\\lib\\site-packages (from mowl-borg) (3.4.2)\n",
      "Requirement already satisfied: numpy in c:\\users\\dalla\\appdata\\local\\programs\\python\\python310\\lib\\site-packages (from mowl-borg) (1.26.4)\n",
      "Requirement already satisfied: pandas in c:\\users\\dalla\\appdata\\local\\programs\\python\\python310\\lib\\site-packages (from mowl-borg) (2.2.3)\n",
      "Requirement already satisfied: pykeen==1.11.0 in c:\\users\\dalla\\appdata\\local\\programs\\python\\python310\\lib\\site-packages (from mowl-borg) (1.11.0)\n",
      "Requirement already satisfied: pyyaml in c:\\users\\dalla\\appdata\\local\\programs\\python\\python310\\lib\\site-packages (from mowl-borg) (6.0.2)\n",
      "Requirement already satisfied: requests in c:\\users\\dalla\\appdata\\local\\programs\\python\\python310\\lib\\site-packages (from mowl-borg) (2.32.3)\n",
      "Requirement already satisfied: scikit-learn in c:\\users\\dalla\\appdata\\local\\programs\\python\\python310\\lib\\site-packages (from mowl-borg) (1.6.0)\n",
      "Requirement already satisfied: scipy<1.15.0 in c:\\users\\dalla\\appdata\\local\\programs\\python\\python310\\lib\\site-packages (from mowl-borg) (1.13.1)\n",
      "Requirement already satisfied: temp in c:\\users\\dalla\\appdata\\local\\programs\\python\\python310\\lib\\site-packages (from mowl-borg) (2020.7.2)\n",
      "Requirement already satisfied: tqdm in c:\\users\\dalla\\appdata\\local\\programs\\python\\python310\\lib\\site-packages (from mowl-borg) (4.67.1)\n",
      "Requirement already satisfied: torch in c:\\users\\dalla\\appdata\\local\\programs\\python\\python310\\lib\\site-packages (from mowl-borg) (2.5.1+cu118)\n",
      "Requirement already satisfied: urllib3 in c:\\users\\dalla\\appdata\\local\\programs\\python\\python310\\lib\\site-packages (from mowl-borg) (2.3.0)\n",
      "Requirement already satisfied: packaging in c:\\users\\dalla\\appdata\\local\\programs\\python\\python310\\lib\\site-packages (from JPype1==1.5.0->mowl-borg) (24.2)\n",
      "Requirement already satisfied: dataclasses-json in c:\\users\\dalla\\appdata\\local\\programs\\python\\python310\\lib\\site-packages (from pykeen==1.11.0->mowl-borg) (0.6.7)\n",
      "Requirement already satisfied: click-default-group in c:\\users\\dalla\\appdata\\local\\programs\\python\\python310\\lib\\site-packages (from pykeen==1.11.0->mowl-borg) (1.2.4)\n",
      "Requirement already satisfied: optuna>=2.0.0 in c:\\users\\dalla\\appdata\\local\\programs\\python\\python310\\lib\\site-packages (from pykeen==1.11.0->mowl-borg) (4.1.0)\n",
      "Requirement already satisfied: tabulate in c:\\users\\dalla\\appdata\\local\\programs\\python\\python310\\lib\\site-packages (from pykeen==1.11.0->mowl-borg) (0.9.0)\n",
      "Requirement already satisfied: more-click in c:\\users\\dalla\\appdata\\local\\programs\\python\\python310\\lib\\site-packages (from pykeen==1.11.0->mowl-borg) (0.1.2)\n",
      "Requirement already satisfied: more-itertools in c:\\users\\dalla\\appdata\\local\\programs\\python\\python310\\lib\\site-packages (from pykeen==1.11.0->mowl-borg) (10.5.0)\n",
      "Requirement already satisfied: pystow>=0.4.3 in c:\\users\\dalla\\appdata\\local\\programs\\python\\python310\\lib\\site-packages (from pykeen==1.11.0->mowl-borg) (0.6.1)\n",
      "Requirement already satisfied: docdata in c:\\users\\dalla\\appdata\\local\\programs\\python\\python310\\lib\\site-packages (from pykeen==1.11.0->mowl-borg) (0.0.4)\n",
      "Requirement already satisfied: class-resolver>=0.5.1 in c:\\users\\dalla\\appdata\\local\\programs\\python\\python310\\lib\\site-packages (from pykeen==1.11.0->mowl-borg) (0.5.4)\n",
      "Requirement already satisfied: torch-max-mem>=0.1.1 in c:\\users\\dalla\\appdata\\local\\programs\\python\\python310\\lib\\site-packages (from pykeen==1.11.0->mowl-borg) (0.1.3)\n",
      "Requirement already satisfied: torch-ppr>=0.0.7 in c:\\users\\dalla\\appdata\\local\\programs\\python\\python310\\lib\\site-packages (from pykeen==1.11.0->mowl-borg) (0.0.8)\n",
      "Requirement already satisfied: typing-extensions in c:\\users\\dalla\\appdata\\local\\programs\\python\\python310\\lib\\site-packages (from pykeen==1.11.0->mowl-borg) (4.12.2)\n",
      "Requirement already satisfied: smart-open>=1.8.1 in c:\\users\\dalla\\appdata\\local\\programs\\python\\python310\\lib\\site-packages (from gensim>=4.3.0->mowl-borg) (7.1.0)\n",
      "Requirement already satisfied: python-dateutil>=2.8.2 in c:\\users\\dalla\\appdata\\local\\programs\\python\\python310\\lib\\site-packages (from pandas->mowl-borg) (2.9.0.post0)\n",
      "Requirement already satisfied: pytz>=2020.1 in c:\\users\\dalla\\appdata\\local\\programs\\python\\python310\\lib\\site-packages (from pandas->mowl-borg) (2024.2)\n",
      "Requirement already satisfied: tzdata>=2022.7 in c:\\users\\dalla\\appdata\\local\\programs\\python\\python310\\lib\\site-packages (from pandas->mowl-borg) (2024.2)\n",
      "Requirement already satisfied: filelock in c:\\users\\dalla\\appdata\\local\\programs\\python\\python310\\lib\\site-packages (from torch->mowl-borg) (3.16.1)\n",
      "Requirement already satisfied: jinja2 in c:\\users\\dalla\\appdata\\local\\programs\\python\\python310\\lib\\site-packages (from torch->mowl-borg) (3.1.5)\n",
      "Requirement already satisfied: fsspec in c:\\users\\dalla\\appdata\\local\\programs\\python\\python310\\lib\\site-packages (from torch->mowl-borg) (2024.12.0)\n",
      "Requirement already satisfied: sympy==1.13.1 in c:\\users\\dalla\\appdata\\local\\programs\\python\\python310\\lib\\site-packages (from torch->mowl-borg) (1.13.1)\n",
      "Requirement already satisfied: mpmath<1.4,>=1.1.0 in c:\\users\\dalla\\appdata\\local\\programs\\python\\python310\\lib\\site-packages (from sympy==1.13.1->torch->mowl-borg) (1.3.0)\n",
      "Requirement already satisfied: colorama in c:\\users\\dalla\\appdata\\local\\programs\\python\\python310\\lib\\site-packages (from click->mowl-borg) (0.4.6)\n",
      "Requirement already satisfied: wrapt<2,>=1.10 in c:\\users\\dalla\\appdata\\local\\programs\\python\\python310\\lib\\site-packages (from deprecated->mowl-borg) (1.17.0)\n",
      "Requirement already satisfied: contourpy>=1.0.1 in c:\\users\\dalla\\appdata\\local\\programs\\python\\python310\\lib\\site-packages (from matplotlib->mowl-borg) (1.3.1)\n",
      "Requirement already satisfied: cycler>=0.10 in c:\\users\\dalla\\appdata\\local\\programs\\python\\python310\\lib\\site-packages (from matplotlib->mowl-borg) (0.12.1)\n",
      "Requirement already satisfied: fonttools>=4.22.0 in c:\\users\\dalla\\appdata\\local\\programs\\python\\python310\\lib\\site-packages (from matplotlib->mowl-borg) (4.55.3)\n",
      "Requirement already satisfied: kiwisolver>=1.3.1 in c:\\users\\dalla\\appdata\\local\\programs\\python\\python310\\lib\\site-packages (from matplotlib->mowl-borg) (1.4.8)\n",
      "Requirement already satisfied: pillow>=8 in c:\\users\\dalla\\appdata\\local\\programs\\python\\python310\\lib\\site-packages (from matplotlib->mowl-borg) (11.0.0)\n",
      "Requirement already satisfied: pyparsing>=2.3.1 in c:\\users\\dalla\\appdata\\local\\programs\\python\\python310\\lib\\site-packages (from matplotlib->mowl-borg) (3.2.0)\n",
      "Requirement already satisfied: charset-normalizer<4,>=2 in c:\\users\\dalla\\appdata\\local\\programs\\python\\python310\\lib\\site-packages (from requests->mowl-borg) (3.4.1)\n",
      "Requirement already satisfied: idna<4,>=2.5 in c:\\users\\dalla\\appdata\\local\\programs\\python\\python310\\lib\\site-packages (from requests->mowl-borg) (3.10)\n",
      "Requirement already satisfied: certifi>=2017.4.17 in c:\\users\\dalla\\appdata\\local\\programs\\python\\python310\\lib\\site-packages (from requests->mowl-borg) (2024.12.14)\n",
      "Requirement already satisfied: joblib>=1.2.0 in c:\\users\\dalla\\appdata\\local\\programs\\python\\python310\\lib\\site-packages (from scikit-learn->mowl-borg) (1.4.2)\n",
      "Requirement already satisfied: threadpoolctl>=3.1.0 in c:\\users\\dalla\\appdata\\local\\programs\\python\\python310\\lib\\site-packages (from scikit-learn->mowl-borg) (3.5.0)\n",
      "Requirement already satisfied: alembic>=1.5.0 in c:\\users\\dalla\\appdata\\local\\programs\\python\\python310\\lib\\site-packages (from optuna>=2.0.0->pykeen==1.11.0->mowl-borg) (1.14.0)\n",
      "Requirement already satisfied: colorlog in c:\\users\\dalla\\appdata\\local\\programs\\python\\python310\\lib\\site-packages (from optuna>=2.0.0->pykeen==1.11.0->mowl-borg) (6.9.0)\n",
      "Requirement already satisfied: sqlalchemy>=1.4.2 in c:\\users\\dalla\\appdata\\local\\programs\\python\\python310\\lib\\site-packages (from optuna>=2.0.0->pykeen==1.11.0->mowl-borg) (2.0.36)\n",
      "Requirement already satisfied: six>=1.5 in c:\\users\\dalla\\appdata\\local\\programs\\python\\python310\\lib\\site-packages (from python-dateutil>=2.8.2->pandas->mowl-borg) (1.17.0)\n",
      "Requirement already satisfied: marshmallow<4.0.0,>=3.18.0 in c:\\users\\dalla\\appdata\\local\\programs\\python\\python310\\lib\\site-packages (from dataclasses-json->pykeen==1.11.0->mowl-borg) (3.23.2)\n",
      "Requirement already satisfied: typing-inspect<1,>=0.4.0 in c:\\users\\dalla\\appdata\\local\\programs\\python\\python310\\lib\\site-packages (from dataclasses-json->pykeen==1.11.0->mowl-borg) (0.9.0)\n",
      "Requirement already satisfied: MarkupSafe>=2.0 in c:\\users\\dalla\\appdata\\local\\programs\\python\\python310\\lib\\site-packages (from jinja2->torch->mowl-borg) (3.0.2)\n",
      "Requirement already satisfied: Mako in c:\\users\\dalla\\appdata\\local\\programs\\python\\python310\\lib\\site-packages (from alembic>=1.5.0->optuna>=2.0.0->pykeen==1.11.0->mowl-borg) (1.3.8)\n",
      "Requirement already satisfied: greenlet!=0.4.17 in c:\\users\\dalla\\appdata\\local\\programs\\python\\python310\\lib\\site-packages (from sqlalchemy>=1.4.2->optuna>=2.0.0->pykeen==1.11.0->mowl-borg) (3.1.1)\n",
      "Requirement already satisfied: mypy-extensions>=0.3.0 in c:\\users\\dalla\\appdata\\local\\programs\\python\\python310\\lib\\site-packages (from typing-inspect<1,>=0.4.0->dataclasses-json->pykeen==1.11.0->mowl-borg) (1.0.0)\n"
     ]
    }
   ],
   "source": [
    "!pip install mowl-borg"
   ]
  },
  {
   "cell_type": "markdown",
   "metadata": {
    "id": "23uf9Smkbi54"
   },
   "source": [
    "## Αρχικοποίηση\n",
    "Αρχικά εισάγεται η βιβλιοθήκη mowl και η torch\n",
    "και αρχικοποιείται η διαθέσιμη προς χρήση μνήμη για το Java Virtual Machine ως 10 Gigabytes. <br>\n",
    "Η βιβλιοθήκη [mOWL](https://mowl.readthedocs.io/en/latest/) είναι μια βιβλιοθήκη που έχει σχεδιαστεί για να υποστηρίζει τη Μηχανική Μάθηση με Οντολογίες, προσφέροντας λειτουργίες για τη διαχείριση οντολογιών και τη δημιουργία αναπαραστάσεων σε μορφή διανυσμάτων (embeddings) για τις οντότητες τους. Αξιοποιεί την [OWLAPI](https://github.com/owlcs/owlapi/wiki/Documentation), μια βιβλιοθήκη γραμμένη σε Java, μέσω του [JPype](https://jpype.readthedocs.io/en/latest/) και για αυτό τον λόγο είναι αναγκαία και η αρχικοποίηση μνήμης στο JVM.\n",
    "Η [Torch](https://pytorch.org/docs/stable/index.html) παρέχει ισχυρά εργαλεία για την εκπαίδευση και τη χρήση αλγορίθμων μηχανικής μάθησης και νευρωνικών δικτύων."
   ]
  },
  {
   "cell_type": "code",
   "execution_count": 19,
   "metadata": {
    "collapsed": false,
    "id": "MpNa7bF9-C0H",
    "jupyter": {
     "outputs_hidden": false
    }
   },
   "outputs": [],
   "source": [
    "import mowl\n",
    "mowl.init_jvm(\"10g\")\n",
    "import torch as th"
   ]
  },
  {
   "cell_type": "markdown",
   "metadata": {
    "id": "TFUjr8rN-C0H"
   },
   "source": [
    "### Dataset που χρησιμοποιείται:\n",
    "Το dataset που χρησιμοποιείται είναι το [PPIYeastDataset](https://mowl.readthedocs.io/en/latest/api/mowl.datasets.builtin.PPIYeastDataset.html#mowl.datasets.builtin.PPIYeastDataset), το οποίο είναι built-in στη βιβλιοθήκη mowl. Το dataset αυτό περιλαμβάνει protein-protein interactions που αφορούν τον συγκεκριμένο μύκητα και οι σχέσεις μεταξύ πρωτεϊνών αναπαρίστανται σαν αξιώματα με τον παρακάτω τρόπο: <br>\n",
    "<b>protein1 ⊆ interacts_with.protein2</b>\n",
    "Το dataset αποθηκεύεται σε έναν φάκελο με 3 αρχεία τύπου \"*.owl\" κατά την εκτέλεση του προγράμματος. Στον φάκελο αυτό περιέχονται τα εξής: \"ontology.owl\" το οποίο χρησιμοποιείται σαν είσοδος στο στάδιο εκπαίδευσης των μοντέλων, \"valid.owl\" για την επικύρωση του μοντέλου (παραγωγή κάποιου loss) στα στάδια της εκπαίδευσης και \"test.owl\" για την τελική αξιολόγηση των embeddings. <br>\n",
    "\n",
    "Η δομή του dataset αποτελείται κυρίως από κλάσεις στην owl (πχ http://4932.Q0045 , όπου το 4932.Q0045 είναι το identifier της πρωτεΐνης), σε ποια ευρύτερη κατηγορία κλάσεων πρωτεϊνών (subClassOf) ανήκουν, διάφορα restrictions και properties, όπως και το αντικείμενο κορμού στην μελέτη PPI, interacts_with που συνδέει 2 κλάσεις πρωτεϊνών μεταξύ τους. <br>\n",
    "\n",
    "<b> Για παράδειγμα: </b> <br>\n",
    "Η πρωτεΐνη 4932.Q0045 που αναφέρθηκε πάνω, γνωστή και ως [COX1](https://string-db.org/network/4932.Q0045), με την ιδιότητα \"interacts_with\", φαίνεται να αλληλοεπιδρά με την πρωτεΐνη 4932.Q0050, γνωστή και ως [Saccharomyces cerevisiae](https://string-db.org/network/4932.Q0050) : <br>\n",
    "\n",
    "    <owl:Class rdf:about=\"http://4932.Q0045\">\n",
    "        ...\n",
    "        <rdfs:subClassOf>\n",
    "            <owl:Restriction>\n",
    "                <owl:onProperty rdf:resource=\"http://interacts_with\"/>\n",
    "                <owl:someValuesFrom rdf:resource=\"http://4932.Q0050\"/>\n",
    "            </owl:Restriction>\n",
    "        </rdfs:subClassOf>\n",
    "        ...\n",
    "    </owl:Class>\n",
    "\n",
    "\n",
    "Αντιστοίχως λοιπόν, και η πρωτεΐνη 4932.Q0050 συνδέεται ρητά με την 4932.Q0045, με χρήση του ίδιου property:\n",
    "\n",
    "    <owl:Class rdf:about=\"http://4932.Q0050\">\n",
    "        ...\n",
    "        <rdfs:subClassOf>\n",
    "            <owl:Restriction>\n",
    "                <owl:onProperty rdf:resource=\"http://interacts_with\"/>\n",
    "                <owl:someValuesFrom rdf:resource=\"http://4932.Q0045\"/>\n",
    "            </owl:Restriction>\n",
    "        </rdfs:subClassOf>\n",
    "        ...\n",
    "     </owl:Class>\n",
    "     \n",
    "Για την 4932.Q0045 στο ontology.owl περιέχονται 55 αλληλεπιδράσεις με άλλες πρωτεΐνες. Στο valid.owl, παρέχονται μόνο 2 και στο test.owl 6, εκ των οποίων καμία δεν είναι παρούσα στο ontology.owl. Αυτή η αναλογία δεν είναι σταθερή από κλάση σε κλάση και γενικά [οι αλληλεπιδράσεις χωρίστηκαν τυχαία](https://mowl.readthedocs.io/en/latest/api/mowl.datasets.builtin.PPIYeastDataset.html#mowl.datasets.builtin.PPIYeastDataset), ώστε το 90% αυτών να είναι στο αρχείο ontology.owl, το 5% στο valid.owl και το υπόλοιπο 5% στο test.owl. Το γεγονός επίσης ότι οι αλληλεπιδράσεις του ontology.owl δεν εμφανίζονται στα άλλα 2 αρχεία είναι ιδιαίτερα σημαντικό, καθώς ο στόχος των μοντέλων είναι το link prediction. Δηλαδή, κάθε φορά που γίνεται το στάδιο του validation, το μοντέλο προσαρμόζεται ώστε να \"μαντεύει\" καλύτερα αν πρωτεΐνες αλληλοεπιδρούν με άλλες, με βάση τις νέες αλληλεπιδράσεις του valid.owl. Τέλος στο στάδιο αξιολόγησης του μοντέλου, ελέγχεται κατά πόσο προβλέπονται οι αλληλεπιδράσεις του test.owl από το ontology.owl.\n",
    "\n",
    "***\n",
    "Αριθμός προτεϊνών στο ontology.owl: 6039\n",
    "\n",
    "Αριθμός αλληλεπιδράσεων πρωτεϊνών στο ontology.owl: 433390\n",
    "\n",
    "Αριθμός προτεϊνών στο valid.owl: 3635\n",
    "\n",
    "Αριθμός αλληλεπιδράσεων πρωτεϊνών στο valid.owl: 24078\n",
    "\n",
    "Αριθμός προτεϊνών στο test.owl: 3665\n",
    "\n",
    "Αριθμός αλληλεπιδράσεων πρωτεϊνών στο test.owl: 24082\n",
    "***\n",
    "\n",
    "![](https://mermaid.ink/img/pako:eNqNU8Fq20AQ_ZVhe0nAKjn1IEggiazk0J4aemjVw9ZaySLSbpBXTU0IJG1NKeRSaC-lt-SYNhjbGMdx_QerX-pbqXYTQksRi2Zn33u8md05Yi0VCuYyx3EC2VIySmI3kEQp76pCuxQlb0RoE7otMuGSFMoJeb4fyIoRpeqw1ea5pj3Poog2XwRMSa1SFXcfqsOUVvZynshExuRxzVcD9pIcZ4O2gDNfTb98by7NFN_YLipPylMzNyOk52ZibgB4Z65Mn5AYl28J2Vl1NsUa2BObHADaJzMyE6D7ZlB-ROoHYTMiaNSc75az0MlgDVZqz1uVo23r6Iu5Lk8gcWWGMNGDwpjMtz8KUJ7RClx-oObjZvZKhCFK66wutbYrLc9qfUZNN3A2h85pbZbEkrJkeBXDt4zzqhtDyyFYmVXhJURG1oit9JP5aU9h5AyK40X6To1l75b2-voG7VrtC7RnCu41GoMC78mgfah8Yoblme1bVajtdNn7u3wTwq95moT1TT-zIdeJknfv2q_RO0Br0dG_nwWie69it0b69YXUm47upoI28c_VvnAf-P4jb22tESVputjcBjb_F7jzbyBrsEzkGU9CjMeRJcK9HYKAuQirIWCBPAaOF1o97coWc3VeiAbLVRG3mRvxtINdcYCeCC_hcc6zBeSAy-dKZUuQCBOt8if1MFYzefwL1_idzg)"
   ]
  },
  {
   "cell_type": "code",
   "execution_count": 20,
   "metadata": {},
   "outputs": [],
   "source": [
    "from mowl.datasets.builtin import PPIYeastDataset\n",
    "# dataset που χρησιμοποιείται (το συγκεκριμένο είναι built-in)\n",
    "dataset = PPIYeastDataset()\n"
   ]
  },
  {
   "cell_type": "markdown",
   "metadata": {
    "id": "H4nUtPx4-C0I"
   },
   "source": [
    "## EL-embedding μοντέλο\n",
    "H mOWL μπορεί να δημιουργήσει embeddings με πολλούς τρόπους. Το [EL-embedding μοντέλο](https://mowl.readthedocs.io/en/latest/examples/elmodels/plot_1_elembeddings.html#sphx-glr-examples-elmodels-plot-1-elembeddings-py), είναι ένας από αυτούς.\n",
    "Το [EL profile](https://www.w3.org/TR/owl2-profiles/#OWL_2_EL), είναι ένα lightweight profile της OWL που υποστηρίζει βασικές εκφράσεις Descriptions Logic, καθιστώντας το ιδιαίτερα χρήσιμο για μεγάλα datasets με απλές ιεραρχίες.\n",
    "\n",
    "Για να περιγράφει το TBox του EL profile χρησιμοποιούνται κάποιες κανονικές μορφές. Αυτές ονομάζονται αλλιώς και General Concept Inclusions.\n",
    "Το EL profile βασίζεται στα εξής General Concept Inclusions (GCIs):\n",
    "\n",
    "**GCI 0** - `C ⊑ D`: Περιγράφει ότι μια κλάση C μπορεί να ανήκει και στην κλάση D. Ουσιαστικά, είναι η σχέση \"subclassOf\" της OWL.<br>\n",
    "**GCI 1** - `C1 ⊓ C2 ⊑ D`: Περιγράφει ότι αν κάτι ανήκει στην κλάση C1 και στην κλάση C2, τότε ανήκει και στην κλάση D. Ουσιαστικά το EL profile μπορεί να υποστηρίξει τομή δύο κλάσεων.<br>\n",
    "**GCI 2** - `C ⊑ ∃R.D`: Περιγράφει ότι η κλάση C μπορεί να έχει μια σχέση R με την κλάση D. Άρα το EL profile μπορεί να υποστηρίξει σχέσεις (properties) μεταξύ κλάσεων.<br>\n",
    "**GCI 3** - `∃R.C ⊑ D`: Περιγράφει ότι αν υπάρχει μια σχέση R που συνδέει την κλάση C, τότε μπορεί να συνδέεται και με την κλάση D.<br>\n",
    "**GCI bot 0** - `C ⊑ ⊥`: Περιγράφει ότι μπορεί να υπάρξει κλάση χωρίς υποκλάσεις. <br>\n",
    "**GCI bot 1** - `C1 ⊓ C2 ⊑ ⊥`: Περιγράφει ότι μπορεί η τομή των κλάσεων C1 και C2 να είναι κενή<br>\n",
    "**GCI bot 3** - `∃R.C ⊑ ⊥`: Περιγράφει ότι μπορεί μια σχέση R που συνδέει την κλάση C να μην ανήκει σε κάποια άλλη κλάση.<br>\n",
    "\n",
    "Ουσιαστικά, τα GCIs αποτυπώνουν τους \"κανόνες\" που μπορούμε να χρησιμοποιήσουμε για να περιγράψουμε γνώση με το συγκεκριμένο OWL profile.\n",
    "\n",
    "Σύμφωνα με το σχετικό [paper](https://www.ijcai.org/proceedings/2019/845), το EL embedding μοντέλο αποσκοπεί στο να μεταφέρει τις κλάσεις και τις σχέσεις σε μια γεωμετρική διάσταση (όπως έναν n-διάστατο πραγματικό χώρο). Ο στόχος είναι να διατηρηθεί η σημασιολογική δομή της οντολογίας μέσα σε αυτόν τον γεωμετρικό χώρο.\n",
    "Για να επιτευχθεί αυτό, η mOWL αντιστοιχίζει κάθε κλάση σε μια n-διάστατη σφαίρα (\"μπάλα\"). Κάθε σημείο της \"υπερσφαίρας\" αυτής αναπαριστά γεωμετρικά και το εύρος της κλάσης. Με αυτή τη λογική, αν μια κλάση είναι υποκλάση μιας άλλης, η αντίστοιχη n-μπάλα που αναπαριστά την υποκλάση θα πρέπει να βρίσκεται μέσα στην n-μπάλα της υπερκλάσης.\n",
    "\n",
    "Οι ιδιότητες κλάσεων (object properties) αντιστοιχίζονται σε μετατόπιση των n-σφαιρών με βάση το [transE]( https://papers.nips.cc/paper_files/paper/2013/file/1cecc7a77928ca8133fa24680a88d2f9-Paper.pdf) μοντέλο.\n",
    "\n",
    "Το μοντέλο εκμάθησης χρησιμοποιεί συναρτήσεις απώλειας για να διασφαλίσει ότι η γεωμετρική αναπαράσταση της οντολογίας διατηρεί τις λογικές σχέσεις μεταξύ των κλάσεων και των σχέσεων.\n",
    "Ορίζεται λοιπόν για κάθε ένα GCI μια συνάρτησης απώλειας και το άθρισμα των απωλειών για κάθε μετασχηματισμό κάθε μιας από τις κλάσεις χρησιμοποιείται για την δυνατόν καλύτερη προσαρμογή των σφαιρών στους κανόνες του EL Profile.  \n",
    "\n",
    "Ως παράδειγμα, υπάρχει ένα μοντέλο που χρησιμοποιείται για να μοντελοποιήσει τις σχέσεις των PPIs. Το μοντέλο αυτό είναι ένα μοντέλο τύπου EL-embedding ([ELEmPPI](https://mowl.readthedocs.io/en/latest/_modules/mowl/models/elembeddings/examples/model_ppi.html#ELEmPPI)) αλλά παρέχεται και ένα γενικότερο μοντέλο που μπορεί να προσαρμοστεί για οποιοδήποτε dataset. <br>\n",
    "\n"
   ]
  },
  {
   "cell_type": "markdown",
   "metadata": {
    "id": "xH4XK7nJ-C0I"
   },
   "source": [
    "## [Εκπαίδευση μοντέλου EL embedding](https://mowl.readthedocs.io/en/latest/api/mowl.models.ELEmbeddings.html#mowl.models.ELEmbeddings)\n",
    "Τα δεδομένα στην αρχή υπάρχουν ως τριπλέτες και διαχωρίζονται με κριτήριο το GCI που αντιπροσωπεύουν. Έπειτα μετατρέπεται το κάθε κομμάτι της τριπλέτας σε ένα n-διάστατο embedding αρχικά τυχαία αρχικοποιημένο. Έπειτα, για τον πιο ακριβής ορισμό του μοντέλου, δημιουργούνται και αρνητικά δείγματα για το GCI που μας ενδιαφέρει (στην συγκεκριμένη περίπτωση το GCI2), όπου αντικαθίσταται το τρίτο μέρος της τριπλέτας με κάποια άλλη τυχαία επιλογή και ορίζεται ως ψευδή σχέση. Η παρακάτω μεθοδολογία ονομάζεται negative sampling.\n",
    "Αφού μετατραπούν και τα negative samples σε embeddings, κατά την διάρκεια κάθε εποχής, το μοντέλο τα ενημερώνει με στόχο την **ελαχιστοποίηση της συνάρτησης απώλειας**.\n",
    "Στην συγκεκριμένη εφαρμογή, η συνάρτηση που μας αποσχολεί κυρίως είναι η gci2_loss και αποτελείται από 2 μέρη.\n",
    "$$\n",
    "\\text{loss}_{C \\subseteq \\exists R.D }(c, d, r) = \\max\\Big(0,\\; \\|f(c) + f(r) - f(d)\\| + r(c) - r(d) - \\gamma\\Big)\n",
    "+ \\Big|\\|f(c)\\| - 1\\Big| + \\Big|\\|f(d)\\| - 1\\Big|\n",
    "$$\n",
    "Στο πρώτο μέρος (συνδυασμός Resnik's με Lin's similarity) ο στόχος είναι η μετατόπιση του κέντρου της n-μπάλας C + την σχέση R ώστε να εμπίπτει μέσα στην n-μπάλα D.\n",
    "\n",
    "Επιπλέον, αν η r(c) (ακτίνα της C) είναι πολύ μεγάλη σε σχέση με την r(d), τότε αυτό δείχνει ότι το \"εμβαδόν\" της C δεν είναι συμβατό με το να συμπεριληφθεί μέσα στην D. Οπότε ο όρος r(c)−r(d) προστίθεται στην απόσταση που υπολογίζεται παραπάνω (f(c)+f(r)-f(d)), ώστε να υπάρξει ποινή (loss) όταν η μπάλα C δεν είναι εντός της μπάλας της D (το γ είναι ένα περιθώριο ασφάλειας).\n",
    "Το δεύτερο μέρος της συνάρτησης έχει ρόλο κανονικοποίησης. Δηλαδή, διασφαλίζει ότι τα embeddings των κατηγοριών δεν αποκλίνουν από την μονάδα.\n",
    "\n",
    "Tέλος, μετά από κάθε epoch, υπολογίζεται η συνάρτηση απώλειας στα δεδομένα του validation set (όπου δεν έχει εκπαιδευτεί) χωρίς να γίνονται ενημερώσεις στα embeddings με σκοπό την αξιολόγηση ικανότητας γενίκευσης του μοντέλου μετά από κάθε εποχή και τον έλεγχο υπερπροσαρμογής του.\n",
    "\n",
    "\n",
    "\n",
    "\n",
    "---\n",
    "\n",
    "\n",
    "\n",
    "Στις παραμέτρους του ELEmPPI μπορούν να δοκιμαστούν διάφορες τιμές για κάθε όρισμα. <br>\n",
    "Η έξοδος μετά την εκπαίδευση, αποθηκέυται στις τιμές model.class_embeddings και model.object_property_embeddings και είναι τυπου dictionaries. Το  model.class_embeddings περιέχει τα ονόματα των κλάσεων και το embedding τους, και το model.object_property_embeddings τις ιδιότητες με τα αντίστοιχα embeddings για την κάθε μία από αυτές."
   ]
  },
  {
   "cell_type": "code",
   "execution_count": 4,
   "metadata": {
    "colab": {
     "base_uri": "https://localhost:8080/"
    },
    "collapsed": false,
    "id": "eu2vtj9I-C0J",
    "jupyter": {
     "outputs_hidden": false
    },
    "outputId": "24e4f28c-26d7-4229-c871-c1b43b26b2eb"
   },
   "outputs": [
    {
     "name": "stderr",
     "output_type": "stream",
     "text": [
      "100%|████████████████████████████████████████████████████████████████████████████████| 400/400 [02:08<00:00,  3.11it/s]\n"
     ]
    },
    {
     "data": {
      "text/plain": [
       "1"
      ]
     },
     "execution_count": 4,
     "metadata": {},
     "output_type": "execute_result"
    }
   ],
   "source": [
    "import logging\n",
    "\n",
    "from mowl.models import ELEmPPI\n",
    "\n",
    "# logging να αγνοεί τα info μηνύματα\n",
    "logging.basicConfig(level=logging.WARNING)\n",
    "\n",
    "\n",
    "# initialize model with the required parameters\n",
    "model = ELEmPPI(dataset, #το dataset που χρησιμοποιείται για εκπέδευση (στο συγκεκριμένο μέσα στο ELemPPI παίρνει το training κομμ΄άτι του και τα GCIs αυτού\n",
    "                embed_dim=256, #διάσταση των embedding\n",
    "                learning_rate=0.0003,#ρυθμός μάθησης (ρυθμός ενημέρωσης παραμέτρων εκπέδευσης σε κάθε βήμα)\n",
    "                epochs=400,#αριθμός εποχών (δλδ πλήρης επαναλήψεων εκπέδευσης)\n",
    "                batch_size=2048, #τα δείγματα που επεξεργάζονται σε κάθε βήμα\n",
    "                model_filepath=None,\n",
    "                device='cuda') #Χρήση cuda (gpu) για γρηγορότερους υπολογισμούς στο training\n",
    "\n",
    "#κλήση μεθόδου εκπέδευσης\n",
    "model.train()\n"
   ]
  },
  {
   "cell_type": "markdown",
   "metadata": {
    "id": "T76qGqvF-C0L"
   },
   "source": [
    "## Evaluation\n",
    "\n",
    "To evaluation των embeddings διαφέρει ανάλογα με το dataset. Στο συγκεκριμένο παράδειγμα, χρησιμοποιείται το PPIYeastDataset και το built-in [PPIEvaluator](https://mowl.readthedocs.io/en/latest/api/mowl.evaluation.PPIEvaluator.html#mowl.evaluation.PPIEvaluator). <b> Κάθε κλάση Evaluator χαρακτηρίζεται από δύο κύρια σημεία: τον τύπο των οντοτήτων που εμπλέκονται και τον τύπο των αξιωμάτων που θα αξιολογηθούν. </b> Στην περίπτωση του PPIEvaluator, οι εμπλεκόμενες οντότητες είναι μόνο αυτές που εκπροσωπούν πρωτεΐνες, χωρίς να λαμβάνονται υπόψη άλλες οντότητες. Τα αξιώματα που αξιολογούνται με τον PPIEvaluator είναι του τύπου \"p1 αλληλοεπιδρά με p2\" (εξ ου και το PPI όνομα). Κάθε dataset έχει τη δική του ιδιότητα evaluation_classes, όπου καθορίζει τι είδους οντότητες ή αξιώματα θα εξεταστούν από το dataset στο πλαίσιο της αξιολόγησης. <br>\n",
    "\n",
    "\n",
    "Κατά τη διαδικασία της αξιολόγησης δημιουργούνται υποψήφιες τριάδες αντικαθιστώντας το στοιχείο που επιδιώκεται να προβλεφθεί με όλα τα πιθανά candidates πρωτεϊνών.\n",
    "\n",
    "Συγκεκριμένα, για την πρόβλεψη του tail, από κάθε αρχική τριάδα (head, rel, tail) το tail αφαιρείται, πράγμα που σημαίνει ότι το head και η σχέση (rel) επαναλαμβάνονται και για κάθε μία από τις οντότητες στο evaluation set (self.evaluation_tails), δημιουργείται μια νέα τριάδα (head, rel, candidate_tail), επιτρέποντας στο μοντέλο να υπολογίσει scores για κάθε candidate tail.\n",
    "\n",
    "Τα scores αυτά για κάθε τριπλέτα υπολογίζονται με την χρήση των ίδιων συναρτήσεων απώλειας που χρησιμοποιούνται και στο train στάδιο (στο συγκεκριμένο παράδειγμα άρα την gci2_loss), και ύστερα ταξινομούνται σε αύξουσα σειρά, ώστε οι τριπλέτες με το μικρότερο loss να θεωρούνται πιο πιθανές.\n",
    "\n",
    "Αντίστοιχα, για την πρόβλεψη του head, αφαιρείται το head από κάθε τριάδα, ενώ το tail και η σχέση επαναλαμβάνονται, με το head να αντικαθίσταται από κάθε υποψήφιο head στο evaluation set (self.evaluation_heads). Έπειτα ξανά υπολογίζονται τα loss για κάθε τριπλέτα και ταξινομούνται με βάση αυτά.\n",
    "\n",
    "\n",
    "\n",
    "    heads = heads.repeat_interleave(len(self.evaluation_tails)).unsqueeze(1)\n",
    "    rels = rels.repeat_interleave(len(self.evaluation_tails)).unsqueeze(1)\n",
    "    eval_tails = th.arange(len(self.evaluation_tails), device=heads.device).repeat(num_heads).unsqueeze(1)\n",
    "\n",
    "     \n",
    "    logits_heads = model(th.cat([heads, rels, eval_tails], dim=-1), \"gci2\")\n",
    "    logits_heads = logits_heads.view(-1, len(self.evaluation_tails))\n",
    "        \n",
    "    tails = tails.repeat_interleave(len(self.evaluation_heads)).unsqueeze(1)\n",
    "    eval_heads = th.arange(len(self.evaluation_heads), device=tails.device).repeat(num_tails).unsqueeze(1)\n",
    "\n",
    "    logits_tails = model(th.cat([eval_heads, rels, tails], dim=-1), \"gci2\")\n",
    "    logits_tails = logits_tails.view(-1, len(self.evaluation_heads))\n",
    "    # print(logits_heads, logits_tails)\n",
    "\n",
    "Με αυτόν τον τρόπο, η διαδικασία αξιολόγησης μετρά την ικανότητα του μοντέλου να προβλέπει σωστές αλληλεπιδράσεις (link prediction), δηλαδή ποια οντότητα συμπληρώνει καλύτερα το κενό σε μια τριάδα σε σχέση με το σύνολο των πιθανών επιλογών.\n",
    "\n",
    "Μετά την τελική αξιολόγηση στο test set, αποθηκεύονται στο model.metrics διάφορες μετρικές για το πόσο καλά κατατάσσει το μοντέλο τις σωστές πρωτεΐνες στις ελλιπείς τριπλέτες. Μια από αυτές τις μετρικές είναι η\n",
    "[hits@k](https://pykeen.readthedocs.io/en/stable/api/pykeen.metrics.ranking.HitsAtK.html).\n",
    "Συγκεκριμένα, μετρά το ποσοστό των περιπτώσεων όπου η σωστή οντότητα (π.χ. η σωστή πρωτεΐνη) εμφανίζεται μεταξύ των κορυφαίων k προβλεπόμενων οντοτήτων για κάθε δοσμένη ελλιπής τριπλέτα. Η τιμή της μετρικής κυμαίνεται από 0 έως 1, με τιμές πλησιέστερες στο 1 να υποδεικνύουν καλύτερη απόδοση του μοντέλου.\n",
    "\n",
    "Για παράδειγμα:\n",
    "\n",
    "Σε ένα σύνολο 100 ελλιπών τριπλετών (head, relation, ?)), για k = 10, αν σε 85 από τις 100 ελλιπείς τριπλέτες η σωστή πρωτεΐνη εμφανίζεται μέσα στα 10 πρώτα candidate_tails, τότε:\n",
    "\n",
    "hits@10 = 85/100 = 0.85\n",
    "\n",
    "Αυτό σημαίνει ότι σε 85% των περιπτώσεων το μοντέλο κατάφερε να συμπεριλάβει την σωστή πρωτεΐνη μέσα στο top-10 των επιλογών του.\n",
    "\n",
    "Βέβαια, μια πιο ευνόητη μετρική είναι η [Mean Rank](https://pykeen.readthedocs.io/en/stable/api/pykeen.metrics.ranking.ArithmeticMeanRank.html#pykeen.metrics.ranking.ArithmeticMeanRank), όπου δίνει την μέση θέση που βρίσκεται η σωστή πρόβλεψη για τις ελλιπείς τριπλέτες."
   ]
  },
  {
   "cell_type": "code",
   "execution_count": 5,
   "metadata": {
    "colab": {
     "base_uri": "https://localhost:8080/"
    },
    "collapsed": false,
    "id": "4HyamIoE-C0L",
    "jupyter": {
     "outputs_hidden": false
    },
    "outputId": "563ad9f1-9e4b-4bf4-dc27-bd20fd2a48b4"
   },
   "outputs": [
    {
     "name": "stdout",
     "output_type": "stream",
     "text": [
      "{'mr': 501.5560631229236, 'mrr': 0.028431287974620485, 'f_mr': 501.5560631229236, 'f_mrr': 0.028431287974620485, 'auc': 0.9170990289627486, 'f_auc': 0.9170990289627486, 'hits@1': 0.0014119601328903655, 'hits@3': 0.010963455149501661, 'hits@10': 0.06420265780730897, 'hits@50': 0.3213455149501661, 'hits@100': 0.45980066445182727, 'f_hits@1': 0.0014119601328903655, 'f_hits@3': 0.010963455149501661, 'f_hits@10': 0.06420265780730897, 'f_hits@50': 0.3213455149501661, 'f_hits@100': 0.45980066445182727}\n"
     ]
    }
   ],
   "source": [
    "from mowl.evaluation import PPIEvaluator\n",
    "model.set_evaluator(PPIEvaluator)\n",
    "model.evaluate(dataset.testing)\n",
    "\n",
    "data1 = model.metrics #αποθήκευση αποτελεσμάτων για το ELembedding\n",
    "print(data1)"
   ]
  },
  {
   "cell_type": "markdown",
   "metadata": {
    "id": "3Xw1OzNAOa_J"
   },
   "source": [
    "### Οπτικοποίηση αποτελεσμάτων ###\n",
    "\n",
    "Για την απεικόνιση των embedding, η έτοιμη κλάση TSNE της mowl, δεν είναι επαρκής, καθώς δεν αναφέρει το όνομα της κάθε κλάσης κάτω από τις βούλες στην αναπαράσταση, και χρησιμοποιεί ένα legend. Παρόλα αυτά, όταν έχουμε πολλές διαφορετικές κλάσεις, όπως και με τα PPI, όπου κάποιες αναγκαστικά θα έχουν το ίδιο χρώμα, το legend είναι απρόσφορο. Επιπλέον, για να αναπαρασταθούν οι αλληλεπιδράσεις ανάμεσα σε πρωτεΐνες που προβλέφθηκαν σωστά, δημιουργήθηκε η κλάση ModifiedEvaluator, όπου ξανακάνει την διαδικασία αυτή με περισσότερη λεπτομέρεια. Αρχικά, δημιουργεί για κάθε κλάση από τον αριθμό κλάσεων που ορίστηκε (default 10) πιθανά triplet matches με την κλάση σαν head και σαν tail. Έπειτα παίρνει τα loss κάθε τριπλέτας και τις ταξινομεί (αύξον) με βάση αυτό. Τέλος, εκτυπώνει για κάθε πρωτεΐνη από τις αρχικές (10), τις τριπλέτες που προβλέφθηκαν σωστά από το μοντέλο, δηλαδή αυτές που υπήρχαν μόνο στο test set και την ταξινομημένη θέση τους. Στο διάγραμμα εμφανίζονται πρωτεΐνες με τα ονόματα τους και interactions που προβλέφθηκαν σωστά με κόκκινα βέλη."
   ]
  },
  {
   "cell_type": "code",
   "execution_count": 28,
   "metadata": {},
   "outputs": [],
   "source": [
    "import torch as th\n",
    "import numpy as np\n",
    "import matplotlib.pyplot as plt\n",
    "from matplotlib.lines import Line2D\n",
    "\n",
    "from mowl.evaluation.ppi import PPIEvaluatorOld\n",
    "from mowl.projection import TaxonomyWithRelationsProjector, Edge\n",
    "from mowl.visualization import TSNE\n",
    "\n",
    "class ModifiedEvaluator:\n",
    "    def __init__(self, dataset, model):\n",
    "        self.dataset = dataset\n",
    "        self.model = model\n",
    "        self.evaluator = PPIEvaluatorOld(dataset)\n",
    "        self.batch = self.evaluator.create_tuples(dataset.ontology)\n",
    "        # ΑΡΙΘΜΟΣ ΚΛΑΣΕΩΝ ΓΙΑ ΤΙΣ ΟΠΟΙΕΣ ΘΑ ΓΙΝΟΥΝ CANDIDATES ΟΛΟ ΤΟ ONTOLOGY =10 \n",
    "        self.class_ids_to_be_tested = range(0, 10)\n",
    "        self.class_to_id = {c: i for i, c in enumerate(dataset.classes.as_str)}\n",
    "        self.correct_found = []  # To store correct (h,t) pairs from testing\n",
    "\n",
    "    def get_logits(self, model, batch):\n",
    "        # Δημιουργεί για κάθε κλάση σαν head όλα τα πιθανά tails και βαθμολογεί την τριπλέτα.\n",
    "        # Μετα κάνε το ίδιο με την κλάση σαν tail.\n",
    "        heads, rels, tails = batch[:, 0], batch[:, 1], batch[:, 2]\n",
    "        num_heads, num_tails = len(heads), len(tails)\n",
    "        eval_heads, eval_tails = self.dataset.evaluation_classes\n",
    "        evaluation_heads = th.tensor([self.class_to_id[c] for c in eval_heads.as_str], dtype=th.long)\n",
    "        evaluation_tails = th.tensor([self.class_to_id[c] for c in eval_tails.as_str], dtype=th.long)\n",
    "\n",
    "        heads = heads.repeat_interleave(len(evaluation_tails)).unsqueeze(1)\n",
    "        rels = rels.repeat_interleave(len(evaluation_tails)).unsqueeze(1)\n",
    "        eval_tails = th.arange(len(evaluation_tails), device=heads.device).repeat(num_heads).unsqueeze(1)\n",
    "        try:#el models\n",
    "            logits_heads = model.eval_method(th.cat([heads, rels, eval_tails], dim=-1))\n",
    "        except:\n",
    "            try: #kge models\n",
    "                logits_heads = -model.evaluation_model.kge_model.score_hrt(th.cat([heads, rels, eval_tails], dim=-1))\n",
    "            except: #syntactic models\n",
    "                logits_heads = model.evaluation_model.forward(th.cat([heads, rels, eval_tails], dim=-1))\n",
    "        logits_heads = logits_heads.view(-1, len(evaluation_tails))\n",
    "\n",
    "        tails = tails.repeat_interleave(len(evaluation_heads)).unsqueeze(1)\n",
    "        eval_heads = th.arange(len(evaluation_heads), device=tails.device).repeat(num_tails).unsqueeze(1)\n",
    "        try: #el models\n",
    "            logits_tails = model.eval_method(th.cat([eval_heads, rels, tails], dim=-1))\n",
    "        except: \n",
    "            try: #kge models\n",
    "                logits_tails = -model.evaluation_model.kge_model.score_hrt(th.cat([eval_heads, rels, tails], dim=-1))\n",
    "            except: #syntactic models\n",
    "                logits_tails =  model.evaluation_model.forward(th.cat([eval_heads, rels, tails], dim=-1))\n",
    "                \n",
    "        logits_tails = logits_tails.view(-1, len(evaluation_heads))\n",
    "    \n",
    "        return logits_heads, logits_tails\n",
    "\n",
    "    def run_evaluation(self):\n",
    "        # Το 2 είναι το id του \"interacts_with\"\n",
    "        triplets = [(i, 2, 0) for i in self.class_ids_to_be_tested]\n",
    "        batch_tensor = th.tensor(triplets, dtype=th.long)\n",
    "        tensor1, tensor2 = self.get_logits(self.model, batch_tensor)  # losses για την κλάση σαν head και σαν tail\n",
    "\n",
    "        protein_matches = {}\n",
    "        for idx, protein_id in enumerate(self.class_ids_to_be_tested):\n",
    "            protein_matches[idx] = {'protein_id': protein_id, 'tail_matches': []}\n",
    "            for tail_id in range(tensor1.shape[1]):\n",
    "                logit_score = tensor1[idx, tail_id].item()\n",
    "                protein_matches[idx]['tail_matches'].append((tail_id, logit_score))\n",
    "\n",
    "        # Ταξινόμηση με βάση το loss (αύξον)\n",
    "        sorted_protein_matches = {}\n",
    "        for idx, matches in protein_matches.items():\n",
    "            sorted_tail_matches = sorted(matches['tail_matches'], key=lambda x: x[1], reverse=False)\n",
    "            sorted_protein_matches[idx] = {\n",
    "                'protein_id': matches['protein_id'],\n",
    "                'sorted_tail_matches': sorted_tail_matches\n",
    "            }\n",
    "\n",
    "        # Από mowl.projection import για δημιουργία testing τριπλετών\n",
    "        id_to_protein = {v: k for k, v in self.dataset.class_to_id.items()}\n",
    "        projector = TaxonomyWithRelationsProjector(relations=[\"http://interacts_with\"])\n",
    "        edges = projector.project(self.dataset.testing)  # Τριπλέτες για testing\n",
    "        classes, relations = Edge.get_entities_and_relations(edges)\n",
    "\n",
    "        class_str2owl = self.dataset.classes.to_dict()\n",
    "        class_owl2idx = self.dataset.classes.to_index_dict()\n",
    "        relation_str2owl = self.dataset.object_properties.to_dict()\n",
    "        relation_owl2idx = self.dataset.object_properties.to_index_dict()\n",
    "\n",
    "        edges_indexed = []  # Τριπλέτες για testing indexed για σύγκριση με τα sorted_protein_matches\n",
    "        for e in edges:\n",
    "            head = class_owl2idx[class_str2owl[e.src]]\n",
    "            relation = relation_owl2idx[relation_str2owl[e.rel]]\n",
    "            tail = class_owl2idx[class_str2owl[e.dst]]\n",
    "            edges_indexed.append((head, relation, tail))\n",
    "\n",
    "        correct_found = []  # Πίνακας σωστών προβλέψεων (h,t)\n",
    "        for idx, matches in sorted_protein_matches.items():\n",
    "            protein_id = matches['protein_id']\n",
    "            protein_name = id_to_protein.get(protein_id)\n",
    "    \n",
    "            print(f\"Protein: {protein_name}\")\n",
    "            print(\"From all Possible Candidate Triplets:\")\n",
    "            for pos, (tail_id, logit_score) in enumerate(matches['sorted_tail_matches']):\n",
    "                for evhead, evrel, evtail in edges_indexed:\n",
    "                    if protein_id == evhead and evrel == 2 and evtail == tail_id:\n",
    "                        print(f\"Found Matching Triplet with Testing ontology: ({id_to_protein[evhead]}, interacts_with, {id_to_protein[evtail]})\")\n",
    "                        print(f\"Sorted Position: {pos}\")\n",
    "                        print(f\"Logit Score: {logit_score}\")\n",
    "                        correct_found.append((id_to_protein[evhead].getIRI().toString(), id_to_protein[evtail].getIRI().toString()))\n",
    "            print(\"\\n\" + \"-\" * 50 + \"\\n\")\n",
    "        print(correct_found)\n",
    "        self.correct_found = correct_found\n",
    "\n",
    "    def run_tsne_visualization(self):\n",
    "        # Custom TSNE class for visualization\n",
    "        class CustomTSNE(TSNE):\n",
    "            def show(self, figsize=(10, 10), alpha=0.5, fontsize=9):\n",
    "                points = self.points\n",
    "                labels = self.labels\n",
    "                labels = list(labels)\n",
    "    \n",
    "                if points is None:\n",
    "                    raise ValueError(\"You need to call generate_points() first.\")\n",
    "    \n",
    "                plt.figure(figsize=figsize)\n",
    "                arrow_handles = []  # Λίστα για τα αντικείμενα legend\n",
    "                for i, label in enumerate(labels):\n",
    "                    color = self.class_color_dict[label]\n",
    "                    plt.scatter(points[i, 0], points[i, 1], color=color, alpha=0.8)\n",
    "                    plt.text(points[i, 0], points[i, 1] - 0.2, label, fontsize=6,\n",
    "                             ha='center', va='top', color=color)\n",
    "                for (start, end) in self.correct_found:\n",
    "                    if start in labels and end in labels:\n",
    "                        i, j = labels.index(start), labels.index(end)\n",
    "                        plt.arrow(points[i, 0], points[i, 1], \n",
    "                                  points[j, 0] - points[i, 0], points[j, 1] - points[i, 1],\n",
    "                                  head_width=0.05, head_length=0.02, fc='red', ec='red', alpha=1)\n",
    "                        arrow_handles.append(Line2D([0], [0], color='red', lw=1, label=f\"{start} → {end}\"))\n",
    "                # Προσθήκη legend μόνο αν υπάρχουν βέλη\n",
    "                if arrow_handles:\n",
    "                    plt.legend(handles=arrow_handles, loc='upper left', fontsize=5, title=\"Connections\")\n",
    "    \n",
    "                plt.title(\"TSNE Visualization with Labels.\")\n",
    "                plt.grid(True)\n",
    "                plt.show()\n",
    "    \n",
    "        # Χρήση των embeddings από το μοντέλο\n",
    "        class_embeddings = self.model.class_embeddings  # dict με ονόματα κλάσεων και τα αντίστοιχα embeddings τους.\n",
    "        limited_class_embeddings = dict(list(class_embeddings.items())[:50])\n",
    "        res = dict((k, k) for k, v in limited_class_embeddings.items())\n",
    "        tsne = CustomTSNE(limited_class_embeddings, res)\n",
    "        \n",
    "        tsne.correct_found = self.correct_found\n",
    "        tsne.generate_points(500, workers=4)\n",
    "        tsne.show()"
   ]
  },
  {
   "cell_type": "code",
   "execution_count": 7,
   "metadata": {},
   "outputs": [
    {
     "name": "stdout",
     "output_type": "stream",
     "text": [
      "Number of evaluation classes: 6039\n",
      "Protein: <http://4932.Q0010>\n",
      "From all Possible Candidate Triplets:\n",
      "\n",
      "--------------------------------------------------\n",
      "\n",
      "Protein: <http://4932.Q0017>\n",
      "From all Possible Candidate Triplets:\n",
      "\n",
      "--------------------------------------------------\n",
      "\n",
      "Protein: <http://4932.Q0032>\n",
      "From all Possible Candidate Triplets:\n",
      "\n",
      "--------------------------------------------------\n",
      "\n",
      "Protein: <http://4932.Q0045>\n",
      "From all Possible Candidate Triplets:\n",
      "Found Matching Triplet with Testing ontology: (<http://4932.Q0045>, interacts_with, <http://4932.YDL067C>)\n",
      "Sorted Position: 18\n",
      "Logit Score: 0.29848170280456543\n",
      "Found Matching Triplet with Testing ontology: (<http://4932.Q0045>, interacts_with, <http://4932.YDL085W>)\n",
      "Sorted Position: 27\n",
      "Logit Score: 0.3545294404029846\n",
      "Found Matching Triplet with Testing ontology: (<http://4932.Q0045>, interacts_with, <http://4932.YER154W>)\n",
      "Sorted Position: 60\n",
      "Logit Score: 0.7093237638473511\n",
      "Found Matching Triplet with Testing ontology: (<http://4932.Q0045>, interacts_with, <http://4932.Q0080>)\n",
      "Sorted Position: 113\n",
      "Logit Score: 0.9377888441085815\n",
      "Found Matching Triplet with Testing ontology: (<http://4932.Q0045>, interacts_with, <http://4932.YDR194C>)\n",
      "Sorted Position: 1458\n",
      "Logit Score: 1.4340476989746094\n",
      "Found Matching Triplet with Testing ontology: (<http://4932.Q0045>, interacts_with, <http://4932.YJL062W-A>)\n",
      "Sorted Position: 2104\n",
      "Logit Score: 1.5308990478515625\n",
      "\n",
      "--------------------------------------------------\n",
      "\n",
      "Protein: <http://4932.Q0050>\n",
      "From all Possible Candidate Triplets:\n",
      "Found Matching Triplet with Testing ontology: (<http://4932.Q0050>, interacts_with, <http://4932.Q0275>)\n",
      "Sorted Position: 3\n",
      "Logit Score: 0.5349084138870239\n",
      "Found Matching Triplet with Testing ontology: (<http://4932.Q0050>, interacts_with, <http://4932.YPR191W>)\n",
      "Sorted Position: 18\n",
      "Logit Score: 0.6187583804130554\n",
      "Found Matching Triplet with Testing ontology: (<http://4932.Q0050>, interacts_with, <http://4932.YLR038C>)\n",
      "Sorted Position: 19\n",
      "Logit Score: 0.6210557222366333\n",
      "Found Matching Triplet with Testing ontology: (<http://4932.Q0050>, interacts_with, <http://4932.YMR145C>)\n",
      "Sorted Position: 20\n",
      "Logit Score: 0.6269053220748901\n",
      "Found Matching Triplet with Testing ontology: (<http://4932.Q0050>, interacts_with, <http://4932.YOR065W>)\n",
      "Sorted Position: 32\n",
      "Logit Score: 0.7360722422599792\n",
      "\n",
      "--------------------------------------------------\n",
      "\n",
      "Protein: <http://4932.Q0055>\n",
      "From all Possible Candidate Triplets:\n",
      "Found Matching Triplet with Testing ontology: (<http://4932.Q0055>, interacts_with, <http://4932.Q0120>)\n",
      "Sorted Position: 13\n",
      "Logit Score: 1.4686588048934937\n",
      "Found Matching Triplet with Testing ontology: (<http://4932.Q0055>, interacts_with, <http://4932.Q0255>)\n",
      "Sorted Position: 4955\n",
      "Logit Score: 1.8886120319366455\n",
      "\n",
      "--------------------------------------------------\n",
      "\n",
      "Protein: <http://4932.Q0060>\n",
      "From all Possible Candidate Triplets:\n",
      "Found Matching Triplet with Testing ontology: (<http://4932.Q0060>, interacts_with, <http://4932.Q0275>)\n",
      "Sorted Position: 6\n",
      "Logit Score: 0.9415721893310547\n",
      "Found Matching Triplet with Testing ontology: (<http://4932.Q0060>, interacts_with, <http://4932.YLR038C>)\n",
      "Sorted Position: 16\n",
      "Logit Score: 0.9773988723754883\n",
      "Found Matching Triplet with Testing ontology: (<http://4932.Q0060>, interacts_with, <http://4932.Q0160>)\n",
      "Sorted Position: 2953\n",
      "Logit Score: 1.8012218475341797\n",
      "\n",
      "--------------------------------------------------\n",
      "\n",
      "Protein: <http://4932.Q0065>\n",
      "From all Possible Candidate Triplets:\n",
      "\n",
      "--------------------------------------------------\n",
      "\n",
      "Protein: <http://4932.Q0070>\n",
      "From all Possible Candidate Triplets:\n",
      "Found Matching Triplet with Testing ontology: (<http://4932.Q0070>, interacts_with, <http://4932.Q0110>)\n",
      "Sorted Position: 75\n",
      "Logit Score: 1.117243766784668\n",
      "\n",
      "--------------------------------------------------\n",
      "\n",
      "Protein: <http://4932.Q0075>\n",
      "From all Possible Candidate Triplets:\n"
     ]
    },
    {
     "name": "stderr",
     "output_type": "stream",
     "text": [
      "INFO:root:Found 50 embedding vectors. Processing only 50.\n"
     ]
    },
    {
     "name": "stdout",
     "output_type": "stream",
     "text": [
      "\n",
      "--------------------------------------------------\n",
      "\n",
      "[('http://4932.Q0045', 'http://4932.YDL067C'), ('http://4932.Q0045', 'http://4932.YDL085W'), ('http://4932.Q0045', 'http://4932.YER154W'), ('http://4932.Q0045', 'http://4932.Q0080'), ('http://4932.Q0045', 'http://4932.YDR194C'), ('http://4932.Q0045', 'http://4932.YJL062W-A'), ('http://4932.Q0050', 'http://4932.Q0275'), ('http://4932.Q0050', 'http://4932.YPR191W'), ('http://4932.Q0050', 'http://4932.YLR038C'), ('http://4932.Q0050', 'http://4932.YMR145C'), ('http://4932.Q0050', 'http://4932.YOR065W'), ('http://4932.Q0055', 'http://4932.Q0120'), ('http://4932.Q0055', 'http://4932.Q0255'), ('http://4932.Q0060', 'http://4932.Q0275'), ('http://4932.Q0060', 'http://4932.YLR038C'), ('http://4932.Q0060', 'http://4932.Q0160'), ('http://4932.Q0070', 'http://4932.Q0110')]\n"
     ]
    },
    {
     "name": "stderr",
     "output_type": "stream",
     "text": [
      "C:\\Users\\dalla\\AppData\\Local\\Programs\\Python\\Python310\\lib\\site-packages\\sklearn\\manifold\\_t_sne.py:1164: FutureWarning: 'n_iter' was renamed to 'max_iter' in version 1.5 and will be removed in 1.7.\n",
      "  warnings.warn(\n",
      "C:\\Users\\dalla\\AppData\\Local\\Programs\\Python\\Python310\\lib\\site-packages\\joblib\\externals\\loky\\backend\\context.py:136: UserWarning: Could not find the number of physical cores for the following reason:\n",
      "[WinError 2] The system cannot find the file specified\n",
      "Returning the number of logical cores instead. You can silence this warning by setting LOKY_MAX_CPU_COUNT to the number of cores you want to use.\n",
      "  warnings.warn(\n",
      "  File \"C:\\Users\\dalla\\AppData\\Local\\Programs\\Python\\Python310\\lib\\site-packages\\joblib\\externals\\loky\\backend\\context.py\", line 257, in _count_physical_cores\n",
      "    cpu_info = subprocess.run(\n",
      "  File \"C:\\Users\\dalla\\AppData\\Local\\Programs\\Python\\Python310\\lib\\subprocess.py\", line 503, in run\n",
      "    with Popen(*popenargs, **kwargs) as process:\n",
      "  File \"C:\\Users\\dalla\\AppData\\Local\\Programs\\Python\\Python310\\lib\\subprocess.py\", line 971, in __init__\n",
      "    self._execute_child(args, executable, preexec_fn, close_fds,\n",
      "  File \"C:\\Users\\dalla\\AppData\\Local\\Programs\\Python\\Python310\\lib\\subprocess.py\", line 1456, in _execute_child\n",
      "    hp, ht, pid, tid = _winapi.CreateProcess(executable, args,\n"
     ]
    },
    {
     "data": {
      "image/png": "[encoded data removed]",
      "text/plain": [
       "<Figure size 1000x1000 with 1 Axes>"
      ]
     },
     "metadata": {},
     "output_type": "display_data"
    }
   ],
   "source": [
    "evl = ModifiedEvaluator(dataset, model)\n",
    "evl.run_evaluation()\n",
    "evl.run_tsne_visualization()"
   ]
  },
  {
   "cell_type": "markdown",
   "metadata": {
    "id": "s521pgkm-C0M"
   },
   "source": [
    "## [ELBox Embedding](https://mowl.readthedocs.io/en/latest/examples/elmodels/plot_2_elboxembeddings.html#sphx-glr-examples-elmodels-plot-2-elboxembeddings-py)\n",
    "Στην περίπτωση των EL Embeddings, τα γεωμετρικά αντικείμενα που αναπαριστούν τις κλάσεις της οντολογίας είναι μπάλες n-διαστάσεων. Ένα από τα GCI στην EL είναι: <br>\n",
    "`C1 ⊓ C2 ⊑ D'\n",
    "Όπως είναι φανερό, σε αυτό το GCI, υπάρχει μια πράξη τομής . Η υπολογιστική αυτή τομή χρησιμοποιώντας μπάλες δεν είναι μια κλειστή πράξη διότι η περιοχή που περιέχεται στην τομή δύο μπαλών δεν είναι μπάλα. Για να λυθεί αυτό το ζήτημα, μπορεί να χρησιμοποιηθεί ένας άλλος τρόπος παραγωγής embeddings, ο οποίος αντί για n-μπάλες μετατρέπει τις κλάσεις σε n-κύβους για τους οποίους η πράξη της τομής έχει την ιδιότητα της κλειστότητας. Αυτό γίνεται με το έτοιμο μοντέλο [ELBoxPPI](https://mowl.readthedocs.io/en/latest/_modules/mowl/models/elboxembeddings/examples/model_ppi.html#ELBoxPPI) της mowl, αντιστοίχως.\n",
    "\n",
    "Η συνάρτηση απώλειας που μας ενδιαφέρει σε αυτό το μοντέλο είναι η εξής:\n",
    "$$\n",
    "\\text{lossCv}∃R.D(c, d, r) = \\left\\| \\max \\left( \\mathbf{0}, \\left| ec(c) + ec(r) - ec(d) \\right| + eo(c) - eo(d) - \\text{margin} \\right) \\right\\|\n",
    "$$\n",
    "Όπου το ec(c) και ec(d) είναι το κέντρο του embedding κάθε πρωτείνης , ec(r) είναι η αναπαράσταση της σχέσης \"interacts\" και τα eo(c), eo(d) είναι τα offset του κέντρου από το κουτί της πρωτεΐνης (σαν ακτίνα). "
   ]
  },
  {
   "cell_type": "code",
   "execution_count": 8,
   "metadata": {
    "colab": {
     "base_uri": "https://localhost:8080/"
    },
    "collapsed": false,
    "id": "O-3OejFr-C0M",
    "jupyter": {
     "outputs_hidden": false
    },
    "outputId": "3d1e3b45-84c1-4ac5-9fef-756b49c18b6f"
   },
   "outputs": [
    {
     "name": "stderr",
     "output_type": "stream",
     "text": [
      "100%|████████████████████████████████████████████████████████████████████████████████| 200/200 [11:12<00:00,  3.36s/it]\n"
     ]
    },
    {
     "data": {
      "text/plain": [
       "1"
      ]
     },
     "execution_count": 8,
     "metadata": {},
     "output_type": "execute_result"
    }
   ],
   "source": [
    "from mowl.models.elboxembeddings.examples.model_ppi import ELBoxPPI\n",
    "model = ELBoxPPI(dataset,\n",
    "                 embed_dim=200,\n",
    "                 learning_rate=0.001,\n",
    "                 epochs=200,\n",
    "                 batch_size=2048,\n",
    "                 model_filepath=None,\n",
    "                 device='cuda')\n",
    "model.train()\n"
   ]
  },
  {
   "cell_type": "markdown",
   "metadata": {
    "id": "-yGloQ-2-C0N"
   },
   "source": [
    "Εδώ χρησιμοποιείται για άλλη μια φορά το built-in evaluator για PPIs της mowl και αποθηκεύονται τα αποτελέσματα απόδοσης του embedding. Έπειτα καλείται το ModifiedEvaluator που υλοποιήθηκε πάνω."
   ]
  },
  {
   "cell_type": "code",
   "execution_count": 9,
   "metadata": {
    "colab": {
     "base_uri": "https://localhost:8080/"
    },
    "id": "rjyf_DEh-C0N",
    "outputId": "b14ab9de-cb36-44ce-ad68-8f2ba33cb36c"
   },
   "outputs": [
    {
     "name": "stdout",
     "output_type": "stream",
     "text": [
      "{'mr': 466.18820598006647, 'mrr': 0.030467485743381557, 'f_mr': 466.18820598006647, 'f_mrr': 0.030467485743381557, 'auc': 0.9229565740344375, 'f_auc': 0.9229565740344375, 'hits@1': 0.0002491694352159468, 'hits@3': 0.012624584717607974, 'hits@10': 0.08313953488372093, 'hits@50': 0.3224252491694352, 'hits@100': 0.4599667774086379, 'f_hits@1': 0.0002491694352159468, 'f_hits@3': 0.012624584717607974, 'f_hits@10': 0.08313953488372093, 'f_hits@50': 0.3224252491694352, 'f_hits@100': 0.4599667774086379}\n"
     ]
    }
   ],
   "source": [
    "from mowl.evaluation import PPIEvaluator\n",
    "\n",
    "model.set_evaluator(PPIEvaluator)\n",
    "model.evaluate(dataset.testing)\n",
    "data2= model.metrics\n",
    "print(data2)"
   ]
  },
  {
   "cell_type": "code",
   "execution_count": 10,
   "metadata": {},
   "outputs": [
    {
     "name": "stdout",
     "output_type": "stream",
     "text": [
      "Number of evaluation classes: 6039\n",
      "Protein: <http://4932.Q0010>\n",
      "From all Possible Candidate Triplets:\n",
      "\n",
      "--------------------------------------------------\n",
      "\n",
      "Protein: <http://4932.Q0017>\n",
      "From all Possible Candidate Triplets:\n",
      "\n",
      "--------------------------------------------------\n",
      "\n",
      "Protein: <http://4932.Q0032>\n",
      "From all Possible Candidate Triplets:\n",
      "\n",
      "--------------------------------------------------\n",
      "\n",
      "Protein: <http://4932.Q0045>\n",
      "From all Possible Candidate Triplets:\n",
      "Found Matching Triplet with Testing ontology: (<http://4932.Q0045>, interacts_with, <http://4932.YDL067C>)\n",
      "Sorted Position: 35\n",
      "Logit Score: 0.28954339027404785\n",
      "Found Matching Triplet with Testing ontology: (<http://4932.Q0045>, interacts_with, <http://4932.YDL085W>)\n",
      "Sorted Position: 54\n",
      "Logit Score: 0.32807520031929016\n",
      "Found Matching Triplet with Testing ontology: (<http://4932.Q0045>, interacts_with, <http://4932.YER154W>)\n",
      "Sorted Position: 57\n",
      "Logit Score: 0.3389637768268585\n",
      "Found Matching Triplet with Testing ontology: (<http://4932.Q0045>, interacts_with, <http://4932.Q0080>)\n",
      "Sorted Position: 94\n",
      "Logit Score: 0.41015946865081787\n",
      "Found Matching Triplet with Testing ontology: (<http://4932.Q0045>, interacts_with, <http://4932.YDR194C>)\n",
      "Sorted Position: 141\n",
      "Logit Score: 0.46542084217071533\n",
      "Found Matching Triplet with Testing ontology: (<http://4932.Q0045>, interacts_with, <http://4932.YJL062W-A>)\n",
      "Sorted Position: 1540\n",
      "Logit Score: 0.6284995079040527\n",
      "\n",
      "--------------------------------------------------\n",
      "\n",
      "Protein: <http://4932.Q0050>\n",
      "From all Possible Candidate Triplets:\n",
      "Found Matching Triplet with Testing ontology: (<http://4932.Q0050>, interacts_with, <http://4932.Q0275>)\n",
      "Sorted Position: 10\n",
      "Logit Score: 0.2566784918308258\n",
      "Found Matching Triplet with Testing ontology: (<http://4932.Q0050>, interacts_with, <http://4932.YMR145C>)\n",
      "Sorted Position: 12\n",
      "Logit Score: 0.2669907808303833\n",
      "Found Matching Triplet with Testing ontology: (<http://4932.Q0050>, interacts_with, <http://4932.YPR191W>)\n",
      "Sorted Position: 13\n",
      "Logit Score: 0.2678043246269226\n",
      "Found Matching Triplet with Testing ontology: (<http://4932.Q0050>, interacts_with, <http://4932.YLR038C>)\n",
      "Sorted Position: 23\n",
      "Logit Score: 0.3046129047870636\n",
      "Found Matching Triplet with Testing ontology: (<http://4932.Q0050>, interacts_with, <http://4932.YOR065W>)\n",
      "Sorted Position: 24\n",
      "Logit Score: 0.309407502412796\n",
      "\n",
      "--------------------------------------------------\n",
      "\n",
      "Protein: <http://4932.Q0055>\n",
      "From all Possible Candidate Triplets:\n",
      "Found Matching Triplet with Testing ontology: (<http://4932.Q0055>, interacts_with, <http://4932.Q0120>)\n",
      "Sorted Position: 7\n",
      "Logit Score: 0.42873212695121765\n",
      "Found Matching Triplet with Testing ontology: (<http://4932.Q0055>, interacts_with, <http://4932.Q0255>)\n",
      "Sorted Position: 4695\n",
      "Logit Score: 0.9454777240753174\n",
      "\n",
      "--------------------------------------------------\n",
      "\n",
      "Protein: <http://4932.Q0060>\n",
      "From all Possible Candidate Triplets:\n",
      "Found Matching Triplet with Testing ontology: (<http://4932.Q0060>, interacts_with, <http://4932.Q0275>)\n",
      "Sorted Position: 7\n",
      "Logit Score: 0.29556170105934143\n",
      "Found Matching Triplet with Testing ontology: (<http://4932.Q0060>, interacts_with, <http://4932.YLR038C>)\n",
      "Sorted Position: 22\n",
      "Logit Score: 0.3270740807056427\n",
      "Found Matching Triplet with Testing ontology: (<http://4932.Q0060>, interacts_with, <http://4932.Q0160>)\n",
      "Sorted Position: 507\n",
      "Logit Score: 0.6636826395988464\n",
      "\n",
      "--------------------------------------------------\n",
      "\n",
      "Protein: <http://4932.Q0065>\n",
      "From all Possible Candidate Triplets:\n",
      "\n",
      "--------------------------------------------------\n",
      "\n",
      "Protein: <http://4932.Q0070>\n",
      "From all Possible Candidate Triplets:\n",
      "Found Matching Triplet with Testing ontology: (<http://4932.Q0070>, interacts_with, <http://4932.Q0110>)\n",
      "Sorted Position: 46\n",
      "Logit Score: 0.36708351969718933\n",
      "\n",
      "--------------------------------------------------\n",
      "\n",
      "Protein: <http://4932.Q0075>\n",
      "From all Possible Candidate Triplets:\n"
     ]
    },
    {
     "name": "stderr",
     "output_type": "stream",
     "text": [
      "INFO:root:Found 50 embedding vectors. Processing only 50.\n"
     ]
    },
    {
     "name": "stdout",
     "output_type": "stream",
     "text": [
      "\n",
      "--------------------------------------------------\n",
      "\n",
      "[('http://4932.Q0045', 'http://4932.YDL067C'), ('http://4932.Q0045', 'http://4932.YDL085W'), ('http://4932.Q0045', 'http://4932.YER154W'), ('http://4932.Q0045', 'http://4932.Q0080'), ('http://4932.Q0045', 'http://4932.YDR194C'), ('http://4932.Q0045', 'http://4932.YJL062W-A'), ('http://4932.Q0050', 'http://4932.Q0275'), ('http://4932.Q0050', 'http://4932.YMR145C'), ('http://4932.Q0050', 'http://4932.YPR191W'), ('http://4932.Q0050', 'http://4932.YLR038C'), ('http://4932.Q0050', 'http://4932.YOR065W'), ('http://4932.Q0055', 'http://4932.Q0120'), ('http://4932.Q0055', 'http://4932.Q0255'), ('http://4932.Q0060', 'http://4932.Q0275'), ('http://4932.Q0060', 'http://4932.YLR038C'), ('http://4932.Q0060', 'http://4932.Q0160'), ('http://4932.Q0070', 'http://4932.Q0110')]\n"
     ]
    },
    {
     "name": "stderr",
     "output_type": "stream",
     "text": [
      "C:\\Users\\dalla\\AppData\\Local\\Programs\\Python\\Python310\\lib\\site-packages\\sklearn\\manifold\\_t_sne.py:1164: FutureWarning: 'n_iter' was renamed to 'max_iter' in version 1.5 and will be removed in 1.7.\n",
      "  warnings.warn(\n"
     ]
    },
    {
     "data": {
      "image/png": "[encoded data removed]",
      "text/plain": [
       "<Figure size 1000x1000 with 1 Axes>"
      ]
     },
     "metadata": {},
     "output_type": "display_data"
    }
   ],
   "source": [
    "evl = ModifiedEvaluator(dataset, model)\n",
    "evl.run_evaluation()\n",
    "evl.run_tsne_visualization()\n"
   ]
  },
  {
   "cell_type": "markdown",
   "metadata": {
    "id": "4Mf1bxav-C0N"
   },
   "source": [
    "## Embedding με χρήση γράφου\n",
    "### TransE Embedding\n",
    "Η αποτύπωση μίας οντολογίας σε μορφή γράφου, διευρύνει κατά πολύ τις μεθοδολογίες που μπορούν να χρησιμοποιηθούν για την παραγωγή embeddings, όπως η χρήση random walks και άλλων KGE μεθόδων, διατηρώντας την σημασιολογία μεταξύ κλάσεων και σχέσεων.\n",
    "Στο παράδειγμα αυτό, αρχικά το dataset προβάλλεται σε γράφο με χρήση του [DL2VecProjector](https://mowl.readthedocs.io/en/latest/api/mowl.projection.DL2VecProjector.html#mowl.projection.DL2VecProjector). <br>\n",
    "Οι κανόνες για την προβολή σε γράφο είναι οι εξής: <br>\n",
    "1. $$  A \\sqsubseteq \\exists Q R_0 \\dots Q R_m D  με  D := B_1 \\sqcup \\dots \\sqcup B_n  ή  D := B_1 \\sqcap \\dots \\sqcap B_n  $$\n",
    "   - Η κλάση  A  είναι υποσύνολο της D που σχετίζεται με τουλάχιστον μία από τις εξείς ιδιότητες $$ R_0, R_1, \\dots, R_m  $$  \n",
    "   Αν η D είναι ένωση ή τομή των $$B_1, B_2, \\dots, B_n , $$\n",
    "   \n",
    "  τότε για κάθε  i από 1 ως n, προστίθεται η τρίπλετα $$ ( A, (R_0 \\dots R_m), B_i ).$$   \n",
    "\n",
    "2. Το ίδιο αποτέλεσμα τριπλετών παράγεται και για σχέσεις ισοδυναμίας εκτός από υποσυνόλων.  \n",
    "\n",
    "3. $$  A \\sqsubseteq B $$\n",
    "   - Για την απλή σχέση subClass κλάσεων προστίθεται η τριπλέτα (Α,subClassOf,B)\n",
    "\n",
    "4. $$ A \\equiv B  $$  \n",
    "   - Παρομοίως, για την ισοδυναμία κλάσεων παράγεται η τριπλέτα (Α,EquivalentTo,B)\n",
    "\n",
    "5. C(a)\n",
    "   - Σε περίπτωση ύπαρξης instance a σε μια κλάση, παράγεται η τριπλέτα <br>(a, http://type, C)\n",
    "\n",
    "6. $$ \\exists R. C(a) $$  \n",
    "   - Για την περίπτωση που υπάρχει μια ιδιότητα για το instance a που ανήκει στην κλάση C, παράγεται η τριπλέτα (a,R,C).  \n",
    "\n",
    "7.  R(a, b)\n",
    "   - Τέλος, σε περίπτωση που υπάρχει ιδιότητα που να συνδέει 2 instances a και b, παράγεται η τριπλέτα (a,R,b).\n",
    "\n",
    "\n",
    " H προβολή αυτή, ουσιαστικά παράγει [τριπλέτες για το pyKEEN μοντέλο](https://mowl.readthedocs.io/en/stable/api/mowl.projection.Edge.html#mowl.projection.Edge), ιδανικές δηλαδή για χρήση TransE embedding.<br>\n",
    "Tο [TransE](https://proceedings.neurips.cc/paper_files/paper/2013/file/1cecc7a77928ca8133fa24680a88d2f9-Paper.pdf) αντιπροσωπεύει τις οντότητες (ℎ, 𝑡) και τις σχέσεις (𝑟) ενός γράφου γνώσης ως διανύσματα στον ίδιο χώρο. Ο βασικός στόχος του TransE είναι να μοντελοποιήσει τις σχέσεις μεταξύ των οντοτήτων ως μετατοπίσεις στον χώρο. Ουσιαστικά η εξίσωση που προσπαθεί να λύσει είναι η εξής: ℎ+𝑟≈𝑡. \n",
    "\n",
    "Mε άλλα λόγια η απόσταση d(h+r,t) να είναι όσο δυνατόν μικρότερη. <br>"
   ]
  },
  {
   "cell_type": "code",
   "execution_count": 11,
   "metadata": {
    "colab": {
     "referenced_widgets": [
      "a8bb3fdf23404852a40651b613ce07bd",
      "3c294a03e7c1418d996a757854bdf5b3",
      "cc57da5850ef4ca2beaa99df9819ab31",
      "6cd476c0104e430ba0ea7988592351b9",
      "6d019672b5c049f59c54e12e3c3b343a",
      "cfb92f6ee59541ac866cf77bdc9d8e56",
      "8bc17e9b985548318209025ca6f377d2",
      "83461e5ee4584c5d8ccad690f9e587ee",
      "66fa85820e894cf3b88042e9ed1d675c",
      "ec31200265154ca98bef1f23e7d3b83d",
      "0857249705c3452bb03c0cc259eb34fd",
      "ce6aeae4b7424f68837ec48207c17158",
      "f31775ed016e42d5a91cf99b2e492268",
      "75aadc02ed34441a81c3172263c85f22",
      "a5bba89ca64b48d2a04227d494572a16",
      "354c362e878e41aab74eef24bffc548e",
      "c16420e5d85e47f38fa5178b8cab1961",
      "e977a2815de147d1ad611816f97ced27",
      "e02f5250983049e6a4740586ccfa0c98",
      "995eee81024a424fac7446bb55ce2cf4",
      "acea1e10c98046c3a12d135532a964a6",
      "8b0ec1a9a41d47118c7e139bff3e725d",
      "b937484bd6934e6496bf27752872a28f",
      "6b52dc8899794d20824a585343374883",
      "3e07baf60dbc45fc823088b28672b765",
      "1c3f709d8b6f452a99528d9e1ff65f07",
      "c13569587f0a411e9ababaa3090f6910",
      "e562bdc064964de192b2f04b97869f44",
      "dbc4930ac83e4092b3d9d376d29dc44d",
      "7db2889ab8944a1db579c3f2eec65e03",
      "848795aa23db40caa97174c14f994866",
      "eca33b0625c141f09c5f32109d7f00c7",
      "b264a7ef040d427682861bb61e9d8c03",
      "5b18aaf13a124287b2541bc8dc89ad34",
      "425cc32a54ae45fab9709deb3a629c4b",
      "cf44e9691b7d4899a29fcb8042b62fc5",
      "71bcc35c50544993a2e2dc4598f23d39",
      "1c787382a6d54deb8f8dc15902af28c0",
      "3ae12ab36ea24c439ed63438c49eadfa",
      "bdb303b1ae5b4e98b5760fc6fb9a7bf1",
      "a9601477c0cc449d9249181b138c1190",
      "0fc4908a26754f7797b88b988619c926",
      "521d82cc65664f9f94ce5928879d40ff",
      "c6660af471f342cf8ef282e1dc89296a",
      "32e1887dc83b4dc8baf1cd7e79db1b73",
      "385bb6050bcf448c9e1f1dabab8dc90c",
      "b7430222e54841618c0dd8e00183c531",
      "0567334801d8405ba77f8cfd72e66c73",
      "8e1e2d8cc8e54187b117e7bbd5d2b757",
      "b15983786c734579a77e04af26045a30",
      "f6b1284c334f44dcb69af902e372a664",
      "3c0652ea55774f8bb4ca2773dc2b8286",
      "4557d9f534a34e758e92e56a637a4ab0",
      "b61ce89ff6704e0084fbbde40b32047d",
      "120ff52d18b3488cb50231162012dcae",
      "8e7e49ae48d64d76b8983089eb45861c",
      "745ae3be6a2743b886a8787b644d4283",
      "298630d224314e0b95e1a85526289a82",
      "82aaf4c65163484d913af3a4b2a39efb",
      "1c73f46a7c38485db8604c8f587fed77",
      "1bdf4089004f43d195ee67c710d269fd",
      "c0435e7c886f4a8a9ce9d86de8d6b5f6",
      "c20d06457dae4139a8ce1bf5818b609f",
      "0f8e05a464b44d13a494b4e09309762c",
      "2a65e1d2f4044d618198771408704361",
      "0c326b89a35d45609f1bf90682c907b7",
      "9b368d1ec9244c41884c3c2f41ea815b",
      "6dfbbbb7731844cb91c0f5865e044d8e",
      "0301c01eaf5d4d8eb9c3fb8e51d12eff",
      "200482bcef954ed9bcac758c07f4ac2f",
      "63b156d53f6a493dad20051188429009",
      "9bbe9b4672c24b138aa81865d0556af9",
      "e90f24eb6618488cb059c339d19174ba",
      "0cc22d5a8cb14ccd90ce1b27d38d2fab",
      "8827d304cb064343baf288a1edcea986",
      "c0b157fa443d45198e25b8e87772c513",
      "62b5a43f13754d2295157eba56374b5b",
      "8c0790cc6f424bc9b7f149e42ed2237c",
      "cec1ae39ecc7480d8f9508fbfb669ee8",
      "4924851125e3453cbc61c0c1111e3992",
      "225445d8aed44b4ea7d40d9d72a28e50",
      "cb4b8072376d460b85400bcae33320a8",
      "4e869b16adad4c4f92440786b908c91f",
      "ad50770c3faf497892a97a263b4a728c",
      "d453f57b434d40bb8aeedb0aeda86b94",
      "3321e7023f824bb897cb0e13e5798f41",
      "01e9b0a6489246a18276e0305cd05eb2",
      "72fe8b2830394221b84c0201c9a3c12b",
      "d4917a8e054945559f2d4a3da8700160",
      "466801b04a38469da94a13e505a82471",
      "0704a47b85504e79b9729984b8d51895",
      "140a57ab54c84ce29af04c0e984d20a6",
      "c3605851a1da445091ff67883767a903",
      "3ce02edd37424263872557745ae8a4db",
      "83c976cc68c14093a2bb1a8d9ac0f4ae",
      "19eb0a0a1bd448ad8c0aee8c9d1d1da3",
      "d350d6eb2c05497daac63577fed2ca38",
      "7c6537732978423f81e17ffc4039c9db",
      "9a0182dded6f435386e4dd62304fefca",
      "f4367a2106414e63b24801b69d521e61",
      "5b620c5f759f4f4bb984615bfa8ebba6",
      "a7f81dda25f447d4a93c8b9f058df48f",
      "213db177a9ad495199ba0b2ade3743a5",
      "f62812c86dd9437e81774b6dce366947",
      "f19a49dbf91a40e8a267552b518326ea",
      "3e6342b0725840ceb492a08450906f41",
      "bce8572cfaee4d13851a415e69063aba",
      "e0dee276f5a9473a9f05d7a0eef8053d",
      "b08893d602d84d6fa41fe2ec9f4121dc",
      "031db2f45e404a6ca842f28c278fd3af",
      "ff45f50a5a9e48078ba512b027c6da7b",
      "44c39b4c74ab4a3e9afe4f6ee26d76bc",
      "530b61cc37d341d18433a18cc0b76986",
      "1f598c7aac60476a9c6d8b2e31917939",
      "73f381c9d49a4db0bfda91d40c84b045",
      "0a7fdd4eb46e4e6984f5282c3a5ec8b4",
      "ae2dd6ec35a44aab981a0398b6873dcd",
      "36ec0c97c58d4fa4bf45e850e61343d9",
      "b9ba505e5a2a4aa0abb543c140711d43",
      "4779142095b84bc386b911d4b1ae35e3",
      "0a96bf8d68d849ba8685057943ccfa6f",
      "21d9370581d54376b3a9ddd55cd4369c",
      "b79f0c7ccb1244c0a7467affa86bb005",
      "1e305fa3965f4bccaeed73d0e010e200",
      "b4a859709e014caf860781c0fd2f54a7",
      "92aed9d2545e4df0ae228cdaf0b1294c",
      "19d75629a0614ad7acae2a0aa0b1a645",
      "1489a149dd26457cbadb7f7cbd5ca527",
      "931bed48d5794786a33f215d64be6917",
      "ecaffed03fa04ac180423a57303ec093",
      "60b42e64e97642f099a42cdcacc5b242",
      "919eabfcf9ae4fa8a9ce5f8d512acaac",
      "3446a166f36e48b8af3666fb9ebd1655",
      "05e4c510ccf14a9abf40e11bf109c46d",
      "03af52e24e1240ddab7441d086f69a89",
      "8df3bb318fe74471946ac702c033a1a5",
      "ee8cff49e0854f4c8c769ca0b74d6e3c",
      "e2038d5b417641ce80c1cc6c62252659",
      "8835ce05f91945b4ac9b2471df42c22f",
      "4d05fb7a9c694d1084e98865b9435686",
      "9ebdd89ff37a4240b5db59c69da88fe3",
      "c934dad79ce84a0eba2492ef5dc9328f",
      "d0a026a33dac495ea81033fae233c6be",
      "cebedadcd1fc452f82b2d0ce3d6967d5",
      "0ebb23666fb54527b5b2cf75cc0d18ff",
      "a0df7ed845c74f38b4b704f3131dc338",
      "fa68b11f083e4680b64ecfc4944032ee",
      "fd455714eca44080bef12184af37cd14",
      "59c43ff7bf8949f6a083550c6e52dd9f",
      "266c2701a4d64427b7f16cfd888a176e",
      "31f47232e8db40ecaec6278d73fa59dd",
      "02c10f987d09466990ea969084903582",
      "fbe9085493364ac39dbee7dad87e5b5a",
      "24109cc3245a425ea611f884a6cbe629",
      "8653f24a46554573a872fa30489728ba",
      "9c122972ff2448db92eecb93f9b39adc",
      "52557334c66b4b88856173356e3ede7b",
      "f7f0ffdec6ea48b3af302f8b9f8b36a4",
      "fe58f0b95b5e4ea5aa07ade73af9822d",
      "910e5750da1945968a12bc330e748eba",
      "fda2337d05e547bea093804901531335",
      "7e20008581b24fd1b435ac00cc079bd3",
      "157ac5af84a04dc393b4afcd0ae01416",
      "aa18a254dde24a48adec33f68a499b34",
      "6f491df648884366b2654115fbfeffdd",
      "7b35b56ab67f4a81959769a8fb88a177",
      "079da651dfd14b4087ee41a8584def8c",
      "d147cac825144bc9a4cbcb6998474d98",
      "12306149701f42d9a1323088fd79afd5",
      "c35db4a711124e879a696e62fbd8439a",
      "48929576871d488d8543945823afb2a1",
      "41d22b46658a47c6866b78359196bfdf",
      "12afac64904a484db7aad8ab7131926b",
      "2c7959721feb4f1ca5181cf0e91bcbd1",
      "56e329153d1e4da08169cffe13fa5432",
      "1a080450604640a4924e07e14c3bc56a",
      "cd486c7ccb204008a2a1151198545770",
      "fbb5c13c4c8c49a99d855458a99e4684",
      "7aea01596dca48069a8f041e6d4b4f0f",
      "a76a0159b0eb4bed871167b87ff83566",
      "989d5e2470f94d59ac942bbe2f6c5a81",
      "53ef2b7f45ad4a35892d71bce8bce77d",
      "eff36b73eb2a4eaa9aac629bccfceef7",
      "1a819eccadab46eeb29d2d9c27948b37",
      "090bd239dd7941ebac87578710334d57",
      "4942e632e5254c31b2d010f91a460577",
      "fd1f053609a342629c82483a46806399",
      "079d0c5c3d444ac3b8ba4f0f0b2b9377",
      "854ad05dea7240cd8957366f759b01f8",
      "9d015a0b625c410e9613cd6bf2838c5c",
      "10ff46dfc3b0419bac63497e01fa2dcd",
      "016437de25c54688a93a138f485b5e81",
      "a04b4e7486174bb8af9d526512ed012c",
      "e76daf3422ef4f06aabcb81289da2506",
      "3759f33000fe429291cf5061f2d67311",
      "a25f121fb4da4b8699e1e86e08ba28b4",
      "c617123ff12b448c80557bc454500083",
      "7e1e1ac9591e46fb894d2ebf91750cc2",
      "b556602f043e4dadaae81fb4230729e8",
      "cad47cf672464e37a88ae84ef186448a",
      "4ed6662435e0460c8305f641ad18153e",
      "199f8dda413e4df6a86356ab0e4a7630",
      "1461c6eb122048e0a774464bb0c8769a",
      "aadce330d165427bb96f152d76d49a0a",
      "927b7d62ced649b4bb65fd3f4e555a19",
      "8201b178053f4e829c3f8948b0c6f565",
      "e3cb1822a6644b728fee9ce7aa1966f1",
      "f5f1544748c54c9c9b2d1d513464072b",
      "5132e12ae65d458da446723eceb3eb55",
      "9ec839a730b14f27a930433d2b862c97",
      "038867be1d9b49b3b8b4706454daa564",
      "58f8cf77fa174b5ca15b3da4e20081cf",
      "6e0f287a89bc491d91b59f5641a71697",
      "675e7fb0aefd4cc9a3ea3bd15b7f049c",
      "5058bf597f9643869fb733f2688a9b6b",
      "ccaab8e5e12f49b0a4106628af43d6c6",
      "cb25c54b003346c8ae792af54e93268d",
      "3e59da5ed7754781b2cb6aab7eedd294",
      "5afe655da05c4c1086d7c730092292f8",
      "6ab2cbc66aa24c4597a1bd0e4435cb20",
      "770de5fc0a6647baa6007d34e7b3a87b",
      "1af11db3f6014af39d1b0cc3c715f34e",
      "9cd56826c83b43c39f974e4968601b02",
      "a7e61ebc3ce140d9bbc13c2776e2cc5f",
      "4cc2f0c58b3a4d1686efe9f677382530",
      "25e32d307589418287822c06df93a88c",
      "8a7927281a8942c4bcaa82b38ef00b25",
      "7b4fc7cba9c44c5fb61641bf89b448fc",
      "aa538461b5fb42ae827799e703d8c1db",
      "14de1ce36eb347a7a0e9abe87384fbc8",
      "0dffb066024743e7b1811b08875504ff",
      "a804d1bad07143d984c265117b344c24",
      "f53f5e3a527949c2a2398af43ce55b0b",
      "9668bb3eaf2c4c13a193a5b94ee44b8a",
      "f7a19705f43d4ba78288e9aee9b46ba3",
      "9a14ed79218742d996881f65131f2868",
      "1808ab75dcda4980b8f8f958f6729612",
      "41969c7b5a6e4298bd68133e7181b60d",
      "e96302255e98414b89169acd13f5492f",
      "d5b0fe556f09452d867390a4235b686f",
      "9356e6fe2e714d03a1e25b8feba9e673",
      "588db9ff1114405d8206e1b85d8bbb40",
      "2fdc436a6bc9446abec2e11cfeb466b7",
      "e9210b20bf954a61845883584b6ab1ce",
      "cd95340342164ae2875a5762107bfc2c",
      "02892f8434724a12b00b28ca03672b9b",
      "d5bc7749ddd04dc289b3003bea2c18bc",
      "c76ef4efbb8e4df89b0a32fe1e7f6ccd",
      "8819a80108f34e5398e05e01064564d9",
      "7eea9d1c9f0d494db0c60bf6ff1e2797",
      "f268b28a197b464f8aa8c8ccdcdc7005",
      "92b89b85d22144af9cc33696e81c8eb2",
      "7b0c9af292d54d24805b9b00fd556848",
      "05402c5c6344460f84016e1ca7131a96",
      "f56cdad492c44816bad7bb33083f5705",
      "5e79d4160ee34ea8a592bf926262a70b",
      "5f134c5aa7f74dad965d4a858efee909",
      "7b59f8619c6746b99157fef2f79ab38c",
      "e31c757c2f8748bdb094b85a9852b6d4",
      "a8b627f5506c4f8f8bac0e672ebb3483",
      "1717725b1afc4bd3975428afc320401f",
      "2baf4b60b59a47baab54e37997f5d7f8",
      "066e8fc218304b4ba5d861b258850ca6",
      "22c42069fe4e4191bde542ed6bee3767",
      "c406346656eb4c1799f9cd3001421b03",
      "b925358946a7431c973881edb4dfb700",
      "b1d87229f7004c7bae7367b081236de1",
      "94a75f97a29e4ac586bddb20f1ecb1d3",
      "d3c3c36b21d74e79af585857a82da6ce",
      "4ec58fd0c4424405896d86f321fab069",
      "a01060259a2245f8a428616c2b51b2c0",
      "f82d7c4f951645c6ba630e59fe493156",
      "b628589b134a4dde91d6a2998b3a1da6",
      "7ead54221d474c0cb33f0f4243ebb10e",
      "77d05ffe099c4d6da3c581ec643d8a25",
      "99a437086006414796b97b5343d3c4c7",
      "897d01fbc022411b85de0fb25716b873",
      "6efbc68ea9434a189bf3b982f486cbe7",
      "29de2eef64ff442498af5fc2cc09e374",
      "ffe5c7c589a74a3983778d481fc1f148",
      "07159f4f81a74bb0922e7d3489055dbf",
      "d642a3b4298942699b342d950e17d836",
      "82ff603a52804891b7161fe9db9e8990",
      "169260ad7ff446949cf8749497afb8ac",
      "769f14d7e15045a384b2eebdb8edb727",
      "80d57037c2c248f88725073ded844990",
      "f33edb5f6733400c917b5d5092b59ed7",
      "d7d5b881f1fc4774b1349aad9b12ae8d",
      "6dc0ec42d1da4368bd9e8fa7b13dbb47",
      "b622d5c11c124e45a46da938778f4f3d",
      "76c6be54e0b54a4588f86876af584bd1",
      "2f8d51bd12ee48a7b4914a3a8bb0b0dc",
      "d20abffea8e6470baaf3c0ee9fac65ed",
      "a141b065246d4cee8a784dcfe1a54232",
      "07e5f092362446079ff08be002e152ae",
      "020c73b7552d4a0b809c1aed30a6a8a1",
      "f4f7034b42d246f69cd1a82ba15d25c5",
      "9ea0a1c5b5884c5fa9219c4ecf0a11fb",
      "d0f59bc02c5849f28cef6579901c21cb",
      "40e3bfcae31b4c599e32c08277ef5252",
      "754fd26d3f544bebbfb8dc08e2157969",
      "5b9c34f197b1448da61b731b32403407",
      "3d6bf290fbb14deeabbf01b079f6ab1c",
      "cde686d184bc4a88987ec29fc3bee524",
      "fc8a37644f22482da55b0c1d53529879",
      "cf6223d3265249ec84d22ff17d04a8ab",
      "78790da7256848e9af5c45e35eed1266",
      "0be257e1144b41aa971f7f703d827240",
      "5c75d0c4362d41cca281260f6f124cc4",
      "8515caa260234fc0b3417a5dd9cb657b",
      "6084d07fc0d6419da705682d58e70227",
      "55a1f201af804e44b2e3e302fbb2003f",
      "8736f5ff175943158c9319ed42822571",
      "cca1c6bfe5664aba9e0f47347c5fa3c7",
      "f500e868403848da9024edfed4b80cfa",
      "d45cc214a61e4b69b8d607e1d2bdb694",
      "ba23f43d45f44469971458c304aa0af1",
      "2fdfa41b20c2436fb82fe364968bdee3",
      "495eaec637264c11950c5e9359f18c09",
      "8aa0d53cd7984f2fbeb4304d3e5d7050",
      "c6076bbf4d75482490e0443312504ec6",
      "8bd980ff9d8b46e89a04f051d6c998c4",
      "08431a146a03445584649f5090fac5d1",
      "d624311669ef4abfa132028b444f828d",
      "996fb72ff2574225ac9cc8a82279065e",
      "b136a687117f446cab5c0a949fbbd219",
      "313f5858088b4b148941b489cb7df213",
      "c4ddbc1657b4412fbfa6e0921921391a",
      "19f076144c6f4a64918bf39cf50b42f7",
      "46b12d7c895047afbdd2069fba758522",
      "cb2e07124f294a10a74f2e380816c292",
      "dc99421476a2402caed204344bca5f8d",
      "a004f495354d47a7a5d2f4d19c2de811",
      "f6410c3b479d44a09a7c56c2fb1a71bf",
      "963939b2b6964068b8d3f1574d03bffb",
      "6d9ac73432c24d63ad1b83a7402222c7",
      "b6306d7915a641f9881bdceab7e2f063",
      "bb3c128e938242d7a54520d8a3768db1",
      "100bac8787604066aa152e46624bf6b0",
      "044c3875ccc1446a824607e46daac179",
      "d4f1ba83027f4dc09656f4572144e273",
      "f2a445ac04714d769a9428195fb8d1ea",
      "b668aecb6d864bbe96d95802420b04a3",
      "68198b5508934cd88b826222c662c782",
      "fd286ecb4c6545bf9aacf14864ac98c5",
      "0faaba72ac59451ab8254aaedc1dfc6a",
      "67d0664379b9415cab36f9fc27db39e2",
      "5db07b04224e4bf98cfc6290c73ff0ba",
      "1634f23393324da5a28239f5807a3b3e",
      "48144efefaa74df78afec9de61323d07",
      "079a6e560cfa4bfcab4e8e1641e4874b",
      "6dcaffa5deeb4528aaebf88ee30943a8",
      "7cfab0327b97482c9740fcc2ab5a37e1",
      "1d7eaca6e8cd464692a399c103ef2182",
      "e3bc0965afd340bab6c270db9f800239",
      "2ae80ffdc03c458294663852ddcc69d3",
      "12f6464eed3e4a2fac210ff383c6997a",
      "0669ae2ac44e48f6a89fde56e790d714",
      "b4bb7d90712f44569af1d699347097e8",
      "54125abc5a514d388d231c0afd689fd0",
      "d69be0addde145779ce9bd133034e695",
      "89efcf82c0bd4da7beeace418ed92868",
      "8b5807d138484b0a9ae142f5803b6bad",
      "3bb32d3e41974a55b150fad6ace013cf",
      "771c1e6e7b5646bfa0c0422868ecd0f0",
      "dd2eb4ceed644bff859cd22b57ea0676",
      "56c04a05d3774320b9accc8719b673a2",
      "23cb9060c10c457e9b0b99064a6d48c3",
      "0fe7724130294c08a46de36a9849d468",
      "60646028aa01436a85242c7ff871aff4",
      "baf8e4bff6a444f4aa559cfef640f36f",
      "a191ae20b0bd40a6b92c323d0b2dffc2",
      "d3e27904f411487fb41a3bc706131e02",
      "4cbb65dbcf0b455a9acb4975c5a2cb67",
      "9654f0fc6b0648ccaf475dd09f231804",
      "5dc7489defa34e21862584fb114ce0bf",
      "ef4c6c5f8ad94b4484957007fb5f049e",
      "a69a9470199640bf9d52413b7b58a2a5",
      "44dc87e0f34d4c98a34ca7de71ff7852",
      "c1fb979ba58d4c519e34c18298023927",
      "8fa13ddb53a141ca8dc4d6470ee8cf04",
      "4dbe5eb40cbb4db88f27a9da6247ff67",
      "600e457b343a4e508326843c36520ef2",
      "24b73557a8ce416cb40f8e4ec7066195",
      "8ebe6e2a299a4eba8492205c8459557f",
      "a6441d8b8b9d468387c48f8c473b3a44",
      "ccd546727e3e4a4daed7343f47456196",
      "8cc3c18bb26446ac86b55d9084c98b02",
      "0780eabfa4844b089726dd659a39dfc2",
      "abe6d896b0624880b8b910fda408fa32",
      "70357467208d4578bd6476df043cd79c",
      "900973b8201742bcb55f70cae428bf4e",
      "25570765a0714e3cab168275ceaed3f3",
      "adde60d2c5b049fc9d5354c76122e906",
      "d70de2b794694b899056dbd7a0bf102a",
      "8027cc34d4c5415c9cb119ac59a9e710",
      "04b48978362a4db48529117d83590cb1",
      "f1c5a769a15942b2a0cc24293d3014ef",
      "759d8a4550324326a020cb068465f696",
      "8a4c866c1615473782a4711f133eabab",
      "e31364a6cf4f42009e4c679676245471"
     ]
    },
    "id": "s74TsZO8-C0N",
    "outputId": "5dc2cfe9-773c-4bed-a84f-b4d1ef339d03",
    "scrolled": true
   },
   "outputs": [
    {
     "name": "stderr",
     "output_type": "stream",
     "text": [
      "There are 6840 classes not found in the graph. They might be ignored in the projection or they might be in the validation/testing set but not in the training set.\n",
      "WARNING:mowl.base_models.graph_model:There are 6840 classes not found in the graph. They might be ignored in the projection or they might be in the validation/testing set but not in the training set.\n"
     ]
    },
    {
     "data": {
      "application/vnd.jupyter.widget-view+json": {
       "model_id": "7f4e7ad87a3d411db1925f4d1ed95c03",
       "version_major": 2,
       "version_minor": 0
      },
      "text/plain": [
       "Training epochs on cuda:0:   0%|          | 0/400 [00:00<?, ?epoch/s]"
      ]
     },
     "metadata": {},
     "output_type": "display_data"
    },
    {
     "data": {
      "application/vnd.jupyter.widget-view+json": {
       "model_id": "0698acef83034e2c839969cc086121e6",
       "version_major": 2,
       "version_minor": 0
      },
      "text/plain": [
       "Training batches on cuda:0:   0%|          | 0/17 [00:00<?, ?batch/s]"
      ]
     },
     "metadata": {},
     "output_type": "display_data"
    },
    {
     "data": {
      "application/vnd.jupyter.widget-view+json": {
       "model_id": "1281ba91830048d0931c979d6609b561",
       "version_major": 2,
       "version_minor": 0
      },
      "text/plain": [
       "Training batches on cuda:0:   0%|          | 0/17 [00:00<?, ?batch/s]"
      ]
     },
     "metadata": {},
     "output_type": "display_data"
    },
    {
     "data": {
      "application/vnd.jupyter.widget-view+json": {
       "model_id": "2605fd3efffa4b08bed92a1a5bf79351",
       "version_major": 2,
       "version_minor": 0
      },
      "text/plain": [
       "Training batches on cuda:0:   0%|          | 0/17 [00:00<?, ?batch/s]"
      ]
     },
     "metadata": {},
     "output_type": "display_data"
    },
    {
     "data": {
      "application/vnd.jupyter.widget-view+json": {
       "model_id": "24b7fa8a71cf44d19761da7103d5e164",
       "version_major": 2,
       "version_minor": 0
      },
      "text/plain": [
       "Training batches on cuda:0:   0%|          | 0/17 [00:00<?, ?batch/s]"
      ]
     },
     "metadata": {},
     "output_type": "display_data"
    },
    {
     "data": {
      "application/vnd.jupyter.widget-view+json": {
       "model_id": "88bd1bd62e2640ffa3f483762bd3e1c6",
       "version_major": 2,
       "version_minor": 0
      },
      "text/plain": [
       "Training batches on cuda:0:   0%|          | 0/17 [00:00<?, ?batch/s]"
      ]
     },
     "metadata": {},
     "output_type": "display_data"
    },
    {
     "data": {
      "application/vnd.jupyter.widget-view+json": {
       "model_id": "f87891d80fa542e398c7e1f33d8f2579",
       "version_major": 2,
       "version_minor": 0
      },
      "text/plain": [
       "Training batches on cuda:0:   0%|          | 0/17 [00:00<?, ?batch/s]"
      ]
     },
     "metadata": {},
     "output_type": "display_data"
    },
    {
     "data": {
      "application/vnd.jupyter.widget-view+json": {
       "model_id": "69f9ecf8eed842e89beffaece42aafa7",
       "version_major": 2,
       "version_minor": 0
      },
      "text/plain": [
       "Training batches on cuda:0:   0%|          | 0/17 [00:00<?, ?batch/s]"
      ]
     },
     "metadata": {},
     "output_type": "display_data"
    },
    {
     "data": {
      "application/vnd.jupyter.widget-view+json": {
       "model_id": "864ce041ba5643ef8de068d15d7df988",
       "version_major": 2,
       "version_minor": 0
      },
      "text/plain": [
       "Training batches on cuda:0:   0%|          | 0/17 [00:00<?, ?batch/s]"
      ]
     },
     "metadata": {},
     "output_type": "display_data"
    },
    {
     "data": {
      "application/vnd.jupyter.widget-view+json": {
       "model_id": "ba91b84bf35f4e298c35685fcf3befa8",
       "version_major": 2,
       "version_minor": 0
      },
      "text/plain": [
       "Training batches on cuda:0:   0%|          | 0/17 [00:00<?, ?batch/s]"
      ]
     },
     "metadata": {},
     "output_type": "display_data"
    },
    {
     "data": {
      "application/vnd.jupyter.widget-view+json": {
       "model_id": "2a66088e5dff4aeeb0522541ce86d549",
       "version_major": 2,
       "version_minor": 0
      },
      "text/plain": [
       "Training batches on cuda:0:   0%|          | 0/17 [00:00<?, ?batch/s]"
      ]
     },
     "metadata": {},
     "output_type": "display_data"
    },
    {
     "data": {
      "application/vnd.jupyter.widget-view+json": {
       "model_id": "0da7bc7136ae426a8d07a16a500e21f9",
       "version_major": 2,
       "version_minor": 0
      },
      "text/plain": [
       "Training batches on cuda:0:   0%|          | 0/17 [00:00<?, ?batch/s]"
      ]
     },
     "metadata": {},
     "output_type": "display_data"
    },
    {
     "data": {
      "application/vnd.jupyter.widget-view+json": {
       "model_id": "e60e0f950e374ed3a003f3042729c756",
       "version_major": 2,
       "version_minor": 0
      },
      "text/plain": [
       "Training batches on cuda:0:   0%|          | 0/17 [00:00<?, ?batch/s]"
      ]
     },
     "metadata": {},
     "output_type": "display_data"
    },
    {
     "data": {
      "application/vnd.jupyter.widget-view+json": {
       "model_id": "2dd1c2191d5d489ca2fc582e2d68dd2b",
       "version_major": 2,
       "version_minor": 0
      },
      "text/plain": [
       "Training batches on cuda:0:   0%|          | 0/17 [00:00<?, ?batch/s]"
      ]
     },
     "metadata": {},
     "output_type": "display_data"
    },
    {
     "data": {
      "application/vnd.jupyter.widget-view+json": {
       "model_id": "1f87ecaac8904a4a8508cf78b53d8632",
       "version_major": 2,
       "version_minor": 0
      },
      "text/plain": [
       "Training batches on cuda:0:   0%|          | 0/17 [00:00<?, ?batch/s]"
      ]
     },
     "metadata": {},
     "output_type": "display_data"
    },
    {
     "data": {
      "application/vnd.jupyter.widget-view+json": {
       "model_id": "b531de562ed84b38ae2287237b149953",
       "version_major": 2,
       "version_minor": 0
      },
      "text/plain": [
       "Training batches on cuda:0:   0%|          | 0/17 [00:00<?, ?batch/s]"
      ]
     },
     "metadata": {},
     "output_type": "display_data"
    },
    {
     "data": {
      "application/vnd.jupyter.widget-view+json": {
       "model_id": "7d7b1f001b1d4812bf6818fecef7abe1",
       "version_major": 2,
       "version_minor": 0
      },
      "text/plain": [
       "Training batches on cuda:0:   0%|          | 0/17 [00:00<?, ?batch/s]"
      ]
     },
     "metadata": {},
     "output_type": "display_data"
    },
    {
     "data": {
      "application/vnd.jupyter.widget-view+json": {
       "model_id": "da44fb526ea6424cbefad2abfa2e89f4",
       "version_major": 2,
       "version_minor": 0
      },
      "text/plain": [
       "Training batches on cuda:0:   0%|          | 0/17 [00:00<?, ?batch/s]"
      ]
     },
     "metadata": {},
     "output_type": "display_data"
    },
    {
     "data": {
      "application/vnd.jupyter.widget-view+json": {
       "model_id": "77c2357915344ae890186a12a6829b5a",
       "version_major": 2,
       "version_minor": 0
      },
      "text/plain": [
       "Training batches on cuda:0:   0%|          | 0/17 [00:00<?, ?batch/s]"
      ]
     },
     "metadata": {},
     "output_type": "display_data"
    },
    {
     "data": {
      "application/vnd.jupyter.widget-view+json": {
       "model_id": "fdd555fa08134aa2aa7500ed4b1d7fe3",
       "version_major": 2,
       "version_minor": 0
      },
      "text/plain": [
       "Training batches on cuda:0:   0%|          | 0/17 [00:00<?, ?batch/s]"
      ]
     },
     "metadata": {},
     "output_type": "display_data"
    },
    {
     "data": {
      "application/vnd.jupyter.widget-view+json": {
       "model_id": "0606921714dd4cf0b14e6b4ebc5f3c61",
       "version_major": 2,
       "version_minor": 0
      },
      "text/plain": [
       "Training batches on cuda:0:   0%|          | 0/17 [00:00<?, ?batch/s]"
      ]
     },
     "metadata": {},
     "output_type": "display_data"
    },
    {
     "data": {
      "application/vnd.jupyter.widget-view+json": {
       "model_id": "c518d8da2b6c4ffdaab24e7fcdef773a",
       "version_major": 2,
       "version_minor": 0
      },
      "text/plain": [
       "Training batches on cuda:0:   0%|          | 0/17 [00:00<?, ?batch/s]"
      ]
     },
     "metadata": {},
     "output_type": "display_data"
    },
    {
     "data": {
      "application/vnd.jupyter.widget-view+json": {
       "model_id": "49e5f9f931754f029cfe2b6e3f6f9c0c",
       "version_major": 2,
       "version_minor": 0
      },
      "text/plain": [
       "Training batches on cuda:0:   0%|          | 0/17 [00:00<?, ?batch/s]"
      ]
     },
     "metadata": {},
     "output_type": "display_data"
    },
    {
     "data": {
      "application/vnd.jupyter.widget-view+json": {
       "model_id": "502476502dad4aa597dd16724620e3a0",
       "version_major": 2,
       "version_minor": 0
      },
      "text/plain": [
       "Training batches on cuda:0:   0%|          | 0/17 [00:00<?, ?batch/s]"
      ]
     },
     "metadata": {},
     "output_type": "display_data"
    },
    {
     "data": {
      "application/vnd.jupyter.widget-view+json": {
       "model_id": "483ee9e4a07d4f60a78a17d3059a60e0",
       "version_major": 2,
       "version_minor": 0
      },
      "text/plain": [
       "Training batches on cuda:0:   0%|          | 0/17 [00:00<?, ?batch/s]"
      ]
     },
     "metadata": {},
     "output_type": "display_data"
    },
    {
     "data": {
      "application/vnd.jupyter.widget-view+json": {
       "model_id": "e86923d5fd2842479bc12ef99ec008dd",
       "version_major": 2,
       "version_minor": 0
      },
      "text/plain": [
       "Training batches on cuda:0:   0%|          | 0/17 [00:00<?, ?batch/s]"
      ]
     },
     "metadata": {},
     "output_type": "display_data"
    },
    {
     "data": {
      "application/vnd.jupyter.widget-view+json": {
       "model_id": "fff9de0c24d54da0b5ee1d9830767a3b",
       "version_major": 2,
       "version_minor": 0
      },
      "text/plain": [
       "Training batches on cuda:0:   0%|          | 0/17 [00:00<?, ?batch/s]"
      ]
     },
     "metadata": {},
     "output_type": "display_data"
    },
    {
     "data": {
      "application/vnd.jupyter.widget-view+json": {
       "model_id": "306604231833441c9caadfe3ce436fbe",
       "version_major": 2,
       "version_minor": 0
      },
      "text/plain": [
       "Training batches on cuda:0:   0%|          | 0/17 [00:00<?, ?batch/s]"
      ]
     },
     "metadata": {},
     "output_type": "display_data"
    },
    {
     "data": {
      "application/vnd.jupyter.widget-view+json": {
       "model_id": "5353abd737624220bd42a7784735884f",
       "version_major": 2,
       "version_minor": 0
      },
      "text/plain": [
       "Training batches on cuda:0:   0%|          | 0/17 [00:00<?, ?batch/s]"
      ]
     },
     "metadata": {},
     "output_type": "display_data"
    },
    {
     "data": {
      "application/vnd.jupyter.widget-view+json": {
       "model_id": "b2a5bba64ae4470f92b6d17a87ee83a2",
       "version_major": 2,
       "version_minor": 0
      },
      "text/plain": [
       "Training batches on cuda:0:   0%|          | 0/17 [00:00<?, ?batch/s]"
      ]
     },
     "metadata": {},
     "output_type": "display_data"
    },
    {
     "data": {
      "application/vnd.jupyter.widget-view+json": {
       "model_id": "473e84c75f0e42af815741527b936d80",
       "version_major": 2,
       "version_minor": 0
      },
      "text/plain": [
       "Training batches on cuda:0:   0%|          | 0/17 [00:00<?, ?batch/s]"
      ]
     },
     "metadata": {},
     "output_type": "display_data"
    },
    {
     "data": {
      "application/vnd.jupyter.widget-view+json": {
       "model_id": "152ea61764c54670ba6891369ebb18b6",
       "version_major": 2,
       "version_minor": 0
      },
      "text/plain": [
       "Training batches on cuda:0:   0%|          | 0/17 [00:00<?, ?batch/s]"
      ]
     },
     "metadata": {},
     "output_type": "display_data"
    },
    {
     "data": {
      "application/vnd.jupyter.widget-view+json": {
       "model_id": "2054deebd3c14a3e9e3c62a5c8968461",
       "version_major": 2,
       "version_minor": 0
      },
      "text/plain": [
       "Training batches on cuda:0:   0%|          | 0/17 [00:00<?, ?batch/s]"
      ]
     },
     "metadata": {},
     "output_type": "display_data"
    },
    {
     "data": {
      "application/vnd.jupyter.widget-view+json": {
       "model_id": "91f7849e064241d2aaaa7f0b8135c360",
       "version_major": 2,
       "version_minor": 0
      },
      "text/plain": [
       "Training batches on cuda:0:   0%|          | 0/17 [00:00<?, ?batch/s]"
      ]
     },
     "metadata": {},
     "output_type": "display_data"
    },
    {
     "data": {
      "application/vnd.jupyter.widget-view+json": {
       "model_id": "e1a86bd41de64d7d8475e03ed1649fb9",
       "version_major": 2,
       "version_minor": 0
      },
      "text/plain": [
       "Training batches on cuda:0:   0%|          | 0/17 [00:00<?, ?batch/s]"
      ]
     },
     "metadata": {},
     "output_type": "display_data"
    },
    {
     "data": {
      "application/vnd.jupyter.widget-view+json": {
       "model_id": "cd704278ef98402fa566b94fbf500bb6",
       "version_major": 2,
       "version_minor": 0
      },
      "text/plain": [
       "Training batches on cuda:0:   0%|          | 0/17 [00:00<?, ?batch/s]"
      ]
     },
     "metadata": {},
     "output_type": "display_data"
    },
    {
     "data": {
      "application/vnd.jupyter.widget-view+json": {
       "model_id": "929ce63232f3492780502c5dd16d527c",
       "version_major": 2,
       "version_minor": 0
      },
      "text/plain": [
       "Training batches on cuda:0:   0%|          | 0/17 [00:00<?, ?batch/s]"
      ]
     },
     "metadata": {},
     "output_type": "display_data"
    },
    {
     "data": {
      "application/vnd.jupyter.widget-view+json": {
       "model_id": "28c300d5ca66415bab6e12be14024dbd",
       "version_major": 2,
       "version_minor": 0
      },
      "text/plain": [
       "Training batches on cuda:0:   0%|          | 0/17 [00:00<?, ?batch/s]"
      ]
     },
     "metadata": {},
     "output_type": "display_data"
    },
    {
     "data": {
      "application/vnd.jupyter.widget-view+json": {
       "model_id": "4936655cff1b42b9b36778fe7ed1c373",
       "version_major": 2,
       "version_minor": 0
      },
      "text/plain": [
       "Training batches on cuda:0:   0%|          | 0/17 [00:00<?, ?batch/s]"
      ]
     },
     "metadata": {},
     "output_type": "display_data"
    },
    {
     "data": {
      "application/vnd.jupyter.widget-view+json": {
       "model_id": "071fd7b1191e48c4a70661bd8b1c227a",
       "version_major": 2,
       "version_minor": 0
      },
      "text/plain": [
       "Training batches on cuda:0:   0%|          | 0/17 [00:00<?, ?batch/s]"
      ]
     },
     "metadata": {},
     "output_type": "display_data"
    },
    {
     "data": {
      "application/vnd.jupyter.widget-view+json": {
       "model_id": "fcdfb0672c3b4e79936a4cc6af7b6d11",
       "version_major": 2,
       "version_minor": 0
      },
      "text/plain": [
       "Training batches on cuda:0:   0%|          | 0/17 [00:00<?, ?batch/s]"
      ]
     },
     "metadata": {},
     "output_type": "display_data"
    },
    {
     "data": {
      "application/vnd.jupyter.widget-view+json": {
       "model_id": "d6f4b587e29944e2981090305d644e3d",
       "version_major": 2,
       "version_minor": 0
      },
      "text/plain": [
       "Training batches on cuda:0:   0%|          | 0/17 [00:00<?, ?batch/s]"
      ]
     },
     "metadata": {},
     "output_type": "display_data"
    },
    {
     "data": {
      "application/vnd.jupyter.widget-view+json": {
       "model_id": "63872f4b93b8444cbe31ca6566d2869c",
       "version_major": 2,
       "version_minor": 0
      },
      "text/plain": [
       "Training batches on cuda:0:   0%|          | 0/17 [00:00<?, ?batch/s]"
      ]
     },
     "metadata": {},
     "output_type": "display_data"
    },
    {
     "data": {
      "application/vnd.jupyter.widget-view+json": {
       "model_id": "f69aa2c3d554412fa2eb5902f96cc61d",
       "version_major": 2,
       "version_minor": 0
      },
      "text/plain": [
       "Training batches on cuda:0:   0%|          | 0/17 [00:00<?, ?batch/s]"
      ]
     },
     "metadata": {},
     "output_type": "display_data"
    },
    {
     "data": {
      "application/vnd.jupyter.widget-view+json": {
       "model_id": "44ffadbed54f4bf1990fbd7ea26115a3",
       "version_major": 2,
       "version_minor": 0
      },
      "text/plain": [
       "Training batches on cuda:0:   0%|          | 0/17 [00:00<?, ?batch/s]"
      ]
     },
     "metadata": {},
     "output_type": "display_data"
    },
    {
     "data": {
      "application/vnd.jupyter.widget-view+json": {
       "model_id": "cd0a5c20700b44368b3cb3e187fcddae",
       "version_major": 2,
       "version_minor": 0
      },
      "text/plain": [
       "Training batches on cuda:0:   0%|          | 0/17 [00:00<?, ?batch/s]"
      ]
     },
     "metadata": {},
     "output_type": "display_data"
    },
    {
     "data": {
      "application/vnd.jupyter.widget-view+json": {
       "model_id": "1d9e0d82f58e4b77a17a61de002498d1",
       "version_major": 2,
       "version_minor": 0
      },
      "text/plain": [
       "Training batches on cuda:0:   0%|          | 0/17 [00:00<?, ?batch/s]"
      ]
     },
     "metadata": {},
     "output_type": "display_data"
    },
    {
     "data": {
      "application/vnd.jupyter.widget-view+json": {
       "model_id": "e1a4a0b3c07a4f62942659d891e0fab9",
       "version_major": 2,
       "version_minor": 0
      },
      "text/plain": [
       "Training batches on cuda:0:   0%|          | 0/17 [00:00<?, ?batch/s]"
      ]
     },
     "metadata": {},
     "output_type": "display_data"
    },
    {
     "data": {
      "application/vnd.jupyter.widget-view+json": {
       "model_id": "a3dba5b1a3af4d4aa368c5b630959486",
       "version_major": 2,
       "version_minor": 0
      },
      "text/plain": [
       "Training batches on cuda:0:   0%|          | 0/17 [00:00<?, ?batch/s]"
      ]
     },
     "metadata": {},
     "output_type": "display_data"
    },
    {
     "data": {
      "application/vnd.jupyter.widget-view+json": {
       "model_id": "0e8eab1e72bd473d904a589f5fb7a28b",
       "version_major": 2,
       "version_minor": 0
      },
      "text/plain": [
       "Training batches on cuda:0:   0%|          | 0/17 [00:00<?, ?batch/s]"
      ]
     },
     "metadata": {},
     "output_type": "display_data"
    },
    {
     "data": {
      "application/vnd.jupyter.widget-view+json": {
       "model_id": "c6f4518d5ea64601806c3dba257e8f7c",
       "version_major": 2,
       "version_minor": 0
      },
      "text/plain": [
       "Training batches on cuda:0:   0%|          | 0/17 [00:00<?, ?batch/s]"
      ]
     },
     "metadata": {},
     "output_type": "display_data"
    },
    {
     "data": {
      "application/vnd.jupyter.widget-view+json": {
       "model_id": "25f2fe7ecab943d38681f6dbb619e76e",
       "version_major": 2,
       "version_minor": 0
      },
      "text/plain": [
       "Training batches on cuda:0:   0%|          | 0/17 [00:00<?, ?batch/s]"
      ]
     },
     "metadata": {},
     "output_type": "display_data"
    },
    {
     "data": {
      "application/vnd.jupyter.widget-view+json": {
       "model_id": "95cc980269df4478b55f806805b858f9",
       "version_major": 2,
       "version_minor": 0
      },
      "text/plain": [
       "Training batches on cuda:0:   0%|          | 0/17 [00:00<?, ?batch/s]"
      ]
     },
     "metadata": {},
     "output_type": "display_data"
    },
    {
     "data": {
      "application/vnd.jupyter.widget-view+json": {
       "model_id": "7893f5c6822c48b1b1a85b78ba4b8646",
       "version_major": 2,
       "version_minor": 0
      },
      "text/plain": [
       "Training batches on cuda:0:   0%|          | 0/17 [00:00<?, ?batch/s]"
      ]
     },
     "metadata": {},
     "output_type": "display_data"
    },
    {
     "data": {
      "application/vnd.jupyter.widget-view+json": {
       "model_id": "81a45f1d9cad441f917377beac0ae1d4",
       "version_major": 2,
       "version_minor": 0
      },
      "text/plain": [
       "Training batches on cuda:0:   0%|          | 0/17 [00:00<?, ?batch/s]"
      ]
     },
     "metadata": {},
     "output_type": "display_data"
    },
    {
     "data": {
      "application/vnd.jupyter.widget-view+json": {
       "model_id": "5772c10b25b7425bab0610f40fa792aa",
       "version_major": 2,
       "version_minor": 0
      },
      "text/plain": [
       "Training batches on cuda:0:   0%|          | 0/17 [00:00<?, ?batch/s]"
      ]
     },
     "metadata": {},
     "output_type": "display_data"
    },
    {
     "data": {
      "application/vnd.jupyter.widget-view+json": {
       "model_id": "929e1fd62af24aa3829fd6a92a2df3e6",
       "version_major": 2,
       "version_minor": 0
      },
      "text/plain": [
       "Training batches on cuda:0:   0%|          | 0/17 [00:00<?, ?batch/s]"
      ]
     },
     "metadata": {},
     "output_type": "display_data"
    },
    {
     "data": {
      "application/vnd.jupyter.widget-view+json": {
       "model_id": "a1f3642f3cf24daf95fb871e72fa8bb1",
       "version_major": 2,
       "version_minor": 0
      },
      "text/plain": [
       "Training batches on cuda:0:   0%|          | 0/17 [00:00<?, ?batch/s]"
      ]
     },
     "metadata": {},
     "output_type": "display_data"
    },
    {
     "data": {
      "application/vnd.jupyter.widget-view+json": {
       "model_id": "437e8c89e3e541efaa10ece9f7a31132",
       "version_major": 2,
       "version_minor": 0
      },
      "text/plain": [
       "Training batches on cuda:0:   0%|          | 0/17 [00:00<?, ?batch/s]"
      ]
     },
     "metadata": {},
     "output_type": "display_data"
    },
    {
     "data": {
      "application/vnd.jupyter.widget-view+json": {
       "model_id": "9e2614a08d2641eb95f118063a55b463",
       "version_major": 2,
       "version_minor": 0
      },
      "text/plain": [
       "Training batches on cuda:0:   0%|          | 0/17 [00:00<?, ?batch/s]"
      ]
     },
     "metadata": {},
     "output_type": "display_data"
    },
    {
     "data": {
      "application/vnd.jupyter.widget-view+json": {
       "model_id": "56f99d3cec8f4e529c2c64e003d03122",
       "version_major": 2,
       "version_minor": 0
      },
      "text/plain": [
       "Training batches on cuda:0:   0%|          | 0/17 [00:00<?, ?batch/s]"
      ]
     },
     "metadata": {},
     "output_type": "display_data"
    },
    {
     "data": {
      "application/vnd.jupyter.widget-view+json": {
       "model_id": "49e886a214ee425b8e5254663227bbdd",
       "version_major": 2,
       "version_minor": 0
      },
      "text/plain": [
       "Training batches on cuda:0:   0%|          | 0/17 [00:00<?, ?batch/s]"
      ]
     },
     "metadata": {},
     "output_type": "display_data"
    },
    {
     "data": {
      "application/vnd.jupyter.widget-view+json": {
       "model_id": "50b20c77d9a54906904c3cf5a48ae91c",
       "version_major": 2,
       "version_minor": 0
      },
      "text/plain": [
       "Training batches on cuda:0:   0%|          | 0/17 [00:00<?, ?batch/s]"
      ]
     },
     "metadata": {},
     "output_type": "display_data"
    },
    {
     "data": {
      "application/vnd.jupyter.widget-view+json": {
       "model_id": "2f44a09a1a8441548e1d7fa46c93a742",
       "version_major": 2,
       "version_minor": 0
      },
      "text/plain": [
       "Training batches on cuda:0:   0%|          | 0/17 [00:00<?, ?batch/s]"
      ]
     },
     "metadata": {},
     "output_type": "display_data"
    },
    {
     "data": {
      "application/vnd.jupyter.widget-view+json": {
       "model_id": "33e631b83e584682b2c319dfe8f0afa5",
       "version_major": 2,
       "version_minor": 0
      },
      "text/plain": [
       "Training batches on cuda:0:   0%|          | 0/17 [00:00<?, ?batch/s]"
      ]
     },
     "metadata": {},
     "output_type": "display_data"
    },
    {
     "data": {
      "application/vnd.jupyter.widget-view+json": {
       "model_id": "2fc486054cab4e3b99a241090b5e3ebe",
       "version_major": 2,
       "version_minor": 0
      },
      "text/plain": [
       "Training batches on cuda:0:   0%|          | 0/17 [00:00<?, ?batch/s]"
      ]
     },
     "metadata": {},
     "output_type": "display_data"
    },
    {
     "data": {
      "application/vnd.jupyter.widget-view+json": {
       "model_id": "af7defd556ca434b9e54e27d665b5f2c",
       "version_major": 2,
       "version_minor": 0
      },
      "text/plain": [
       "Training batches on cuda:0:   0%|          | 0/17 [00:00<?, ?batch/s]"
      ]
     },
     "metadata": {},
     "output_type": "display_data"
    },
    {
     "data": {
      "application/vnd.jupyter.widget-view+json": {
       "model_id": "b08f8711e2ce4a3590e55fbbce0e9799",
       "version_major": 2,
       "version_minor": 0
      },
      "text/plain": [
       "Training batches on cuda:0:   0%|          | 0/17 [00:00<?, ?batch/s]"
      ]
     },
     "metadata": {},
     "output_type": "display_data"
    },
    {
     "data": {
      "application/vnd.jupyter.widget-view+json": {
       "model_id": "62810254d5b1414fb8d6561894828ad9",
       "version_major": 2,
       "version_minor": 0
      },
      "text/plain": [
       "Training batches on cuda:0:   0%|          | 0/17 [00:00<?, ?batch/s]"
      ]
     },
     "metadata": {},
     "output_type": "display_data"
    },
    {
     "data": {
      "application/vnd.jupyter.widget-view+json": {
       "model_id": "805fa03dd9ae4f2ebf74b3ca9277408b",
       "version_major": 2,
       "version_minor": 0
      },
      "text/plain": [
       "Training batches on cuda:0:   0%|          | 0/17 [00:00<?, ?batch/s]"
      ]
     },
     "metadata": {},
     "output_type": "display_data"
    },
    {
     "data": {
      "application/vnd.jupyter.widget-view+json": {
       "model_id": "8c7404d6f1774f19a007c71b64e6bfc3",
       "version_major": 2,
       "version_minor": 0
      },
      "text/plain": [
       "Training batches on cuda:0:   0%|          | 0/17 [00:00<?, ?batch/s]"
      ]
     },
     "metadata": {},
     "output_type": "display_data"
    },
    {
     "data": {
      "application/vnd.jupyter.widget-view+json": {
       "model_id": "91286e76b6ce4a6aaab0eba46accf013",
       "version_major": 2,
       "version_minor": 0
      },
      "text/plain": [
       "Training batches on cuda:0:   0%|          | 0/17 [00:00<?, ?batch/s]"
      ]
     },
     "metadata": {},
     "output_type": "display_data"
    },
    {
     "data": {
      "application/vnd.jupyter.widget-view+json": {
       "model_id": "39f4e995ba774a848855fe53848cb618",
       "version_major": 2,
       "version_minor": 0
      },
      "text/plain": [
       "Training batches on cuda:0:   0%|          | 0/17 [00:00<?, ?batch/s]"
      ]
     },
     "metadata": {},
     "output_type": "display_data"
    },
    {
     "data": {
      "application/vnd.jupyter.widget-view+json": {
       "model_id": "a6394b775e5a4bc4ae0491157da68628",
       "version_major": 2,
       "version_minor": 0
      },
      "text/plain": [
       "Training batches on cuda:0:   0%|          | 0/17 [00:00<?, ?batch/s]"
      ]
     },
     "metadata": {},
     "output_type": "display_data"
    },
    {
     "data": {
      "application/vnd.jupyter.widget-view+json": {
       "model_id": "8eb6c3ac625b469791acf1d080735ba5",
       "version_major": 2,
       "version_minor": 0
      },
      "text/plain": [
       "Training batches on cuda:0:   0%|          | 0/17 [00:00<?, ?batch/s]"
      ]
     },
     "metadata": {},
     "output_type": "display_data"
    },
    {
     "data": {
      "application/vnd.jupyter.widget-view+json": {
       "model_id": "702bda0d39fa473eb2aade87c311c432",
       "version_major": 2,
       "version_minor": 0
      },
      "text/plain": [
       "Training batches on cuda:0:   0%|          | 0/17 [00:00<?, ?batch/s]"
      ]
     },
     "metadata": {},
     "output_type": "display_data"
    },
    {
     "data": {
      "application/vnd.jupyter.widget-view+json": {
       "model_id": "3504d5d9f6d24867a660218fa5663487",
       "version_major": 2,
       "version_minor": 0
      },
      "text/plain": [
       "Training batches on cuda:0:   0%|          | 0/17 [00:00<?, ?batch/s]"
      ]
     },
     "metadata": {},
     "output_type": "display_data"
    },
    {
     "data": {
      "application/vnd.jupyter.widget-view+json": {
       "model_id": "ef871f3f791649f9a3abcc9f43da9b8f",
       "version_major": 2,
       "version_minor": 0
      },
      "text/plain": [
       "Training batches on cuda:0:   0%|          | 0/17 [00:00<?, ?batch/s]"
      ]
     },
     "metadata": {},
     "output_type": "display_data"
    },
    {
     "data": {
      "application/vnd.jupyter.widget-view+json": {
       "model_id": "484eaba9ff194b7c8e2744236daa7bbe",
       "version_major": 2,
       "version_minor": 0
      },
      "text/plain": [
       "Training batches on cuda:0:   0%|          | 0/17 [00:00<?, ?batch/s]"
      ]
     },
     "metadata": {},
     "output_type": "display_data"
    },
    {
     "data": {
      "application/vnd.jupyter.widget-view+json": {
       "model_id": "5f005395c93143d4b16c09a582dea20e",
       "version_major": 2,
       "version_minor": 0
      },
      "text/plain": [
       "Training batches on cuda:0:   0%|          | 0/17 [00:00<?, ?batch/s]"
      ]
     },
     "metadata": {},
     "output_type": "display_data"
    },
    {
     "data": {
      "application/vnd.jupyter.widget-view+json": {
       "model_id": "3ff0cf70b6914519ab3d3a1e6c215a1a",
       "version_major": 2,
       "version_minor": 0
      },
      "text/plain": [
       "Training batches on cuda:0:   0%|          | 0/17 [00:00<?, ?batch/s]"
      ]
     },
     "metadata": {},
     "output_type": "display_data"
    },
    {
     "data": {
      "application/vnd.jupyter.widget-view+json": {
       "model_id": "cc3de1783aa74342b14cb420cb2b339b",
       "version_major": 2,
       "version_minor": 0
      },
      "text/plain": [
       "Training batches on cuda:0:   0%|          | 0/17 [00:00<?, ?batch/s]"
      ]
     },
     "metadata": {},
     "output_type": "display_data"
    },
    {
     "data": {
      "application/vnd.jupyter.widget-view+json": {
       "model_id": "d23f408a177f42809f89506e80d27c4d",
       "version_major": 2,
       "version_minor": 0
      },
      "text/plain": [
       "Training batches on cuda:0:   0%|          | 0/17 [00:00<?, ?batch/s]"
      ]
     },
     "metadata": {},
     "output_type": "display_data"
    },
    {
     "data": {
      "application/vnd.jupyter.widget-view+json": {
       "model_id": "721c1941bf78417bbb6dfd412f37e6e2",
       "version_major": 2,
       "version_minor": 0
      },
      "text/plain": [
       "Training batches on cuda:0:   0%|          | 0/17 [00:00<?, ?batch/s]"
      ]
     },
     "metadata": {},
     "output_type": "display_data"
    },
    {
     "data": {
      "application/vnd.jupyter.widget-view+json": {
       "model_id": "c8a887e6807e4eb095a7dd13c687f5b2",
       "version_major": 2,
       "version_minor": 0
      },
      "text/plain": [
       "Training batches on cuda:0:   0%|          | 0/17 [00:00<?, ?batch/s]"
      ]
     },
     "metadata": {},
     "output_type": "display_data"
    },
    {
     "data": {
      "application/vnd.jupyter.widget-view+json": {
       "model_id": "fa280c6cc28c48b0815135e6425a517d",
       "version_major": 2,
       "version_minor": 0
      },
      "text/plain": [
       "Training batches on cuda:0:   0%|          | 0/17 [00:00<?, ?batch/s]"
      ]
     },
     "metadata": {},
     "output_type": "display_data"
    },
    {
     "data": {
      "application/vnd.jupyter.widget-view+json": {
       "model_id": "66faacd24a174342963a0ee6a5acbb83",
       "version_major": 2,
       "version_minor": 0
      },
      "text/plain": [
       "Training batches on cuda:0:   0%|          | 0/17 [00:00<?, ?batch/s]"
      ]
     },
     "metadata": {},
     "output_type": "display_data"
    },
    {
     "data": {
      "application/vnd.jupyter.widget-view+json": {
       "model_id": "a9f8d0d80a3e4f0aab5b939007d8a158",
       "version_major": 2,
       "version_minor": 0
      },
      "text/plain": [
       "Training batches on cuda:0:   0%|          | 0/17 [00:00<?, ?batch/s]"
      ]
     },
     "metadata": {},
     "output_type": "display_data"
    },
    {
     "data": {
      "application/vnd.jupyter.widget-view+json": {
       "model_id": "3a8afa9bc93449a8a016065cf3d91cbb",
       "version_major": 2,
       "version_minor": 0
      },
      "text/plain": [
       "Training batches on cuda:0:   0%|          | 0/17 [00:00<?, ?batch/s]"
      ]
     },
     "metadata": {},
     "output_type": "display_data"
    },
    {
     "data": {
      "application/vnd.jupyter.widget-view+json": {
       "model_id": "3428934a60434e2faee6b5db572527bf",
       "version_major": 2,
       "version_minor": 0
      },
      "text/plain": [
       "Training batches on cuda:0:   0%|          | 0/17 [00:00<?, ?batch/s]"
      ]
     },
     "metadata": {},
     "output_type": "display_data"
    },
    {
     "data": {
      "application/vnd.jupyter.widget-view+json": {
       "model_id": "e5dcdddef6b84e2f86cd4cb643ce43c5",
       "version_major": 2,
       "version_minor": 0
      },
      "text/plain": [
       "Training batches on cuda:0:   0%|          | 0/17 [00:00<?, ?batch/s]"
      ]
     },
     "metadata": {},
     "output_type": "display_data"
    },
    {
     "data": {
      "application/vnd.jupyter.widget-view+json": {
       "model_id": "b1d7237eeb4e40f485a9e772b66add38",
       "version_major": 2,
       "version_minor": 0
      },
      "text/plain": [
       "Training batches on cuda:0:   0%|          | 0/17 [00:00<?, ?batch/s]"
      ]
     },
     "metadata": {},
     "output_type": "display_data"
    },
    {
     "data": {
      "application/vnd.jupyter.widget-view+json": {
       "model_id": "6d449001211541d2803d50f4cb678db9",
       "version_major": 2,
       "version_minor": 0
      },
      "text/plain": [
       "Training batches on cuda:0:   0%|          | 0/17 [00:00<?, ?batch/s]"
      ]
     },
     "metadata": {},
     "output_type": "display_data"
    },
    {
     "data": {
      "application/vnd.jupyter.widget-view+json": {
       "model_id": "b52a8555a1dd46019a31ec19357c0248",
       "version_major": 2,
       "version_minor": 0
      },
      "text/plain": [
       "Training batches on cuda:0:   0%|          | 0/17 [00:00<?, ?batch/s]"
      ]
     },
     "metadata": {},
     "output_type": "display_data"
    },
    {
     "data": {
      "application/vnd.jupyter.widget-view+json": {
       "model_id": "dfecdff289db42848932162acae3e7b4",
       "version_major": 2,
       "version_minor": 0
      },
      "text/plain": [
       "Training batches on cuda:0:   0%|          | 0/17 [00:00<?, ?batch/s]"
      ]
     },
     "metadata": {},
     "output_type": "display_data"
    },
    {
     "data": {
      "application/vnd.jupyter.widget-view+json": {
       "model_id": "d6a8710c5f6345ff927d4524508637a8",
       "version_major": 2,
       "version_minor": 0
      },
      "text/plain": [
       "Training batches on cuda:0:   0%|          | 0/17 [00:00<?, ?batch/s]"
      ]
     },
     "metadata": {},
     "output_type": "display_data"
    },
    {
     "data": {
      "application/vnd.jupyter.widget-view+json": {
       "model_id": "2184d23ac0fc4dfea4f23fbbb288a57e",
       "version_major": 2,
       "version_minor": 0
      },
      "text/plain": [
       "Training batches on cuda:0:   0%|          | 0/17 [00:00<?, ?batch/s]"
      ]
     },
     "metadata": {},
     "output_type": "display_data"
    },
    {
     "data": {
      "application/vnd.jupyter.widget-view+json": {
       "model_id": "e2574fd002ce418a97c6d0c2abaefcc4",
       "version_major": 2,
       "version_minor": 0
      },
      "text/plain": [
       "Training batches on cuda:0:   0%|          | 0/17 [00:00<?, ?batch/s]"
      ]
     },
     "metadata": {},
     "output_type": "display_data"
    },
    {
     "data": {
      "application/vnd.jupyter.widget-view+json": {
       "model_id": "039a3614ef1d4791a94298a8d9646198",
       "version_major": 2,
       "version_minor": 0
      },
      "text/plain": [
       "Training batches on cuda:0:   0%|          | 0/17 [00:00<?, ?batch/s]"
      ]
     },
     "metadata": {},
     "output_type": "display_data"
    },
    {
     "data": {
      "application/vnd.jupyter.widget-view+json": {
       "model_id": "b3420d115f9f4228ad6d350f5d428c66",
       "version_major": 2,
       "version_minor": 0
      },
      "text/plain": [
       "Training batches on cuda:0:   0%|          | 0/17 [00:00<?, ?batch/s]"
      ]
     },
     "metadata": {},
     "output_type": "display_data"
    },
    {
     "data": {
      "application/vnd.jupyter.widget-view+json": {
       "model_id": "317458ab8d514feb9f825be0ff5636c1",
       "version_major": 2,
       "version_minor": 0
      },
      "text/plain": [
       "Training batches on cuda:0:   0%|          | 0/17 [00:00<?, ?batch/s]"
      ]
     },
     "metadata": {},
     "output_type": "display_data"
    },
    {
     "data": {
      "application/vnd.jupyter.widget-view+json": {
       "model_id": "b961bf221b314144bcd1ae8310b90175",
       "version_major": 2,
       "version_minor": 0
      },
      "text/plain": [
       "Training batches on cuda:0:   0%|          | 0/17 [00:00<?, ?batch/s]"
      ]
     },
     "metadata": {},
     "output_type": "display_data"
    },
    {
     "data": {
      "application/vnd.jupyter.widget-view+json": {
       "model_id": "0a6b42a85e6d4a04b2660c81014a3de2",
       "version_major": 2,
       "version_minor": 0
      },
      "text/plain": [
       "Training batches on cuda:0:   0%|          | 0/17 [00:00<?, ?batch/s]"
      ]
     },
     "metadata": {},
     "output_type": "display_data"
    },
    {
     "data": {
      "application/vnd.jupyter.widget-view+json": {
       "model_id": "4477ef5144b743eb88959f68064822a9",
       "version_major": 2,
       "version_minor": 0
      },
      "text/plain": [
       "Training batches on cuda:0:   0%|          | 0/17 [00:00<?, ?batch/s]"
      ]
     },
     "metadata": {},
     "output_type": "display_data"
    },
    {
     "data": {
      "application/vnd.jupyter.widget-view+json": {
       "model_id": "0c11e03a9d524bae93424805ce1f8a5b",
       "version_major": 2,
       "version_minor": 0
      },
      "text/plain": [
       "Training batches on cuda:0:   0%|          | 0/17 [00:00<?, ?batch/s]"
      ]
     },
     "metadata": {},
     "output_type": "display_data"
    },
    {
     "data": {
      "application/vnd.jupyter.widget-view+json": {
       "model_id": "c7415a99145848d788763b104f339d00",
       "version_major": 2,
       "version_minor": 0
      },
      "text/plain": [
       "Training batches on cuda:0:   0%|          | 0/17 [00:00<?, ?batch/s]"
      ]
     },
     "metadata": {},
     "output_type": "display_data"
    },
    {
     "data": {
      "application/vnd.jupyter.widget-view+json": {
       "model_id": "8d4bac76ec9345d382e1555bc31c086c",
       "version_major": 2,
       "version_minor": 0
      },
      "text/plain": [
       "Training batches on cuda:0:   0%|          | 0/17 [00:00<?, ?batch/s]"
      ]
     },
     "metadata": {},
     "output_type": "display_data"
    },
    {
     "data": {
      "application/vnd.jupyter.widget-view+json": {
       "model_id": "07171b410d614a38acfff3a5bba70280",
       "version_major": 2,
       "version_minor": 0
      },
      "text/plain": [
       "Training batches on cuda:0:   0%|          | 0/17 [00:00<?, ?batch/s]"
      ]
     },
     "metadata": {},
     "output_type": "display_data"
    },
    {
     "data": {
      "application/vnd.jupyter.widget-view+json": {
       "model_id": "11e1a3aefe1c450eadffa15cda5c9bfa",
       "version_major": 2,
       "version_minor": 0
      },
      "text/plain": [
       "Training batches on cuda:0:   0%|          | 0/17 [00:00<?, ?batch/s]"
      ]
     },
     "metadata": {},
     "output_type": "display_data"
    },
    {
     "data": {
      "application/vnd.jupyter.widget-view+json": {
       "model_id": "99b04a470d3b43bdb5670ce95d8cac85",
       "version_major": 2,
       "version_minor": 0
      },
      "text/plain": [
       "Training batches on cuda:0:   0%|          | 0/17 [00:00<?, ?batch/s]"
      ]
     },
     "metadata": {},
     "output_type": "display_data"
    },
    {
     "data": {
      "application/vnd.jupyter.widget-view+json": {
       "model_id": "7ca67f32c3d349c0896bca9de94307f3",
       "version_major": 2,
       "version_minor": 0
      },
      "text/plain": [
       "Training batches on cuda:0:   0%|          | 0/17 [00:00<?, ?batch/s]"
      ]
     },
     "metadata": {},
     "output_type": "display_data"
    },
    {
     "data": {
      "application/vnd.jupyter.widget-view+json": {
       "model_id": "57e3f3df6be74ec9bcfb21facce072ec",
       "version_major": 2,
       "version_minor": 0
      },
      "text/plain": [
       "Training batches on cuda:0:   0%|          | 0/17 [00:00<?, ?batch/s]"
      ]
     },
     "metadata": {},
     "output_type": "display_data"
    },
    {
     "data": {
      "application/vnd.jupyter.widget-view+json": {
       "model_id": "260c9512727f4421ae92d4a53e3df83f",
       "version_major": 2,
       "version_minor": 0
      },
      "text/plain": [
       "Training batches on cuda:0:   0%|          | 0/17 [00:00<?, ?batch/s]"
      ]
     },
     "metadata": {},
     "output_type": "display_data"
    },
    {
     "data": {
      "application/vnd.jupyter.widget-view+json": {
       "model_id": "5584d9d5bd0f4b4fbe24cbeb92bf6e9a",
       "version_major": 2,
       "version_minor": 0
      },
      "text/plain": [
       "Training batches on cuda:0:   0%|          | 0/17 [00:00<?, ?batch/s]"
      ]
     },
     "metadata": {},
     "output_type": "display_data"
    },
    {
     "data": {
      "application/vnd.jupyter.widget-view+json": {
       "model_id": "96b19f7e6057494b8bcbc08404dd646a",
       "version_major": 2,
       "version_minor": 0
      },
      "text/plain": [
       "Training batches on cuda:0:   0%|          | 0/17 [00:00<?, ?batch/s]"
      ]
     },
     "metadata": {},
     "output_type": "display_data"
    },
    {
     "data": {
      "application/vnd.jupyter.widget-view+json": {
       "model_id": "23f2e8752330418a9d96a01c282925bf",
       "version_major": 2,
       "version_minor": 0
      },
      "text/plain": [
       "Training batches on cuda:0:   0%|          | 0/17 [00:00<?, ?batch/s]"
      ]
     },
     "metadata": {},
     "output_type": "display_data"
    },
    {
     "data": {
      "application/vnd.jupyter.widget-view+json": {
       "model_id": "9b65393300474d83bf473602366a55e5",
       "version_major": 2,
       "version_minor": 0
      },
      "text/plain": [
       "Training batches on cuda:0:   0%|          | 0/17 [00:00<?, ?batch/s]"
      ]
     },
     "metadata": {},
     "output_type": "display_data"
    },
    {
     "data": {
      "application/vnd.jupyter.widget-view+json": {
       "model_id": "7f51e2d2ab554fb4bd0d65e1e4d3d508",
       "version_major": 2,
       "version_minor": 0
      },
      "text/plain": [
       "Training batches on cuda:0:   0%|          | 0/17 [00:00<?, ?batch/s]"
      ]
     },
     "metadata": {},
     "output_type": "display_data"
    },
    {
     "data": {
      "application/vnd.jupyter.widget-view+json": {
       "model_id": "63b0bb7499164e05a25e595a9cbe0d66",
       "version_major": 2,
       "version_minor": 0
      },
      "text/plain": [
       "Training batches on cuda:0:   0%|          | 0/17 [00:00<?, ?batch/s]"
      ]
     },
     "metadata": {},
     "output_type": "display_data"
    },
    {
     "data": {
      "application/vnd.jupyter.widget-view+json": {
       "model_id": "4bb78d0c825d4b718b4788c431721d7b",
       "version_major": 2,
       "version_minor": 0
      },
      "text/plain": [
       "Training batches on cuda:0:   0%|          | 0/17 [00:00<?, ?batch/s]"
      ]
     },
     "metadata": {},
     "output_type": "display_data"
    },
    {
     "data": {
      "application/vnd.jupyter.widget-view+json": {
       "model_id": "32cd4cfc0cc844f69537b460b6185d0e",
       "version_major": 2,
       "version_minor": 0
      },
      "text/plain": [
       "Training batches on cuda:0:   0%|          | 0/17 [00:00<?, ?batch/s]"
      ]
     },
     "metadata": {},
     "output_type": "display_data"
    },
    {
     "data": {
      "application/vnd.jupyter.widget-view+json": {
       "model_id": "43d713637c674ccfa4b1c9eea6debf4c",
       "version_major": 2,
       "version_minor": 0
      },
      "text/plain": [
       "Training batches on cuda:0:   0%|          | 0/17 [00:00<?, ?batch/s]"
      ]
     },
     "metadata": {},
     "output_type": "display_data"
    },
    {
     "data": {
      "application/vnd.jupyter.widget-view+json": {
       "model_id": "c2a3bfc12d224538b14807af78529da0",
       "version_major": 2,
       "version_minor": 0
      },
      "text/plain": [
       "Training batches on cuda:0:   0%|          | 0/17 [00:00<?, ?batch/s]"
      ]
     },
     "metadata": {},
     "output_type": "display_data"
    },
    {
     "data": {
      "application/vnd.jupyter.widget-view+json": {
       "model_id": "41b0beceddff4f6393ca37345151e060",
       "version_major": 2,
       "version_minor": 0
      },
      "text/plain": [
       "Training batches on cuda:0:   0%|          | 0/17 [00:00<?, ?batch/s]"
      ]
     },
     "metadata": {},
     "output_type": "display_data"
    },
    {
     "data": {
      "application/vnd.jupyter.widget-view+json": {
       "model_id": "ea1fea75887b44b5b6b38b47b0042a4c",
       "version_major": 2,
       "version_minor": 0
      },
      "text/plain": [
       "Training batches on cuda:0:   0%|          | 0/17 [00:00<?, ?batch/s]"
      ]
     },
     "metadata": {},
     "output_type": "display_data"
    },
    {
     "data": {
      "application/vnd.jupyter.widget-view+json": {
       "model_id": "a811ff2c345e49fa933ca29b51692a30",
       "version_major": 2,
       "version_minor": 0
      },
      "text/plain": [
       "Training batches on cuda:0:   0%|          | 0/17 [00:00<?, ?batch/s]"
      ]
     },
     "metadata": {},
     "output_type": "display_data"
    },
    {
     "data": {
      "application/vnd.jupyter.widget-view+json": {
       "model_id": "3c9d1730982c42d5af41098c29a188bf",
       "version_major": 2,
       "version_minor": 0
      },
      "text/plain": [
       "Training batches on cuda:0:   0%|          | 0/17 [00:00<?, ?batch/s]"
      ]
     },
     "metadata": {},
     "output_type": "display_data"
    },
    {
     "data": {
      "application/vnd.jupyter.widget-view+json": {
       "model_id": "516efe88aad245138cf4fef5de641cbe",
       "version_major": 2,
       "version_minor": 0
      },
      "text/plain": [
       "Training batches on cuda:0:   0%|          | 0/17 [00:00<?, ?batch/s]"
      ]
     },
     "metadata": {},
     "output_type": "display_data"
    },
    {
     "data": {
      "application/vnd.jupyter.widget-view+json": {
       "model_id": "3c5214e4280e49e3a6db05d734f53a8e",
       "version_major": 2,
       "version_minor": 0
      },
      "text/plain": [
       "Training batches on cuda:0:   0%|          | 0/17 [00:00<?, ?batch/s]"
      ]
     },
     "metadata": {},
     "output_type": "display_data"
    },
    {
     "data": {
      "application/vnd.jupyter.widget-view+json": {
       "model_id": "eefdd95cf95f45508a125d302f4925b1",
       "version_major": 2,
       "version_minor": 0
      },
      "text/plain": [
       "Training batches on cuda:0:   0%|          | 0/17 [00:00<?, ?batch/s]"
      ]
     },
     "metadata": {},
     "output_type": "display_data"
    },
    {
     "data": {
      "application/vnd.jupyter.widget-view+json": {
       "model_id": "cb141a00af3b4becac70a2ce59f3490b",
       "version_major": 2,
       "version_minor": 0
      },
      "text/plain": [
       "Training batches on cuda:0:   0%|          | 0/17 [00:00<?, ?batch/s]"
      ]
     },
     "metadata": {},
     "output_type": "display_data"
    },
    {
     "data": {
      "application/vnd.jupyter.widget-view+json": {
       "model_id": "9035bb38e9ad41ebb3728ea6a12eb501",
       "version_major": 2,
       "version_minor": 0
      },
      "text/plain": [
       "Training batches on cuda:0:   0%|          | 0/17 [00:00<?, ?batch/s]"
      ]
     },
     "metadata": {},
     "output_type": "display_data"
    },
    {
     "data": {
      "application/vnd.jupyter.widget-view+json": {
       "model_id": "a62dfb63687445c8a0b882ef5c534442",
       "version_major": 2,
       "version_minor": 0
      },
      "text/plain": [
       "Training batches on cuda:0:   0%|          | 0/17 [00:00<?, ?batch/s]"
      ]
     },
     "metadata": {},
     "output_type": "display_data"
    },
    {
     "data": {
      "application/vnd.jupyter.widget-view+json": {
       "model_id": "696e04492c10443eab8879a5359bcf5d",
       "version_major": 2,
       "version_minor": 0
      },
      "text/plain": [
       "Training batches on cuda:0:   0%|          | 0/17 [00:00<?, ?batch/s]"
      ]
     },
     "metadata": {},
     "output_type": "display_data"
    },
    {
     "data": {
      "application/vnd.jupyter.widget-view+json": {
       "model_id": "083ce893084d484c81c70f8191f2fcf7",
       "version_major": 2,
       "version_minor": 0
      },
      "text/plain": [
       "Training batches on cuda:0:   0%|          | 0/17 [00:00<?, ?batch/s]"
      ]
     },
     "metadata": {},
     "output_type": "display_data"
    },
    {
     "data": {
      "application/vnd.jupyter.widget-view+json": {
       "model_id": "a31a1fdc22b64c7287f06662e7445813",
       "version_major": 2,
       "version_minor": 0
      },
      "text/plain": [
       "Training batches on cuda:0:   0%|          | 0/17 [00:00<?, ?batch/s]"
      ]
     },
     "metadata": {},
     "output_type": "display_data"
    },
    {
     "data": {
      "application/vnd.jupyter.widget-view+json": {
       "model_id": "68b03c5d03bf4825b0379a7757691661",
       "version_major": 2,
       "version_minor": 0
      },
      "text/plain": [
       "Training batches on cuda:0:   0%|          | 0/17 [00:00<?, ?batch/s]"
      ]
     },
     "metadata": {},
     "output_type": "display_data"
    },
    {
     "data": {
      "application/vnd.jupyter.widget-view+json": {
       "model_id": "4671e0f0eb814132b069c95980ba347b",
       "version_major": 2,
       "version_minor": 0
      },
      "text/plain": [
       "Training batches on cuda:0:   0%|          | 0/17 [00:00<?, ?batch/s]"
      ]
     },
     "metadata": {},
     "output_type": "display_data"
    },
    {
     "data": {
      "application/vnd.jupyter.widget-view+json": {
       "model_id": "61917ea525454491a3fe416af8849dd9",
       "version_major": 2,
       "version_minor": 0
      },
      "text/plain": [
       "Training batches on cuda:0:   0%|          | 0/17 [00:00<?, ?batch/s]"
      ]
     },
     "metadata": {},
     "output_type": "display_data"
    },
    {
     "data": {
      "application/vnd.jupyter.widget-view+json": {
       "model_id": "ec261af970c144edb36f1b13a264da78",
       "version_major": 2,
       "version_minor": 0
      },
      "text/plain": [
       "Training batches on cuda:0:   0%|          | 0/17 [00:00<?, ?batch/s]"
      ]
     },
     "metadata": {},
     "output_type": "display_data"
    },
    {
     "data": {
      "application/vnd.jupyter.widget-view+json": {
       "model_id": "66812bede6124a84b7d40843e8bd9855",
       "version_major": 2,
       "version_minor": 0
      },
      "text/plain": [
       "Training batches on cuda:0:   0%|          | 0/17 [00:00<?, ?batch/s]"
      ]
     },
     "metadata": {},
     "output_type": "display_data"
    },
    {
     "data": {
      "application/vnd.jupyter.widget-view+json": {
       "model_id": "43b8231d48e542c88a2f904fc602db3a",
       "version_major": 2,
       "version_minor": 0
      },
      "text/plain": [
       "Training batches on cuda:0:   0%|          | 0/17 [00:00<?, ?batch/s]"
      ]
     },
     "metadata": {},
     "output_type": "display_data"
    },
    {
     "data": {
      "application/vnd.jupyter.widget-view+json": {
       "model_id": "12f4be7ce9bf4e90990888870e7a73d6",
       "version_major": 2,
       "version_minor": 0
      },
      "text/plain": [
       "Training batches on cuda:0:   0%|          | 0/17 [00:00<?, ?batch/s]"
      ]
     },
     "metadata": {},
     "output_type": "display_data"
    },
    {
     "data": {
      "application/vnd.jupyter.widget-view+json": {
       "model_id": "6637ba55dbdc4d86869f71a054df0e04",
       "version_major": 2,
       "version_minor": 0
      },
      "text/plain": [
       "Training batches on cuda:0:   0%|          | 0/17 [00:00<?, ?batch/s]"
      ]
     },
     "metadata": {},
     "output_type": "display_data"
    },
    {
     "data": {
      "application/vnd.jupyter.widget-view+json": {
       "model_id": "6f75cd356f464c48a65593876879dc7c",
       "version_major": 2,
       "version_minor": 0
      },
      "text/plain": [
       "Training batches on cuda:0:   0%|          | 0/17 [00:00<?, ?batch/s]"
      ]
     },
     "metadata": {},
     "output_type": "display_data"
    },
    {
     "data": {
      "application/vnd.jupyter.widget-view+json": {
       "model_id": "05c14b3e3ed74cb58326b92e8ea860c1",
       "version_major": 2,
       "version_minor": 0
      },
      "text/plain": [
       "Training batches on cuda:0:   0%|          | 0/17 [00:00<?, ?batch/s]"
      ]
     },
     "metadata": {},
     "output_type": "display_data"
    },
    {
     "data": {
      "application/vnd.jupyter.widget-view+json": {
       "model_id": "3d03af2f04f648e4ba1eedbe1934d489",
       "version_major": 2,
       "version_minor": 0
      },
      "text/plain": [
       "Training batches on cuda:0:   0%|          | 0/17 [00:00<?, ?batch/s]"
      ]
     },
     "metadata": {},
     "output_type": "display_data"
    },
    {
     "data": {
      "application/vnd.jupyter.widget-view+json": {
       "model_id": "a1cf6ff2791143ce9ed5e75997d7ec4d",
       "version_major": 2,
       "version_minor": 0
      },
      "text/plain": [
       "Training batches on cuda:0:   0%|          | 0/17 [00:00<?, ?batch/s]"
      ]
     },
     "metadata": {},
     "output_type": "display_data"
    },
    {
     "data": {
      "application/vnd.jupyter.widget-view+json": {
       "model_id": "aa13fbfb5ca046dd9f5a4d93c7bc0206",
       "version_major": 2,
       "version_minor": 0
      },
      "text/plain": [
       "Training batches on cuda:0:   0%|          | 0/17 [00:00<?, ?batch/s]"
      ]
     },
     "metadata": {},
     "output_type": "display_data"
    },
    {
     "data": {
      "application/vnd.jupyter.widget-view+json": {
       "model_id": "da13ee3466594caebda735f153a89e73",
       "version_major": 2,
       "version_minor": 0
      },
      "text/plain": [
       "Training batches on cuda:0:   0%|          | 0/17 [00:00<?, ?batch/s]"
      ]
     },
     "metadata": {},
     "output_type": "display_data"
    },
    {
     "data": {
      "application/vnd.jupyter.widget-view+json": {
       "model_id": "124a19afc9c24922bf8f91a40b3e26bc",
       "version_major": 2,
       "version_minor": 0
      },
      "text/plain": [
       "Training batches on cuda:0:   0%|          | 0/17 [00:00<?, ?batch/s]"
      ]
     },
     "metadata": {},
     "output_type": "display_data"
    },
    {
     "data": {
      "application/vnd.jupyter.widget-view+json": {
       "model_id": "1c5209958e564b60bf4c8811376ac94b",
       "version_major": 2,
       "version_minor": 0
      },
      "text/plain": [
       "Training batches on cuda:0:   0%|          | 0/17 [00:00<?, ?batch/s]"
      ]
     },
     "metadata": {},
     "output_type": "display_data"
    },
    {
     "data": {
      "application/vnd.jupyter.widget-view+json": {
       "model_id": "894fc8fd0c9442dbbc3c20c530a43d9b",
       "version_major": 2,
       "version_minor": 0
      },
      "text/plain": [
       "Training batches on cuda:0:   0%|          | 0/17 [00:00<?, ?batch/s]"
      ]
     },
     "metadata": {},
     "output_type": "display_data"
    },
    {
     "data": {
      "application/vnd.jupyter.widget-view+json": {
       "model_id": "47b15674ec9d45b6bd169860ea020aec",
       "version_major": 2,
       "version_minor": 0
      },
      "text/plain": [
       "Training batches on cuda:0:   0%|          | 0/17 [00:00<?, ?batch/s]"
      ]
     },
     "metadata": {},
     "output_type": "display_data"
    },
    {
     "data": {
      "application/vnd.jupyter.widget-view+json": {
       "model_id": "f9a64abbb3cd4091b848864198d24708",
       "version_major": 2,
       "version_minor": 0
      },
      "text/plain": [
       "Training batches on cuda:0:   0%|          | 0/17 [00:00<?, ?batch/s]"
      ]
     },
     "metadata": {},
     "output_type": "display_data"
    },
    {
     "data": {
      "application/vnd.jupyter.widget-view+json": {
       "model_id": "5e4b55ca46424f35836121e0171cfdf6",
       "version_major": 2,
       "version_minor": 0
      },
      "text/plain": [
       "Training batches on cuda:0:   0%|          | 0/17 [00:00<?, ?batch/s]"
      ]
     },
     "metadata": {},
     "output_type": "display_data"
    },
    {
     "data": {
      "application/vnd.jupyter.widget-view+json": {
       "model_id": "c34e1e9bbf4d4385b94b9f4a95c5a5be",
       "version_major": 2,
       "version_minor": 0
      },
      "text/plain": [
       "Training batches on cuda:0:   0%|          | 0/17 [00:00<?, ?batch/s]"
      ]
     },
     "metadata": {},
     "output_type": "display_data"
    },
    {
     "data": {
      "application/vnd.jupyter.widget-view+json": {
       "model_id": "afc101f4953a483099b7a3779c4be7d0",
       "version_major": 2,
       "version_minor": 0
      },
      "text/plain": [
       "Training batches on cuda:0:   0%|          | 0/17 [00:00<?, ?batch/s]"
      ]
     },
     "metadata": {},
     "output_type": "display_data"
    },
    {
     "data": {
      "application/vnd.jupyter.widget-view+json": {
       "model_id": "e5f8a02ca2e841f6b8341212e9c70233",
       "version_major": 2,
       "version_minor": 0
      },
      "text/plain": [
       "Training batches on cuda:0:   0%|          | 0/17 [00:00<?, ?batch/s]"
      ]
     },
     "metadata": {},
     "output_type": "display_data"
    },
    {
     "data": {
      "application/vnd.jupyter.widget-view+json": {
       "model_id": "33fd8e4ffdee4959b22d04d89cfd66df",
       "version_major": 2,
       "version_minor": 0
      },
      "text/plain": [
       "Training batches on cuda:0:   0%|          | 0/17 [00:00<?, ?batch/s]"
      ]
     },
     "metadata": {},
     "output_type": "display_data"
    },
    {
     "data": {
      "application/vnd.jupyter.widget-view+json": {
       "model_id": "b043806498374266a370e2ce9d3c3bd9",
       "version_major": 2,
       "version_minor": 0
      },
      "text/plain": [
       "Training batches on cuda:0:   0%|          | 0/17 [00:00<?, ?batch/s]"
      ]
     },
     "metadata": {},
     "output_type": "display_data"
    },
    {
     "data": {
      "application/vnd.jupyter.widget-view+json": {
       "model_id": "6022088e0b584b17881e4d7a470c0f2d",
       "version_major": 2,
       "version_minor": 0
      },
      "text/plain": [
       "Training batches on cuda:0:   0%|          | 0/17 [00:00<?, ?batch/s]"
      ]
     },
     "metadata": {},
     "output_type": "display_data"
    },
    {
     "data": {
      "application/vnd.jupyter.widget-view+json": {
       "model_id": "38f6b9e059d6466587b68b9d77d88cca",
       "version_major": 2,
       "version_minor": 0
      },
      "text/plain": [
       "Training batches on cuda:0:   0%|          | 0/17 [00:00<?, ?batch/s]"
      ]
     },
     "metadata": {},
     "output_type": "display_data"
    },
    {
     "data": {
      "application/vnd.jupyter.widget-view+json": {
       "model_id": "6489ff7fa021456f883428c89147e2b9",
       "version_major": 2,
       "version_minor": 0
      },
      "text/plain": [
       "Training batches on cuda:0:   0%|          | 0/17 [00:00<?, ?batch/s]"
      ]
     },
     "metadata": {},
     "output_type": "display_data"
    },
    {
     "data": {
      "application/vnd.jupyter.widget-view+json": {
       "model_id": "38224338265d4b7e985b57b1067cbe95",
       "version_major": 2,
       "version_minor": 0
      },
      "text/plain": [
       "Training batches on cuda:0:   0%|          | 0/17 [00:00<?, ?batch/s]"
      ]
     },
     "metadata": {},
     "output_type": "display_data"
    },
    {
     "data": {
      "application/vnd.jupyter.widget-view+json": {
       "model_id": "5b52724c6d5b4322ae6b133085667bd2",
       "version_major": 2,
       "version_minor": 0
      },
      "text/plain": [
       "Training batches on cuda:0:   0%|          | 0/17 [00:00<?, ?batch/s]"
      ]
     },
     "metadata": {},
     "output_type": "display_data"
    },
    {
     "data": {
      "application/vnd.jupyter.widget-view+json": {
       "model_id": "f96c6aca147a434c9550a25573a24a54",
       "version_major": 2,
       "version_minor": 0
      },
      "text/plain": [
       "Training batches on cuda:0:   0%|          | 0/17 [00:00<?, ?batch/s]"
      ]
     },
     "metadata": {},
     "output_type": "display_data"
    },
    {
     "data": {
      "application/vnd.jupyter.widget-view+json": {
       "model_id": "eaadce87d7b1471ebe89acad64a9452c",
       "version_major": 2,
       "version_minor": 0
      },
      "text/plain": [
       "Training batches on cuda:0:   0%|          | 0/17 [00:00<?, ?batch/s]"
      ]
     },
     "metadata": {},
     "output_type": "display_data"
    },
    {
     "data": {
      "application/vnd.jupyter.widget-view+json": {
       "model_id": "4628c52beab44191b5865d1d2a4787cb",
       "version_major": 2,
       "version_minor": 0
      },
      "text/plain": [
       "Training batches on cuda:0:   0%|          | 0/17 [00:00<?, ?batch/s]"
      ]
     },
     "metadata": {},
     "output_type": "display_data"
    },
    {
     "data": {
      "application/vnd.jupyter.widget-view+json": {
       "model_id": "3a8bbed1d5a34fb587f5cef797b36345",
       "version_major": 2,
       "version_minor": 0
      },
      "text/plain": [
       "Training batches on cuda:0:   0%|          | 0/17 [00:00<?, ?batch/s]"
      ]
     },
     "metadata": {},
     "output_type": "display_data"
    },
    {
     "data": {
      "application/vnd.jupyter.widget-view+json": {
       "model_id": "36923f24a3f54b86960d6aebedd94c95",
       "version_major": 2,
       "version_minor": 0
      },
      "text/plain": [
       "Training batches on cuda:0:   0%|          | 0/17 [00:00<?, ?batch/s]"
      ]
     },
     "metadata": {},
     "output_type": "display_data"
    },
    {
     "data": {
      "application/vnd.jupyter.widget-view+json": {
       "model_id": "5cfa0d6a5e7b43a8bc46a2bbac15640f",
       "version_major": 2,
       "version_minor": 0
      },
      "text/plain": [
       "Training batches on cuda:0:   0%|          | 0/17 [00:00<?, ?batch/s]"
      ]
     },
     "metadata": {},
     "output_type": "display_data"
    },
    {
     "data": {
      "application/vnd.jupyter.widget-view+json": {
       "model_id": "10e265b358d242899b8874b9b11d3255",
       "version_major": 2,
       "version_minor": 0
      },
      "text/plain": [
       "Training batches on cuda:0:   0%|          | 0/17 [00:00<?, ?batch/s]"
      ]
     },
     "metadata": {},
     "output_type": "display_data"
    },
    {
     "data": {
      "application/vnd.jupyter.widget-view+json": {
       "model_id": "19ddf1aa592c497f994255f45e1b9a75",
       "version_major": 2,
       "version_minor": 0
      },
      "text/plain": [
       "Training batches on cuda:0:   0%|          | 0/17 [00:00<?, ?batch/s]"
      ]
     },
     "metadata": {},
     "output_type": "display_data"
    },
    {
     "data": {
      "application/vnd.jupyter.widget-view+json": {
       "model_id": "07d81f2af40d4590aa6dc34905c1cc9f",
       "version_major": 2,
       "version_minor": 0
      },
      "text/plain": [
       "Training batches on cuda:0:   0%|          | 0/17 [00:00<?, ?batch/s]"
      ]
     },
     "metadata": {},
     "output_type": "display_data"
    },
    {
     "data": {
      "application/vnd.jupyter.widget-view+json": {
       "model_id": "82796559cd6242e693a83bcf37584b8b",
       "version_major": 2,
       "version_minor": 0
      },
      "text/plain": [
       "Training batches on cuda:0:   0%|          | 0/17 [00:00<?, ?batch/s]"
      ]
     },
     "metadata": {},
     "output_type": "display_data"
    },
    {
     "data": {
      "application/vnd.jupyter.widget-view+json": {
       "model_id": "d8d771450db5495b86d4834c12286198",
       "version_major": 2,
       "version_minor": 0
      },
      "text/plain": [
       "Training batches on cuda:0:   0%|          | 0/17 [00:00<?, ?batch/s]"
      ]
     },
     "metadata": {},
     "output_type": "display_data"
    },
    {
     "data": {
      "application/vnd.jupyter.widget-view+json": {
       "model_id": "816feedec01d4c369704eddf46ba9f7c",
       "version_major": 2,
       "version_minor": 0
      },
      "text/plain": [
       "Training batches on cuda:0:   0%|          | 0/17 [00:00<?, ?batch/s]"
      ]
     },
     "metadata": {},
     "output_type": "display_data"
    },
    {
     "data": {
      "application/vnd.jupyter.widget-view+json": {
       "model_id": "4d6acc96997e47a3b5c7372e00f3ff5a",
       "version_major": 2,
       "version_minor": 0
      },
      "text/plain": [
       "Training batches on cuda:0:   0%|          | 0/17 [00:00<?, ?batch/s]"
      ]
     },
     "metadata": {},
     "output_type": "display_data"
    },
    {
     "data": {
      "application/vnd.jupyter.widget-view+json": {
       "model_id": "64b0f6edb3194e0da1d9dc9f0f3b8084",
       "version_major": 2,
       "version_minor": 0
      },
      "text/plain": [
       "Training batches on cuda:0:   0%|          | 0/17 [00:00<?, ?batch/s]"
      ]
     },
     "metadata": {},
     "output_type": "display_data"
    },
    {
     "data": {
      "application/vnd.jupyter.widget-view+json": {
       "model_id": "7954c945e264434e9f7d7a91de64de3b",
       "version_major": 2,
       "version_minor": 0
      },
      "text/plain": [
       "Training batches on cuda:0:   0%|          | 0/17 [00:00<?, ?batch/s]"
      ]
     },
     "metadata": {},
     "output_type": "display_data"
    },
    {
     "data": {
      "application/vnd.jupyter.widget-view+json": {
       "model_id": "59518edd37ad4e868880aec30fc74df9",
       "version_major": 2,
       "version_minor": 0
      },
      "text/plain": [
       "Training batches on cuda:0:   0%|          | 0/17 [00:00<?, ?batch/s]"
      ]
     },
     "metadata": {},
     "output_type": "display_data"
    },
    {
     "data": {
      "application/vnd.jupyter.widget-view+json": {
       "model_id": "e37f646e3c52430db3cb692ed1b22217",
       "version_major": 2,
       "version_minor": 0
      },
      "text/plain": [
       "Training batches on cuda:0:   0%|          | 0/17 [00:00<?, ?batch/s]"
      ]
     },
     "metadata": {},
     "output_type": "display_data"
    },
    {
     "data": {
      "application/vnd.jupyter.widget-view+json": {
       "model_id": "2725a0a1d421407ba2879310b5b10e52",
       "version_major": 2,
       "version_minor": 0
      },
      "text/plain": [
       "Training batches on cuda:0:   0%|          | 0/17 [00:00<?, ?batch/s]"
      ]
     },
     "metadata": {},
     "output_type": "display_data"
    },
    {
     "data": {
      "application/vnd.jupyter.widget-view+json": {
       "model_id": "7f3c740e86654032b1ab141d9bcbce36",
       "version_major": 2,
       "version_minor": 0
      },
      "text/plain": [
       "Training batches on cuda:0:   0%|          | 0/17 [00:00<?, ?batch/s]"
      ]
     },
     "metadata": {},
     "output_type": "display_data"
    },
    {
     "data": {
      "application/vnd.jupyter.widget-view+json": {
       "model_id": "ad78ffba40c541199099ca16f2da3ee1",
       "version_major": 2,
       "version_minor": 0
      },
      "text/plain": [
       "Training batches on cuda:0:   0%|          | 0/17 [00:00<?, ?batch/s]"
      ]
     },
     "metadata": {},
     "output_type": "display_data"
    },
    {
     "data": {
      "application/vnd.jupyter.widget-view+json": {
       "model_id": "e940398931454acca54ffbfcdfccb337",
       "version_major": 2,
       "version_minor": 0
      },
      "text/plain": [
       "Training batches on cuda:0:   0%|          | 0/17 [00:00<?, ?batch/s]"
      ]
     },
     "metadata": {},
     "output_type": "display_data"
    },
    {
     "data": {
      "application/vnd.jupyter.widget-view+json": {
       "model_id": "6829389117604127a2b459a293f913d2",
       "version_major": 2,
       "version_minor": 0
      },
      "text/plain": [
       "Training batches on cuda:0:   0%|          | 0/17 [00:00<?, ?batch/s]"
      ]
     },
     "metadata": {},
     "output_type": "display_data"
    },
    {
     "data": {
      "application/vnd.jupyter.widget-view+json": {
       "model_id": "44222d6d588f496c89f0d161a248434c",
       "version_major": 2,
       "version_minor": 0
      },
      "text/plain": [
       "Training batches on cuda:0:   0%|          | 0/17 [00:00<?, ?batch/s]"
      ]
     },
     "metadata": {},
     "output_type": "display_data"
    },
    {
     "data": {
      "application/vnd.jupyter.widget-view+json": {
       "model_id": "4bf4f5e877c3482fbe9cd7b65d20f03e",
       "version_major": 2,
       "version_minor": 0
      },
      "text/plain": [
       "Training batches on cuda:0:   0%|          | 0/17 [00:00<?, ?batch/s]"
      ]
     },
     "metadata": {},
     "output_type": "display_data"
    },
    {
     "data": {
      "application/vnd.jupyter.widget-view+json": {
       "model_id": "4f6b6dc77aab4c4e9c33f3f9fab3dd18",
       "version_major": 2,
       "version_minor": 0
      },
      "text/plain": [
       "Training batches on cuda:0:   0%|          | 0/17 [00:00<?, ?batch/s]"
      ]
     },
     "metadata": {},
     "output_type": "display_data"
    },
    {
     "data": {
      "application/vnd.jupyter.widget-view+json": {
       "model_id": "35409506d38f4dacb32a483810a3bc18",
       "version_major": 2,
       "version_minor": 0
      },
      "text/plain": [
       "Training batches on cuda:0:   0%|          | 0/17 [00:00<?, ?batch/s]"
      ]
     },
     "metadata": {},
     "output_type": "display_data"
    },
    {
     "data": {
      "application/vnd.jupyter.widget-view+json": {
       "model_id": "45fa3e8d4d564931958da3d8950740f1",
       "version_major": 2,
       "version_minor": 0
      },
      "text/plain": [
       "Training batches on cuda:0:   0%|          | 0/17 [00:00<?, ?batch/s]"
      ]
     },
     "metadata": {},
     "output_type": "display_data"
    },
    {
     "data": {
      "application/vnd.jupyter.widget-view+json": {
       "model_id": "2a33d2aab1144d3982c41d55af6a62f8",
       "version_major": 2,
       "version_minor": 0
      },
      "text/plain": [
       "Training batches on cuda:0:   0%|          | 0/17 [00:00<?, ?batch/s]"
      ]
     },
     "metadata": {},
     "output_type": "display_data"
    },
    {
     "data": {
      "application/vnd.jupyter.widget-view+json": {
       "model_id": "2f3975cbb48f4d95a52d8679a01cecd6",
       "version_major": 2,
       "version_minor": 0
      },
      "text/plain": [
       "Training batches on cuda:0:   0%|          | 0/17 [00:00<?, ?batch/s]"
      ]
     },
     "metadata": {},
     "output_type": "display_data"
    },
    {
     "data": {
      "application/vnd.jupyter.widget-view+json": {
       "model_id": "c279b497de6044e08e04a59ca0c0658a",
       "version_major": 2,
       "version_minor": 0
      },
      "text/plain": [
       "Training batches on cuda:0:   0%|          | 0/17 [00:00<?, ?batch/s]"
      ]
     },
     "metadata": {},
     "output_type": "display_data"
    },
    {
     "data": {
      "application/vnd.jupyter.widget-view+json": {
       "model_id": "dd5e282f7ff24bbe94efb149479bb2f9",
       "version_major": 2,
       "version_minor": 0
      },
      "text/plain": [
       "Training batches on cuda:0:   0%|          | 0/17 [00:00<?, ?batch/s]"
      ]
     },
     "metadata": {},
     "output_type": "display_data"
    },
    {
     "data": {
      "application/vnd.jupyter.widget-view+json": {
       "model_id": "795e7dffadba45e6ae4e9897c9be0f9e",
       "version_major": 2,
       "version_minor": 0
      },
      "text/plain": [
       "Training batches on cuda:0:   0%|          | 0/17 [00:00<?, ?batch/s]"
      ]
     },
     "metadata": {},
     "output_type": "display_data"
    },
    {
     "data": {
      "application/vnd.jupyter.widget-view+json": {
       "model_id": "3725398f86fc403294ab65918ab6938f",
       "version_major": 2,
       "version_minor": 0
      },
      "text/plain": [
       "Training batches on cuda:0:   0%|          | 0/17 [00:00<?, ?batch/s]"
      ]
     },
     "metadata": {},
     "output_type": "display_data"
    },
    {
     "data": {
      "application/vnd.jupyter.widget-view+json": {
       "model_id": "8c53ff32aea5438e98d030fe7f7ed0a3",
       "version_major": 2,
       "version_minor": 0
      },
      "text/plain": [
       "Training batches on cuda:0:   0%|          | 0/17 [00:00<?, ?batch/s]"
      ]
     },
     "metadata": {},
     "output_type": "display_data"
    },
    {
     "data": {
      "application/vnd.jupyter.widget-view+json": {
       "model_id": "1656836d40cd480bb164760bb9c535cd",
       "version_major": 2,
       "version_minor": 0
      },
      "text/plain": [
       "Training batches on cuda:0:   0%|          | 0/17 [00:00<?, ?batch/s]"
      ]
     },
     "metadata": {},
     "output_type": "display_data"
    },
    {
     "data": {
      "application/vnd.jupyter.widget-view+json": {
       "model_id": "bbde319a94a1420789d65dcbe4e564ef",
       "version_major": 2,
       "version_minor": 0
      },
      "text/plain": [
       "Training batches on cuda:0:   0%|          | 0/17 [00:00<?, ?batch/s]"
      ]
     },
     "metadata": {},
     "output_type": "display_data"
    },
    {
     "data": {
      "application/vnd.jupyter.widget-view+json": {
       "model_id": "f9ca88f09489433691883722acfef751",
       "version_major": 2,
       "version_minor": 0
      },
      "text/plain": [
       "Training batches on cuda:0:   0%|          | 0/17 [00:00<?, ?batch/s]"
      ]
     },
     "metadata": {},
     "output_type": "display_data"
    },
    {
     "data": {
      "application/vnd.jupyter.widget-view+json": {
       "model_id": "25a022ea2bda4d0d898ebce9035bc403",
       "version_major": 2,
       "version_minor": 0
      },
      "text/plain": [
       "Training batches on cuda:0:   0%|          | 0/17 [00:00<?, ?batch/s]"
      ]
     },
     "metadata": {},
     "output_type": "display_data"
    },
    {
     "data": {
      "application/vnd.jupyter.widget-view+json": {
       "model_id": "fd1c5b4a66e74b739645e23aae6329c6",
       "version_major": 2,
       "version_minor": 0
      },
      "text/plain": [
       "Training batches on cuda:0:   0%|          | 0/17 [00:00<?, ?batch/s]"
      ]
     },
     "metadata": {},
     "output_type": "display_data"
    },
    {
     "data": {
      "application/vnd.jupyter.widget-view+json": {
       "model_id": "63204beb2e0842adbbeab8d0d959f445",
       "version_major": 2,
       "version_minor": 0
      },
      "text/plain": [
       "Training batches on cuda:0:   0%|          | 0/17 [00:00<?, ?batch/s]"
      ]
     },
     "metadata": {},
     "output_type": "display_data"
    },
    {
     "data": {
      "application/vnd.jupyter.widget-view+json": {
       "model_id": "8bbe4bba49624a7d954dc1f6d60abba4",
       "version_major": 2,
       "version_minor": 0
      },
      "text/plain": [
       "Training batches on cuda:0:   0%|          | 0/17 [00:00<?, ?batch/s]"
      ]
     },
     "metadata": {},
     "output_type": "display_data"
    },
    {
     "data": {
      "application/vnd.jupyter.widget-view+json": {
       "model_id": "7a065d7823bc4b4c85d7ad5d1626c723",
       "version_major": 2,
       "version_minor": 0
      },
      "text/plain": [
       "Training batches on cuda:0:   0%|          | 0/17 [00:00<?, ?batch/s]"
      ]
     },
     "metadata": {},
     "output_type": "display_data"
    },
    {
     "data": {
      "application/vnd.jupyter.widget-view+json": {
       "model_id": "5cb1f0d1e6b04a00aac6d888197a694e",
       "version_major": 2,
       "version_minor": 0
      },
      "text/plain": [
       "Training batches on cuda:0:   0%|          | 0/17 [00:00<?, ?batch/s]"
      ]
     },
     "metadata": {},
     "output_type": "display_data"
    },
    {
     "data": {
      "application/vnd.jupyter.widget-view+json": {
       "model_id": "cf601a82647c44f6ac51a58891e25c7f",
       "version_major": 2,
       "version_minor": 0
      },
      "text/plain": [
       "Training batches on cuda:0:   0%|          | 0/17 [00:00<?, ?batch/s]"
      ]
     },
     "metadata": {},
     "output_type": "display_data"
    },
    {
     "data": {
      "application/vnd.jupyter.widget-view+json": {
       "model_id": "13b3759053384db3ab4ea87fad469eb7",
       "version_major": 2,
       "version_minor": 0
      },
      "text/plain": [
       "Training batches on cuda:0:   0%|          | 0/17 [00:00<?, ?batch/s]"
      ]
     },
     "metadata": {},
     "output_type": "display_data"
    },
    {
     "data": {
      "application/vnd.jupyter.widget-view+json": {
       "model_id": "d07408d1ca674bdd8105c9bd6354e482",
       "version_major": 2,
       "version_minor": 0
      },
      "text/plain": [
       "Training batches on cuda:0:   0%|          | 0/17 [00:00<?, ?batch/s]"
      ]
     },
     "metadata": {},
     "output_type": "display_data"
    },
    {
     "data": {
      "application/vnd.jupyter.widget-view+json": {
       "model_id": "6cf2849a0ffc4a938f0dcceede50ad77",
       "version_major": 2,
       "version_minor": 0
      },
      "text/plain": [
       "Training batches on cuda:0:   0%|          | 0/17 [00:00<?, ?batch/s]"
      ]
     },
     "metadata": {},
     "output_type": "display_data"
    },
    {
     "data": {
      "application/vnd.jupyter.widget-view+json": {
       "model_id": "b37714384978421889f50636cd481838",
       "version_major": 2,
       "version_minor": 0
      },
      "text/plain": [
       "Training batches on cuda:0:   0%|          | 0/17 [00:00<?, ?batch/s]"
      ]
     },
     "metadata": {},
     "output_type": "display_data"
    },
    {
     "data": {
      "application/vnd.jupyter.widget-view+json": {
       "model_id": "87aa98b50f144f3682894e92915d589f",
       "version_major": 2,
       "version_minor": 0
      },
      "text/plain": [
       "Training batches on cuda:0:   0%|          | 0/17 [00:00<?, ?batch/s]"
      ]
     },
     "metadata": {},
     "output_type": "display_data"
    },
    {
     "data": {
      "application/vnd.jupyter.widget-view+json": {
       "model_id": "8a912fa8f2bb46f3ac598731f179ae5f",
       "version_major": 2,
       "version_minor": 0
      },
      "text/plain": [
       "Training batches on cuda:0:   0%|          | 0/17 [00:00<?, ?batch/s]"
      ]
     },
     "metadata": {},
     "output_type": "display_data"
    },
    {
     "data": {
      "application/vnd.jupyter.widget-view+json": {
       "model_id": "4379ae943177485fbfaad15a9554d780",
       "version_major": 2,
       "version_minor": 0
      },
      "text/plain": [
       "Training batches on cuda:0:   0%|          | 0/17 [00:00<?, ?batch/s]"
      ]
     },
     "metadata": {},
     "output_type": "display_data"
    },
    {
     "data": {
      "application/vnd.jupyter.widget-view+json": {
       "model_id": "95dbb2f4aadc4ab49bac2e4dca614f14",
       "version_major": 2,
       "version_minor": 0
      },
      "text/plain": [
       "Training batches on cuda:0:   0%|          | 0/17 [00:00<?, ?batch/s]"
      ]
     },
     "metadata": {},
     "output_type": "display_data"
    },
    {
     "data": {
      "application/vnd.jupyter.widget-view+json": {
       "model_id": "f41b415f97844ddb8a73a611e8041747",
       "version_major": 2,
       "version_minor": 0
      },
      "text/plain": [
       "Training batches on cuda:0:   0%|          | 0/17 [00:00<?, ?batch/s]"
      ]
     },
     "metadata": {},
     "output_type": "display_data"
    },
    {
     "data": {
      "application/vnd.jupyter.widget-view+json": {
       "model_id": "5a45f0dced4d4f9d9614970ce876db25",
       "version_major": 2,
       "version_minor": 0
      },
      "text/plain": [
       "Training batches on cuda:0:   0%|          | 0/17 [00:00<?, ?batch/s]"
      ]
     },
     "metadata": {},
     "output_type": "display_data"
    },
    {
     "data": {
      "application/vnd.jupyter.widget-view+json": {
       "model_id": "1e422e229a094c1e9d5fcb469e4be8c3",
       "version_major": 2,
       "version_minor": 0
      },
      "text/plain": [
       "Training batches on cuda:0:   0%|          | 0/17 [00:00<?, ?batch/s]"
      ]
     },
     "metadata": {},
     "output_type": "display_data"
    },
    {
     "data": {
      "application/vnd.jupyter.widget-view+json": {
       "model_id": "4a786cb7e4064c4a8c3e6d7b6c772edf",
       "version_major": 2,
       "version_minor": 0
      },
      "text/plain": [
       "Training batches on cuda:0:   0%|          | 0/17 [00:00<?, ?batch/s]"
      ]
     },
     "metadata": {},
     "output_type": "display_data"
    },
    {
     "data": {
      "application/vnd.jupyter.widget-view+json": {
       "model_id": "3ad8c521a91a47b5bca6c0a88bf95a4b",
       "version_major": 2,
       "version_minor": 0
      },
      "text/plain": [
       "Training batches on cuda:0:   0%|          | 0/17 [00:00<?, ?batch/s]"
      ]
     },
     "metadata": {},
     "output_type": "display_data"
    },
    {
     "data": {
      "application/vnd.jupyter.widget-view+json": {
       "model_id": "bcd18a0fd1334b73a47b38dddf2b7d49",
       "version_major": 2,
       "version_minor": 0
      },
      "text/plain": [
       "Training batches on cuda:0:   0%|          | 0/17 [00:00<?, ?batch/s]"
      ]
     },
     "metadata": {},
     "output_type": "display_data"
    },
    {
     "data": {
      "application/vnd.jupyter.widget-view+json": {
       "model_id": "39dcc3d0da734d0e90bc9a5453f8330c",
       "version_major": 2,
       "version_minor": 0
      },
      "text/plain": [
       "Training batches on cuda:0:   0%|          | 0/17 [00:00<?, ?batch/s]"
      ]
     },
     "metadata": {},
     "output_type": "display_data"
    },
    {
     "data": {
      "application/vnd.jupyter.widget-view+json": {
       "model_id": "7e0e0b30f20e4350ba4e87136b3046c5",
       "version_major": 2,
       "version_minor": 0
      },
      "text/plain": [
       "Training batches on cuda:0:   0%|          | 0/17 [00:00<?, ?batch/s]"
      ]
     },
     "metadata": {},
     "output_type": "display_data"
    },
    {
     "data": {
      "application/vnd.jupyter.widget-view+json": {
       "model_id": "70c4428bb7bf4ea2806d47258893495e",
       "version_major": 2,
       "version_minor": 0
      },
      "text/plain": [
       "Training batches on cuda:0:   0%|          | 0/17 [00:00<?, ?batch/s]"
      ]
     },
     "metadata": {},
     "output_type": "display_data"
    },
    {
     "data": {
      "application/vnd.jupyter.widget-view+json": {
       "model_id": "fd3b3b3702cf4beda68f0d2df2502016",
       "version_major": 2,
       "version_minor": 0
      },
      "text/plain": [
       "Training batches on cuda:0:   0%|          | 0/17 [00:00<?, ?batch/s]"
      ]
     },
     "metadata": {},
     "output_type": "display_data"
    },
    {
     "data": {
      "application/vnd.jupyter.widget-view+json": {
       "model_id": "ce7ee6da8c5d48ffa1bbf0d65c314a37",
       "version_major": 2,
       "version_minor": 0
      },
      "text/plain": [
       "Training batches on cuda:0:   0%|          | 0/17 [00:00<?, ?batch/s]"
      ]
     },
     "metadata": {},
     "output_type": "display_data"
    },
    {
     "data": {
      "application/vnd.jupyter.widget-view+json": {
       "model_id": "4d6a8cfb007748f49fbf4eb3e8652149",
       "version_major": 2,
       "version_minor": 0
      },
      "text/plain": [
       "Training batches on cuda:0:   0%|          | 0/17 [00:00<?, ?batch/s]"
      ]
     },
     "metadata": {},
     "output_type": "display_data"
    },
    {
     "data": {
      "application/vnd.jupyter.widget-view+json": {
       "model_id": "f31741b3a9534ade9c1d95ddcfb9b522",
       "version_major": 2,
       "version_minor": 0
      },
      "text/plain": [
       "Training batches on cuda:0:   0%|          | 0/17 [00:00<?, ?batch/s]"
      ]
     },
     "metadata": {},
     "output_type": "display_data"
    },
    {
     "data": {
      "application/vnd.jupyter.widget-view+json": {
       "model_id": "2e34c4b019b14523be25ebc77d6a0665",
       "version_major": 2,
       "version_minor": 0
      },
      "text/plain": [
       "Training batches on cuda:0:   0%|          | 0/17 [00:00<?, ?batch/s]"
      ]
     },
     "metadata": {},
     "output_type": "display_data"
    },
    {
     "data": {
      "application/vnd.jupyter.widget-view+json": {
       "model_id": "9fdca0c2e59840a8ae104030526267a9",
       "version_major": 2,
       "version_minor": 0
      },
      "text/plain": [
       "Training batches on cuda:0:   0%|          | 0/17 [00:00<?, ?batch/s]"
      ]
     },
     "metadata": {},
     "output_type": "display_data"
    },
    {
     "data": {
      "application/vnd.jupyter.widget-view+json": {
       "model_id": "25d0e4a2c99b45479ea321df7b164fa3",
       "version_major": 2,
       "version_minor": 0
      },
      "text/plain": [
       "Training batches on cuda:0:   0%|          | 0/17 [00:00<?, ?batch/s]"
      ]
     },
     "metadata": {},
     "output_type": "display_data"
    },
    {
     "data": {
      "application/vnd.jupyter.widget-view+json": {
       "model_id": "ebeef93aa45c47ddb7a9e8e3bd3fcbff",
       "version_major": 2,
       "version_minor": 0
      },
      "text/plain": [
       "Training batches on cuda:0:   0%|          | 0/17 [00:00<?, ?batch/s]"
      ]
     },
     "metadata": {},
     "output_type": "display_data"
    },
    {
     "data": {
      "application/vnd.jupyter.widget-view+json": {
       "model_id": "108b3237ba5a40cb9f42484080cd8954",
       "version_major": 2,
       "version_minor": 0
      },
      "text/plain": [
       "Training batches on cuda:0:   0%|          | 0/17 [00:00<?, ?batch/s]"
      ]
     },
     "metadata": {},
     "output_type": "display_data"
    },
    {
     "data": {
      "application/vnd.jupyter.widget-view+json": {
       "model_id": "8a5334e350894d8989fcadfeddd654fb",
       "version_major": 2,
       "version_minor": 0
      },
      "text/plain": [
       "Training batches on cuda:0:   0%|          | 0/17 [00:00<?, ?batch/s]"
      ]
     },
     "metadata": {},
     "output_type": "display_data"
    },
    {
     "data": {
      "application/vnd.jupyter.widget-view+json": {
       "model_id": "7aeb11788c2d4845aecb2b82ffc8528f",
       "version_major": 2,
       "version_minor": 0
      },
      "text/plain": [
       "Training batches on cuda:0:   0%|          | 0/17 [00:00<?, ?batch/s]"
      ]
     },
     "metadata": {},
     "output_type": "display_data"
    },
    {
     "data": {
      "application/vnd.jupyter.widget-view+json": {
       "model_id": "36685be2aee04a2c9fe1510b495f7856",
       "version_major": 2,
       "version_minor": 0
      },
      "text/plain": [
       "Training batches on cuda:0:   0%|          | 0/17 [00:00<?, ?batch/s]"
      ]
     },
     "metadata": {},
     "output_type": "display_data"
    },
    {
     "data": {
      "application/vnd.jupyter.widget-view+json": {
       "model_id": "d7a18ee696fa428eb5894fe210e7e794",
       "version_major": 2,
       "version_minor": 0
      },
      "text/plain": [
       "Training batches on cuda:0:   0%|          | 0/17 [00:00<?, ?batch/s]"
      ]
     },
     "metadata": {},
     "output_type": "display_data"
    },
    {
     "data": {
      "application/vnd.jupyter.widget-view+json": {
       "model_id": "2cfb285432e1451996a8d6d4f8174ebc",
       "version_major": 2,
       "version_minor": 0
      },
      "text/plain": [
       "Training batches on cuda:0:   0%|          | 0/17 [00:00<?, ?batch/s]"
      ]
     },
     "metadata": {},
     "output_type": "display_data"
    },
    {
     "data": {
      "application/vnd.jupyter.widget-view+json": {
       "model_id": "bd1e4bc3a51346bf8073700082915cab",
       "version_major": 2,
       "version_minor": 0
      },
      "text/plain": [
       "Training batches on cuda:0:   0%|          | 0/17 [00:00<?, ?batch/s]"
      ]
     },
     "metadata": {},
     "output_type": "display_data"
    },
    {
     "data": {
      "application/vnd.jupyter.widget-view+json": {
       "model_id": "4197e3d99b1e4300aa03d6f56e58c0cb",
       "version_major": 2,
       "version_minor": 0
      },
      "text/plain": [
       "Training batches on cuda:0:   0%|          | 0/17 [00:00<?, ?batch/s]"
      ]
     },
     "metadata": {},
     "output_type": "display_data"
    },
    {
     "data": {
      "application/vnd.jupyter.widget-view+json": {
       "model_id": "f2316c724a964c4f933d79e47a3aa25c",
       "version_major": 2,
       "version_minor": 0
      },
      "text/plain": [
       "Training batches on cuda:0:   0%|          | 0/17 [00:00<?, ?batch/s]"
      ]
     },
     "metadata": {},
     "output_type": "display_data"
    },
    {
     "data": {
      "application/vnd.jupyter.widget-view+json": {
       "model_id": "e299f938299c41c8b6bec86b90971fb3",
       "version_major": 2,
       "version_minor": 0
      },
      "text/plain": [
       "Training batches on cuda:0:   0%|          | 0/17 [00:00<?, ?batch/s]"
      ]
     },
     "metadata": {},
     "output_type": "display_data"
    },
    {
     "data": {
      "application/vnd.jupyter.widget-view+json": {
       "model_id": "46d7df7a29eb4922a2eebb32eecae650",
       "version_major": 2,
       "version_minor": 0
      },
      "text/plain": [
       "Training batches on cuda:0:   0%|          | 0/17 [00:00<?, ?batch/s]"
      ]
     },
     "metadata": {},
     "output_type": "display_data"
    },
    {
     "data": {
      "application/vnd.jupyter.widget-view+json": {
       "model_id": "526af41c362f44c1915ec22a69287df7",
       "version_major": 2,
       "version_minor": 0
      },
      "text/plain": [
       "Training batches on cuda:0:   0%|          | 0/17 [00:00<?, ?batch/s]"
      ]
     },
     "metadata": {},
     "output_type": "display_data"
    },
    {
     "data": {
      "application/vnd.jupyter.widget-view+json": {
       "model_id": "87dd616f3c4d433c8f315f0694ecac4c",
       "version_major": 2,
       "version_minor": 0
      },
      "text/plain": [
       "Training batches on cuda:0:   0%|          | 0/17 [00:00<?, ?batch/s]"
      ]
     },
     "metadata": {},
     "output_type": "display_data"
    },
    {
     "data": {
      "application/vnd.jupyter.widget-view+json": {
       "model_id": "42374f74993740fdabfb304b58f5550f",
       "version_major": 2,
       "version_minor": 0
      },
      "text/plain": [
       "Training batches on cuda:0:   0%|          | 0/17 [00:00<?, ?batch/s]"
      ]
     },
     "metadata": {},
     "output_type": "display_data"
    },
    {
     "data": {
      "application/vnd.jupyter.widget-view+json": {
       "model_id": "53d19aebae4446468d27911de10b9afc",
       "version_major": 2,
       "version_minor": 0
      },
      "text/plain": [
       "Training batches on cuda:0:   0%|          | 0/17 [00:00<?, ?batch/s]"
      ]
     },
     "metadata": {},
     "output_type": "display_data"
    },
    {
     "data": {
      "application/vnd.jupyter.widget-view+json": {
       "model_id": "b28f0e039dd14825ab3b157d3fd810ef",
       "version_major": 2,
       "version_minor": 0
      },
      "text/plain": [
       "Training batches on cuda:0:   0%|          | 0/17 [00:00<?, ?batch/s]"
      ]
     },
     "metadata": {},
     "output_type": "display_data"
    },
    {
     "data": {
      "application/vnd.jupyter.widget-view+json": {
       "model_id": "55ac39075b094e1bbfeee0e503967f69",
       "version_major": 2,
       "version_minor": 0
      },
      "text/plain": [
       "Training batches on cuda:0:   0%|          | 0/17 [00:00<?, ?batch/s]"
      ]
     },
     "metadata": {},
     "output_type": "display_data"
    },
    {
     "data": {
      "application/vnd.jupyter.widget-view+json": {
       "model_id": "b429d0957ab347a5b0650fc20f007b43",
       "version_major": 2,
       "version_minor": 0
      },
      "text/plain": [
       "Training batches on cuda:0:   0%|          | 0/17 [00:00<?, ?batch/s]"
      ]
     },
     "metadata": {},
     "output_type": "display_data"
    },
    {
     "data": {
      "application/vnd.jupyter.widget-view+json": {
       "model_id": "b5f55eceba6e46ceb656eb685ec53dd6",
       "version_major": 2,
       "version_minor": 0
      },
      "text/plain": [
       "Training batches on cuda:0:   0%|          | 0/17 [00:00<?, ?batch/s]"
      ]
     },
     "metadata": {},
     "output_type": "display_data"
    },
    {
     "data": {
      "application/vnd.jupyter.widget-view+json": {
       "model_id": "433474adf7994ec49728f3f1b87f5e53",
       "version_major": 2,
       "version_minor": 0
      },
      "text/plain": [
       "Training batches on cuda:0:   0%|          | 0/17 [00:00<?, ?batch/s]"
      ]
     },
     "metadata": {},
     "output_type": "display_data"
    },
    {
     "data": {
      "application/vnd.jupyter.widget-view+json": {
       "model_id": "667a4a9c9c1644578c8c653951ac6fa6",
       "version_major": 2,
       "version_minor": 0
      },
      "text/plain": [
       "Training batches on cuda:0:   0%|          | 0/17 [00:00<?, ?batch/s]"
      ]
     },
     "metadata": {},
     "output_type": "display_data"
    },
    {
     "data": {
      "application/vnd.jupyter.widget-view+json": {
       "model_id": "ae00592d2b9149fd86a6b71680649147",
       "version_major": 2,
       "version_minor": 0
      },
      "text/plain": [
       "Training batches on cuda:0:   0%|          | 0/17 [00:00<?, ?batch/s]"
      ]
     },
     "metadata": {},
     "output_type": "display_data"
    },
    {
     "data": {
      "application/vnd.jupyter.widget-view+json": {
       "model_id": "d15b93913261428f942befada9895550",
       "version_major": 2,
       "version_minor": 0
      },
      "text/plain": [
       "Training batches on cuda:0:   0%|          | 0/17 [00:00<?, ?batch/s]"
      ]
     },
     "metadata": {},
     "output_type": "display_data"
    },
    {
     "data": {
      "application/vnd.jupyter.widget-view+json": {
       "model_id": "aa8d82085fd944b58e67e4c2c4c0ce94",
       "version_major": 2,
       "version_minor": 0
      },
      "text/plain": [
       "Training batches on cuda:0:   0%|          | 0/17 [00:00<?, ?batch/s]"
      ]
     },
     "metadata": {},
     "output_type": "display_data"
    },
    {
     "data": {
      "application/vnd.jupyter.widget-view+json": {
       "model_id": "d9c501b675c94c57a3a1a459045c8d6b",
       "version_major": 2,
       "version_minor": 0
      },
      "text/plain": [
       "Training batches on cuda:0:   0%|          | 0/17 [00:00<?, ?batch/s]"
      ]
     },
     "metadata": {},
     "output_type": "display_data"
    },
    {
     "data": {
      "application/vnd.jupyter.widget-view+json": {
       "model_id": "36778ffb739c4a7abec5f0868dd7ab58",
       "version_major": 2,
       "version_minor": 0
      },
      "text/plain": [
       "Training batches on cuda:0:   0%|          | 0/17 [00:00<?, ?batch/s]"
      ]
     },
     "metadata": {},
     "output_type": "display_data"
    },
    {
     "data": {
      "application/vnd.jupyter.widget-view+json": {
       "model_id": "f61774ecb07b49f682d3810f7013418a",
       "version_major": 2,
       "version_minor": 0
      },
      "text/plain": [
       "Training batches on cuda:0:   0%|          | 0/17 [00:00<?, ?batch/s]"
      ]
     },
     "metadata": {},
     "output_type": "display_data"
    },
    {
     "data": {
      "application/vnd.jupyter.widget-view+json": {
       "model_id": "5e08e76efe06462396378ec2266124ac",
       "version_major": 2,
       "version_minor": 0
      },
      "text/plain": [
       "Training batches on cuda:0:   0%|          | 0/17 [00:00<?, ?batch/s]"
      ]
     },
     "metadata": {},
     "output_type": "display_data"
    },
    {
     "data": {
      "application/vnd.jupyter.widget-view+json": {
       "model_id": "58b47626abbe45b5b13920db1afca60d",
       "version_major": 2,
       "version_minor": 0
      },
      "text/plain": [
       "Training batches on cuda:0:   0%|          | 0/17 [00:00<?, ?batch/s]"
      ]
     },
     "metadata": {},
     "output_type": "display_data"
    },
    {
     "data": {
      "application/vnd.jupyter.widget-view+json": {
       "model_id": "bb664cf3038e443b8f9b143b9e5c46e4",
       "version_major": 2,
       "version_minor": 0
      },
      "text/plain": [
       "Training batches on cuda:0:   0%|          | 0/17 [00:00<?, ?batch/s]"
      ]
     },
     "metadata": {},
     "output_type": "display_data"
    },
    {
     "data": {
      "application/vnd.jupyter.widget-view+json": {
       "model_id": "7e883ef1f1804a1994423fac0734600d",
       "version_major": 2,
       "version_minor": 0
      },
      "text/plain": [
       "Training batches on cuda:0:   0%|          | 0/17 [00:00<?, ?batch/s]"
      ]
     },
     "metadata": {},
     "output_type": "display_data"
    },
    {
     "data": {
      "application/vnd.jupyter.widget-view+json": {
       "model_id": "5deb28b5e4764309acafbeb0a4e27b56",
       "version_major": 2,
       "version_minor": 0
      },
      "text/plain": [
       "Training batches on cuda:0:   0%|          | 0/17 [00:00<?, ?batch/s]"
      ]
     },
     "metadata": {},
     "output_type": "display_data"
    },
    {
     "data": {
      "application/vnd.jupyter.widget-view+json": {
       "model_id": "adb997849aba4d02bfc1bff54b53f5ba",
       "version_major": 2,
       "version_minor": 0
      },
      "text/plain": [
       "Training batches on cuda:0:   0%|          | 0/17 [00:00<?, ?batch/s]"
      ]
     },
     "metadata": {},
     "output_type": "display_data"
    },
    {
     "data": {
      "application/vnd.jupyter.widget-view+json": {
       "model_id": "31eacd481dc441c9bab1cda393ea2ae3",
       "version_major": 2,
       "version_minor": 0
      },
      "text/plain": [
       "Training batches on cuda:0:   0%|          | 0/17 [00:00<?, ?batch/s]"
      ]
     },
     "metadata": {},
     "output_type": "display_data"
    },
    {
     "data": {
      "application/vnd.jupyter.widget-view+json": {
       "model_id": "e9188eaabc05424e82e2cffaab67ca06",
       "version_major": 2,
       "version_minor": 0
      },
      "text/plain": [
       "Training batches on cuda:0:   0%|          | 0/17 [00:00<?, ?batch/s]"
      ]
     },
     "metadata": {},
     "output_type": "display_data"
    },
    {
     "data": {
      "application/vnd.jupyter.widget-view+json": {
       "model_id": "f42cd20796fc4b9298d11b8350f61dd6",
       "version_major": 2,
       "version_minor": 0
      },
      "text/plain": [
       "Training batches on cuda:0:   0%|          | 0/17 [00:00<?, ?batch/s]"
      ]
     },
     "metadata": {},
     "output_type": "display_data"
    },
    {
     "data": {
      "application/vnd.jupyter.widget-view+json": {
       "model_id": "4d66b6fda10c445a875820af2ca9b6eb",
       "version_major": 2,
       "version_minor": 0
      },
      "text/plain": [
       "Training batches on cuda:0:   0%|          | 0/17 [00:00<?, ?batch/s]"
      ]
     },
     "metadata": {},
     "output_type": "display_data"
    },
    {
     "data": {
      "application/vnd.jupyter.widget-view+json": {
       "model_id": "af93cef75d124a0aa41781cad23d52ac",
       "version_major": 2,
       "version_minor": 0
      },
      "text/plain": [
       "Training batches on cuda:0:   0%|          | 0/17 [00:00<?, ?batch/s]"
      ]
     },
     "metadata": {},
     "output_type": "display_data"
    },
    {
     "data": {
      "application/vnd.jupyter.widget-view+json": {
       "model_id": "6d970e1753de46578547752c9c81f7da",
       "version_major": 2,
       "version_minor": 0
      },
      "text/plain": [
       "Training batches on cuda:0:   0%|          | 0/17 [00:00<?, ?batch/s]"
      ]
     },
     "metadata": {},
     "output_type": "display_data"
    },
    {
     "data": {
      "application/vnd.jupyter.widget-view+json": {
       "model_id": "7396c53525f04b99b5ebe9d72336f993",
       "version_major": 2,
       "version_minor": 0
      },
      "text/plain": [
       "Training batches on cuda:0:   0%|          | 0/17 [00:00<?, ?batch/s]"
      ]
     },
     "metadata": {},
     "output_type": "display_data"
    },
    {
     "data": {
      "application/vnd.jupyter.widget-view+json": {
       "model_id": "1a4fa5a7f09f404ab1acfdb373f5780f",
       "version_major": 2,
       "version_minor": 0
      },
      "text/plain": [
       "Training batches on cuda:0:   0%|          | 0/17 [00:00<?, ?batch/s]"
      ]
     },
     "metadata": {},
     "output_type": "display_data"
    },
    {
     "data": {
      "application/vnd.jupyter.widget-view+json": {
       "model_id": "f84e88cec23f481c980cbed8c46aaceb",
       "version_major": 2,
       "version_minor": 0
      },
      "text/plain": [
       "Training batches on cuda:0:   0%|          | 0/17 [00:00<?, ?batch/s]"
      ]
     },
     "metadata": {},
     "output_type": "display_data"
    },
    {
     "data": {
      "application/vnd.jupyter.widget-view+json": {
       "model_id": "8814d294003b4971b42fc9f1a261e98d",
       "version_major": 2,
       "version_minor": 0
      },
      "text/plain": [
       "Training batches on cuda:0:   0%|          | 0/17 [00:00<?, ?batch/s]"
      ]
     },
     "metadata": {},
     "output_type": "display_data"
    },
    {
     "data": {
      "application/vnd.jupyter.widget-view+json": {
       "model_id": "fd78d567ee9045cb9b948cea740ef732",
       "version_major": 2,
       "version_minor": 0
      },
      "text/plain": [
       "Training batches on cuda:0:   0%|          | 0/17 [00:00<?, ?batch/s]"
      ]
     },
     "metadata": {},
     "output_type": "display_data"
    },
    {
     "data": {
      "application/vnd.jupyter.widget-view+json": {
       "model_id": "198714f911c2476fb0eb10df11f3193a",
       "version_major": 2,
       "version_minor": 0
      },
      "text/plain": [
       "Training batches on cuda:0:   0%|          | 0/17 [00:00<?, ?batch/s]"
      ]
     },
     "metadata": {},
     "output_type": "display_data"
    },
    {
     "data": {
      "application/vnd.jupyter.widget-view+json": {
       "model_id": "23227f5416a1411a8228d4b76cc5bc46",
       "version_major": 2,
       "version_minor": 0
      },
      "text/plain": [
       "Training batches on cuda:0:   0%|          | 0/17 [00:00<?, ?batch/s]"
      ]
     },
     "metadata": {},
     "output_type": "display_data"
    },
    {
     "data": {
      "application/vnd.jupyter.widget-view+json": {
       "model_id": "aba53041228d4590a60f84ff8d244d17",
       "version_major": 2,
       "version_minor": 0
      },
      "text/plain": [
       "Training batches on cuda:0:   0%|          | 0/17 [00:00<?, ?batch/s]"
      ]
     },
     "metadata": {},
     "output_type": "display_data"
    },
    {
     "data": {
      "application/vnd.jupyter.widget-view+json": {
       "model_id": "cc92c2e963584f0aaae9116c5242b310",
       "version_major": 2,
       "version_minor": 0
      },
      "text/plain": [
       "Training batches on cuda:0:   0%|          | 0/17 [00:00<?, ?batch/s]"
      ]
     },
     "metadata": {},
     "output_type": "display_data"
    },
    {
     "data": {
      "application/vnd.jupyter.widget-view+json": {
       "model_id": "96709e0951d7408eb2763af58750cd45",
       "version_major": 2,
       "version_minor": 0
      },
      "text/plain": [
       "Training batches on cuda:0:   0%|          | 0/17 [00:00<?, ?batch/s]"
      ]
     },
     "metadata": {},
     "output_type": "display_data"
    },
    {
     "data": {
      "application/vnd.jupyter.widget-view+json": {
       "model_id": "2c5e38f5a48d4c11b9b4d3bc89a729d5",
       "version_major": 2,
       "version_minor": 0
      },
      "text/plain": [
       "Training batches on cuda:0:   0%|          | 0/17 [00:00<?, ?batch/s]"
      ]
     },
     "metadata": {},
     "output_type": "display_data"
    },
    {
     "data": {
      "application/vnd.jupyter.widget-view+json": {
       "model_id": "8198640a138c4ef5b81de9509608c3c5",
       "version_major": 2,
       "version_minor": 0
      },
      "text/plain": [
       "Training batches on cuda:0:   0%|          | 0/17 [00:00<?, ?batch/s]"
      ]
     },
     "metadata": {},
     "output_type": "display_data"
    },
    {
     "data": {
      "application/vnd.jupyter.widget-view+json": {
       "model_id": "2dd8afe5d05942b7aeede25c224ad57e",
       "version_major": 2,
       "version_minor": 0
      },
      "text/plain": [
       "Training batches on cuda:0:   0%|          | 0/17 [00:00<?, ?batch/s]"
      ]
     },
     "metadata": {},
     "output_type": "display_data"
    },
    {
     "data": {
      "application/vnd.jupyter.widget-view+json": {
       "model_id": "0ce1570eddb5434b8f5ac877ae3ca075",
       "version_major": 2,
       "version_minor": 0
      },
      "text/plain": [
       "Training batches on cuda:0:   0%|          | 0/17 [00:00<?, ?batch/s]"
      ]
     },
     "metadata": {},
     "output_type": "display_data"
    },
    {
     "data": {
      "application/vnd.jupyter.widget-view+json": {
       "model_id": "cf3635914f114c749a5feb40e521ef4c",
       "version_major": 2,
       "version_minor": 0
      },
      "text/plain": [
       "Training batches on cuda:0:   0%|          | 0/17 [00:00<?, ?batch/s]"
      ]
     },
     "metadata": {},
     "output_type": "display_data"
    },
    {
     "data": {
      "application/vnd.jupyter.widget-view+json": {
       "model_id": "96a253a9efa341c4a8620fbccd2dae25",
       "version_major": 2,
       "version_minor": 0
      },
      "text/plain": [
       "Training batches on cuda:0:   0%|          | 0/17 [00:00<?, ?batch/s]"
      ]
     },
     "metadata": {},
     "output_type": "display_data"
    },
    {
     "data": {
      "application/vnd.jupyter.widget-view+json": {
       "model_id": "9bbbbb1e015541129d755ec6f7c50ccb",
       "version_major": 2,
       "version_minor": 0
      },
      "text/plain": [
       "Training batches on cuda:0:   0%|          | 0/17 [00:00<?, ?batch/s]"
      ]
     },
     "metadata": {},
     "output_type": "display_data"
    },
    {
     "data": {
      "application/vnd.jupyter.widget-view+json": {
       "model_id": "a1de9b30a45145cc9c14bfb648954cd9",
       "version_major": 2,
       "version_minor": 0
      },
      "text/plain": [
       "Training batches on cuda:0:   0%|          | 0/17 [00:00<?, ?batch/s]"
      ]
     },
     "metadata": {},
     "output_type": "display_data"
    },
    {
     "data": {
      "application/vnd.jupyter.widget-view+json": {
       "model_id": "8c092b9ad0a34e67b9d9d109bfad368d",
       "version_major": 2,
       "version_minor": 0
      },
      "text/plain": [
       "Training batches on cuda:0:   0%|          | 0/17 [00:00<?, ?batch/s]"
      ]
     },
     "metadata": {},
     "output_type": "display_data"
    },
    {
     "data": {
      "application/vnd.jupyter.widget-view+json": {
       "model_id": "487a152a3cab455697415bdbfb102416",
       "version_major": 2,
       "version_minor": 0
      },
      "text/plain": [
       "Training batches on cuda:0:   0%|          | 0/17 [00:00<?, ?batch/s]"
      ]
     },
     "metadata": {},
     "output_type": "display_data"
    },
    {
     "data": {
      "application/vnd.jupyter.widget-view+json": {
       "model_id": "0d76913864cc47c2a5a9e4f446852fb3",
       "version_major": 2,
       "version_minor": 0
      },
      "text/plain": [
       "Training batches on cuda:0:   0%|          | 0/17 [00:00<?, ?batch/s]"
      ]
     },
     "metadata": {},
     "output_type": "display_data"
    },
    {
     "data": {
      "application/vnd.jupyter.widget-view+json": {
       "model_id": "2c76d21d99b64ff39cbf038836e6ba71",
       "version_major": 2,
       "version_minor": 0
      },
      "text/plain": [
       "Training batches on cuda:0:   0%|          | 0/17 [00:00<?, ?batch/s]"
      ]
     },
     "metadata": {},
     "output_type": "display_data"
    },
    {
     "data": {
      "application/vnd.jupyter.widget-view+json": {
       "model_id": "b3ea1fa34db2427eaf635422b44fb3ce",
       "version_major": 2,
       "version_minor": 0
      },
      "text/plain": [
       "Training batches on cuda:0:   0%|          | 0/17 [00:00<?, ?batch/s]"
      ]
     },
     "metadata": {},
     "output_type": "display_data"
    },
    {
     "data": {
      "application/vnd.jupyter.widget-view+json": {
       "model_id": "fdf26e9efc864c6390ccb995dfd09079",
       "version_major": 2,
       "version_minor": 0
      },
      "text/plain": [
       "Training batches on cuda:0:   0%|          | 0/17 [00:00<?, ?batch/s]"
      ]
     },
     "metadata": {},
     "output_type": "display_data"
    },
    {
     "data": {
      "application/vnd.jupyter.widget-view+json": {
       "model_id": "950bfcd53e1e4c889c237e6135975113",
       "version_major": 2,
       "version_minor": 0
      },
      "text/plain": [
       "Training batches on cuda:0:   0%|          | 0/17 [00:00<?, ?batch/s]"
      ]
     },
     "metadata": {},
     "output_type": "display_data"
    },
    {
     "data": {
      "application/vnd.jupyter.widget-view+json": {
       "model_id": "7c8e6df049a84edab6506c96d36683ee",
       "version_major": 2,
       "version_minor": 0
      },
      "text/plain": [
       "Training batches on cuda:0:   0%|          | 0/17 [00:00<?, ?batch/s]"
      ]
     },
     "metadata": {},
     "output_type": "display_data"
    },
    {
     "data": {
      "application/vnd.jupyter.widget-view+json": {
       "model_id": "1e85bd1e2ef941479ff728042a1d076c",
       "version_major": 2,
       "version_minor": 0
      },
      "text/plain": [
       "Training batches on cuda:0:   0%|          | 0/17 [00:00<?, ?batch/s]"
      ]
     },
     "metadata": {},
     "output_type": "display_data"
    },
    {
     "data": {
      "application/vnd.jupyter.widget-view+json": {
       "model_id": "6c8cc18680c542bcacb0a70514573a10",
       "version_major": 2,
       "version_minor": 0
      },
      "text/plain": [
       "Training batches on cuda:0:   0%|          | 0/17 [00:00<?, ?batch/s]"
      ]
     },
     "metadata": {},
     "output_type": "display_data"
    },
    {
     "data": {
      "application/vnd.jupyter.widget-view+json": {
       "model_id": "900173e7f11b4ac49d9a660b6cb48c69",
       "version_major": 2,
       "version_minor": 0
      },
      "text/plain": [
       "Training batches on cuda:0:   0%|          | 0/17 [00:00<?, ?batch/s]"
      ]
     },
     "metadata": {},
     "output_type": "display_data"
    },
    {
     "data": {
      "application/vnd.jupyter.widget-view+json": {
       "model_id": "86cf78a9863c413c883e26aedec2dabc",
       "version_major": 2,
       "version_minor": 0
      },
      "text/plain": [
       "Training batches on cuda:0:   0%|          | 0/17 [00:00<?, ?batch/s]"
      ]
     },
     "metadata": {},
     "output_type": "display_data"
    },
    {
     "data": {
      "application/vnd.jupyter.widget-view+json": {
       "model_id": "6f6325c78d4a45f8b1c737f99846fa0c",
       "version_major": 2,
       "version_minor": 0
      },
      "text/plain": [
       "Training batches on cuda:0:   0%|          | 0/17 [00:00<?, ?batch/s]"
      ]
     },
     "metadata": {},
     "output_type": "display_data"
    },
    {
     "data": {
      "application/vnd.jupyter.widget-view+json": {
       "model_id": "f64dfc4d0e954137b932709e844cfe3c",
       "version_major": 2,
       "version_minor": 0
      },
      "text/plain": [
       "Training batches on cuda:0:   0%|          | 0/17 [00:00<?, ?batch/s]"
      ]
     },
     "metadata": {},
     "output_type": "display_data"
    },
    {
     "data": {
      "application/vnd.jupyter.widget-view+json": {
       "model_id": "36715935282c45c09491b453be09cf3c",
       "version_major": 2,
       "version_minor": 0
      },
      "text/plain": [
       "Training batches on cuda:0:   0%|          | 0/17 [00:00<?, ?batch/s]"
      ]
     },
     "metadata": {},
     "output_type": "display_data"
    },
    {
     "data": {
      "application/vnd.jupyter.widget-view+json": {
       "model_id": "1b7f107263874315b4646f5a02769ab2",
       "version_major": 2,
       "version_minor": 0
      },
      "text/plain": [
       "Training batches on cuda:0:   0%|          | 0/17 [00:00<?, ?batch/s]"
      ]
     },
     "metadata": {},
     "output_type": "display_data"
    },
    {
     "data": {
      "application/vnd.jupyter.widget-view+json": {
       "model_id": "407157a0df474d88ad128af37e36d0b2",
       "version_major": 2,
       "version_minor": 0
      },
      "text/plain": [
       "Training batches on cuda:0:   0%|          | 0/17 [00:00<?, ?batch/s]"
      ]
     },
     "metadata": {},
     "output_type": "display_data"
    },
    {
     "data": {
      "application/vnd.jupyter.widget-view+json": {
       "model_id": "444825406acd4bee9c0a452497c6bc1f",
       "version_major": 2,
       "version_minor": 0
      },
      "text/plain": [
       "Training batches on cuda:0:   0%|          | 0/17 [00:00<?, ?batch/s]"
      ]
     },
     "metadata": {},
     "output_type": "display_data"
    },
    {
     "data": {
      "application/vnd.jupyter.widget-view+json": {
       "model_id": "25747b7cf4c14aa2bc6969fbb61e250d",
       "version_major": 2,
       "version_minor": 0
      },
      "text/plain": [
       "Training batches on cuda:0:   0%|          | 0/17 [00:00<?, ?batch/s]"
      ]
     },
     "metadata": {},
     "output_type": "display_data"
    },
    {
     "data": {
      "application/vnd.jupyter.widget-view+json": {
       "model_id": "33a239a278874d4f81ebf5b016e4f06d",
       "version_major": 2,
       "version_minor": 0
      },
      "text/plain": [
       "Training batches on cuda:0:   0%|          | 0/17 [00:00<?, ?batch/s]"
      ]
     },
     "metadata": {},
     "output_type": "display_data"
    },
    {
     "data": {
      "application/vnd.jupyter.widget-view+json": {
       "model_id": "f8233a0715f14ff582681d1abb35965c",
       "version_major": 2,
       "version_minor": 0
      },
      "text/plain": [
       "Training batches on cuda:0:   0%|          | 0/17 [00:00<?, ?batch/s]"
      ]
     },
     "metadata": {},
     "output_type": "display_data"
    },
    {
     "data": {
      "application/vnd.jupyter.widget-view+json": {
       "model_id": "08f4a41483144894b5a3e1cdb478c70f",
       "version_major": 2,
       "version_minor": 0
      },
      "text/plain": [
       "Training batches on cuda:0:   0%|          | 0/17 [00:00<?, ?batch/s]"
      ]
     },
     "metadata": {},
     "output_type": "display_data"
    },
    {
     "data": {
      "application/vnd.jupyter.widget-view+json": {
       "model_id": "d072749bb3b14e10b4a93ef9db490bdc",
       "version_major": 2,
       "version_minor": 0
      },
      "text/plain": [
       "Training batches on cuda:0:   0%|          | 0/17 [00:00<?, ?batch/s]"
      ]
     },
     "metadata": {},
     "output_type": "display_data"
    },
    {
     "data": {
      "application/vnd.jupyter.widget-view+json": {
       "model_id": "5356202ec8bb476dbbb1057116dbb453",
       "version_major": 2,
       "version_minor": 0
      },
      "text/plain": [
       "Training batches on cuda:0:   0%|          | 0/17 [00:00<?, ?batch/s]"
      ]
     },
     "metadata": {},
     "output_type": "display_data"
    },
    {
     "data": {
      "application/vnd.jupyter.widget-view+json": {
       "model_id": "ca9c5ffa1591442a94466844ee56161e",
       "version_major": 2,
       "version_minor": 0
      },
      "text/plain": [
       "Training batches on cuda:0:   0%|          | 0/17 [00:00<?, ?batch/s]"
      ]
     },
     "metadata": {},
     "output_type": "display_data"
    },
    {
     "data": {
      "application/vnd.jupyter.widget-view+json": {
       "model_id": "3d8479f935dd4b47a49e26d330b48556",
       "version_major": 2,
       "version_minor": 0
      },
      "text/plain": [
       "Training batches on cuda:0:   0%|          | 0/17 [00:00<?, ?batch/s]"
      ]
     },
     "metadata": {},
     "output_type": "display_data"
    },
    {
     "data": {
      "application/vnd.jupyter.widget-view+json": {
       "model_id": "520397ea8c0f43e1ace096c79c36d0eb",
       "version_major": 2,
       "version_minor": 0
      },
      "text/plain": [
       "Training batches on cuda:0:   0%|          | 0/17 [00:00<?, ?batch/s]"
      ]
     },
     "metadata": {},
     "output_type": "display_data"
    },
    {
     "data": {
      "application/vnd.jupyter.widget-view+json": {
       "model_id": "a86a5b81f0ab4be082fdedc1544479a4",
       "version_major": 2,
       "version_minor": 0
      },
      "text/plain": [
       "Training batches on cuda:0:   0%|          | 0/17 [00:00<?, ?batch/s]"
      ]
     },
     "metadata": {},
     "output_type": "display_data"
    },
    {
     "data": {
      "application/vnd.jupyter.widget-view+json": {
       "model_id": "8e506ab3cc934c21a7f94f17eed60c99",
       "version_major": 2,
       "version_minor": 0
      },
      "text/plain": [
       "Training batches on cuda:0:   0%|          | 0/17 [00:00<?, ?batch/s]"
      ]
     },
     "metadata": {},
     "output_type": "display_data"
    },
    {
     "data": {
      "application/vnd.jupyter.widget-view+json": {
       "model_id": "4b4b774895f6487caefc47c585acf221",
       "version_major": 2,
       "version_minor": 0
      },
      "text/plain": [
       "Training batches on cuda:0:   0%|          | 0/17 [00:00<?, ?batch/s]"
      ]
     },
     "metadata": {},
     "output_type": "display_data"
    },
    {
     "data": {
      "application/vnd.jupyter.widget-view+json": {
       "model_id": "64e71f28f3f54d17b4a9c6a39323630e",
       "version_major": 2,
       "version_minor": 0
      },
      "text/plain": [
       "Training batches on cuda:0:   0%|          | 0/17 [00:00<?, ?batch/s]"
      ]
     },
     "metadata": {},
     "output_type": "display_data"
    },
    {
     "data": {
      "application/vnd.jupyter.widget-view+json": {
       "model_id": "0076749b98b54b9f93c282680f477d8a",
       "version_major": 2,
       "version_minor": 0
      },
      "text/plain": [
       "Training batches on cuda:0:   0%|          | 0/17 [00:00<?, ?batch/s]"
      ]
     },
     "metadata": {},
     "output_type": "display_data"
    },
    {
     "data": {
      "application/vnd.jupyter.widget-view+json": {
       "model_id": "66200f1128e64d4ca5af6d916550f48e",
       "version_major": 2,
       "version_minor": 0
      },
      "text/plain": [
       "Training batches on cuda:0:   0%|          | 0/17 [00:00<?, ?batch/s]"
      ]
     },
     "metadata": {},
     "output_type": "display_data"
    },
    {
     "data": {
      "application/vnd.jupyter.widget-view+json": {
       "model_id": "f0691c9f3f9a4a459b8c4a0c69f5d6bf",
       "version_major": 2,
       "version_minor": 0
      },
      "text/plain": [
       "Training batches on cuda:0:   0%|          | 0/17 [00:00<?, ?batch/s]"
      ]
     },
     "metadata": {},
     "output_type": "display_data"
    },
    {
     "data": {
      "application/vnd.jupyter.widget-view+json": {
       "model_id": "5788dd7a9a2c490faa088bcb75b900ec",
       "version_major": 2,
       "version_minor": 0
      },
      "text/plain": [
       "Training batches on cuda:0:   0%|          | 0/17 [00:00<?, ?batch/s]"
      ]
     },
     "metadata": {},
     "output_type": "display_data"
    },
    {
     "data": {
      "application/vnd.jupyter.widget-view+json": {
       "model_id": "dcd9295afd1d4fc882a13a23be93335e",
       "version_major": 2,
       "version_minor": 0
      },
      "text/plain": [
       "Training batches on cuda:0:   0%|          | 0/17 [00:00<?, ?batch/s]"
      ]
     },
     "metadata": {},
     "output_type": "display_data"
    },
    {
     "data": {
      "application/vnd.jupyter.widget-view+json": {
       "model_id": "341a120adf0041039a92c1d96e45a193",
       "version_major": 2,
       "version_minor": 0
      },
      "text/plain": [
       "Training batches on cuda:0:   0%|          | 0/17 [00:00<?, ?batch/s]"
      ]
     },
     "metadata": {},
     "output_type": "display_data"
    },
    {
     "data": {
      "application/vnd.jupyter.widget-view+json": {
       "model_id": "9da894a2b6ac464585f31318a4f130a6",
       "version_major": 2,
       "version_minor": 0
      },
      "text/plain": [
       "Training batches on cuda:0:   0%|          | 0/17 [00:00<?, ?batch/s]"
      ]
     },
     "metadata": {},
     "output_type": "display_data"
    },
    {
     "data": {
      "application/vnd.jupyter.widget-view+json": {
       "model_id": "0f71f62ef8f24aed96346015d55b54e0",
       "version_major": 2,
       "version_minor": 0
      },
      "text/plain": [
       "Training batches on cuda:0:   0%|          | 0/17 [00:00<?, ?batch/s]"
      ]
     },
     "metadata": {},
     "output_type": "display_data"
    },
    {
     "data": {
      "application/vnd.jupyter.widget-view+json": {
       "model_id": "35427d2584af47c0b682fca84ad141a0",
       "version_major": 2,
       "version_minor": 0
      },
      "text/plain": [
       "Training batches on cuda:0:   0%|          | 0/17 [00:00<?, ?batch/s]"
      ]
     },
     "metadata": {},
     "output_type": "display_data"
    },
    {
     "data": {
      "application/vnd.jupyter.widget-view+json": {
       "model_id": "4e70f895068a4a5cb20f24f5cc662431",
       "version_major": 2,
       "version_minor": 0
      },
      "text/plain": [
       "Training batches on cuda:0:   0%|          | 0/17 [00:00<?, ?batch/s]"
      ]
     },
     "metadata": {},
     "output_type": "display_data"
    },
    {
     "data": {
      "application/vnd.jupyter.widget-view+json": {
       "model_id": "cbd5b34678794ea389edbcfb3536f9be",
       "version_major": 2,
       "version_minor": 0
      },
      "text/plain": [
       "Training batches on cuda:0:   0%|          | 0/17 [00:00<?, ?batch/s]"
      ]
     },
     "metadata": {},
     "output_type": "display_data"
    },
    {
     "data": {
      "application/vnd.jupyter.widget-view+json": {
       "model_id": "617300bf56cd4536b1de65b78732e52f",
       "version_major": 2,
       "version_minor": 0
      },
      "text/plain": [
       "Training batches on cuda:0:   0%|          | 0/17 [00:00<?, ?batch/s]"
      ]
     },
     "metadata": {},
     "output_type": "display_data"
    },
    {
     "data": {
      "application/vnd.jupyter.widget-view+json": {
       "model_id": "e39078e855af4271a28032265a18c777",
       "version_major": 2,
       "version_minor": 0
      },
      "text/plain": [
       "Training batches on cuda:0:   0%|          | 0/17 [00:00<?, ?batch/s]"
      ]
     },
     "metadata": {},
     "output_type": "display_data"
    },
    {
     "data": {
      "application/vnd.jupyter.widget-view+json": {
       "model_id": "cd4cc854ff1241a2a41afaeb7a339d87",
       "version_major": 2,
       "version_minor": 0
      },
      "text/plain": [
       "Training batches on cuda:0:   0%|          | 0/17 [00:00<?, ?batch/s]"
      ]
     },
     "metadata": {},
     "output_type": "display_data"
    },
    {
     "data": {
      "application/vnd.jupyter.widget-view+json": {
       "model_id": "08291f03083f4216a65ecf31f458afb7",
       "version_major": 2,
       "version_minor": 0
      },
      "text/plain": [
       "Training batches on cuda:0:   0%|          | 0/17 [00:00<?, ?batch/s]"
      ]
     },
     "metadata": {},
     "output_type": "display_data"
    },
    {
     "data": {
      "application/vnd.jupyter.widget-view+json": {
       "model_id": "82da55bb4fcb435dbd04a13552ec6a6c",
       "version_major": 2,
       "version_minor": 0
      },
      "text/plain": [
       "Training batches on cuda:0:   0%|          | 0/17 [00:00<?, ?batch/s]"
      ]
     },
     "metadata": {},
     "output_type": "display_data"
    },
    {
     "data": {
      "application/vnd.jupyter.widget-view+json": {
       "model_id": "d12018b5ef05472389d87d72406f308a",
       "version_major": 2,
       "version_minor": 0
      },
      "text/plain": [
       "Training batches on cuda:0:   0%|          | 0/17 [00:00<?, ?batch/s]"
      ]
     },
     "metadata": {},
     "output_type": "display_data"
    },
    {
     "data": {
      "application/vnd.jupyter.widget-view+json": {
       "model_id": "9096e2a8c132495db32f1aa3af455693",
       "version_major": 2,
       "version_minor": 0
      },
      "text/plain": [
       "Training batches on cuda:0:   0%|          | 0/17 [00:00<?, ?batch/s]"
      ]
     },
     "metadata": {},
     "output_type": "display_data"
    },
    {
     "data": {
      "application/vnd.jupyter.widget-view+json": {
       "model_id": "d923c239f3ea4dd38a917f4010d53ee7",
       "version_major": 2,
       "version_minor": 0
      },
      "text/plain": [
       "Training batches on cuda:0:   0%|          | 0/17 [00:00<?, ?batch/s]"
      ]
     },
     "metadata": {},
     "output_type": "display_data"
    },
    {
     "data": {
      "application/vnd.jupyter.widget-view+json": {
       "model_id": "ef0b8be05db441918afaf9314177ebe7",
       "version_major": 2,
       "version_minor": 0
      },
      "text/plain": [
       "Training batches on cuda:0:   0%|          | 0/17 [00:00<?, ?batch/s]"
      ]
     },
     "metadata": {},
     "output_type": "display_data"
    },
    {
     "data": {
      "application/vnd.jupyter.widget-view+json": {
       "model_id": "6120e1c27faa43a49c665392e7961579",
       "version_major": 2,
       "version_minor": 0
      },
      "text/plain": [
       "Training batches on cuda:0:   0%|          | 0/17 [00:00<?, ?batch/s]"
      ]
     },
     "metadata": {},
     "output_type": "display_data"
    },
    {
     "data": {
      "application/vnd.jupyter.widget-view+json": {
       "model_id": "23ac116be8d4445d829cd172ada59590",
       "version_major": 2,
       "version_minor": 0
      },
      "text/plain": [
       "Training batches on cuda:0:   0%|          | 0/17 [00:00<?, ?batch/s]"
      ]
     },
     "metadata": {},
     "output_type": "display_data"
    },
    {
     "data": {
      "application/vnd.jupyter.widget-view+json": {
       "model_id": "bd5878c69b9c4805afa91ccc2c36a929",
       "version_major": 2,
       "version_minor": 0
      },
      "text/plain": [
       "Training batches on cuda:0:   0%|          | 0/17 [00:00<?, ?batch/s]"
      ]
     },
     "metadata": {},
     "output_type": "display_data"
    },
    {
     "data": {
      "application/vnd.jupyter.widget-view+json": {
       "model_id": "664dd7eddf984fddb3224ca77533333a",
       "version_major": 2,
       "version_minor": 0
      },
      "text/plain": [
       "Training batches on cuda:0:   0%|          | 0/17 [00:00<?, ?batch/s]"
      ]
     },
     "metadata": {},
     "output_type": "display_data"
    },
    {
     "data": {
      "application/vnd.jupyter.widget-view+json": {
       "model_id": "5872057d06f248d28c013a08a401cf4a",
       "version_major": 2,
       "version_minor": 0
      },
      "text/plain": [
       "Training batches on cuda:0:   0%|          | 0/17 [00:00<?, ?batch/s]"
      ]
     },
     "metadata": {},
     "output_type": "display_data"
    },
    {
     "data": {
      "application/vnd.jupyter.widget-view+json": {
       "model_id": "7ca31751b3c94c5a8e53ecd3d5140dc8",
       "version_major": 2,
       "version_minor": 0
      },
      "text/plain": [
       "Training batches on cuda:0:   0%|          | 0/17 [00:00<?, ?batch/s]"
      ]
     },
     "metadata": {},
     "output_type": "display_data"
    },
    {
     "data": {
      "application/vnd.jupyter.widget-view+json": {
       "model_id": "9f130341a0ef4a6bba62cab986c8d1cf",
       "version_major": 2,
       "version_minor": 0
      },
      "text/plain": [
       "Training batches on cuda:0:   0%|          | 0/17 [00:00<?, ?batch/s]"
      ]
     },
     "metadata": {},
     "output_type": "display_data"
    },
    {
     "data": {
      "application/vnd.jupyter.widget-view+json": {
       "model_id": "62805b25177c4290ac3e84df0424fc39",
       "version_major": 2,
       "version_minor": 0
      },
      "text/plain": [
       "Training batches on cuda:0:   0%|          | 0/17 [00:00<?, ?batch/s]"
      ]
     },
     "metadata": {},
     "output_type": "display_data"
    },
    {
     "data": {
      "application/vnd.jupyter.widget-view+json": {
       "model_id": "086540f552dc459eb1f4e42a71a272d1",
       "version_major": 2,
       "version_minor": 0
      },
      "text/plain": [
       "Training batches on cuda:0:   0%|          | 0/17 [00:00<?, ?batch/s]"
      ]
     },
     "metadata": {},
     "output_type": "display_data"
    },
    {
     "data": {
      "application/vnd.jupyter.widget-view+json": {
       "model_id": "f876e705522b4bd583236a517f17004c",
       "version_major": 2,
       "version_minor": 0
      },
      "text/plain": [
       "Training batches on cuda:0:   0%|          | 0/17 [00:00<?, ?batch/s]"
      ]
     },
     "metadata": {},
     "output_type": "display_data"
    },
    {
     "data": {
      "application/vnd.jupyter.widget-view+json": {
       "model_id": "e0490c70a7264519bbdb3b5f8661cfe4",
       "version_major": 2,
       "version_minor": 0
      },
      "text/plain": [
       "Training batches on cuda:0:   0%|          | 0/17 [00:00<?, ?batch/s]"
      ]
     },
     "metadata": {},
     "output_type": "display_data"
    },
    {
     "data": {
      "application/vnd.jupyter.widget-view+json": {
       "model_id": "2de3939daa5b40709fc83b688276d950",
       "version_major": 2,
       "version_minor": 0
      },
      "text/plain": [
       "Training batches on cuda:0:   0%|          | 0/17 [00:00<?, ?batch/s]"
      ]
     },
     "metadata": {},
     "output_type": "display_data"
    },
    {
     "data": {
      "application/vnd.jupyter.widget-view+json": {
       "model_id": "48aa78560b644a3982a069b5cbcb0a2e",
       "version_major": 2,
       "version_minor": 0
      },
      "text/plain": [
       "Training batches on cuda:0:   0%|          | 0/17 [00:00<?, ?batch/s]"
      ]
     },
     "metadata": {},
     "output_type": "display_data"
    },
    {
     "data": {
      "application/vnd.jupyter.widget-view+json": {
       "model_id": "c0b937eb458541f7a2e8f30c760429b5",
       "version_major": 2,
       "version_minor": 0
      },
      "text/plain": [
       "Training batches on cuda:0:   0%|          | 0/17 [00:00<?, ?batch/s]"
      ]
     },
     "metadata": {},
     "output_type": "display_data"
    },
    {
     "data": {
      "application/vnd.jupyter.widget-view+json": {
       "model_id": "dbd08e39ee794209a53a8cd587dfdf0a",
       "version_major": 2,
       "version_minor": 0
      },
      "text/plain": [
       "Training batches on cuda:0:   0%|          | 0/17 [00:00<?, ?batch/s]"
      ]
     },
     "metadata": {},
     "output_type": "display_data"
    },
    {
     "data": {
      "application/vnd.jupyter.widget-view+json": {
       "model_id": "c536e055d425443ab0e4cc1b69986e42",
       "version_major": 2,
       "version_minor": 0
      },
      "text/plain": [
       "Training batches on cuda:0:   0%|          | 0/17 [00:00<?, ?batch/s]"
      ]
     },
     "metadata": {},
     "output_type": "display_data"
    },
    {
     "data": {
      "application/vnd.jupyter.widget-view+json": {
       "model_id": "f04fd6cc487f41a483ada70fd584ddaf",
       "version_major": 2,
       "version_minor": 0
      },
      "text/plain": [
       "Training batches on cuda:0:   0%|          | 0/17 [00:00<?, ?batch/s]"
      ]
     },
     "metadata": {},
     "output_type": "display_data"
    },
    {
     "data": {
      "application/vnd.jupyter.widget-view+json": {
       "model_id": "aa8cc34b0e944d7ca1bc6e0c25d19a5b",
       "version_major": 2,
       "version_minor": 0
      },
      "text/plain": [
       "Training batches on cuda:0:   0%|          | 0/17 [00:00<?, ?batch/s]"
      ]
     },
     "metadata": {},
     "output_type": "display_data"
    },
    {
     "data": {
      "application/vnd.jupyter.widget-view+json": {
       "model_id": "0bc64b75d16c49e8bcc404b3108b192d",
       "version_major": 2,
       "version_minor": 0
      },
      "text/plain": [
       "Training batches on cuda:0:   0%|          | 0/17 [00:00<?, ?batch/s]"
      ]
     },
     "metadata": {},
     "output_type": "display_data"
    },
    {
     "data": {
      "application/vnd.jupyter.widget-view+json": {
       "model_id": "de2cb1794ba9434a90b2540223dff66f",
       "version_major": 2,
       "version_minor": 0
      },
      "text/plain": [
       "Training batches on cuda:0:   0%|          | 0/17 [00:00<?, ?batch/s]"
      ]
     },
     "metadata": {},
     "output_type": "display_data"
    },
    {
     "data": {
      "application/vnd.jupyter.widget-view+json": {
       "model_id": "b4e5c1c57ea14531b2ede7cb27702e70",
       "version_major": 2,
       "version_minor": 0
      },
      "text/plain": [
       "Training batches on cuda:0:   0%|          | 0/17 [00:00<?, ?batch/s]"
      ]
     },
     "metadata": {},
     "output_type": "display_data"
    },
    {
     "data": {
      "application/vnd.jupyter.widget-view+json": {
       "model_id": "b192761b622f4692ae8103acfc86470e",
       "version_major": 2,
       "version_minor": 0
      },
      "text/plain": [
       "Training batches on cuda:0:   0%|          | 0/17 [00:00<?, ?batch/s]"
      ]
     },
     "metadata": {},
     "output_type": "display_data"
    },
    {
     "data": {
      "application/vnd.jupyter.widget-view+json": {
       "model_id": "7820f76e7fce4521baaa3b086206ca3a",
       "version_major": 2,
       "version_minor": 0
      },
      "text/plain": [
       "Training batches on cuda:0:   0%|          | 0/17 [00:00<?, ?batch/s]"
      ]
     },
     "metadata": {},
     "output_type": "display_data"
    },
    {
     "data": {
      "application/vnd.jupyter.widget-view+json": {
       "model_id": "be9592ebb08d4004911a90e23b656bbb",
       "version_major": 2,
       "version_minor": 0
      },
      "text/plain": [
       "Training batches on cuda:0:   0%|          | 0/17 [00:00<?, ?batch/s]"
      ]
     },
     "metadata": {},
     "output_type": "display_data"
    },
    {
     "data": {
      "application/vnd.jupyter.widget-view+json": {
       "model_id": "f822df32ae974d1682bcb88362c120c9",
       "version_major": 2,
       "version_minor": 0
      },
      "text/plain": [
       "Training batches on cuda:0:   0%|          | 0/17 [00:00<?, ?batch/s]"
      ]
     },
     "metadata": {},
     "output_type": "display_data"
    },
    {
     "data": {
      "application/vnd.jupyter.widget-view+json": {
       "model_id": "67dd7b812ff444fa910ad5602295e0e8",
       "version_major": 2,
       "version_minor": 0
      },
      "text/plain": [
       "Training batches on cuda:0:   0%|          | 0/17 [00:00<?, ?batch/s]"
      ]
     },
     "metadata": {},
     "output_type": "display_data"
    },
    {
     "data": {
      "application/vnd.jupyter.widget-view+json": {
       "model_id": "20a0f66ebec24e43b5e9f365e851a996",
       "version_major": 2,
       "version_minor": 0
      },
      "text/plain": [
       "Training batches on cuda:0:   0%|          | 0/17 [00:00<?, ?batch/s]"
      ]
     },
     "metadata": {},
     "output_type": "display_data"
    },
    {
     "data": {
      "application/vnd.jupyter.widget-view+json": {
       "model_id": "a37bc702daeb415681e38a1cd8ae602f",
       "version_major": 2,
       "version_minor": 0
      },
      "text/plain": [
       "Training batches on cuda:0:   0%|          | 0/17 [00:00<?, ?batch/s]"
      ]
     },
     "metadata": {},
     "output_type": "display_data"
    },
    {
     "data": {
      "application/vnd.jupyter.widget-view+json": {
       "model_id": "30b10803a3254e2ba7eb1dd59abd8647",
       "version_major": 2,
       "version_minor": 0
      },
      "text/plain": [
       "Training batches on cuda:0:   0%|          | 0/17 [00:00<?, ?batch/s]"
      ]
     },
     "metadata": {},
     "output_type": "display_data"
    },
    {
     "data": {
      "application/vnd.jupyter.widget-view+json": {
       "model_id": "0e28d34986df4d3f8142f77dc8daa8de",
       "version_major": 2,
       "version_minor": 0
      },
      "text/plain": [
       "Training batches on cuda:0:   0%|          | 0/17 [00:00<?, ?batch/s]"
      ]
     },
     "metadata": {},
     "output_type": "display_data"
    },
    {
     "data": {
      "application/vnd.jupyter.widget-view+json": {
       "model_id": "590fc89a7303480da42bff70996ab938",
       "version_major": 2,
       "version_minor": 0
      },
      "text/plain": [
       "Training batches on cuda:0:   0%|          | 0/17 [00:00<?, ?batch/s]"
      ]
     },
     "metadata": {},
     "output_type": "display_data"
    },
    {
     "data": {
      "application/vnd.jupyter.widget-view+json": {
       "model_id": "e32954bcb5f84f07b11556e7612ae879",
       "version_major": 2,
       "version_minor": 0
      },
      "text/plain": [
       "Training batches on cuda:0:   0%|          | 0/17 [00:00<?, ?batch/s]"
      ]
     },
     "metadata": {},
     "output_type": "display_data"
    },
    {
     "data": {
      "application/vnd.jupyter.widget-view+json": {
       "model_id": "15b1b0c408584e9bb66975a17a3829ba",
       "version_major": 2,
       "version_minor": 0
      },
      "text/plain": [
       "Training batches on cuda:0:   0%|          | 0/17 [00:00<?, ?batch/s]"
      ]
     },
     "metadata": {},
     "output_type": "display_data"
    },
    {
     "data": {
      "application/vnd.jupyter.widget-view+json": {
       "model_id": "b179d0d3191048acb2e6e9b4dddfa014",
       "version_major": 2,
       "version_minor": 0
      },
      "text/plain": [
       "Training batches on cuda:0:   0%|          | 0/17 [00:00<?, ?batch/s]"
      ]
     },
     "metadata": {},
     "output_type": "display_data"
    },
    {
     "data": {
      "application/vnd.jupyter.widget-view+json": {
       "model_id": "e8b3cbdc55034c45803ba0a5e42831b8",
       "version_major": 2,
       "version_minor": 0
      },
      "text/plain": [
       "Training batches on cuda:0:   0%|          | 0/17 [00:00<?, ?batch/s]"
      ]
     },
     "metadata": {},
     "output_type": "display_data"
    },
    {
     "data": {
      "application/vnd.jupyter.widget-view+json": {
       "model_id": "85171b5059e448b4a28324b060277fb5",
       "version_major": 2,
       "version_minor": 0
      },
      "text/plain": [
       "Training batches on cuda:0:   0%|          | 0/17 [00:00<?, ?batch/s]"
      ]
     },
     "metadata": {},
     "output_type": "display_data"
    },
    {
     "data": {
      "application/vnd.jupyter.widget-view+json": {
       "model_id": "5fe93767089d4474b4bd9016fb597748",
       "version_major": 2,
       "version_minor": 0
      },
      "text/plain": [
       "Training batches on cuda:0:   0%|          | 0/17 [00:00<?, ?batch/s]"
      ]
     },
     "metadata": {},
     "output_type": "display_data"
    },
    {
     "data": {
      "application/vnd.jupyter.widget-view+json": {
       "model_id": "cf1a8e5f882f4221bf840666a87943ab",
       "version_major": 2,
       "version_minor": 0
      },
      "text/plain": [
       "Training batches on cuda:0:   0%|          | 0/17 [00:00<?, ?batch/s]"
      ]
     },
     "metadata": {},
     "output_type": "display_data"
    },
    {
     "data": {
      "application/vnd.jupyter.widget-view+json": {
       "model_id": "8414034315364c6ba1a37304b708b2c5",
       "version_major": 2,
       "version_minor": 0
      },
      "text/plain": [
       "Training batches on cuda:0:   0%|          | 0/17 [00:00<?, ?batch/s]"
      ]
     },
     "metadata": {},
     "output_type": "display_data"
    },
    {
     "data": {
      "application/vnd.jupyter.widget-view+json": {
       "model_id": "02c3c5b7fd6e41a4a031fa385291f421",
       "version_major": 2,
       "version_minor": 0
      },
      "text/plain": [
       "Training batches on cuda:0:   0%|          | 0/17 [00:00<?, ?batch/s]"
      ]
     },
     "metadata": {},
     "output_type": "display_data"
    },
    {
     "data": {
      "application/vnd.jupyter.widget-view+json": {
       "model_id": "04a81b4e140c434cba32822bd933d48e",
       "version_major": 2,
       "version_minor": 0
      },
      "text/plain": [
       "Training batches on cuda:0:   0%|          | 0/17 [00:00<?, ?batch/s]"
      ]
     },
     "metadata": {},
     "output_type": "display_data"
    },
    {
     "data": {
      "application/vnd.jupyter.widget-view+json": {
       "model_id": "11cbf0f140ba4d389fadb41f0b812904",
       "version_major": 2,
       "version_minor": 0
      },
      "text/plain": [
       "Training batches on cuda:0:   0%|          | 0/17 [00:00<?, ?batch/s]"
      ]
     },
     "metadata": {},
     "output_type": "display_data"
    },
    {
     "data": {
      "application/vnd.jupyter.widget-view+json": {
       "model_id": "ba87f3f905b040b5b2815ab74ceebaf9",
       "version_major": 2,
       "version_minor": 0
      },
      "text/plain": [
       "Training batches on cuda:0:   0%|          | 0/17 [00:00<?, ?batch/s]"
      ]
     },
     "metadata": {},
     "output_type": "display_data"
    },
    {
     "data": {
      "application/vnd.jupyter.widget-view+json": {
       "model_id": "a183294639864c8d8c368b71ff446c79",
       "version_major": 2,
       "version_minor": 0
      },
      "text/plain": [
       "Training batches on cuda:0:   0%|          | 0/17 [00:00<?, ?batch/s]"
      ]
     },
     "metadata": {},
     "output_type": "display_data"
    },
    {
     "data": {
      "application/vnd.jupyter.widget-view+json": {
       "model_id": "b90e3667196e4e549203efc01390c238",
       "version_major": 2,
       "version_minor": 0
      },
      "text/plain": [
       "Training batches on cuda:0:   0%|          | 0/17 [00:00<?, ?batch/s]"
      ]
     },
     "metadata": {},
     "output_type": "display_data"
    },
    {
     "data": {
      "application/vnd.jupyter.widget-view+json": {
       "model_id": "61655191887047b78c0a66ca79c1731d",
       "version_major": 2,
       "version_minor": 0
      },
      "text/plain": [
       "Training batches on cuda:0:   0%|          | 0/17 [00:00<?, ?batch/s]"
      ]
     },
     "metadata": {},
     "output_type": "display_data"
    },
    {
     "data": {
      "application/vnd.jupyter.widget-view+json": {
       "model_id": "e55fe01dfcf5481dbfb1d82b35a5f492",
       "version_major": 2,
       "version_minor": 0
      },
      "text/plain": [
       "Training batches on cuda:0:   0%|          | 0/17 [00:00<?, ?batch/s]"
      ]
     },
     "metadata": {},
     "output_type": "display_data"
    },
    {
     "data": {
      "application/vnd.jupyter.widget-view+json": {
       "model_id": "e8f36aa807e447c3ba4aaf59699aed1a",
       "version_major": 2,
       "version_minor": 0
      },
      "text/plain": [
       "Training batches on cuda:0:   0%|          | 0/17 [00:00<?, ?batch/s]"
      ]
     },
     "metadata": {},
     "output_type": "display_data"
    },
    {
     "data": {
      "application/vnd.jupyter.widget-view+json": {
       "model_id": "ab5be510b52a413d8268b512e7f7e883",
       "version_major": 2,
       "version_minor": 0
      },
      "text/plain": [
       "Training batches on cuda:0:   0%|          | 0/17 [00:00<?, ?batch/s]"
      ]
     },
     "metadata": {},
     "output_type": "display_data"
    },
    {
     "data": {
      "application/vnd.jupyter.widget-view+json": {
       "model_id": "d49e2c919cf2471f8bb329f253f2d36e",
       "version_major": 2,
       "version_minor": 0
      },
      "text/plain": [
       "Training batches on cuda:0:   0%|          | 0/17 [00:00<?, ?batch/s]"
      ]
     },
     "metadata": {},
     "output_type": "display_data"
    },
    {
     "data": {
      "application/vnd.jupyter.widget-view+json": {
       "model_id": "b7be0dd89851402d9bcfed5e84f5fdad",
       "version_major": 2,
       "version_minor": 0
      },
      "text/plain": [
       "Training batches on cuda:0:   0%|          | 0/17 [00:00<?, ?batch/s]"
      ]
     },
     "metadata": {},
     "output_type": "display_data"
    },
    {
     "data": {
      "application/vnd.jupyter.widget-view+json": {
       "model_id": "ba6ff398816a4040bd6aad0dcdfc2798",
       "version_major": 2,
       "version_minor": 0
      },
      "text/plain": [
       "Training batches on cuda:0:   0%|          | 0/17 [00:00<?, ?batch/s]"
      ]
     },
     "metadata": {},
     "output_type": "display_data"
    },
    {
     "data": {
      "application/vnd.jupyter.widget-view+json": {
       "model_id": "419dbd80e86246e3afb6da6a4c40264c",
       "version_major": 2,
       "version_minor": 0
      },
      "text/plain": [
       "Training batches on cuda:0:   0%|          | 0/17 [00:00<?, ?batch/s]"
      ]
     },
     "metadata": {},
     "output_type": "display_data"
    },
    {
     "data": {
      "application/vnd.jupyter.widget-view+json": {
       "model_id": "62553b55a37e406893a23e9cee01d662",
       "version_major": 2,
       "version_minor": 0
      },
      "text/plain": [
       "Training batches on cuda:0:   0%|          | 0/17 [00:00<?, ?batch/s]"
      ]
     },
     "metadata": {},
     "output_type": "display_data"
    },
    {
     "data": {
      "application/vnd.jupyter.widget-view+json": {
       "model_id": "035dc424f59e46f888186dd9d367caa2",
       "version_major": 2,
       "version_minor": 0
      },
      "text/plain": [
       "Training batches on cuda:0:   0%|          | 0/17 [00:00<?, ?batch/s]"
      ]
     },
     "metadata": {},
     "output_type": "display_data"
    },
    {
     "data": {
      "application/vnd.jupyter.widget-view+json": {
       "model_id": "62a988336c2a45d28d0cc9c1bb4abc0e",
       "version_major": 2,
       "version_minor": 0
      },
      "text/plain": [
       "Training batches on cuda:0:   0%|          | 0/17 [00:00<?, ?batch/s]"
      ]
     },
     "metadata": {},
     "output_type": "display_data"
    },
    {
     "data": {
      "application/vnd.jupyter.widget-view+json": {
       "model_id": "370f642af60646f0aef9da53c3e0e47b",
       "version_major": 2,
       "version_minor": 0
      },
      "text/plain": [
       "Training batches on cuda:0:   0%|          | 0/17 [00:00<?, ?batch/s]"
      ]
     },
     "metadata": {},
     "output_type": "display_data"
    },
    {
     "data": {
      "application/vnd.jupyter.widget-view+json": {
       "model_id": "84cf3429833e45b69503441c037a5a07",
       "version_major": 2,
       "version_minor": 0
      },
      "text/plain": [
       "Training batches on cuda:0:   0%|          | 0/17 [00:00<?, ?batch/s]"
      ]
     },
     "metadata": {},
     "output_type": "display_data"
    }
   ],
   "source": [
    "from mowl.models import GraphPlusPyKEENModel\n",
    "from mowl.projection import DL2VecProjector\n",
    "from pykeen.models import TransE\n",
    "\n",
    "model = GraphPlusPyKEENModel(dataset,device='cuda')\n",
    "model.set_projector(DL2VecProjector()) #προβολή του dataset σε γράφο\n",
    "model.set_kge_method(TransE, random_seed=42) #χρηση του transE για την παραγωγη embedding στον γράφο γνώσης\n",
    "model.optimizer = th.optim.Adam\n",
    "model.lr = 0.0003\n",
    "model.batch_size = 20000\n",
    "model.embed_dim = 512\n",
    "model.train(epochs = 400) #εκπέδευση μοντελου\n",
    "\n",
    "\n",
    "\n"
   ]
  },
  {
   "cell_type": "markdown",
   "metadata": {
    "id": "BtutG3sn-C0N"
   },
   "source": [
    "Evaluation μοντέλου με χρήση του PPIEvaluator (εξηγήθηκε παραπάνω), κλήση του ModifiedEvaluator και αποθήκευση μετρικών απόδοσης."
   ]
  },
  {
   "cell_type": "code",
   "execution_count": 12,
   "metadata": {
    "id": "UCXVZ-cL-C0O",
    "outputId": "8e783e56-b98f-4c97-9f20-b908900743b9"
   },
   "outputs": [
    {
     "name": "stderr",
     "output_type": "stream",
     "text": [
      "A custom EvaluationModel should be created depending on the task. This is a generic one.\n",
      "WARNING:mowl.models.graph_kge.graph_pykeen_model:A custom EvaluationModel should be created depending on the task. This is a generic one.\n"
     ]
    },
    {
     "name": "stdout",
     "output_type": "stream",
     "text": [
      "{'mr': 386.5375415282392, 'mrr': 0.028485990894730816, 'f_mr': 386.5375415282392, 'f_mrr': 0.028485990894730816, 'auc': 0.9361481382033389, 'f_auc': 0.9361481382033389, 'hits@1': 0.0, 'hits@3': 0.01644518272425249, 'hits@10': 0.0659468438538206, 'hits@50': 0.28646179401993355, 'hits@100': 0.46511627906976744, 'f_hits@1': 0.0, 'f_hits@3': 0.01644518272425249, 'f_hits@10': 0.0659468438538206, 'f_hits@50': 0.28646179401993355, 'f_hits@100': 0.46511627906976744}\n"
     ]
    }
   ],
   "source": [
    "model.set_evaluator(PPIEvaluator)\n",
    "model.evaluate(dataset.testing)\n",
    "data3= model.metrics\n",
    "print(data3)"
   ]
  },
  {
   "cell_type": "code",
   "execution_count": 13,
   "metadata": {},
   "outputs": [
    {
     "name": "stdout",
     "output_type": "stream",
     "text": [
      "Number of evaluation classes: 6039\n",
      "Protein: <http://4932.Q0010>\n",
      "From all Possible Candidate Triplets:\n",
      "\n",
      "--------------------------------------------------\n",
      "\n",
      "Protein: <http://4932.Q0017>\n",
      "From all Possible Candidate Triplets:\n",
      "\n",
      "--------------------------------------------------\n",
      "\n",
      "Protein: <http://4932.Q0032>\n",
      "From all Possible Candidate Triplets:\n",
      "\n",
      "--------------------------------------------------\n",
      "\n",
      "Protein: <http://4932.Q0045>\n",
      "From all Possible Candidate Triplets:\n",
      "Found Matching Triplet with Testing ontology: (<http://4932.Q0045>, interacts_with, <http://4932.YER154W>)\n",
      "Sorted Position: 58\n",
      "Logit Score: 9.13652229309082\n",
      "Found Matching Triplet with Testing ontology: (<http://4932.Q0045>, interacts_with, <http://4932.YJL062W-A>)\n",
      "Sorted Position: 78\n",
      "Logit Score: 9.271343231201172\n",
      "Found Matching Triplet with Testing ontology: (<http://4932.Q0045>, interacts_with, <http://4932.YDL067C>)\n",
      "Sorted Position: 128\n",
      "Logit Score: 9.474569320678711\n",
      "Found Matching Triplet with Testing ontology: (<http://4932.Q0045>, interacts_with, <http://4932.Q0080>)\n",
      "Sorted Position: 140\n",
      "Logit Score: 9.532687187194824\n",
      "Found Matching Triplet with Testing ontology: (<http://4932.Q0045>, interacts_with, <http://4932.YDL085W>)\n",
      "Sorted Position: 168\n",
      "Logit Score: 9.648223876953125\n",
      "Found Matching Triplet with Testing ontology: (<http://4932.Q0045>, interacts_with, <http://4932.YDR194C>)\n",
      "Sorted Position: 326\n",
      "Logit Score: 9.981451034545898\n",
      "\n",
      "--------------------------------------------------\n",
      "\n",
      "Protein: <http://4932.Q0050>\n",
      "From all Possible Candidate Triplets:\n",
      "Found Matching Triplet with Testing ontology: (<http://4932.Q0050>, interacts_with, <http://4932.YOR065W>)\n",
      "Sorted Position: 11\n",
      "Logit Score: 8.8777437210083\n",
      "Found Matching Triplet with Testing ontology: (<http://4932.Q0050>, interacts_with, <http://4932.YLR038C>)\n",
      "Sorted Position: 14\n",
      "Logit Score: 8.939122200012207\n",
      "Found Matching Triplet with Testing ontology: (<http://4932.Q0050>, interacts_with, <http://4932.YMR145C>)\n",
      "Sorted Position: 15\n",
      "Logit Score: 8.957900047302246\n",
      "Found Matching Triplet with Testing ontology: (<http://4932.Q0050>, interacts_with, <http://4932.Q0275>)\n",
      "Sorted Position: 36\n",
      "Logit Score: 9.31314468383789\n",
      "Found Matching Triplet with Testing ontology: (<http://4932.Q0050>, interacts_with, <http://4932.YPR191W>)\n",
      "Sorted Position: 44\n",
      "Logit Score: 9.37022590637207\n",
      "\n",
      "--------------------------------------------------\n",
      "\n",
      "Protein: <http://4932.Q0055>\n",
      "From all Possible Candidate Triplets:\n",
      "Found Matching Triplet with Testing ontology: (<http://4932.Q0055>, interacts_with, <http://4932.Q0120>)\n",
      "Sorted Position: 289\n",
      "Logit Score: 10.216825485229492\n",
      "Found Matching Triplet with Testing ontology: (<http://4932.Q0055>, interacts_with, <http://4932.Q0255>)\n",
      "Sorted Position: 472\n",
      "Logit Score: 10.350342750549316\n",
      "\n",
      "--------------------------------------------------\n",
      "\n",
      "Protein: <http://4932.Q0060>\n",
      "From all Possible Candidate Triplets:\n",
      "Found Matching Triplet with Testing ontology: (<http://4932.Q0060>, interacts_with, <http://4932.Q0275>)\n",
      "Sorted Position: 9\n",
      "Logit Score: 8.727605819702148\n",
      "Found Matching Triplet with Testing ontology: (<http://4932.Q0060>, interacts_with, <http://4932.YLR038C>)\n",
      "Sorted Position: 27\n",
      "Logit Score: 9.15703296661377\n",
      "Found Matching Triplet with Testing ontology: (<http://4932.Q0060>, interacts_with, <http://4932.Q0160>)\n",
      "Sorted Position: 4160\n",
      "Logit Score: 11.630578994750977\n",
      "\n",
      "--------------------------------------------------\n",
      "\n",
      "Protein: <http://4932.Q0065>\n",
      "From all Possible Candidate Triplets:\n",
      "\n",
      "--------------------------------------------------\n",
      "\n",
      "Protein: <http://4932.Q0070>\n",
      "From all Possible Candidate Triplets:\n",
      "Found Matching Triplet with Testing ontology: (<http://4932.Q0070>, interacts_with, <http://4932.Q0110>)\n",
      "Sorted Position: 75\n",
      "Logit Score: 9.627635955810547\n",
      "\n",
      "--------------------------------------------------\n",
      "\n",
      "Protein: <http://4932.Q0075>\n",
      "From all Possible Candidate Triplets:\n"
     ]
    },
    {
     "name": "stderr",
     "output_type": "stream",
     "text": [
      "INFO:root:Found 50 embedding vectors. Processing only 50.\n"
     ]
    },
    {
     "name": "stdout",
     "output_type": "stream",
     "text": [
      "\n",
      "--------------------------------------------------\n",
      "\n",
      "[('http://4932.Q0045', 'http://4932.YER154W'), ('http://4932.Q0045', 'http://4932.YJL062W-A'), ('http://4932.Q0045', 'http://4932.YDL067C'), ('http://4932.Q0045', 'http://4932.Q0080'), ('http://4932.Q0045', 'http://4932.YDL085W'), ('http://4932.Q0045', 'http://4932.YDR194C'), ('http://4932.Q0050', 'http://4932.YOR065W'), ('http://4932.Q0050', 'http://4932.YLR038C'), ('http://4932.Q0050', 'http://4932.YMR145C'), ('http://4932.Q0050', 'http://4932.Q0275'), ('http://4932.Q0050', 'http://4932.YPR191W'), ('http://4932.Q0055', 'http://4932.Q0120'), ('http://4932.Q0055', 'http://4932.Q0255'), ('http://4932.Q0060', 'http://4932.Q0275'), ('http://4932.Q0060', 'http://4932.YLR038C'), ('http://4932.Q0060', 'http://4932.Q0160'), ('http://4932.Q0070', 'http://4932.Q0110')]\n"
     ]
    },
    {
     "name": "stderr",
     "output_type": "stream",
     "text": [
      "C:\\Users\\dalla\\AppData\\Local\\Programs\\Python\\Python310\\lib\\site-packages\\sklearn\\manifold\\_t_sne.py:1164: FutureWarning: 'n_iter' was renamed to 'max_iter' in version 1.5 and will be removed in 1.7.\n",
      "  warnings.warn(\n"
     ]
    },
    {
     "data": {
      "image/png": "[encoded data removed]",
      "text/plain": [
       "<Figure size 1000x1000 with 1 Axes>"
      ]
     },
     "metadata": {},
     "output_type": "display_data"
    }
   ],
   "source": [
    "evl = ModifiedEvaluator(dataset, model)\n",
    "evl.run_evaluation()\n",
    "evl.run_tsne_visualization()\n"
   ]
  },
  {
   "cell_type": "markdown",
   "metadata": {
    "id": "SA92HaBX-C0O"
   },
   "source": [
    "## Συνακτικα μοντελα\n",
    "### [OPA2Vec](https://mowl.readthedocs.io/en/stable/examples/syntactic/plot_2_opa2vec.html#sphx-glr-examples-syntactic-plot-2-opa2vec-py)  <br>\n",
    "Για τα συντακτικά μοντέλα, απαραίτητη είναι η αναπαράσταση των αξιωμάτων σε μορφή text, ώστε στην συνέχεια με την χρήση ενός μοντέλου όπως το [Word2Vec](https://mowl.readthedocs.io/en/stable/api/mowl.models.SyntacticPlusW2VModel.html#mowl.models.SyntacticPlusW2VModel),να παραχθούν τα embedding. Στο συγκεκριμένο παράδειγμα, χρησιμοποιούνται και reasoners για να δημιουργηθούν και αξιώματα υποκλάσης και εξισώσεις κλάσεων. Επιπλέον, χρησιμοποιείται άτυπη γνώση όπως μεταδεδομένα οντοτήτων (πχ συνώνυμα, ορισμοί) με την χρήση του \"extract_and_save_annotation_corpus\" της [mowl.corpus](https://mowl.readthedocs.io/en/stable/api/corpus/index.html), όπου είναι και η διαφορά του μοντέλου από το [Onto2Vec](https://mowl.readthedocs.io/en/stable/examples/syntactic/plot_1_onto2vec.html#sphx-glr-examples-syntactic-plot-1-onto2vec-py). \n",
    "\n",
    "Σε αντίθεση με τα υπόλοιπα μοντέλα που εξετάστηκαν, το μοντέλο αυτό δεν λαμβάνει υπό όψη ρητά την σημασία της τριπλέτας (πρωτεΐνη, αλληλοεπιδρά με, πρωτεΐνη) και εστιάζει απλά στην συντακτική δομή του ontology.owl χωρίς να στοχεύει στην βέλτιστη  αναπαράσταση των σχέσεων αυτών. Το αποτέλεσμα είναι η χαμηλότερη απόδοση σε σχέση με τα υπόλοιπα μοντέλα στο συγκεκριμένο παράδειγμα.\n"
   ]
  },
  {
   "cell_type": "code",
   "execution_count": 37,
   "metadata": {
    "id": "wZqc7Vvr-C0O",
    "outputId": "53d609e5-8245-40ab-c6cd-bd610caa5cf5"
   },
   "outputs": [
    {
     "name": "stderr",
     "output_type": "stream",
     "text": [
      "INFO:root:Number of inferred axioms: 555583.\n",
      "INFO:root:Number of inferred axioms: 56751.\n",
      "INFO:root:Generating axioms corpus\n",
      "INFO:root:Generating annotation corpus\n",
      "INFO:gensim.utils:Word2Vec lifecycle event {'params': 'Word2Vec<vocab=0, vector_size=200, alpha=0.0005>', 'datetime': '2025-03-18T22:07:43.352332', 'gensim': '4.3.3', 'python': '3.10.11 (tags/v3.10.11:7d4cc5a, Apr  5 2023, 00:38:17) [MSC v.1929 64 bit (AMD64)]', 'platform': 'Windows-10-10.0.26100-SP0', 'event': 'created'}\n",
      "INFO:root:Generating axioms corpus\n",
      "INFO:root:Generating annotation corpus\n",
      "INFO:mowl.base_models.syntactic_model:Corpus saved in opa2vec_corpus.txt\n",
      "INFO:gensim.models.word2vec:collecting all words and their counts\n",
      "INFO:gensim.models.word2vec:PROGRESS: at sentence #0, processed 0 words, keeping 0 word types\n",
      "INFO:gensim.models.word2vec:PROGRESS: at sentence #10000, processed 47899 words, keeping 14664 word types\n",
      "INFO:gensim.models.word2vec:PROGRESS: at sentence #20000, processed 95373 words, keeping 24903 word types\n",
      "INFO:gensim.models.word2vec:PROGRESS: at sentence #30000, processed 143517 words, keeping 33297 word types\n",
      "INFO:gensim.models.word2vec:PROGRESS: at sentence #40000, processed 190563 words, keeping 40363 word types\n",
      "INFO:gensim.models.word2vec:PROGRESS: at sentence #50000, processed 238610 words, keeping 46575 word types\n",
      "INFO:gensim.models.word2vec:PROGRESS: at sentence #60000, processed 286842 words, keeping 52402 word types\n",
      "INFO:gensim.models.word2vec:PROGRESS: at sentence #70000, processed 335234 words, keeping 57381 word types\n",
      "INFO:gensim.models.word2vec:PROGRESS: at sentence #80000, processed 382560 words, keeping 61837 word types\n",
      "INFO:gensim.models.word2vec:PROGRESS: at sentence #90000, processed 430662 words, keeping 65999 word types\n",
      "INFO:gensim.models.word2vec:PROGRESS: at sentence #100000, processed 477756 words, keeping 69746 word types\n",
      "INFO:gensim.models.word2vec:PROGRESS: at sentence #110000, processed 526612 words, keeping 73379 word types\n",
      "INFO:gensim.models.word2vec:PROGRESS: at sentence #120000, processed 574092 words, keeping 76527 word types\n",
      "INFO:gensim.models.word2vec:PROGRESS: at sentence #130000, processed 622096 words, keeping 79741 word types\n",
      "INFO:gensim.models.word2vec:PROGRESS: at sentence #140000, processed 670377 words, keeping 82671 word types\n",
      "INFO:gensim.models.word2vec:PROGRESS: at sentence #150000, processed 718661 words, keeping 85338 word types\n",
      "INFO:gensim.models.word2vec:PROGRESS: at sentence #160000, processed 766393 words, keeping 87854 word types\n",
      "INFO:gensim.models.word2vec:PROGRESS: at sentence #170000, processed 814525 words, keeping 90321 word types\n",
      "INFO:gensim.models.word2vec:PROGRESS: at sentence #180000, processed 862875 words, keeping 92701 word types\n",
      "INFO:gensim.models.word2vec:PROGRESS: at sentence #190000, processed 910637 words, keeping 94979 word types\n",
      "INFO:gensim.models.word2vec:PROGRESS: at sentence #200000, processed 958211 words, keeping 96995 word types\n",
      "INFO:gensim.models.word2vec:PROGRESS: at sentence #210000, processed 1006388 words, keeping 98986 word types\n",
      "INFO:gensim.models.word2vec:PROGRESS: at sentence #220000, processed 1054012 words, keeping 100952 word types\n",
      "INFO:gensim.models.word2vec:PROGRESS: at sentence #230000, processed 1101560 words, keeping 102827 word types\n",
      "INFO:gensim.models.word2vec:PROGRESS: at sentence #240000, processed 1147853 words, keeping 104610 word types\n",
      "INFO:gensim.models.word2vec:PROGRESS: at sentence #250000, processed 1195899 words, keeping 106340 word types\n",
      "INFO:gensim.models.word2vec:PROGRESS: at sentence #260000, processed 1242908 words, keeping 108097 word types\n",
      "INFO:gensim.models.word2vec:PROGRESS: at sentence #270000, processed 1289615 words, keeping 109741 word types\n",
      "INFO:gensim.models.word2vec:PROGRESS: at sentence #280000, processed 1337207 words, keeping 111467 word types\n",
      "INFO:gensim.models.word2vec:PROGRESS: at sentence #290000, processed 1385342 words, keeping 113159 word types\n",
      "INFO:gensim.models.word2vec:PROGRESS: at sentence #300000, processed 1432246 words, keeping 114710 word types\n",
      "INFO:gensim.models.word2vec:PROGRESS: at sentence #310000, processed 1478810 words, keeping 116253 word types\n",
      "INFO:gensim.models.word2vec:PROGRESS: at sentence #320000, processed 1526707 words, keeping 117719 word types\n",
      "INFO:gensim.models.word2vec:PROGRESS: at sentence #330000, processed 1573799 words, keeping 119242 word types\n",
      "INFO:gensim.models.word2vec:PROGRESS: at sentence #340000, processed 1621342 words, keeping 120779 word types\n",
      "INFO:gensim.models.word2vec:PROGRESS: at sentence #350000, processed 1668789 words, keeping 122283 word types\n",
      "INFO:gensim.models.word2vec:PROGRESS: at sentence #360000, processed 1716133 words, keeping 123700 word types\n",
      "INFO:gensim.models.word2vec:PROGRESS: at sentence #370000, processed 1762530 words, keeping 125138 word types\n",
      "INFO:gensim.models.word2vec:PROGRESS: at sentence #380000, processed 1809475 words, keeping 126556 word types\n",
      "INFO:gensim.models.word2vec:PROGRESS: at sentence #390000, processed 1856270 words, keeping 127868 word types\n",
      "INFO:gensim.models.word2vec:PROGRESS: at sentence #400000, processed 1903075 words, keeping 129304 word types\n",
      "INFO:gensim.models.word2vec:PROGRESS: at sentence #410000, processed 1950190 words, keeping 130739 word types\n",
      "INFO:gensim.models.word2vec:PROGRESS: at sentence #420000, processed 1996321 words, keeping 132056 word types\n",
      "INFO:gensim.models.word2vec:PROGRESS: at sentence #430000, processed 2042984 words, keeping 133379 word types\n",
      "INFO:gensim.models.word2vec:PROGRESS: at sentence #440000, processed 2088985 words, keeping 134675 word types\n",
      "INFO:gensim.models.word2vec:PROGRESS: at sentence #450000, processed 2138302 words, keeping 136028 word types\n",
      "INFO:gensim.models.word2vec:PROGRESS: at sentence #460000, processed 2184087 words, keeping 137267 word types\n",
      "INFO:gensim.models.word2vec:PROGRESS: at sentence #470000, processed 2232365 words, keeping 138648 word types\n",
      "INFO:gensim.models.word2vec:PROGRESS: at sentence #480000, processed 2279470 words, keeping 139970 word types\n",
      "INFO:gensim.models.word2vec:PROGRESS: at sentence #490000, processed 2326741 words, keeping 141297 word types\n",
      "INFO:gensim.models.word2vec:PROGRESS: at sentence #500000, processed 2373917 words, keeping 142623 word types\n",
      "INFO:gensim.models.word2vec:PROGRESS: at sentence #510000, processed 2421491 words, keeping 143918 word types\n",
      "INFO:gensim.models.word2vec:PROGRESS: at sentence #520000, processed 2469056 words, keeping 145149 word types\n",
      "INFO:gensim.models.word2vec:PROGRESS: at sentence #530000, processed 2516253 words, keeping 146352 word types\n",
      "INFO:gensim.models.word2vec:PROGRESS: at sentence #540000, processed 2562751 words, keeping 147637 word types\n",
      "INFO:gensim.models.word2vec:PROGRESS: at sentence #550000, processed 2610469 words, keeping 148933 word types\n",
      "INFO:gensim.models.word2vec:PROGRESS: at sentence #560000, processed 2658048 words, keeping 150191 word types\n",
      "INFO:gensim.models.word2vec:PROGRESS: at sentence #570000, processed 2705371 words, keeping 151476 word types\n",
      "INFO:gensim.models.word2vec:PROGRESS: at sentence #580000, processed 2752065 words, keeping 152688 word types\n",
      "INFO:gensim.models.word2vec:PROGRESS: at sentence #590000, processed 2799873 words, keeping 153911 word types\n",
      "INFO:gensim.models.word2vec:PROGRESS: at sentence #600000, processed 2847410 words, keeping 155185 word types\n",
      "INFO:gensim.models.word2vec:PROGRESS: at sentence #610000, processed 2894461 words, keeping 156382 word types\n",
      "INFO:gensim.models.word2vec:PROGRESS: at sentence #620000, processed 2941088 words, keeping 157580 word types\n",
      "INFO:gensim.models.word2vec:PROGRESS: at sentence #630000, processed 2988449 words, keeping 158838 word types\n",
      "INFO:gensim.models.word2vec:PROGRESS: at sentence #640000, processed 3035475 words, keeping 159959 word types\n",
      "INFO:gensim.models.word2vec:PROGRESS: at sentence #650000, processed 3083223 words, keeping 161208 word types\n",
      "INFO:gensim.models.word2vec:PROGRESS: at sentence #660000, processed 3129892 words, keeping 162418 word types\n",
      "INFO:gensim.models.word2vec:PROGRESS: at sentence #670000, processed 3176430 words, keeping 163606 word types\n",
      "INFO:gensim.models.word2vec:PROGRESS: at sentence #680000, processed 3224099 words, keeping 164783 word types\n",
      "INFO:gensim.models.word2vec:PROGRESS: at sentence #690000, processed 3271193 words, keeping 165925 word types\n",
      "INFO:gensim.models.word2vec:PROGRESS: at sentence #700000, processed 3319171 words, keeping 167091 word types\n",
      "INFO:gensim.models.word2vec:PROGRESS: at sentence #710000, processed 3366069 words, keeping 168235 word types\n",
      "INFO:gensim.models.word2vec:PROGRESS: at sentence #720000, processed 3413308 words, keeping 169486 word types\n",
      "INFO:gensim.models.word2vec:PROGRESS: at sentence #730000, processed 3461503 words, keeping 170638 word types\n",
      "INFO:gensim.models.word2vec:PROGRESS: at sentence #740000, processed 3509045 words, keeping 171895 word types\n",
      "INFO:gensim.models.word2vec:PROGRESS: at sentence #750000, processed 3556530 words, keeping 173076 word types\n",
      "INFO:gensim.models.word2vec:PROGRESS: at sentence #760000, processed 3602517 words, keeping 174170 word types\n",
      "INFO:gensim.models.word2vec:PROGRESS: at sentence #770000, processed 3649335 words, keeping 175279 word types\n",
      "INFO:gensim.models.word2vec:PROGRESS: at sentence #780000, processed 3696915 words, keeping 176510 word types\n",
      "INFO:gensim.models.word2vec:PROGRESS: at sentence #790000, processed 3744097 words, keeping 177644 word types\n",
      "INFO:gensim.models.word2vec:PROGRESS: at sentence #800000, processed 3791279 words, keeping 178828 word types\n",
      "INFO:gensim.models.word2vec:PROGRESS: at sentence #810000, processed 3839450 words, keeping 179973 word types\n",
      "INFO:gensim.models.word2vec:PROGRESS: at sentence #820000, processed 3886085 words, keeping 181088 word types\n",
      "INFO:gensim.models.word2vec:PROGRESS: at sentence #830000, processed 3934258 words, keeping 182290 word types\n",
      "INFO:gensim.models.word2vec:PROGRESS: at sentence #840000, processed 3982464 words, keeping 183426 word types\n",
      "INFO:gensim.models.word2vec:PROGRESS: at sentence #850000, processed 4030792 words, keeping 184636 word types\n",
      "INFO:gensim.models.word2vec:PROGRESS: at sentence #860000, processed 4078692 words, keeping 185786 word types\n",
      "INFO:gensim.models.word2vec:PROGRESS: at sentence #870000, processed 4125786 words, keeping 186897 word types\n",
      "INFO:gensim.models.word2vec:PROGRESS: at sentence #880000, processed 4172929 words, keeping 188031 word types\n",
      "INFO:gensim.models.word2vec:PROGRESS: at sentence #890000, processed 4220379 words, keeping 189171 word types\n",
      "INFO:gensim.models.word2vec:PROGRESS: at sentence #900000, processed 4267346 words, keeping 190279 word types\n",
      "INFO:gensim.models.word2vec:PROGRESS: at sentence #910000, processed 4313835 words, keeping 191405 word types\n",
      "INFO:gensim.models.word2vec:PROGRESS: at sentence #920000, processed 4361546 words, keeping 192501 word types\n",
      "INFO:gensim.models.word2vec:PROGRESS: at sentence #930000, processed 4409140 words, keeping 193634 word types\n",
      "INFO:gensim.models.word2vec:PROGRESS: at sentence #940000, processed 4455229 words, keeping 194759 word types\n",
      "INFO:gensim.models.word2vec:PROGRESS: at sentence #950000, processed 4502878 words, keeping 195892 word types\n",
      "INFO:gensim.models.word2vec:PROGRESS: at sentence #960000, processed 4549750 words, keeping 197004 word types\n",
      "INFO:gensim.models.word2vec:PROGRESS: at sentence #970000, processed 4598030 words, keeping 198180 word types\n",
      "INFO:gensim.models.word2vec:PROGRESS: at sentence #980000, processed 4645798 words, keeping 199326 word types\n",
      "INFO:gensim.models.word2vec:PROGRESS: at sentence #990000, processed 4692278 words, keeping 200419 word types\n",
      "INFO:gensim.models.word2vec:PROGRESS: at sentence #1000000, processed 4739313 words, keeping 201566 word types\n",
      "INFO:gensim.models.word2vec:PROGRESS: at sentence #1010000, processed 4786572 words, keeping 202605 word types\n",
      "INFO:gensim.models.word2vec:PROGRESS: at sentence #1020000, processed 4835182 words, keeping 203753 word types\n",
      "INFO:gensim.models.word2vec:PROGRESS: at sentence #1030000, processed 4881707 words, keeping 204786 word types\n",
      "INFO:gensim.models.word2vec:PROGRESS: at sentence #1040000, processed 4930036 words, keeping 205813 word types\n",
      "INFO:gensim.models.word2vec:PROGRESS: at sentence #1050000, processed 4977259 words, keeping 206848 word types\n",
      "INFO:gensim.models.word2vec:PROGRESS: at sentence #1060000, processed 5025300 words, keeping 207939 word types\n",
      "INFO:gensim.models.word2vec:PROGRESS: at sentence #1070000, processed 5073653 words, keeping 209034 word types\n",
      "INFO:gensim.models.word2vec:PROGRESS: at sentence #1080000, processed 5121346 words, keeping 210090 word types\n",
      "INFO:gensim.models.word2vec:PROGRESS: at sentence #1090000, processed 5168921 words, keeping 211108 word types\n",
      "INFO:gensim.models.word2vec:PROGRESS: at sentence #1100000, processed 5216364 words, keeping 212280 word types\n",
      "INFO:gensim.models.word2vec:PROGRESS: at sentence #1110000, processed 5263642 words, keeping 213382 word types\n",
      "INFO:gensim.models.word2vec:PROGRESS: at sentence #1120000, processed 5311702 words, keeping 214449 word types\n",
      "INFO:gensim.models.word2vec:PROGRESS: at sentence #1130000, processed 5357656 words, keeping 215468 word types\n",
      "INFO:gensim.models.word2vec:PROGRESS: at sentence #1140000, processed 5405606 words, keeping 216524 word types\n",
      "INFO:gensim.models.word2vec:PROGRESS: at sentence #1150000, processed 5452399 words, keeping 217581 word types\n",
      "INFO:gensim.models.word2vec:PROGRESS: at sentence #1160000, processed 5500669 words, keeping 218653 word types\n",
      "INFO:gensim.models.word2vec:PROGRESS: at sentence #1170000, processed 5547336 words, keeping 219717 word types\n",
      "INFO:gensim.models.word2vec:PROGRESS: at sentence #1180000, processed 5594888 words, keeping 220800 word types\n",
      "INFO:gensim.models.word2vec:PROGRESS: at sentence #1190000, processed 5642519 words, keeping 221880 word types\n",
      "INFO:gensim.models.word2vec:PROGRESS: at sentence #1200000, processed 5690209 words, keeping 223026 word types\n",
      "INFO:gensim.models.word2vec:PROGRESS: at sentence #1210000, processed 5737788 words, keeping 224023 word types\n",
      "INFO:gensim.models.word2vec:PROGRESS: at sentence #1220000, processed 5784962 words, keeping 225081 word types\n",
      "INFO:gensim.models.word2vec:PROGRESS: at sentence #1230000, processed 5831647 words, keeping 226107 word types\n",
      "INFO:gensim.models.word2vec:PROGRESS: at sentence #1240000, processed 5879349 words, keeping 227161 word types\n",
      "INFO:gensim.models.word2vec:PROGRESS: at sentence #1250000, processed 5926745 words, keeping 228192 word types\n",
      "INFO:gensim.models.word2vec:PROGRESS: at sentence #1260000, processed 5975199 words, keeping 229282 word types\n",
      "INFO:gensim.models.word2vec:PROGRESS: at sentence #1270000, processed 6023274 words, keeping 230320 word types\n",
      "INFO:gensim.models.word2vec:PROGRESS: at sentence #1280000, processed 6071088 words, keeping 231387 word types\n",
      "INFO:gensim.models.word2vec:PROGRESS: at sentence #1290000, processed 6119148 words, keeping 232415 word types\n",
      "INFO:gensim.models.word2vec:PROGRESS: at sentence #1300000, processed 6166013 words, keeping 233470 word types\n",
      "INFO:gensim.models.word2vec:PROGRESS: at sentence #1310000, processed 6214092 words, keeping 234527 word types\n",
      "INFO:gensim.models.word2vec:PROGRESS: at sentence #1320000, processed 6261706 words, keeping 235593 word types\n",
      "INFO:gensim.models.word2vec:PROGRESS: at sentence #1330000, processed 6308392 words, keeping 236663 word types\n",
      "INFO:gensim.models.word2vec:PROGRESS: at sentence #1340000, processed 6355080 words, keeping 237665 word types\n",
      "INFO:gensim.models.word2vec:PROGRESS: at sentence #1350000, processed 6402236 words, keeping 238722 word types\n",
      "INFO:gensim.models.word2vec:PROGRESS: at sentence #1360000, processed 6451930 words, keeping 240060 word types\n",
      "INFO:gensim.models.word2vec:PROGRESS: at sentence #1370000, processed 6532211 words, keeping 244549 word types\n",
      "INFO:gensim.models.word2vec:PROGRESS: at sentence #1380000, processed 6611932 words, keeping 247756 word types\n",
      "INFO:gensim.models.word2vec:PROGRESS: at sentence #1390000, processed 6674450 words, keeping 253706 word types\n",
      "INFO:gensim.models.word2vec:PROGRESS: at sentence #1400000, processed 6729238 words, keeping 261171 word types\n",
      "INFO:gensim.models.word2vec:PROGRESS: at sentence #1410000, processed 6790463 words, keeping 267342 word types\n",
      "INFO:gensim.models.word2vec:PROGRESS: at sentence #1420000, processed 6861023 words, keeping 271073 word types\n",
      "INFO:gensim.models.word2vec:PROGRESS: at sentence #1430000, processed 6934817 words, keeping 275402 word types\n",
      "INFO:gensim.models.word2vec:PROGRESS: at sentence #1440000, processed 6997168 words, keeping 280901 word types\n",
      "INFO:gensim.models.word2vec:PROGRESS: at sentence #1450000, processed 7073962 words, keeping 284847 word types\n",
      "INFO:gensim.models.word2vec:PROGRESS: at sentence #1460000, processed 7152944 words, keeping 289372 word types\n",
      "INFO:gensim.models.word2vec:PROGRESS: at sentence #1470000, processed 7222801 words, keeping 294332 word types\n",
      "INFO:gensim.models.word2vec:PROGRESS: at sentence #1480000, processed 7283587 words, keeping 300508 word types\n",
      "INFO:gensim.models.word2vec:PROGRESS: at sentence #1490000, processed 7355747 words, keeping 303828 word types\n",
      "INFO:gensim.models.word2vec:PROGRESS: at sentence #1500000, processed 7425051 words, keeping 307490 word types\n",
      "INFO:gensim.models.word2vec:PROGRESS: at sentence #1510000, processed 7494362 words, keeping 311073 word types\n",
      "INFO:gensim.models.word2vec:PROGRESS: at sentence #1520000, processed 7566559 words, keeping 314615 word types\n",
      "INFO:gensim.models.word2vec:PROGRESS: at sentence #1530000, processed 7633039 words, keeping 319467 word types\n",
      "INFO:gensim.models.word2vec:PROGRESS: at sentence #1540000, processed 7704473 words, keeping 324076 word types\n",
      "INFO:gensim.models.word2vec:PROGRESS: at sentence #1550000, processed 7773824 words, keeping 328389 word types\n",
      "INFO:gensim.models.word2vec:PROGRESS: at sentence #1560000, processed 7847897 words, keeping 332143 word types\n",
      "INFO:gensim.models.word2vec:PROGRESS: at sentence #1570000, processed 7919495 words, keeping 336355 word types\n",
      "INFO:gensim.models.word2vec:PROGRESS: at sentence #1580000, processed 7993805 words, keeping 340368 word types\n",
      "INFO:gensim.models.word2vec:PROGRESS: at sentence #1590000, processed 8063416 words, keeping 343003 word types\n",
      "INFO:gensim.models.word2vec:PROGRESS: at sentence #1600000, processed 8122217 words, keeping 349374 word types\n",
      "INFO:gensim.models.word2vec:PROGRESS: at sentence #1610000, processed 8184937 words, keeping 354716 word types\n",
      "INFO:gensim.models.word2vec:PROGRESS: at sentence #1620000, processed 8243926 words, keeping 361012 word types\n",
      "INFO:gensim.models.word2vec:PROGRESS: at sentence #1630000, processed 8320981 words, keeping 364002 word types\n",
      "INFO:gensim.models.word2vec:PROGRESS: at sentence #1640000, processed 8402163 words, keeping 367907 word types\n",
      "INFO:gensim.models.word2vec:PROGRESS: at sentence #1650000, processed 8479573 words, keeping 371420 word types\n",
      "INFO:gensim.models.word2vec:PROGRESS: at sentence #1660000, processed 8545239 words, keeping 376047 word types\n",
      "INFO:gensim.models.word2vec:PROGRESS: at sentence #1670000, processed 8613347 words, keeping 380192 word types\n",
      "INFO:gensim.models.word2vec:PROGRESS: at sentence #1680000, processed 8690514 words, keeping 383893 word types\n",
      "INFO:gensim.models.word2vec:PROGRESS: at sentence #1690000, processed 8774860 words, keeping 387662 word types\n",
      "INFO:gensim.models.word2vec:PROGRESS: at sentence #1700000, processed 8843794 words, keeping 391996 word types\n",
      "INFO:gensim.models.word2vec:PROGRESS: at sentence #1710000, processed 8914189 words, keeping 396495 word types\n",
      "INFO:gensim.models.word2vec:PROGRESS: at sentence #1720000, processed 8969462 words, keeping 402154 word types\n",
      "INFO:gensim.models.word2vec:PROGRESS: at sentence #1730000, processed 9034419 words, keeping 406866 word types\n",
      "INFO:gensim.models.word2vec:PROGRESS: at sentence #1740000, processed 9106125 words, keeping 408886 word types\n",
      "INFO:gensim.models.word2vec:PROGRESS: at sentence #1750000, processed 9164516 words, keeping 410961 word types\n",
      "INFO:gensim.models.word2vec:PROGRESS: at sentence #1760000, processed 9230763 words, keeping 413186 word types\n",
      "INFO:gensim.models.word2vec:PROGRESS: at sentence #1770000, processed 9296835 words, keeping 415534 word types\n",
      "INFO:gensim.models.word2vec:PROGRESS: at sentence #1780000, processed 9365621 words, keeping 417474 word types\n",
      "INFO:gensim.models.word2vec:PROGRESS: at sentence #1790000, processed 9431489 words, keeping 419317 word types\n",
      "INFO:gensim.models.word2vec:PROGRESS: at sentence #1800000, processed 9499946 words, keeping 421107 word types\n",
      "INFO:gensim.models.word2vec:PROGRESS: at sentence #1810000, processed 9569204 words, keeping 422993 word types\n",
      "INFO:gensim.models.word2vec:PROGRESS: at sentence #1820000, processed 9637306 words, keeping 424850 word types\n",
      "INFO:gensim.models.word2vec:PROGRESS: at sentence #1830000, processed 9709381 words, keeping 426664 word types\n",
      "INFO:gensim.models.word2vec:PROGRESS: at sentence #1840000, processed 9777101 words, keeping 431158 word types\n",
      "INFO:gensim.models.word2vec:PROGRESS: at sentence #1850000, processed 9840494 words, keeping 434406 word types\n",
      "INFO:gensim.models.word2vec:collected 435381 word types from a corpus of 9857089 raw words and 1852760 sentences\n",
      "INFO:gensim.models.word2vec:Creating a fresh vocabulary\n",
      "INFO:gensim.utils:Word2Vec lifecycle event {'msg': 'effective_min_count=0 retains 435381 unique words (100.00% of original 435381, drops 0)', 'datetime': '2025-03-18T22:09:12.259508', 'gensim': '4.3.3', 'python': '3.10.11 (tags/v3.10.11:7d4cc5a, Apr  5 2023, 00:38:17) [MSC v.1929 64 bit (AMD64)]', 'platform': 'Windows-10-10.0.26100-SP0', 'event': 'prepare_vocab'}\n",
      "INFO:gensim.utils:Word2Vec lifecycle event {'msg': 'effective_min_count=0 leaves 9857089 word corpus (100.00% of original 9857089, drops 0)', 'datetime': '2025-03-18T22:09:12.261511', 'gensim': '4.3.3', 'python': '3.10.11 (tags/v3.10.11:7d4cc5a, Apr  5 2023, 00:38:17) [MSC v.1929 64 bit (AMD64)]', 'platform': 'Windows-10-10.0.26100-SP0', 'event': 'prepare_vocab'}\n",
      "INFO:gensim.models.word2vec:deleting the raw counts dictionary of 435381 items\n",
      "INFO:gensim.models.word2vec:sample=0.001 downsamples 38 most-common words\n",
      "INFO:gensim.utils:Word2Vec lifecycle event {'msg': 'downsampling leaves estimated 7682220.507176953 word corpus (77.9%% of prior 9857089)', 'datetime': '2025-03-18T22:09:15.863663', 'gensim': '4.3.3', 'python': '3.10.11 (tags/v3.10.11:7d4cc5a, Apr  5 2023, 00:38:17) [MSC v.1929 64 bit (AMD64)]', 'platform': 'Windows-10-10.0.26100-SP0', 'event': 'prepare_vocab'}\n",
      "INFO:gensim.models.word2vec:estimated required memory for 435381 words and 200 dimensions: 914300100 bytes\n",
      "INFO:gensim.models.word2vec:resetting layer weights\n",
      "INFO:gensim.utils:Word2Vec lifecycle event {'update': False, 'trim_rule': 'None', 'datetime': '2025-03-18T22:09:22.204709', 'gensim': '4.3.3', 'python': '3.10.11 (tags/v3.10.11:7d4cc5a, Apr  5 2023, 00:38:17) [MSC v.1929 64 bit (AMD64)]', 'platform': 'Windows-10-10.0.26100-SP0', 'event': 'build_vocab'}\n",
      "INFO:gensim.utils:Word2Vec lifecycle event {'msg': 'training model with 4 workers on 435381 vocabulary and 200 features, using sg=0 hs=0 sample=0.001 negative=5 window=2 shrink_windows=True', 'datetime': '2025-03-18T22:09:22.206981', 'gensim': '4.3.3', 'python': '3.10.11 (tags/v3.10.11:7d4cc5a, Apr  5 2023, 00:38:17) [MSC v.1929 64 bit (AMD64)]', 'platform': 'Windows-10-10.0.26100-SP0', 'event': 'train'}\n",
      "INFO:gensim.models.word2vec:EPOCH 0 - PROGRESS: at 0.11% examples, 4575 words/s, in_qsize 2, out_qsize 0\n",
      "INFO:gensim.models.word2vec:EPOCH 0 - PROGRESS: at 6.32% examples, 158346 words/s, in_qsize 0, out_qsize 0\n",
      "INFO:gensim.models.word2vec:EPOCH 0 - PROGRESS: at 12.27% examples, 222235 words/s, in_qsize 0, out_qsize 0\n",
      "INFO:gensim.models.word2vec:EPOCH 0 - PROGRESS: at 17.99% examples, 254424 words/s, in_qsize 0, out_qsize 0\n",
      "INFO:gensim.models.word2vec:EPOCH 0 - PROGRESS: at 21.54% examples, 250012 words/s, in_qsize 0, out_qsize 0\n",
      "INFO:gensim.models.word2vec:EPOCH 0 - PROGRESS: at 27.37% examples, 268447 words/s, in_qsize 0, out_qsize 0\n",
      "INFO:gensim.models.word2vec:EPOCH 0 - PROGRESS: at 32.97% examples, 280637 words/s, in_qsize 0, out_qsize 0\n",
      "INFO:gensim.models.word2vec:EPOCH 0 - PROGRESS: at 38.57% examples, 290184 words/s, in_qsize 0, out_qsize 0\n",
      "INFO:gensim.models.word2vec:EPOCH 0 - PROGRESS: at 41.54% examples, 280254 words/s, in_qsize 0, out_qsize 0\n",
      "INFO:gensim.models.word2vec:EPOCH 0 - PROGRESS: at 46.86% examples, 286469 words/s, in_qsize 0, out_qsize 0\n",
      "INFO:gensim.models.word2vec:EPOCH 0 - PROGRESS: at 52.24% examples, 291555 words/s, in_qsize 0, out_qsize 0\n",
      "INFO:gensim.models.word2vec:EPOCH 0 - PROGRESS: at 57.57% examples, 296042 words/s, in_qsize 0, out_qsize 0\n",
      "INFO:gensim.models.word2vec:EPOCH 0 - PROGRESS: at 61.43% examples, 291608 words/s, in_qsize 0, out_qsize 1\n",
      "INFO:gensim.models.word2vec:EPOCH 0 - PROGRESS: at 66.89% examples, 296016 words/s, in_qsize 0, out_qsize 0\n",
      "INFO:gensim.models.word2vec:EPOCH 0 - PROGRESS: at 72.45% examples, 300301 words/s, in_qsize 0, out_qsize 0\n",
      "INFO:gensim.models.word2vec:EPOCH 0 - PROGRESS: at 77.11% examples, 310318 words/s, in_qsize 0, out_qsize 0\n",
      "INFO:gensim.models.word2vec:EPOCH 0 - PROGRESS: at 81.96% examples, 322415 words/s, in_qsize 0, out_qsize 0\n",
      "INFO:gensim.models.word2vec:EPOCH 0 - PROGRESS: at 86.76% examples, 326648 words/s, in_qsize 0, out_qsize 1\n",
      "INFO:gensim.models.word2vec:EPOCH 0 - PROGRESS: at 91.21% examples, 335795 words/s, in_qsize 0, out_qsize 0\n",
      "INFO:gensim.models.word2vec:EPOCH 0 - PROGRESS: at 96.30% examples, 344303 words/s, in_qsize 0, out_qsize 0\n",
      "INFO:gensim.models.word2vec:EPOCH 0: training on 9857089 raw words (7683574 effective words) took 21.9s, 350590 effective words/s\n",
      "INFO:gensim.models.word2vec:EPOCH 1 - PROGRESS: at 5.53% examples, 360101 words/s, in_qsize 0, out_qsize 0\n",
      "INFO:gensim.models.word2vec:EPOCH 1 - PROGRESS: at 11.14% examples, 363705 words/s, in_qsize 0, out_qsize 0\n",
      "INFO:gensim.models.word2vec:EPOCH 1 - PROGRESS: at 14.80% examples, 321402 words/s, in_qsize 0, out_qsize 0\n",
      "INFO:gensim.models.word2vec:EPOCH 1 - PROGRESS: at 20.50% examples, 332852 words/s, in_qsize 0, out_qsize 0\n",
      "INFO:gensim.models.word2vec:EPOCH 1 - PROGRESS: at 25.90% examples, 336206 words/s, in_qsize 0, out_qsize 0\n",
      "INFO:gensim.models.word2vec:EPOCH 1 - PROGRESS: at 31.49% examples, 340385 words/s, in_qsize 0, out_qsize 0\n",
      "INFO:gensim.models.word2vec:EPOCH 1 - PROGRESS: at 34.91% examples, 323627 words/s, in_qsize 0, out_qsize 0\n",
      "INFO:gensim.models.word2vec:EPOCH 1 - PROGRESS: at 40.15% examples, 325915 words/s, in_qsize 0, out_qsize 0\n",
      "INFO:gensim.models.word2vec:EPOCH 1 - PROGRESS: at 45.40% examples, 327556 words/s, in_qsize 0, out_qsize 0\n",
      "INFO:gensim.models.word2vec:EPOCH 1 - PROGRESS: at 50.87% examples, 329978 words/s, in_qsize 0, out_qsize 0\n",
      "INFO:gensim.models.word2vec:EPOCH 1 - PROGRESS: at 54.40% examples, 320791 words/s, in_qsize 0, out_qsize 0\n",
      "INFO:gensim.models.word2vec:EPOCH 1 - PROGRESS: at 59.95% examples, 323806 words/s, in_qsize 0, out_qsize 0\n",
      "INFO:gensim.models.word2vec:EPOCH 1 - PROGRESS: at 65.29% examples, 325459 words/s, in_qsize 0, out_qsize 0\n",
      "INFO:gensim.models.word2vec:EPOCH 1 - PROGRESS: at 70.62% examples, 327146 words/s, in_qsize 0, out_qsize 0\n",
      "INFO:gensim.models.word2vec:EPOCH 1 - PROGRESS: at 74.04% examples, 322597 words/s, in_qsize 0, out_qsize 0\n",
      "INFO:gensim.models.word2vec:EPOCH 1 - PROGRESS: at 78.76% examples, 334027 words/s, in_qsize 0, out_qsize 0\n",
      "INFO:gensim.models.word2vec:EPOCH 1 - PROGRESS: at 83.43% examples, 343924 words/s, in_qsize 0, out_qsize 0\n",
      "INFO:gensim.models.word2vec:EPOCH 1 - PROGRESS: at 88.05% examples, 352197 words/s, in_qsize 0, out_qsize 0\n",
      "INFO:gensim.models.word2vec:EPOCH 1 - PROGRESS: at 92.59% examples, 360368 words/s, in_qsize 0, out_qsize 0\n",
      "INFO:gensim.models.word2vec:EPOCH 1 - PROGRESS: at 97.73% examples, 368173 words/s, in_qsize 0, out_qsize 0\n",
      "INFO:gensim.models.word2vec:EPOCH 1: training on 9857089 raw words (7685053 effective words) took 20.7s, 371353 effective words/s\n",
      "INFO:gensim.utils:Word2Vec lifecycle event {'msg': 'training on 19714178 raw words (15368627 effective words) took 42.6s, 360531 effective words/s', 'datetime': '2025-03-18T22:10:04.836128', 'gensim': '4.3.3', 'python': '3.10.11 (tags/v3.10.11:7d4cc5a, Apr  5 2023, 00:38:17) [MSC v.1929 64 bit (AMD64)]', 'platform': 'Windows-10-10.0.26100-SP0', 'event': 'train'}\n"
     ]
    },
    {
     "ename": "PermissionError",
     "evalue": "[WinError 32] The process cannot access the file because it is being used by another process: 'opa2vec_corpus.txt'",
     "output_type": "error",
     "traceback": [
      "\u001b[1;31m---------------------------------------------------------------------------\u001b[0m",
      "\u001b[1;31mPermissionError\u001b[0m                           Traceback (most recent call last)",
      "Cell \u001b[1;32mIn[37], line 34\u001b[0m\n\u001b[0;32m     32\u001b[0m model\u001b[38;5;241m.\u001b[39mgenerate_corpus(save\u001b[38;5;241m=\u001b[39m\u001b[38;5;28;01mTrue\u001b[39;00m, with_annotations\u001b[38;5;241m=\u001b[39m\u001b[38;5;28;01mTrue\u001b[39;00m)\n\u001b[0;32m     33\u001b[0m model\u001b[38;5;241m.\u001b[39mtrain(epochs\u001b[38;5;241m=\u001b[39m\u001b[38;5;241m2\u001b[39m)\n\u001b[1;32m---> 34\u001b[0m \u001b[43mos\u001b[49m\u001b[38;5;241;43m.\u001b[39;49m\u001b[43mremove\u001b[49m\u001b[43m(\u001b[49m\u001b[38;5;124;43m\"\u001b[39;49m\u001b[38;5;124;43mopa2vec_corpus.txt\u001b[39;49m\u001b[38;5;124;43m\"\u001b[39;49m\u001b[43m)\u001b[49m\n",
      "\u001b[1;31mPermissionError\u001b[0m: [WinError 32] The process cannot access the file because it is being used by another process: 'opa2vec_corpus.txt'"
     ]
    }
   ],
   "source": [
    "from mowl.corpus import extract_and_save_axiom_corpus, extract_and_save_annotation_corpus\n",
    "from mowl.owlapi import OWLAPIAdapter\n",
    "from mowl.reasoning import MOWLReasoner\n",
    "from org.semanticweb.elk.owlapi import ElkReasonerFactory\n",
    "from java.util import HashSet\n",
    "from mowl.models import SyntacticPlusW2VModel\n",
    "import os\n",
    "logging.getLogger(\"gensim\").setLevel(logging.INFO)\n",
    "reasoner_factory = ElkReasonerFactory()\n",
    "reasoner = reasoner_factory.createReasoner(dataset.ontology)\n",
    "mowl_reasoner = MOWLReasoner(reasoner)\n",
    "\n",
    "classes = dataset.ontology.getClassesInSignature()\n",
    "subclass_axioms = mowl_reasoner.infer_subclass_axioms(classes) #αξιωματα υποκλάσεων\n",
    "equivalent_class_axioms = mowl_reasoner.infer_equivalent_class_axioms(classes) #αξιωματα εξισωσης κλάσεων\n",
    "\n",
    "adapter = OWLAPIAdapter()\n",
    "manager = adapter.owl_manager\n",
    "\n",
    "axioms = HashSet()\n",
    "axioms.addAll(subclass_axioms)\n",
    "axioms.addAll(equivalent_class_axioms)\n",
    "\n",
    "manager.addAxioms(dataset.ontology, axioms) #προσθηκη των αξιωματων που παρηχθηκαν απο το reasoner στην οντολογία που χρησιμοποιείται\n",
    "\n",
    "extract_and_save_axiom_corpus(dataset.ontology, \"opa2vec_corpus.txt\") #αποθηκευση ολων των αξιωματων που υπηρχαν και παράχθηκαν σε μορφη text\n",
    "extract_and_save_annotation_corpus(dataset.ontology, \"opa2vec_corpus.txt\", mode=\"a\") #επεκταση text με μεταδεδομένα όπως ορισμοί και περιγραφές στιγμιοτύπων\n",
    "\n",
    "\n",
    "model = SyntacticPlusW2VModel(dataset, corpus_filepath=\"opa2vec_corpus.txt\") #Word2Vec στο text για παραγωγη embedding\n",
    "model.set_w2v_model(min_count=0, workers=4,vector_size=200,window=2,alpha=0.0005)\n",
    "model.generate_corpus(save=True, with_annotations=True)\n",
    "model.train(epochs=2)\n",
    "os.remove(\"opa2vec_corpus.txt\")\n"
   ]
  },
  {
   "cell_type": "markdown",
   "metadata": {
    "id": "w09kU0pk-C0O"
   },
   "source": [
    "## Evaluation του OPA2Vec\n",
    "Για άλλη μια φορά χρησιμοποείται το PPIEvaluator και το ModifiedEvaluator όπως και πάνω."
   ]
  },
  {
   "cell_type": "code",
   "execution_count": null,
   "metadata": {
    "id": "yWwOAJc2-C0O",
    "outputId": "58cfa342-80e8-4c3f-d055-790b4f1d5727"
   },
   "outputs": [],
   "source": [
    "from mowl.evaluation import PPIEvaluator\n",
    "model.set_evaluator(PPIEvaluator)\n",
    "model.evaluate(dataset.testing)\n",
    "data4= model.metrics\n",
    "print(data4)"
   ]
  },
  {
   "cell_type": "code",
   "execution_count": null,
   "metadata": {},
   "outputs": [],
   "source": [
    "evl = ModifiedEvaluator(dataset, model)\n",
    "evl.run_evaluation()\n",
    "evl.run_tsne_visualization()\n"
   ]
  },
  {
   "cell_type": "markdown",
   "metadata": {
    "id": "RizkszBf-C0P"
   },
   "source": [
    "### Ευνοϊκή για σύγκριση αναπαράσταση αποδόσεων των μοντέλων με χρήση DataFrame της βιβλιοθήκης pandas."
   ]
  },
  {
   "cell_type": "code",
   "execution_count": 17,
   "metadata": {
    "id": "CcoM8dQJ-C0P",
    "outputId": "ce635459-fc68-497b-bbcf-268759978178"
   },
   "outputs": [
    {
     "name": "stdout",
     "output_type": "stream",
     "text": [
      "                 mr      mrr        f_mr    f_mrr      auc    f_auc   hits@1  \\\n",
      "Model 1  501.556063 0.028431  501.556063 0.028431 0.917099 0.917099 0.001412   \n",
      "Model 2  466.188206 0.030467  466.188206 0.030467 0.922957 0.922957 0.000249   \n",
      "Model 3  386.537542 0.028486  386.537542 0.028486 0.936148 0.936148 0.000000   \n",
      "Model 4 1228.458555 0.008966 1228.458555 0.008966 0.796711 0.796711 0.001246   \n",
      "\n",
      "          hits@3  hits@10  hits@50  hits@100  f_hits@1  f_hits@3  f_hits@10  \\\n",
      "Model 1 0.010963 0.064203 0.321346  0.459801  0.001412  0.010963   0.064203   \n",
      "Model 2 0.012625 0.083140 0.322425  0.459967  0.000249  0.012625   0.083140   \n",
      "Model 3 0.016445 0.065947 0.286462  0.465116  0.000000  0.016445   0.065947   \n",
      "Model 4 0.004900 0.014535 0.068937  0.121096  0.001246  0.004900   0.014535   \n",
      "\n",
      "         f_hits@50  f_hits@100  \n",
      "Model 1   0.321346    0.459801  \n",
      "Model 2   0.322425    0.459967  \n",
      "Model 3   0.286462    0.465116  \n",
      "Model 4   0.068937    0.121096  \n"
     ]
    }
   ],
   "source": [
    "import pandas as pd\n",
    "df = pd.DataFrame([data1, data2, data3,data4], index=['Model 1', 'Model 2', 'Model 3', 'Model 4'])\n",
    "\n",
    "pd.set_option('display.float_format', lambda x: f'{x:.6f}') #δεκαδική μορφή\n",
    "print(df)"
   ]
  },
  {
   "cell_type": "code",
   "execution_count": null,
   "metadata": {
    "id": "Uq063-SyKfCE"
   },
   "outputs": [],
   "source": []
  },
  {
   "cell_type": "code",
   "execution_count": null,
   "metadata": {
    "id": "LCNu9-b2KfCE"
   },
   "outputs": [],
   "source": []
  }
 ],
 "metadata": {
  "accelerator": "GPU",
  "colab": {
   "gpuType": "T4",
   "provenance": []
  },
  "kernelspec": {
   "display_name": "Python 3 (ipykernel)",
   "language": "python",
   "name": "python3"
  },
  "language_info": {
   "codemirror_mode": {
    "name": "ipython",
    "version": 3
   },
   "file_extension": ".py",
   "mimetype": "text/x-python",
   "name": "python",
   "nbconvert_exporter": "python",
   "pygments_lexer": "ipython3",
   "version": "3.10.11"
  }
 },
 "nbformat": 4,
 "nbformat_minor": 4
}
