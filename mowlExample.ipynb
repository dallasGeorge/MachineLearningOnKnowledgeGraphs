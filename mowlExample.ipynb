{
  "cells": [
    {
      "cell_type": "markdown",
      "metadata": {
        "id": "_QjceqWg-C0F"
      },
      "source": [
        "To notepad αυτό αποτελεί ένα \"hello-world\" για την χρήση της βιβλιοθήκης [mOWL](https://mowl.readthedocs.io/en/latest/index.html). Ο σκοπός είναι να στηθεί ένα απλό παράδειγμα που επιδεικνύει τη χρήση της mOWL για την αναγνώριση \"ακμών\" ενός γράφου γνώσης (ΓΓ).\n",
        "\n",
        "**Προσοχή: Eάν το notebook τρέχει στο google colab, πρέπει να επιλεχθεί από το menu, η επιλογή Runtime -> Change runtime type και να επιλεχθεί ένα διαθέσιμο GPU. Αυτό γίνεται γιατί τα μοντέλα τρέχουν με χρήση CUDA, για γρηγορότερο χρόνο εκπαίδευσης** </h5>"
      ]
    },
    {
      "cell_type": "code",
      "execution_count": null,
      "metadata": {
        "colab": {
          "base_uri": "https://localhost:8080/"
        },
        "id": "8My_2PMm-D9a",
        "outputId": "a510a116-63d3-46d2-84a8-1f8fa4c45734"
      },
      "outputs": [
        {
          "name": "stdout",
          "output_type": "stream",
          "text": [
            "Requirement already satisfied: mowl-borg in c:\\users\\dalla\\appdata\\local\\programs\\python\\python310\\lib\\site-packages (1.0.1)\n",
            "Requirement already satisfied: click in c:\\users\\dalla\\appdata\\local\\programs\\python\\python310\\lib\\site-packages (from mowl-borg) (8.1.8)\n",
            "Requirement already satisfied: deprecated in c:\\users\\dalla\\appdata\\local\\programs\\python\\python310\\lib\\site-packages (from mowl-borg) (1.2.15)\n",
            "Requirement already satisfied: gensim>=4.3.0 in c:\\users\\dalla\\appdata\\local\\programs\\python\\python310\\lib\\site-packages (from mowl-borg) (4.3.3)\n",
            "Requirement already satisfied: JPype1==1.5.0 in c:\\users\\dalla\\appdata\\local\\programs\\python\\python310\\lib\\site-packages (from mowl-borg) (1.5.0)\n",
            "Requirement already satisfied: matplotlib in c:\\users\\dalla\\appdata\\local\\programs\\python\\python310\\lib\\site-packages (from mowl-borg) (3.10.0)\n",
            "Requirement already satisfied: networkx in c:\\users\\dalla\\appdata\\local\\programs\\python\\python310\\lib\\site-packages (from mowl-borg) (3.4.2)\n",
            "Requirement already satisfied: numpy in c:\\users\\dalla\\appdata\\local\\programs\\python\\python310\\lib\\site-packages (from mowl-borg) (1.26.4)\n",
            "Requirement already satisfied: pandas in c:\\users\\dalla\\appdata\\local\\programs\\python\\python310\\lib\\site-packages (from mowl-borg) (2.2.3)\n",
            "Requirement already satisfied: pykeen==1.11.0 in c:\\users\\dalla\\appdata\\local\\programs\\python\\python310\\lib\\site-packages (from mowl-borg) (1.11.0)\n",
            "Requirement already satisfied: pyyaml in c:\\users\\dalla\\appdata\\local\\programs\\python\\python310\\lib\\site-packages (from mowl-borg) (6.0.2)\n",
            "Requirement already satisfied: requests in c:\\users\\dalla\\appdata\\local\\programs\\python\\python310\\lib\\site-packages (from mowl-borg) (2.32.3)\n",
            "Requirement already satisfied: scikit-learn in c:\\users\\dalla\\appdata\\local\\programs\\python\\python310\\lib\\site-packages (from mowl-borg) (1.6.0)\n",
            "Requirement already satisfied: scipy<1.15.0 in c:\\users\\dalla\\appdata\\local\\programs\\python\\python310\\lib\\site-packages (from mowl-borg) (1.13.1)\n",
            "Requirement already satisfied: temp in c:\\users\\dalla\\appdata\\local\\programs\\python\\python310\\lib\\site-packages (from mowl-borg) (2020.7.2)\n",
            "Requirement already satisfied: tqdm in c:\\users\\dalla\\appdata\\local\\programs\\python\\python310\\lib\\site-packages (from mowl-borg) (4.67.1)\n",
            "Requirement already satisfied: torch in c:\\users\\dalla\\appdata\\local\\programs\\python\\python310\\lib\\site-packages (from mowl-borg) (2.5.1+cu118)\n",
            "Requirement already satisfied: urllib3 in c:\\users\\dalla\\appdata\\local\\programs\\python\\python310\\lib\\site-packages (from mowl-borg) (2.3.0)\n",
            "Requirement already satisfied: packaging in c:\\users\\dalla\\appdata\\local\\programs\\python\\python310\\lib\\site-packages (from JPype1==1.5.0->mowl-borg) (24.2)\n",
            "Requirement already satisfied: dataclasses-json in c:\\users\\dalla\\appdata\\local\\programs\\python\\python310\\lib\\site-packages (from pykeen==1.11.0->mowl-borg) (0.6.7)\n",
            "Requirement already satisfied: click-default-group in c:\\users\\dalla\\appdata\\local\\programs\\python\\python310\\lib\\site-packages (from pykeen==1.11.0->mowl-borg) (1.2.4)\n",
            "Requirement already satisfied: optuna>=2.0.0 in c:\\users\\dalla\\appdata\\local\\programs\\python\\python310\\lib\\site-packages (from pykeen==1.11.0->mowl-borg) (4.1.0)\n",
            "Requirement already satisfied: tabulate in c:\\users\\dalla\\appdata\\local\\programs\\python\\python310\\lib\\site-packages (from pykeen==1.11.0->mowl-borg) (0.9.0)\n",
            "Requirement already satisfied: more-click in c:\\users\\dalla\\appdata\\local\\programs\\python\\python310\\lib\\site-packages (from pykeen==1.11.0->mowl-borg) (0.1.2)\n",
            "Requirement already satisfied: more-itertools in c:\\users\\dalla\\appdata\\local\\programs\\python\\python310\\lib\\site-packages (from pykeen==1.11.0->mowl-borg) (10.5.0)\n",
            "Requirement already satisfied: pystow>=0.4.3 in c:\\users\\dalla\\appdata\\local\\programs\\python\\python310\\lib\\site-packages (from pykeen==1.11.0->mowl-borg) (0.6.1)\n",
            "Requirement already satisfied: docdata in c:\\users\\dalla\\appdata\\local\\programs\\python\\python310\\lib\\site-packages (from pykeen==1.11.0->mowl-borg) (0.0.4)\n",
            "Requirement already satisfied: class-resolver>=0.5.1 in c:\\users\\dalla\\appdata\\local\\programs\\python\\python310\\lib\\site-packages (from pykeen==1.11.0->mowl-borg) (0.5.4)\n",
            "Requirement already satisfied: torch-max-mem>=0.1.1 in c:\\users\\dalla\\appdata\\local\\programs\\python\\python310\\lib\\site-packages (from pykeen==1.11.0->mowl-borg) (0.1.3)\n",
            "Requirement already satisfied: torch-ppr>=0.0.7 in c:\\users\\dalla\\appdata\\local\\programs\\python\\python310\\lib\\site-packages (from pykeen==1.11.0->mowl-borg) (0.0.8)\n",
            "Requirement already satisfied: typing-extensions in c:\\users\\dalla\\appdata\\local\\programs\\python\\python310\\lib\\site-packages (from pykeen==1.11.0->mowl-borg) (4.12.2)\n",
            "Requirement already satisfied: smart-open>=1.8.1 in c:\\users\\dalla\\appdata\\local\\programs\\python\\python310\\lib\\site-packages (from gensim>=4.3.0->mowl-borg) (7.1.0)\n",
            "Requirement already satisfied: python-dateutil>=2.8.2 in c:\\users\\dalla\\appdata\\local\\programs\\python\\python310\\lib\\site-packages (from pandas->mowl-borg) (2.9.0.post0)\n",
            "Requirement already satisfied: pytz>=2020.1 in c:\\users\\dalla\\appdata\\local\\programs\\python\\python310\\lib\\site-packages (from pandas->mowl-borg) (2024.2)\n",
            "Requirement already satisfied: tzdata>=2022.7 in c:\\users\\dalla\\appdata\\local\\programs\\python\\python310\\lib\\site-packages (from pandas->mowl-borg) (2024.2)\n",
            "Requirement already satisfied: filelock in c:\\users\\dalla\\appdata\\local\\programs\\python\\python310\\lib\\site-packages (from torch->mowl-borg) (3.16.1)\n",
            "Requirement already satisfied: jinja2 in c:\\users\\dalla\\appdata\\local\\programs\\python\\python310\\lib\\site-packages (from torch->mowl-borg) (3.1.5)\n",
            "Requirement already satisfied: fsspec in c:\\users\\dalla\\appdata\\local\\programs\\python\\python310\\lib\\site-packages (from torch->mowl-borg) (2024.12.0)\n",
            "Requirement already satisfied: sympy==1.13.1 in c:\\users\\dalla\\appdata\\local\\programs\\python\\python310\\lib\\site-packages (from torch->mowl-borg) (1.13.1)\n",
            "Requirement already satisfied: mpmath<1.4,>=1.1.0 in c:\\users\\dalla\\appdata\\local\\programs\\python\\python310\\lib\\site-packages (from sympy==1.13.1->torch->mowl-borg) (1.3.0)\n",
            "Requirement already satisfied: colorama in c:\\users\\dalla\\appdata\\local\\programs\\python\\python310\\lib\\site-packages (from click->mowl-borg) (0.4.6)\n",
            "Requirement already satisfied: wrapt<2,>=1.10 in c:\\users\\dalla\\appdata\\local\\programs\\python\\python310\\lib\\site-packages (from deprecated->mowl-borg) (1.17.0)\n",
            "Requirement already satisfied: contourpy>=1.0.1 in c:\\users\\dalla\\appdata\\local\\programs\\python\\python310\\lib\\site-packages (from matplotlib->mowl-borg) (1.3.1)\n",
            "Requirement already satisfied: cycler>=0.10 in c:\\users\\dalla\\appdata\\local\\programs\\python\\python310\\lib\\site-packages (from matplotlib->mowl-borg) (0.12.1)\n",
            "Requirement already satisfied: fonttools>=4.22.0 in c:\\users\\dalla\\appdata\\local\\programs\\python\\python310\\lib\\site-packages (from matplotlib->mowl-borg) (4.55.3)\n",
            "Requirement already satisfied: kiwisolver>=1.3.1 in c:\\users\\dalla\\appdata\\local\\programs\\python\\python310\\lib\\site-packages (from matplotlib->mowl-borg) (1.4.8)\n",
            "Requirement already satisfied: pillow>=8 in c:\\users\\dalla\\appdata\\local\\programs\\python\\python310\\lib\\site-packages (from matplotlib->mowl-borg) (11.0.0)\n",
            "Requirement already satisfied: pyparsing>=2.3.1 in c:\\users\\dalla\\appdata\\local\\programs\\python\\python310\\lib\\site-packages (from matplotlib->mowl-borg) (3.2.0)\n",
            "Requirement already satisfied: charset-normalizer<4,>=2 in c:\\users\\dalla\\appdata\\local\\programs\\python\\python310\\lib\\site-packages (from requests->mowl-borg) (3.4.1)\n",
            "Requirement already satisfied: idna<4,>=2.5 in c:\\users\\dalla\\appdata\\local\\programs\\python\\python310\\lib\\site-packages (from requests->mowl-borg) (3.10)\n",
            "Requirement already satisfied: certifi>=2017.4.17 in c:\\users\\dalla\\appdata\\local\\programs\\python\\python310\\lib\\site-packages (from requests->mowl-borg) (2024.12.14)\n",
            "Requirement already satisfied: joblib>=1.2.0 in c:\\users\\dalla\\appdata\\local\\programs\\python\\python310\\lib\\site-packages (from scikit-learn->mowl-borg) (1.4.2)\n",
            "Requirement already satisfied: threadpoolctl>=3.1.0 in c:\\users\\dalla\\appdata\\local\\programs\\python\\python310\\lib\\site-packages (from scikit-learn->mowl-borg) (3.5.0)\n",
            "Requirement already satisfied: alembic>=1.5.0 in c:\\users\\dalla\\appdata\\local\\programs\\python\\python310\\lib\\site-packages (from optuna>=2.0.0->pykeen==1.11.0->mowl-borg) (1.14.0)\n",
            "Requirement already satisfied: colorlog in c:\\users\\dalla\\appdata\\local\\programs\\python\\python310\\lib\\site-packages (from optuna>=2.0.0->pykeen==1.11.0->mowl-borg) (6.9.0)\n",
            "Requirement already satisfied: sqlalchemy>=1.4.2 in c:\\users\\dalla\\appdata\\local\\programs\\python\\python310\\lib\\site-packages (from optuna>=2.0.0->pykeen==1.11.0->mowl-borg) (2.0.36)\n",
            "Requirement already satisfied: six>=1.5 in c:\\users\\dalla\\appdata\\local\\programs\\python\\python310\\lib\\site-packages (from python-dateutil>=2.8.2->pandas->mowl-borg) (1.17.0)\n",
            "Requirement already satisfied: marshmallow<4.0.0,>=3.18.0 in c:\\users\\dalla\\appdata\\local\\programs\\python\\python310\\lib\\site-packages (from dataclasses-json->pykeen==1.11.0->mowl-borg) (3.23.2)\n",
            "Requirement already satisfied: typing-inspect<1,>=0.4.0 in c:\\users\\dalla\\appdata\\local\\programs\\python\\python310\\lib\\site-packages (from dataclasses-json->pykeen==1.11.0->mowl-borg) (0.9.0)\n",
            "Requirement already satisfied: MarkupSafe>=2.0 in c:\\users\\dalla\\appdata\\local\\programs\\python\\python310\\lib\\site-packages (from jinja2->torch->mowl-borg) (3.0.2)\n",
            "Requirement already satisfied: Mako in c:\\users\\dalla\\appdata\\local\\programs\\python\\python310\\lib\\site-packages (from alembic>=1.5.0->optuna>=2.0.0->pykeen==1.11.0->mowl-borg) (1.3.8)\n",
            "Requirement already satisfied: greenlet!=0.4.17 in c:\\users\\dalla\\appdata\\local\\programs\\python\\python310\\lib\\site-packages (from sqlalchemy>=1.4.2->optuna>=2.0.0->pykeen==1.11.0->mowl-borg) (3.1.1)\n",
            "Requirement already satisfied: mypy-extensions>=0.3.0 in c:\\users\\dalla\\appdata\\local\\programs\\python\\python310\\lib\\site-packages (from typing-inspect<1,>=0.4.0->dataclasses-json->pykeen==1.11.0->mowl-borg) (1.0.0)\n"
          ]
        },
        {
          "name": "stderr",
          "output_type": "stream",
          "text": [
            "\n",
            "[notice] A new release of pip is available: 24.3.1 -> 25.0.1\n",
            "[notice] To update, run: python.exe -m pip install --upgrade pip\n"
          ]
        }
      ],
      "source": [
        "!pip install mowl-borg"
      ]
    },
    {
      "cell_type": "markdown",
      "metadata": {
        "id": "23uf9Smkbi54"
      },
      "source": [
        "## Αρχικοποίηση\n",
        "Αρχικά εισάγεται η βιβλιοθήκη mowl και η torch\n",
        "και αρχικοποιείται η διαθέσιμη προς χρήση μνήμη για το Java Virtual Machine ως 10 Gigabytes. <br>\n",
        "Η βιβλιοθήκη [mOWL](https://mowl.readthedocs.io/en/latest/) είναι μια βιβλιοθήκη που έχει σχεδιαστεί για να υποστηρίζει τη Μηχανική Μάθηση με Οντολογίες, προσφέροντας λειτουργίες για τη διαχείριση οντολογιών και τη δημιουργία αναπαραστάσεων σε μορφή διανυσμάτων (embeddings) για τις οντότητες τους. Αξιοποιεί την [OWLAPI](https://github.com/owlcs/owlapi/wiki/Documentation), μια βιβλιοθήκη γραμμένη σε Java, μέσω του JPype και για αυτό τον λόγο είναι αναγκαία και η αρχικοποίηση μνήμης στο JVM.\n",
        "Η [Torch](https://pytorch.org/docs/stable/index.html) παρέχει ισχυρά εργαλεία για την εκπαίδευση και τη χρήση αλγορίθμων μηχανικής μάθησης και νευρωνικών δικτύων."
      ]
    },
    {
      "cell_type": "code",
      "execution_count": null,
      "metadata": {
        "id": "MpNa7bF9-C0H",
        "jupyter": {
          "outputs_hidden": false
        }
      },
      "outputs": [],
      "source": [
        "import mowl\n",
        "mowl.init_jvm(\"10g\")\n",
        "import torch as th"
      ]
    },
    {
      "cell_type": "markdown",
      "metadata": {
        "id": "TFUjr8rN-C0H"
      },
      "source": [
        "### Dataset που χρησιμοποιείται:\n",
        "Το dataset που χρησιμοποιείται είναι το [PPIYeastDataset](https://mowl.readthedocs.io/en/latest/api/mowl.datasets.builtin.PPIYeastDataset.html#mowl.datasets.builtin.PPIYeastDataset) το οποίο είναι built-in στη βιβλιοθήκη mowl. Το dataset αυτό περιλαμβάνει protein-protein interactions που αφορούν τον συγκεκριμένο μύκητα και οι σχέσεις μεταξύ πρωτεϊνών αναπαραστούνται σαν αξιώματα με τον παρακάτω τρόπο: <br>\n",
        "<b>protein1 ⊆ interacts_with.protein2</b>\n",
        "Το dataset αποθηκέυεται σε έναν φάκελο με 3 αρχεία τύπου \"*.owl\" κατά την εκτέλεση του προγράμματος. Στον φάκελο αυτό περιέχονται τα εξής: \"ontology.owl\" το οποίο εισάγεται σαν είσοδος στο στάδιο εκπαίδευσης των μοντέλων, \"valid.owl\" για την επικύρωση του μοντέλου (παραγωγή κάποιου loss) στα στάδια της εκπαίδευσης και \"test.owl\" για την τελική αξιολόγηση των embeddings. <br>\n",
        "Η δομή του dataset αποτελείται κυρίως από κλάσεις στην owl (πχ http://4932.Q0045 , όπου το 4932.Q0045 είναι το identifier της πρωτείνης), σε ποιά ευρύτερη κατηγορία κλάσεων προτείνων (subClassOf) ανήκουν, διάφορα restrictions και properties, όπως και το αντικείμενο κορμού στην μελέτη PPI, interacts_with που συνδέει 2 κλάσεις πρωτεινών μεταξύ τους. <br>\n",
        "<b> Για παράδειγμα: </b> <br>\n",
        "Η πρωτεΐνη 4932.Q0045 που αναφέρθηκε πάνω, γνωστή και ως [COX1](https://string-db.org/network/4932.Q0045), με την ιδιότητα \"interacts_with\", φαίνεται να αλληλεπιδρά με την προτείνη 4932.Q0050, γνωστή και ως [Saccharomyces cerevisiae](https://string-db.org/network/4932.Q0050) : <br>\n",
        "\n",
        "    <owl:Class rdf:about=\"http://4932.Q0045\">\n",
        "        ...\n",
        "        <rdfs:subClassOf>\n",
        "            <owl:Restriction>\n",
        "                <owl:onProperty rdf:resource=\"http://interacts_with\"/>\n",
        "                <owl:someValuesFrom rdf:resource=\"http://4932.Q0050\"/>\n",
        "            </owl:Restriction>\n",
        "        </rdfs:subClassOf>\n",
        "        ...\n",
        "    </owl:Class>\n",
        "\n",
        "\n",
        "Αντιστοίχως λοιπόν, και η πρωτεΐνη 4932.Q0050 συνδέεται ρητά με την 4932.Q0045, με χρήση του ίδιου property:\n",
        "\n",
        "    <owl:Class rdf:about=\"http://4932.Q0050\">\n",
        "        ...\n",
        "        <rdfs:subClassOf>\n",
        "            <owl:Restriction>\n",
        "                <owl:onProperty rdf:resource=\"http://interacts_with\"/>\n",
        "                <owl:someValuesFrom rdf:resource=\"http://4932.Q0045\"/>\n",
        "            </owl:Restriction>\n",
        "        </rdfs:subClassOf>\n",
        "        ...\n",
        "     </owl:Class>\n",
        "Για την 4932.Q0045 στο ontology.owl περιέχονται 55 αλληλεπιδράσεις με άλλες πρωτείνες. Στο valid.owl, παρέχονται μόνο 2 και στο test.owl 6, εκ των οποίων καμία δεν είναι παρούσα στο ontology.owl. Αυτή η αναλογία δεν δεν είναι σταθερή από κλάση σε κλάση και γενικά [οι αλληλεπιδράσεις χωρίστικαν τυχαία](https://mowl.readthedocs.io/en/latest/api/mowl.datasets.builtin.PPIYeastDataset.html#mowl.datasets.builtin.PPIYeastDataset), ώστε το 90% αυτών να είναι στο αρχείο ontology.owl, το 5% στο valid.owl και το υπόλοιπο 5% στο test.owl. Το γεγονός επίσης ότι οι αλληλεπιδράσεις του ontology.owl δεν εμφανίζονται στα άλλα 2 αρχεία είναι ιδιαίτερα σημαντικό, καθώς ο στόχος των μοντέλων είναι το link prediction. Δηλαδή, κάθε φορά που γίνεται το στάδιο του validation, το μοντέλο προσαρμόζεται ώστε να \"μαντεύει\" καλύτερα αν προτείνες αλληλεπιδρούν με άλλες με βάση τις νέες αλληλεπιδράσεις του valid.owl. Τέλος στο στάδιο αξιολόγησης του μοντέλου, ελέγχεται κατά πόσο προβλέπονται οι αλληλεπιδράσεις του test.owl από το ontology.owl.\n",
        "\n",
        "***\n",
        "Αριθμός προτεϊνών στο ontology.owl: 6033\n",
        "\n",
        "Αριθμός αλληλεπιδράσεων πρωτεϊνών στο ontology.owl: 433390\n",
        "\n",
        "Αριθμός προτεϊνών στο valid.owl: 3635\n",
        "\n",
        "Αριθμός αλληλεπιδράσεων πρωτεϊνών στο valid.owl: 24078\n",
        "\n",
        "Αριθμός προτεϊνών στο test.owl: 3665\n",
        "\n",
        "Αριθμός αλληλεπιδράσεων πρωτεϊνών στο test.owl: 24082\n",
        "***\n",
        "\n",
        "![](https://mermaid.ink/img/pako:eNqNU8Fq20AQ_ZVhe0nAKjn1IEggiazk0J4aemjVw9ZaySLSbpBXTU0IJG1NKeRSaC-lt-SYNhjbGMdx_QerX-pbqXYTQksRi2Zn33u8md05Yi0VCuYyx3EC2VIySmI3kEQp76pCuxQlb0RoE7otMuGSFMoJeb4fyIoRpeqw1ea5pj3Poog2XwRMSa1SFXcfqsOUVvZynshExuRxzVcD9pIcZ4O2gDNfTb98by7NFN_YLipPylMzNyOk52ZibgB4Z65Mn5AYl28J2Vl1NsUa2BObHADaJzMyE6D7ZlB-ROoHYTMiaNSc75az0MlgDVZqz1uVo23r6Iu5Lk8gcWWGMNGDwpjMtz8KUJ7RClx-oObjZvZKhCFK66wutbYrLc9qfUZNN3A2h85pbZbEkrJkeBXDt4zzqhtDyyFYmVXhJURG1oit9JP5aU9h5AyK40X6To1l75b2-voG7VrtC7RnCu41GoMC78mgfah8Yoblme1bVajtdNn7u3wTwq95moT1TT-zIdeJknfv2q_RO0Br0dG_nwWie69it0b69YXUm47upoI28c_VvnAf-P4jb22tESVputjcBjb_F7jzbyBrsEzkGU9CjMeRJcK9HYKAuQirIWCBPAaOF1o97coWc3VeiAbLVRG3mRvxtINdcYCeCC_hcc6zBeSAy-dKZUuQCBOt8if1MFYzefwL1_idzg)"
      ]
    },
    {
      "cell_type": "markdown",
      "metadata": {
        "id": "H4nUtPx4-C0I"
      },
      "source": [
        "## EL-embedding μοντέλο\n",
        "H mOWL μπορεί να παράξει embeddings με πολλούς τρόπους. Το [EL-embedding μοντέλο](https://mowl.readthedocs.io/en/latest/examples/elmodels/plot_1_elembeddings.html#sphx-glr-examples-elmodels-plot-1-elembeddings-py), είναι ένας από αυτούς.\n",
        "Το [EL profile](https://www.w3.org/TR/owl2-profiles/#OWL_2_EL), είναι ένα lightweight profile της OWL που υποστηρίζει βασικές εκφράσεις Descriptions Logic, καθιστώντας το ιδιαίτερα χρήσιμο για μεγάλα datasets με απλές ιεραρχίες.\n",
        "\n",
        "Το EL profile βασίζεται στα εξής General Concept Inclusions (GCIs):\n",
        "\n",
        "**GCI 0** - `C ⊑ D`: Περιγράφει ότι κάθε στοιχείο της κλάσης 𝐶 ανήκει και στην κλάση D. Ουσιαστικά, είναι η σχέση \"subclassOf\" της OWL.<br>\n",
        "**GCI 1** - `C1 ⊓ C2 ⊑ D`: Περιγράφει ότι αν κάτι ανήκει στην κλάση C1 και στην κλάση C2, τότε ανήκει και στην κλάση D. To EL profile μπορεί να υποστηρίξει τομή δύο κλάσεων.<br>\n",
        "**GCI 2** - `C ⊑ ∃R.D`: Περιγράφει ότι όλα τα μέλη της κλάσης C πρέπει να έχουν μια σχέση R με τουλάχιστον ένα αντικείμενο που ανήκει στην κλάση D. Το EL profile μπορεί να υποστηρίξει σχέσεις (properties) μεταξύ κλάσεων και individuals.<br>\n",
        "**GCI 3** - `∃R.C ⊑ D`: Περιγράφει ότι αν υπάρχει μια σχέση R που συνδέει κάποιο αντικείμενο με ένα μέλος της κλάσης C, τότε το αντικείμενο αυτό ανήκει στην κλάση D.<br>\n",
        "**GCI bot 0** - `C ⊑ ⊥`: Περιγράφει ότι δεν υπάρχει κάποιο αντικείμενο στην κλάση C - μπορεί να υπάρξει κενή κλάση.<br>\n",
        "**GCI bot 1** - `C1 ⊓ C2 ⊑ ⊥`: Περιγράφει ότι μπορεί η τομή των κλάσεων C1 και C2 να είναι κενή<br>\n",
        "**GCI bot 3** - `∃R.C ⊑ ⊥`: Περιγράφει ότι δεν υπάρχει αντικείμενο που να έχει μια σχέση R προς κάτι που ανήκει στην κλάση C.<br>\n",
        "\n",
        "όπου τα C1, C2, D είναι κλάσεις, το R αντιστοιχεί σε μια ιδιότητα.\n",
        "Ουσιαστικά, τα GCIs αποτυπώνουν τους \"κανόνες\" που μπορούμε να χρησιμοποιήσουμε για να περιγράψουμε γνώση με το συγκεκριμένο OWL profile.\n",
        "\n",
        "Σύμφωνα με το σχετικό [paper](https://www.ijcai.org/proceedings/2019/845), το EL embedding μοντέλο αποσκοπεί στο να μεταφέρει τις κλάσεις και τις σχέσεις σε μια γεωμετρική διάσταση (όπως έναν n-διάστατο πραγματικό χώρο). Ο στόχος είναι να διατηρηθεί η σημασιολογική δομή της οντολογίας μέσα σε αυτόν τον γεωμετρικό χώρο.\n",
        "Για να επιτευχθεί αυτό η mOWL αντιστοιχίζει κάθε κλάση σε μια n-διάστατη σφαίρα (\"μπάλα\"). Η n-μπάλα που αντιστοιχεί στην κλάση C1 περικλείει όλα τα individuals της κλάσης. Κάθε σημείο της \"υπερσφαίρας\" αυτής αποτελεί ένα από τα individuals της κλάσης. Με αυτή τη λογική, αν μια κλάση είναι υποκλάση μιας άλλης, η αντίστοιχη n-μπάλα που αναπαριστά την πρώτη κλάση (υποκλάση) θα πρέπει να βρίσκεται μέσα στην n-μπάλα της δεύτερης (υπερκλάση).\n",
        "\n",
        "Οι σχέσεις μεταξύ κλάσεων (object properties) αντιστοιχίζονται σε διανύσματα σε αυτόν τον n-διάστατο χώρο. Ας υποθέσουμε ένα object property P που διασυνδέει τα individuals c της κλάσης C και d της κλάσης D. Αυτή η σχέση θα αποτυπωθεί στον διανυσματικό χώρο του μετασχηματισμού σαν ένα διάνυσμα που ενώνει δύο σημεία τα οποία περικλείονται από τις αντίστοιχες n-μπάλες που αποτελούν τον μετασχηματισμό της κλάσης C και της κλάσης D.\n",
        "\n",
        "Το μοντέλο εκμάθησης χρησιμοποιεί συναρτήσεις απώλειας για να διασφαλίσει ότι η γεωμετρική αναπαράσταση της οντολογίας διατηρεί τις λογικές σχέσεις μεταξύ των κλάσεων και των σχέσεων.\n",
        "Ορίζεται λοιπόν για κάθε ένα GCI μια συνάρτησης απώλειας και το άθρισμα των απωλειών για κάθε μετασχηματισμό κάθε μιας από τις κλάσεις χρησιμοποιείται για την δυνατόν καλύτερη προσαρμογή των σφαιρών στους κανόνες του EL Profile.  \n",
        "\n",
        "Ως παράδειγμα, υπάρχει ένα μοντέλο που χρησιμοποιείται για να μοντελοποιήσει τις σχέσεις των PPIs. Το μοντέλο αυτό είναι ένα μοντέλο τύπου EL-embedding ([ELEmPPI](https://mowl.readthedocs.io/en/latest/_modules/mowl/models/elembeddings/examples/model_ppi.html#ELEmPPI)) αλλά παρέχεται και ένα γενικότερο μοντέλο που μπορεί να προσαρμοστεί για οποιοδήποτε dataset. <br>\n",
        "\n"
      ]
    },
    {
      "cell_type": "markdown",
      "metadata": {
        "id": "xH4XK7nJ-C0I"
      },
      "source": [
        "## [Εκπαίδευση μοντέλου EL embedding](https://mowl.readthedocs.io/en/latest/api/mowl.models.ELEmbeddings.html#mowl.models.ELEmbeddings)\n",
        "Τα δεδομένα στην αρχή υπάρχουν ως τριπλέτες και διαχωρίζονται με κριτήριο το GCI που αντιπροσωπεύουν. Έπειτα μετατρέπεται το κάθε κομμάτι της τριπλέτας σε ένα n-διάστατο embedding τυχαία αρχικοποιημένο. Έπειτα, για τον πιο ακριβής ορισμό του μοντέλου, δημιουργούνται και αρνητικά δείγματα για το GCI που μας ενδιαφέρει (στην συγκεκριμένη περίπτωση το GCI2), όπου αντικαθίσταται το τρίτο μέρος της τριπλέτας με κάποια άλλη τυχαία επιλογή και ορίζεται ως ψευδή σχέση. Η παρακάτω μεθοδολογία ονομάζεται negative sampling.\n",
        "Αφού μετατραπούν και τα negative samples σε embeddings, κατά την διάρκεια κάθε εποχής, το μοντέλο τα ενημερώνει με στόχο την **ελαχιστοποίηση της συνάρτησης απώλειας**.\n",
        "Στην συγκεκριμένη εφαρμογή, η συνάρτηση που μας αποσχωλεί κυρίως είναι η gci2_loss και αποτελείται από 2 μέρη.\n",
        "$$\n",
        "\\text{loss}_{C \\subseteq \\exists R.D }(c, d, r) = \\max\\Big(0,\\; \\|f(c) + f(r) - f(d)\\| + r(c) - r(d) - \\gamma\\Big)\n",
        "+ \\Big|\\|f(c)\\| - 1\\Big| + \\Big|\\|f(d)\\| - 1\\Big|\n",
        "$$\n",
        "Στο πρώτο μέρος ο στόχος είναι η μετατώπιση του κέντρου της n-μπάλας C + την σχέση R ώστε να εμπείπτει μέσα στην n-μπάλα D.\n",
        "\n",
        "Επιπλέον, αν η r(c) (ακτίνα της C) είναι πολύ μεγάλη σε σχέση με την r(d), τότε αυτό δείχνει ότι το \"εμβαδόν\" της C δεν είναι συμβατό με το να συμπεριλιφθεί μέσα στην D. Οπότε ο όρος r(c)−r(d) προστίθεται στην απόσταση που υπολογίζεται παραπάνω (f(c)+f(r)-f(d)), ώστε να υπάρξει ποινή (loss) όταν η μπάλα C δεν είναι εντός της μπάλας της D (το γ είναι ένα περιθώριο ασφάλειας).\n",
        "Το δεύτερο μέρος της συνάρτησης έχει ρόλο κανονικοποίησης. Δηλαδή, διασφαλίζει ότι τα embeddings των κατηγοριών δεν αποκλίνουν από την μονάδα.\n",
        "\n",
        "Tέλος, μετά από κάθε epoch, υπολογίζεται η συνάρτηση απώλειας στα δεδομένα του validation set (όπου δεν έχει εκπαιδευτεί) χωρίς να γίνονται ενημερώσεις στα embeddings με σκοπό την αξιολόγηση ικανότητας γενίκευσης του μοντλέλου μετά από κάθε εποχή και τον έλεγχο υπερπροσαρμογής του.\n",
        "\n",
        "\n",
        "\n",
        "\n",
        "---\n",
        "\n",
        "\n",
        "\n",
        "Στις παραμέτρους του ELEmPPI μπορούν να δοκιμαστούν διάφορες τιμές για κάθε όρισμα. <br>\n",
        "Η έξοδος μετά την εκπέδευση, αποθηκέυται στις τιμές model.class_embeddings και model.object_property_embeddings και είναι τυπου dictionaries. Το  model.class_embeddings περιέχει τα ονόματα των κλάσεων και το embedding τους, και το model.object_property_embeddings τις ιδιότητες με τα αντίστοιχα embeddings για την κάθε μία από αυτές."
      ]
    },
    {
      "cell_type": "code",
      "execution_count": null,
      "metadata": {
        "colab": {
          "base_uri": "https://localhost:8080/"
        },
        "id": "eu2vtj9I-C0J",
        "jupyter": {
          "outputs_hidden": false
        },
        "outputId": "24e4f28c-26d7-4229-c871-c1b43b26b2eb"
      },
      "outputs": [
        {
          "name": "stderr",
          "output_type": "stream",
          "text": [
            "100%|████████████████████████████████████████████████████████████████████████████████| 400/400 [02:06<00:00,  3.17it/s]\n"
          ]
        },
        {
          "data": {
            "text/plain": [
              "1"
            ]
          },
          "execution_count": 3,
          "metadata": {},
          "output_type": "execute_result"
        }
      ],
      "source": [
        "import logging\n",
        "from mowl.datasets.builtin import PPIYeastDataset\n",
        "from mowl.models import ELEmPPI\n",
        "\n",
        "# logging να αγνοεί τα info μηνύματα\n",
        "logging.basicConfig(level=logging.WARNING)\n",
        "\n",
        "# dataset που χρησιμοποιείται (το συγκεκριμένο είναι built-in)\n",
        "dataset = PPIYeastDataset()\n",
        "\n",
        "# initialize model with the required parameters\n",
        "model = ELEmPPI(dataset, #το dataset που χρησιμοποιείται για εκπέδευση (στο συγκεκριμένο μέσα στο ELemPPI παίρνει το training κομμ΄άτι του και τα GCIs αυτού\n",
        "                embed_dim=256, #διάσταση των embedding\n",
        "                learning_rate=0.0003,#ρυθμός μάθησης (ρυθμός ενημέρωσης παραμέτρων εκπέδευσης σε κάθε βήμα)\n",
        "                epochs=400,#αριθμός εποχών (δλδ πλήρης επαναλήψεων εκπέδευσης)\n",
        "                batch_size=2048, #τα δείγματα που επεξεργάζονται σε κάθε βήμα\n",
        "                model_filepath=None,\n",
        "                device='cuda') #Χρήση cuda (gpu) για γρηγορότερους υπολογισμούς στο training\n",
        "\n",
        "#κλήση μεθόδου εκπέδευσης\n",
        "model.train()\n"
      ]
    },
    {
      "cell_type": "markdown",
      "metadata": {
        "id": "T76qGqvF-C0L"
      },
      "source": [
        "## Evaluation\n",
        "\n",
        "To evaluation των embeddings διαφέρει ανάλογα με το dataset. Στο συγκεκριμένο παράδειγμα, χρησιμοποιείται το PPIYeastDataset και το built-in [PPIEvaluator](https://mowl.readthedocs.io/en/latest/api/mowl.evaluation.PPIEvaluator.html#mowl.evaluation.PPIEvaluator). <b> Κάθε κλάση Evaluator χαρακτηρίζεται από δύο κύρια σημεία: τον τύπο των οντοτήτων που εμπλέκονται και τον τύπο των αξιωμάτων που θα αξιολογηθούν. </b> Στην περίπτωση του PPIEvaluator, οι εμπλεκόμενες οντότητες είναι μόνο αυτές που εκπροσωπούν πρωτεΐνες, χωρίς να λαμβάνονται υπόψη άλλες οντότητες. Τα αξιώματα που αξιολογούνται με τον PPIEvaluator είναι του τύπου \"p1 αλληλεπιδρά με p2\" (εξού και το PPI όνομα). Κάθε dataset έχει τη δική του ιδιότητα evaluation_classes, όπου καθορίζει τι είδους οντότητες ή αξιώματα θα εξεταστούν από το dataset στο πλαίσιο της αξιολόγησης. <br>\n",
        "\n",
        "\n",
        "Κατά τη διαδικασία της αξιολόγησης δημιουργούνται υποψήφιες τριάδες αντικαθιστώντας το στοιχείο που επιδιώκεται να προβλεφθεί με όλα τα πιθανά candidates πρωτεινών.\n",
        "\n",
        "Συγκεκριμένα, για την πρόβλεψη του tail, από κάθε αρχική τριάδα (head, rel, tail) το tail αφαιρείται, πράγμα που σημαίνει ότι το head και η σχέση (rel) επαναλαμβάνονται και για κάθε μία από τις οντότητες στο evaluation set (self.evaluation_tails), δημιουργείται μια νέα τριάδα (head, rel, candidate_tail), επιτρέποντας στο μοντέλο να υπολογίσει scores για κάθε candidate tail.\n",
        "\n",
        "Τα scores αυτά για κάθε τριπλέτα υπολογίζονται με την χρήση των ίδιων συναρτήσεων απώλειας που χρησιμοποιούνται και στο train στάδιο (στο συγκεκριμένο παράδειγμα άρα την gci2_loss), και ύστερα ταξινομούνται σε αύξουσα σειρά, ώστε οι τριπλέτες με το μικρότερο loss να θεωρούνται πιο πιθανές.\n",
        "\n",
        "Αντίστοιχα, για την πρόβλεψη του head, αφαιρείται το head από κάθε τριάδα, ενώ το tail και η σχέση επαναλαμβάνονται, με το head να αντικαθίσταται από κάθε υποψήφιο head στο evaluation set (self.evaluation_heads). Έπειτα ξανά υπολογίζονται τα loss για κάθε τριπλέτα και ταξινομούται με βάση αυτά.\n",
        "\n",
        "\n",
        "\n",
        "    heads = heads.repeat_interleave(len(self.evaluation_tails)).unsqueeze(1)\n",
        "    rels = rels.repeat_interleave(len(self.evaluation_tails)).unsqueeze(1)\n",
        "    eval_tails = th.arange(len(self.evaluation_tails), device=heads.device).repeat(num_heads).unsqueeze(1)\n",
        "\n",
        "     \n",
        "    logits_heads = model(th.cat([heads, rels, eval_tails], dim=-1), \"gci2\")\n",
        "    logits_heads = logits_heads.view(-1, len(self.evaluation_tails))\n",
        "        \n",
        "    tails = tails.repeat_interleave(len(self.evaluation_heads)).unsqueeze(1)\n",
        "    eval_heads = th.arange(len(self.evaluation_heads), device=tails.device).repeat(num_tails).unsqueeze(1)\n",
        "\n",
        "    logits_tails = model(th.cat([eval_heads, rels, tails], dim=-1), \"gci2\")\n",
        "    logits_tails = logits_tails.view(-1, len(self.evaluation_heads))\n",
        "    # print(logits_heads, logits_tails)\n",
        "\n",
        "Με αυτόν τον τρόπο, η διαδικασία αξιολόγησης μετρά την ικανότητα του μοντέλου να προβλέπει σωστές αλληλεπιδράσεις (link prediction), δηλαδή ποια οντότητα συμπληρώνει καλύτερα το κενό σε μια τριάδα σε σχέση με το σύνολο των πιθανών επιλογών.\n",
        "\n",
        "Μετά την τελική αξιολόγηση στο test set, αποθηκεύονται στο model.metrics διάφορες μετρικές για το πόσο καλά κατατάσει το μοντέλο τις σωστές πρωτείνες στις ελλιπείς τριπλέτες. Μια από αυτές τις μετρικές είναι η\n",
        "[hits@k](https://pykeen.readthedocs.io/en/stable/api/pykeen.metrics.ranking.HitsAtK.html).\n",
        "Συγκεκριμένα, μετρά το ποσοστό των περιπτώσεων όπου η σωστή οντότητα (π.χ. η σωστή πρωτεΐνη) εμφανίζεται μεταξύ των κορυφαίων k προβλεπόμενων οντοτήτων για κάθε δοσμένη ελλιπής τριπλέτα. Η τιμή της μετρικής κυμαίνεται από 0 έως 1, με τιμές πλησιέστερες στο 1 να υποδεικνύουν καλύτερη απόδοση του μοντέλου.\n",
        "\n",
        "Για παράδειγμα:\n",
        "\n",
        "Σε ένα σύνολο 100 ελλιπών τριπλετών (head, relation, ?)), για k = 10, αν σε 85 από τις 100 ελλιπείς τριπλέτες η σωστή πρωτεΐνη εμφανίζεται μέσα στα 10 πρώτα candidate_tails, τότε:\n",
        "\n",
        "hits@10 = 85/100 = 0.85\n",
        "\n",
        "Αυτό σημαίνει ότι σε 85% των περιπτώσεων το μοντέλο κατάφερε να συμπεριλάβει την σωστή πρωτεΐνη μέσα στο top-10 των επιλογών του.\n",
        "\n",
        "Βέβαια, μια πιο ευνόητη μετρική είναι η [Mean Rank](https://pykeen.readthedocs.io/en/stable/api/pykeen.metrics.ranking.ArithmeticMeanRank.html#pykeen.metrics.ranking.ArithmeticMeanRank), όπου δίνει την μέση θέση που βρίσκεται η σωστή πρόβλεψη για τις ελλιπείς τριπλέτες."
      ]
    },
    {
      "cell_type": "code",
      "execution_count": null,
      "metadata": {
        "colab": {
          "base_uri": "https://localhost:8080/"
        },
        "id": "4HyamIoE-C0L",
        "jupyter": {
          "outputs_hidden": false
        },
        "outputId": "563ad9f1-9e4b-4bf4-dc27-bd20fd2a48b4"
      },
      "outputs": [
        {
          "name": "stdout",
          "output_type": "stream",
          "text": [
            "{'mr': 490.4119601328904, 'mrr': 0.02747791769470102, 'f_mr': 490.4119601328904, 'f_mrr': 0.02747791769470102, 'auc': 0.9189446902727906, 'f_auc': 0.9189446902727906, 'hits@1': 0.0004152823920265781, 'hits@3': 0.00872093023255814, 'hits@10': 0.06229235880398671, 'hits@50': 0.3267441860465116, 'hits@100': 0.47483388704318935, 'f_hits@1': 0.0004152823920265781, 'f_hits@3': 0.00872093023255814, 'f_hits@10': 0.06229235880398671, 'f_hits@50': 0.3267441860465116, 'f_hits@100': 0.47483388704318935}\n"
          ]
        }
      ],
      "source": [
        "from mowl.evaluation import PPIEvaluator\n",
        "model.set_evaluator(PPIEvaluator)\n",
        "model.evaluate(dataset.testing)\n",
        "\n",
        "data1 = model.metrics #αποθήκευση αποτελεσμάτων για το ELembedding\n",
        "print(data1)"
      ]
    },
    {
      "cell_type": "markdown",
      "metadata": {
        "id": "3Xw1OzNAOa_J"
      },
      "source": [
        "### Οπτικοποίηση αποτελεσμάτων ###\n",
        "\n",
        "Για την απεικόνιση των embedding, η έτοιμη κλάση TSNE της mowl, δεν είναι επαρκής, καθώς δεν αναφέρει το όνομα της κάθε κλάσης κάτω από τις βούλες στην αναπαράσταση, και χρησιμοποιεί ένα legend. Παρόλα αυτά, όταν έχουμε πολλές διαφορετικές κλάσεις, όπως και με τα PPI, όπου κάποιες αναγκαστικά θα έχουν το ίδιο χρώμα, το legend είναι απρόσφορο."
      ]
    },
    {
      "cell_type": "code",
      "execution_count": null,
      "metadata": {
        "colab": {
          "base_uri": "https://localhost:8080/",
          "height": 908
        },
        "id": "wUIo3PtPOa_J",
        "outputId": "bb7e0b38-ed7a-4cd9-f93b-e832d631dcdd"
      },
      "outputs": [
        {
          "name": "stderr",
          "output_type": "stream",
          "text": [
            "INFO:root:Found 50 embedding vectors. Processing only 50.\n",
            "C:\\Users\\dalla\\AppData\\Local\\Programs\\Python\\Python310\\lib\\site-packages\\sklearn\\manifold\\_t_sne.py:1164: FutureWarning: 'n_iter' was renamed to 'max_iter' in version 1.5 and will be removed in 1.7.\n",
            "  warnings.warn(\n",
            "C:\\Users\\dalla\\AppData\\Local\\Programs\\Python\\Python310\\lib\\site-packages\\joblib\\externals\\loky\\backend\\context.py:136: UserWarning: Could not find the number of physical cores for the following reason:\n",
            "[WinError 2] The system cannot find the file specified\n",
            "Returning the number of logical cores instead. You can silence this warning by setting LOKY_MAX_CPU_COUNT to the number of cores you want to use.\n",
            "  warnings.warn(\n",
            "  File \"C:\\Users\\dalla\\AppData\\Local\\Programs\\Python\\Python310\\lib\\site-packages\\joblib\\externals\\loky\\backend\\context.py\", line 257, in _count_physical_cores\n",
            "    cpu_info = subprocess.run(\n",
            "  File \"C:\\Users\\dalla\\AppData\\Local\\Programs\\Python\\Python310\\lib\\subprocess.py\", line 503, in run\n",
            "    with Popen(*popenargs, **kwargs) as process:\n",
            "  File \"C:\\Users\\dalla\\AppData\\Local\\Programs\\Python\\Python310\\lib\\subprocess.py\", line 971, in __init__\n",
            "    self._execute_child(args, executable, preexec_fn, close_fds,\n",
            "  File \"C:\\Users\\dalla\\AppData\\Local\\Programs\\Python\\Python310\\lib\\subprocess.py\", line 1456, in _execute_child\n",
            "    hp, ht, pid, tid = _winapi.CreateProcess(executable, args,\n"
          ]
        },
        {
          "data": {
            "image/png": "[encoded data removed]",
            "text/plain": [
              "<Figure size 1000x1000 with 1 Axes>"
            ]
          },
          "metadata": {},
          "output_type": "display_data"
        }
      ],
      "source": [
        "\n",
        "import matplotlib.pyplot as plt\n",
        "from mowl.visualization import TSNE\n",
        "\n",
        "class CustomTSNE(TSNE):\n",
        "    def show(self, figsize=(10, 10), alpha=0.5, fontsize=9):\n",
        "\n",
        "        points = self.points\n",
        "        labels = self.labels\n",
        "\n",
        "        if points is None:\n",
        "            raise ValueError(\"You need to call generate_points() first.\")\n",
        "\n",
        "        plt.figure(figsize=figsize)\n",
        "\n",
        "        for i, label in enumerate(labels):\n",
        "            #color = label_to_color[label]\n",
        "            color = self.class_color_dict[label]\n",
        "            plt.scatter(points[i, 0], points[i, 1], color=color, alpha=0.7) #alpha= opacity\n",
        "            plt.text(points[i, 0], points[i, 1] - 0.3, label, fontsize=7,  #fontisze = label size\n",
        "                     ha='center', va='top', color=color)                    #  points[i,1]-0.3 = change -0.3 to make the label go lower or higher\n",
        "\n",
        "        plt.title(\"TSNE Visualization with Labels.\")\n",
        "        plt.grid(True)\n",
        "        plt.show()\n",
        "\n",
        "\n",
        "\n",
        "class_embeddings = model.class_embeddings #dict με ονόματα κλάσεων δλδ προτεινών και το αντίστοιχο embedding τους.\n",
        "#για το plot χρησιμοποιούνται τα 50 πρώτα classes\n",
        "limited_class_embeddings = dict(list(model.class_embeddings.items())[:50])\n",
        "res = dict((k,k) for k,v in limited_class_embeddings.items())\n",
        "tsne = CustomTSNE(limited_class_embeddings, res) #εργαλείο για μείωση των διαστάσεων σε 2, για λόγους οπτικοποίησης\n",
        "tsne.generate_points(250, workers=4)\n",
        "tsne.show()\n"
      ]
    },
    {
      "cell_type": "markdown",
      "metadata": {
        "id": "s521pgkm-C0M"
      },
      "source": [
        "## [ELBox Embedding](https://mowl.readthedocs.io/en/latest/examples/elmodels/plot_2_elboxembeddings.html#sphx-glr-examples-elmodels-plot-2-elboxembeddings-py)\n",
        "Στην περίπτωση των EL Embeddings, τα γεωμετρικά αντικείμενα που αναπαριστούν τις κλάσεις της οντολογίας είναι μπάλες n-διαστάσεων. Ένα από τα GCI στην EL είναι: <br>\n",
        "`C1 ⊓ C2 ⊑ D'\n",
        "Όπως είναι φανερό, σε αυτό το GCI, υπάρχει μια πράξη τομής . Η υπολογιστική αυτή τομή χρησιμοποιώντας μπάλες δεν είναι μια κλειστή πράξη διότι η περιοχή που περιέχεται στην τομή δύο μπαλών δεν είναι μπάλα. Για να λυθεί αυτό το ζήτημα, μπορεί να χρησιμοποιηθεί ένας άλλος τρόπος να παράξουμε embeddings ο οποίος αντί για n-μπάλες μετατρέπει τις κλάσεις σε n-κύβους για τους οποίους η πράξη της τομής έχει την ιδιότητα της κλειστότητας. Aυτό γίνεται με το έτοιμο μοντέλο [ELBoxPPI](https://mowl.readthedocs.io/en/latest/_modules/mowl/models/elboxembeddings/examples/model_ppi.html#ELBoxPPI) της mowl, αντιστοίχως.\n"
      ]
    },
    {
      "cell_type": "code",
      "execution_count": null,
      "metadata": {
        "colab": {
          "base_uri": "https://localhost:8080/"
        },
        "id": "O-3OejFr-C0M",
        "jupyter": {
          "outputs_hidden": false
        },
        "outputId": "3d1e3b45-84c1-4ac5-9fef-756b49c18b6f"
      },
      "outputs": [
        {
          "name": "stderr",
          "output_type": "stream",
          "text": [
            "100%|████████████████████████████████████████████████████████████████████████████████| 400/400 [23:20<00:00,  3.50s/it]\n"
          ]
        },
        {
          "data": {
            "text/plain": [
              "1"
            ]
          },
          "execution_count": 6,
          "metadata": {},
          "output_type": "execute_result"
        }
      ],
      "source": [
        "from mowl.models.elboxembeddings.examples.model_ppi import ELBoxPPI\n",
        "model = ELBoxPPI(dataset,\n",
        "                 embed_dim=256,\n",
        "                 learning_rate=0.0003,\n",
        "                 epochs=400,\n",
        "                 batch_size=2048,\n",
        "                 model_filepath=None,\n",
        "                 device='cuda')\n",
        "model.train()"
      ]
    },
    {
      "cell_type": "markdown",
      "metadata": {
        "id": "-yGloQ-2-C0N"
      },
      "source": [
        "Εδώ χρησιμοποιείται για άλλη μια φορά το built-in evaluator για PPIs της mowl και αποθηκεύονται τα αποτελέσματα απόδοσης του embedding."
      ]
    },
    {
      "cell_type": "code",
      "execution_count": null,
      "metadata": {
        "colab": {
          "base_uri": "https://localhost:8080/"
        },
        "id": "rjyf_DEh-C0N",
        "outputId": "b14ab9de-cb36-44ce-ad68-8f2ba33cb36c"
      },
      "outputs": [
        {
          "name": "stdout",
          "output_type": "stream",
          "text": [
            "{'mr': 1021.3595514950166, 'mrr': 0.0069195035099648425, 'f_mr': 1021.3595514950166, 'f_mrr': 0.0069195035099648425, 'auc': 0.8310103425811498, 'f_auc': 0.8310103425811498, 'hits@1': 8.305647840531562e-05, 'hits@3': 0.0020764119601328905, 'hits@10': 0.010465116279069767, 'hits@50': 0.05564784053156146, 'hits@100': 0.11453488372093024, 'f_hits@1': 8.305647840531562e-05, 'f_hits@3': 0.0020764119601328905, 'f_hits@10': 0.010465116279069767, 'f_hits@50': 0.05564784053156146, 'f_hits@100': 0.11453488372093024}\n"
          ]
        }
      ],
      "source": [
        "from mowl.evaluation import PPIEvaluator\n",
        "\n",
        "model.set_evaluator(PPIEvaluator)\n",
        "model.evaluate(dataset.testing)\n",
        "data2= model.metrics\n",
        "print(data2)"
      ]
    },
    {
      "cell_type": "markdown",
      "metadata": {
        "id": "4Mf1bxav-C0N"
      },
      "source": [
        "## Embedding με χρήση γράφου\n",
        "### TransE Embedding\n",
        "Η αποτύπωση μίας οντολογίας σε μορφή γράφου, διευρύνει κατά πολύ τις μεθοδολογίες που μπορούν να χρησιμοποιηθούν για την παραγωγή embeddings, όπως η χρήση random walks και αλλων KGE μεθόδων, διατειρώντας την σημασιολογία μεταξύ κλάσεων και σχέσεων.\n",
        "Στο παράδειγμα αυτό, αρχικά το dataset προβάλλεται σε γράφο με χρήση του [DL2VecProjector](https://mowl.readthedocs.io/en/latest/api/mowl.projection.DL2VecProjector.html#mowl.projection.DL2VecProjector). <br>\n",
        "Οι κανόνες για την προβολή σε γράφο είναι οι εξείς: <br>\n",
        "1. $$  A \\sqsubseteq \\exists Q R_0 \\dots Q R_m D  με  D := B_1 \\sqcup \\dots \\sqcup B_n  ή  D := B_1 \\sqcap \\dots \\sqcap B_n  $$\n",
        "   - Η κλάση  A  είναι υποσύνολο της D που σχετίζεται με τουλάχιστον μία από τις εξείς ιδιότητες $$ R_0, R_1, \\dots, R_m  $$  \n",
        "   Αν η D είναι ένωση ή τομή των $$B_1, B_2, \\dots, B_n , $$\n",
        "   \n",
        "  τότε για κάθε  i από 1 ως n, προστίθεται η τρίπλετα $$ ( A, (R_0 \\dots R_m), B_i ).$$   \n",
        "\n",
        "2. Το ίδιο αποτέλεσμα τριπλετών παράγεται και για σχέσεις ισοδυναμίας εκτός από υποσυνόλων.  \n",
        "\n",
        "3. $$  A \\sqsubseteq B $$\n",
        "   - Για την απλή σχέση subClass κλάσεων προστίθεται η τριπλέτα (Α,subClassOf,B)\n",
        "\n",
        "4. $$ A \\equiv B  $$  \n",
        "   - Παρομοίως, για την ισοδυναμία κλάσεων παράγεται η τριπλέτα (Α,EquivalentTo,B)\n",
        "\n",
        "5. C(a)\n",
        "   - Σε περίπτωση ύπαρξης instance a σε μια κλάση, παράγεται η τριπλέτα <br>(a, http://type, C)\n",
        "\n",
        "6. $$ \\exists R. C(a) $$  \n",
        "   - Για την περίπτωση που υπάρχει μια ιδιότητα για το instance a που ανήκει στην κλάση C, παράγεται η τριπλέτα (a,R,C).  \n",
        "\n",
        "7.  R(a, b)\n",
        "   - Τέλος, σε περίπτωση που υπάρχει ιδιότητα που να συνδέει 2 instances a και b, παράγεται η τριπλέτα (a,R,b).\n",
        "\n",
        "\n",
        " H προβολή αυτή, ουσιαστικά παράγει [τριπλέτες για το pyKEEN μοντέλο](https://mowl.readthedocs.io/en/stable/api/mowl.projection.Edge.html#mowl.projection.Edge), ιδανικές δηλαδή για χρήση TransE embedding.<br>\n",
        "Tο [TransE](https://arxiv.org/pdf/2406.10964) αντιπροσωπεύει τις οντότητες (ℎ, 𝑡) και τις σχέσεις (𝑟) ενός γράφου γνώσης ως διανύσματα στον ίδιο χώρο. Ο βασικός στόχος του TransE είναι να μοντελοποιήσει τις σχέσεις μεταξύ των οντοτήτων ως μετατοπίσεις στον χώρο. Ουσιαστικά η εξίσωση που προσπαθεί να λύσει είναι η εξής: ℎ+𝑟≈𝑡 <br>"
      ]
    },
    {
      "cell_type": "code",
      "execution_count": null,
      "metadata": {
        "id": "s74TsZO8-C0N",
        "scrolled": true,
        "colab": {
          "referenced_widgets": [
            "a8bb3fdf23404852a40651b613ce07bd",
            "3c294a03e7c1418d996a757854bdf5b3",
            "cc57da5850ef4ca2beaa99df9819ab31",
            "6cd476c0104e430ba0ea7988592351b9",
            "6d019672b5c049f59c54e12e3c3b343a",
            "cfb92f6ee59541ac866cf77bdc9d8e56",
            "8bc17e9b985548318209025ca6f377d2",
            "83461e5ee4584c5d8ccad690f9e587ee",
            "66fa85820e894cf3b88042e9ed1d675c",
            "ec31200265154ca98bef1f23e7d3b83d",
            "0857249705c3452bb03c0cc259eb34fd",
            "ce6aeae4b7424f68837ec48207c17158",
            "f31775ed016e42d5a91cf99b2e492268",
            "75aadc02ed34441a81c3172263c85f22",
            "a5bba89ca64b48d2a04227d494572a16",
            "354c362e878e41aab74eef24bffc548e",
            "c16420e5d85e47f38fa5178b8cab1961",
            "e977a2815de147d1ad611816f97ced27",
            "e02f5250983049e6a4740586ccfa0c98",
            "995eee81024a424fac7446bb55ce2cf4",
            "acea1e10c98046c3a12d135532a964a6",
            "8b0ec1a9a41d47118c7e139bff3e725d",
            "b937484bd6934e6496bf27752872a28f",
            "6b52dc8899794d20824a585343374883",
            "3e07baf60dbc45fc823088b28672b765",
            "1c3f709d8b6f452a99528d9e1ff65f07",
            "c13569587f0a411e9ababaa3090f6910",
            "e562bdc064964de192b2f04b97869f44",
            "dbc4930ac83e4092b3d9d376d29dc44d",
            "7db2889ab8944a1db579c3f2eec65e03",
            "848795aa23db40caa97174c14f994866",
            "eca33b0625c141f09c5f32109d7f00c7",
            "b264a7ef040d427682861bb61e9d8c03",
            "5b18aaf13a124287b2541bc8dc89ad34",
            "425cc32a54ae45fab9709deb3a629c4b",
            "cf44e9691b7d4899a29fcb8042b62fc5",
            "71bcc35c50544993a2e2dc4598f23d39",
            "1c787382a6d54deb8f8dc15902af28c0",
            "3ae12ab36ea24c439ed63438c49eadfa",
            "bdb303b1ae5b4e98b5760fc6fb9a7bf1",
            "a9601477c0cc449d9249181b138c1190",
            "0fc4908a26754f7797b88b988619c926",
            "521d82cc65664f9f94ce5928879d40ff",
            "c6660af471f342cf8ef282e1dc89296a",
            "32e1887dc83b4dc8baf1cd7e79db1b73",
            "385bb6050bcf448c9e1f1dabab8dc90c",
            "b7430222e54841618c0dd8e00183c531",
            "0567334801d8405ba77f8cfd72e66c73",
            "8e1e2d8cc8e54187b117e7bbd5d2b757",
            "b15983786c734579a77e04af26045a30",
            "f6b1284c334f44dcb69af902e372a664",
            "3c0652ea55774f8bb4ca2773dc2b8286",
            "4557d9f534a34e758e92e56a637a4ab0",
            "b61ce89ff6704e0084fbbde40b32047d",
            "120ff52d18b3488cb50231162012dcae",
            "8e7e49ae48d64d76b8983089eb45861c",
            "745ae3be6a2743b886a8787b644d4283",
            "298630d224314e0b95e1a85526289a82",
            "82aaf4c65163484d913af3a4b2a39efb",
            "1c73f46a7c38485db8604c8f587fed77",
            "1bdf4089004f43d195ee67c710d269fd",
            "c0435e7c886f4a8a9ce9d86de8d6b5f6",
            "c20d06457dae4139a8ce1bf5818b609f",
            "0f8e05a464b44d13a494b4e09309762c",
            "2a65e1d2f4044d618198771408704361",
            "0c326b89a35d45609f1bf90682c907b7",
            "9b368d1ec9244c41884c3c2f41ea815b",
            "6dfbbbb7731844cb91c0f5865e044d8e",
            "0301c01eaf5d4d8eb9c3fb8e51d12eff",
            "200482bcef954ed9bcac758c07f4ac2f",
            "63b156d53f6a493dad20051188429009",
            "9bbe9b4672c24b138aa81865d0556af9",
            "e90f24eb6618488cb059c339d19174ba",
            "0cc22d5a8cb14ccd90ce1b27d38d2fab",
            "8827d304cb064343baf288a1edcea986",
            "c0b157fa443d45198e25b8e87772c513",
            "62b5a43f13754d2295157eba56374b5b",
            "8c0790cc6f424bc9b7f149e42ed2237c",
            "cec1ae39ecc7480d8f9508fbfb669ee8",
            "4924851125e3453cbc61c0c1111e3992",
            "225445d8aed44b4ea7d40d9d72a28e50",
            "cb4b8072376d460b85400bcae33320a8",
            "4e869b16adad4c4f92440786b908c91f",
            "ad50770c3faf497892a97a263b4a728c",
            "d453f57b434d40bb8aeedb0aeda86b94",
            "3321e7023f824bb897cb0e13e5798f41",
            "01e9b0a6489246a18276e0305cd05eb2",
            "72fe8b2830394221b84c0201c9a3c12b",
            "d4917a8e054945559f2d4a3da8700160",
            "466801b04a38469da94a13e505a82471",
            "0704a47b85504e79b9729984b8d51895",
            "140a57ab54c84ce29af04c0e984d20a6",
            "c3605851a1da445091ff67883767a903",
            "3ce02edd37424263872557745ae8a4db",
            "83c976cc68c14093a2bb1a8d9ac0f4ae",
            "19eb0a0a1bd448ad8c0aee8c9d1d1da3",
            "d350d6eb2c05497daac63577fed2ca38",
            "7c6537732978423f81e17ffc4039c9db",
            "9a0182dded6f435386e4dd62304fefca",
            "f4367a2106414e63b24801b69d521e61",
            "5b620c5f759f4f4bb984615bfa8ebba6",
            "a7f81dda25f447d4a93c8b9f058df48f",
            "213db177a9ad495199ba0b2ade3743a5",
            "f62812c86dd9437e81774b6dce366947",
            "f19a49dbf91a40e8a267552b518326ea",
            "3e6342b0725840ceb492a08450906f41",
            "bce8572cfaee4d13851a415e69063aba",
            "e0dee276f5a9473a9f05d7a0eef8053d",
            "b08893d602d84d6fa41fe2ec9f4121dc",
            "031db2f45e404a6ca842f28c278fd3af",
            "ff45f50a5a9e48078ba512b027c6da7b",
            "44c39b4c74ab4a3e9afe4f6ee26d76bc",
            "530b61cc37d341d18433a18cc0b76986",
            "1f598c7aac60476a9c6d8b2e31917939",
            "73f381c9d49a4db0bfda91d40c84b045",
            "0a7fdd4eb46e4e6984f5282c3a5ec8b4",
            "ae2dd6ec35a44aab981a0398b6873dcd",
            "36ec0c97c58d4fa4bf45e850e61343d9",
            "b9ba505e5a2a4aa0abb543c140711d43",
            "4779142095b84bc386b911d4b1ae35e3",
            "0a96bf8d68d849ba8685057943ccfa6f",
            "21d9370581d54376b3a9ddd55cd4369c",
            "b79f0c7ccb1244c0a7467affa86bb005",
            "1e305fa3965f4bccaeed73d0e010e200",
            "b4a859709e014caf860781c0fd2f54a7",
            "92aed9d2545e4df0ae228cdaf0b1294c",
            "19d75629a0614ad7acae2a0aa0b1a645",
            "1489a149dd26457cbadb7f7cbd5ca527",
            "931bed48d5794786a33f215d64be6917",
            "ecaffed03fa04ac180423a57303ec093",
            "60b42e64e97642f099a42cdcacc5b242",
            "919eabfcf9ae4fa8a9ce5f8d512acaac",
            "3446a166f36e48b8af3666fb9ebd1655",
            "05e4c510ccf14a9abf40e11bf109c46d",
            "03af52e24e1240ddab7441d086f69a89",
            "8df3bb318fe74471946ac702c033a1a5",
            "ee8cff49e0854f4c8c769ca0b74d6e3c",
            "e2038d5b417641ce80c1cc6c62252659",
            "8835ce05f91945b4ac9b2471df42c22f",
            "4d05fb7a9c694d1084e98865b9435686",
            "9ebdd89ff37a4240b5db59c69da88fe3",
            "c934dad79ce84a0eba2492ef5dc9328f",
            "d0a026a33dac495ea81033fae233c6be",
            "cebedadcd1fc452f82b2d0ce3d6967d5",
            "0ebb23666fb54527b5b2cf75cc0d18ff",
            "a0df7ed845c74f38b4b704f3131dc338",
            "fa68b11f083e4680b64ecfc4944032ee",
            "fd455714eca44080bef12184af37cd14",
            "59c43ff7bf8949f6a083550c6e52dd9f",
            "266c2701a4d64427b7f16cfd888a176e",
            "31f47232e8db40ecaec6278d73fa59dd",
            "02c10f987d09466990ea969084903582",
            "fbe9085493364ac39dbee7dad87e5b5a",
            "24109cc3245a425ea611f884a6cbe629",
            "8653f24a46554573a872fa30489728ba",
            "9c122972ff2448db92eecb93f9b39adc",
            "52557334c66b4b88856173356e3ede7b",
            "f7f0ffdec6ea48b3af302f8b9f8b36a4",
            "fe58f0b95b5e4ea5aa07ade73af9822d",
            "910e5750da1945968a12bc330e748eba",
            "fda2337d05e547bea093804901531335",
            "7e20008581b24fd1b435ac00cc079bd3",
            "157ac5af84a04dc393b4afcd0ae01416",
            "aa18a254dde24a48adec33f68a499b34",
            "6f491df648884366b2654115fbfeffdd",
            "7b35b56ab67f4a81959769a8fb88a177",
            "079da651dfd14b4087ee41a8584def8c",
            "d147cac825144bc9a4cbcb6998474d98",
            "12306149701f42d9a1323088fd79afd5",
            "c35db4a711124e879a696e62fbd8439a",
            "48929576871d488d8543945823afb2a1",
            "41d22b46658a47c6866b78359196bfdf",
            "12afac64904a484db7aad8ab7131926b",
            "2c7959721feb4f1ca5181cf0e91bcbd1",
            "56e329153d1e4da08169cffe13fa5432",
            "1a080450604640a4924e07e14c3bc56a",
            "cd486c7ccb204008a2a1151198545770",
            "fbb5c13c4c8c49a99d855458a99e4684",
            "7aea01596dca48069a8f041e6d4b4f0f",
            "a76a0159b0eb4bed871167b87ff83566",
            "989d5e2470f94d59ac942bbe2f6c5a81",
            "53ef2b7f45ad4a35892d71bce8bce77d",
            "eff36b73eb2a4eaa9aac629bccfceef7",
            "1a819eccadab46eeb29d2d9c27948b37",
            "090bd239dd7941ebac87578710334d57",
            "4942e632e5254c31b2d010f91a460577",
            "fd1f053609a342629c82483a46806399",
            "079d0c5c3d444ac3b8ba4f0f0b2b9377",
            "854ad05dea7240cd8957366f759b01f8",
            "9d015a0b625c410e9613cd6bf2838c5c",
            "10ff46dfc3b0419bac63497e01fa2dcd",
            "016437de25c54688a93a138f485b5e81",
            "a04b4e7486174bb8af9d526512ed012c",
            "e76daf3422ef4f06aabcb81289da2506",
            "3759f33000fe429291cf5061f2d67311",
            "a25f121fb4da4b8699e1e86e08ba28b4",
            "c617123ff12b448c80557bc454500083",
            "7e1e1ac9591e46fb894d2ebf91750cc2",
            "b556602f043e4dadaae81fb4230729e8",
            "cad47cf672464e37a88ae84ef186448a",
            "4ed6662435e0460c8305f641ad18153e",
            "199f8dda413e4df6a86356ab0e4a7630",
            "1461c6eb122048e0a774464bb0c8769a",
            "aadce330d165427bb96f152d76d49a0a",
            "927b7d62ced649b4bb65fd3f4e555a19",
            "8201b178053f4e829c3f8948b0c6f565",
            "e3cb1822a6644b728fee9ce7aa1966f1",
            "f5f1544748c54c9c9b2d1d513464072b",
            "5132e12ae65d458da446723eceb3eb55",
            "9ec839a730b14f27a930433d2b862c97",
            "038867be1d9b49b3b8b4706454daa564",
            "58f8cf77fa174b5ca15b3da4e20081cf",
            "6e0f287a89bc491d91b59f5641a71697",
            "675e7fb0aefd4cc9a3ea3bd15b7f049c",
            "5058bf597f9643869fb733f2688a9b6b",
            "ccaab8e5e12f49b0a4106628af43d6c6",
            "cb25c54b003346c8ae792af54e93268d",
            "3e59da5ed7754781b2cb6aab7eedd294",
            "5afe655da05c4c1086d7c730092292f8",
            "6ab2cbc66aa24c4597a1bd0e4435cb20",
            "770de5fc0a6647baa6007d34e7b3a87b",
            "1af11db3f6014af39d1b0cc3c715f34e",
            "9cd56826c83b43c39f974e4968601b02",
            "a7e61ebc3ce140d9bbc13c2776e2cc5f",
            "4cc2f0c58b3a4d1686efe9f677382530",
            "25e32d307589418287822c06df93a88c",
            "8a7927281a8942c4bcaa82b38ef00b25",
            "7b4fc7cba9c44c5fb61641bf89b448fc",
            "aa538461b5fb42ae827799e703d8c1db",
            "14de1ce36eb347a7a0e9abe87384fbc8",
            "0dffb066024743e7b1811b08875504ff",
            "a804d1bad07143d984c265117b344c24",
            "f53f5e3a527949c2a2398af43ce55b0b",
            "9668bb3eaf2c4c13a193a5b94ee44b8a",
            "f7a19705f43d4ba78288e9aee9b46ba3",
            "9a14ed79218742d996881f65131f2868",
            "1808ab75dcda4980b8f8f958f6729612",
            "41969c7b5a6e4298bd68133e7181b60d",
            "e96302255e98414b89169acd13f5492f",
            "d5b0fe556f09452d867390a4235b686f",
            "9356e6fe2e714d03a1e25b8feba9e673",
            "588db9ff1114405d8206e1b85d8bbb40",
            "2fdc436a6bc9446abec2e11cfeb466b7",
            "e9210b20bf954a61845883584b6ab1ce",
            "cd95340342164ae2875a5762107bfc2c",
            "02892f8434724a12b00b28ca03672b9b",
            "d5bc7749ddd04dc289b3003bea2c18bc",
            "c76ef4efbb8e4df89b0a32fe1e7f6ccd",
            "8819a80108f34e5398e05e01064564d9",
            "7eea9d1c9f0d494db0c60bf6ff1e2797",
            "f268b28a197b464f8aa8c8ccdcdc7005",
            "92b89b85d22144af9cc33696e81c8eb2",
            "7b0c9af292d54d24805b9b00fd556848",
            "05402c5c6344460f84016e1ca7131a96",
            "f56cdad492c44816bad7bb33083f5705",
            "5e79d4160ee34ea8a592bf926262a70b",
            "5f134c5aa7f74dad965d4a858efee909",
            "7b59f8619c6746b99157fef2f79ab38c",
            "e31c757c2f8748bdb094b85a9852b6d4",
            "a8b627f5506c4f8f8bac0e672ebb3483",
            "1717725b1afc4bd3975428afc320401f",
            "2baf4b60b59a47baab54e37997f5d7f8",
            "066e8fc218304b4ba5d861b258850ca6",
            "22c42069fe4e4191bde542ed6bee3767",
            "c406346656eb4c1799f9cd3001421b03",
            "b925358946a7431c973881edb4dfb700",
            "b1d87229f7004c7bae7367b081236de1",
            "94a75f97a29e4ac586bddb20f1ecb1d3",
            "d3c3c36b21d74e79af585857a82da6ce",
            "4ec58fd0c4424405896d86f321fab069",
            "a01060259a2245f8a428616c2b51b2c0",
            "f82d7c4f951645c6ba630e59fe493156",
            "b628589b134a4dde91d6a2998b3a1da6",
            "7ead54221d474c0cb33f0f4243ebb10e",
            "77d05ffe099c4d6da3c581ec643d8a25",
            "99a437086006414796b97b5343d3c4c7",
            "897d01fbc022411b85de0fb25716b873",
            "6efbc68ea9434a189bf3b982f486cbe7",
            "29de2eef64ff442498af5fc2cc09e374",
            "ffe5c7c589a74a3983778d481fc1f148",
            "07159f4f81a74bb0922e7d3489055dbf",
            "d642a3b4298942699b342d950e17d836",
            "82ff603a52804891b7161fe9db9e8990",
            "169260ad7ff446949cf8749497afb8ac",
            "769f14d7e15045a384b2eebdb8edb727",
            "80d57037c2c248f88725073ded844990",
            "f33edb5f6733400c917b5d5092b59ed7",
            "d7d5b881f1fc4774b1349aad9b12ae8d",
            "6dc0ec42d1da4368bd9e8fa7b13dbb47",
            "b622d5c11c124e45a46da938778f4f3d",
            "76c6be54e0b54a4588f86876af584bd1",
            "2f8d51bd12ee48a7b4914a3a8bb0b0dc",
            "d20abffea8e6470baaf3c0ee9fac65ed",
            "a141b065246d4cee8a784dcfe1a54232",
            "07e5f092362446079ff08be002e152ae",
            "020c73b7552d4a0b809c1aed30a6a8a1",
            "f4f7034b42d246f69cd1a82ba15d25c5",
            "9ea0a1c5b5884c5fa9219c4ecf0a11fb",
            "d0f59bc02c5849f28cef6579901c21cb",
            "40e3bfcae31b4c599e32c08277ef5252",
            "754fd26d3f544bebbfb8dc08e2157969",
            "5b9c34f197b1448da61b731b32403407",
            "3d6bf290fbb14deeabbf01b079f6ab1c",
            "cde686d184bc4a88987ec29fc3bee524",
            "fc8a37644f22482da55b0c1d53529879",
            "cf6223d3265249ec84d22ff17d04a8ab",
            "78790da7256848e9af5c45e35eed1266",
            "0be257e1144b41aa971f7f703d827240",
            "5c75d0c4362d41cca281260f6f124cc4",
            "8515caa260234fc0b3417a5dd9cb657b",
            "6084d07fc0d6419da705682d58e70227",
            "55a1f201af804e44b2e3e302fbb2003f",
            "8736f5ff175943158c9319ed42822571",
            "cca1c6bfe5664aba9e0f47347c5fa3c7",
            "f500e868403848da9024edfed4b80cfa",
            "d45cc214a61e4b69b8d607e1d2bdb694",
            "ba23f43d45f44469971458c304aa0af1",
            "2fdfa41b20c2436fb82fe364968bdee3",
            "495eaec637264c11950c5e9359f18c09",
            "8aa0d53cd7984f2fbeb4304d3e5d7050",
            "c6076bbf4d75482490e0443312504ec6",
            "8bd980ff9d8b46e89a04f051d6c998c4",
            "08431a146a03445584649f5090fac5d1",
            "d624311669ef4abfa132028b444f828d",
            "996fb72ff2574225ac9cc8a82279065e",
            "b136a687117f446cab5c0a949fbbd219",
            "313f5858088b4b148941b489cb7df213",
            "c4ddbc1657b4412fbfa6e0921921391a",
            "19f076144c6f4a64918bf39cf50b42f7",
            "46b12d7c895047afbdd2069fba758522",
            "cb2e07124f294a10a74f2e380816c292",
            "dc99421476a2402caed204344bca5f8d",
            "a004f495354d47a7a5d2f4d19c2de811",
            "f6410c3b479d44a09a7c56c2fb1a71bf",
            "963939b2b6964068b8d3f1574d03bffb",
            "6d9ac73432c24d63ad1b83a7402222c7",
            "b6306d7915a641f9881bdceab7e2f063",
            "bb3c128e938242d7a54520d8a3768db1",
            "100bac8787604066aa152e46624bf6b0",
            "044c3875ccc1446a824607e46daac179",
            "d4f1ba83027f4dc09656f4572144e273",
            "f2a445ac04714d769a9428195fb8d1ea",
            "b668aecb6d864bbe96d95802420b04a3",
            "68198b5508934cd88b826222c662c782",
            "fd286ecb4c6545bf9aacf14864ac98c5",
            "0faaba72ac59451ab8254aaedc1dfc6a",
            "67d0664379b9415cab36f9fc27db39e2",
            "5db07b04224e4bf98cfc6290c73ff0ba",
            "1634f23393324da5a28239f5807a3b3e",
            "48144efefaa74df78afec9de61323d07",
            "079a6e560cfa4bfcab4e8e1641e4874b",
            "6dcaffa5deeb4528aaebf88ee30943a8",
            "7cfab0327b97482c9740fcc2ab5a37e1",
            "1d7eaca6e8cd464692a399c103ef2182",
            "e3bc0965afd340bab6c270db9f800239",
            "2ae80ffdc03c458294663852ddcc69d3",
            "12f6464eed3e4a2fac210ff383c6997a",
            "0669ae2ac44e48f6a89fde56e790d714",
            "b4bb7d90712f44569af1d699347097e8",
            "54125abc5a514d388d231c0afd689fd0",
            "d69be0addde145779ce9bd133034e695",
            "89efcf82c0bd4da7beeace418ed92868",
            "8b5807d138484b0a9ae142f5803b6bad",
            "3bb32d3e41974a55b150fad6ace013cf",
            "771c1e6e7b5646bfa0c0422868ecd0f0",
            "dd2eb4ceed644bff859cd22b57ea0676",
            "56c04a05d3774320b9accc8719b673a2",
            "23cb9060c10c457e9b0b99064a6d48c3",
            "0fe7724130294c08a46de36a9849d468",
            "60646028aa01436a85242c7ff871aff4",
            "baf8e4bff6a444f4aa559cfef640f36f",
            "a191ae20b0bd40a6b92c323d0b2dffc2",
            "d3e27904f411487fb41a3bc706131e02",
            "4cbb65dbcf0b455a9acb4975c5a2cb67",
            "9654f0fc6b0648ccaf475dd09f231804",
            "5dc7489defa34e21862584fb114ce0bf",
            "ef4c6c5f8ad94b4484957007fb5f049e",
            "a69a9470199640bf9d52413b7b58a2a5",
            "44dc87e0f34d4c98a34ca7de71ff7852",
            "c1fb979ba58d4c519e34c18298023927",
            "8fa13ddb53a141ca8dc4d6470ee8cf04",
            "4dbe5eb40cbb4db88f27a9da6247ff67",
            "600e457b343a4e508326843c36520ef2",
            "24b73557a8ce416cb40f8e4ec7066195",
            "8ebe6e2a299a4eba8492205c8459557f",
            "a6441d8b8b9d468387c48f8c473b3a44",
            "ccd546727e3e4a4daed7343f47456196",
            "8cc3c18bb26446ac86b55d9084c98b02",
            "0780eabfa4844b089726dd659a39dfc2",
            "abe6d896b0624880b8b910fda408fa32",
            "70357467208d4578bd6476df043cd79c",
            "900973b8201742bcb55f70cae428bf4e",
            "25570765a0714e3cab168275ceaed3f3",
            "adde60d2c5b049fc9d5354c76122e906",
            "d70de2b794694b899056dbd7a0bf102a",
            "8027cc34d4c5415c9cb119ac59a9e710",
            "04b48978362a4db48529117d83590cb1",
            "f1c5a769a15942b2a0cc24293d3014ef",
            "759d8a4550324326a020cb068465f696",
            "8a4c866c1615473782a4711f133eabab",
            "e31364a6cf4f42009e4c679676245471"
          ]
        },
        "outputId": "5dc2cfe9-773c-4bed-a84f-b4d1ef339d03"
      },
      "outputs": [
        {
          "name": "stderr",
          "output_type": "stream",
          "text": [
            "There are 6840 classes not found in the graph. They might be ignored in the projection or they might be in the validation/testing set but not in the training set.\n",
            "WARNING:mowl.base_models.graph_model:There are 6840 classes not found in the graph. They might be ignored in the projection or they might be in the validation/testing set but not in the training set.\n"
          ]
        },
        {
          "data": {
            "application/vnd.jupyter.widget-view+json": {
              "model_id": "a8bb3fdf23404852a40651b613ce07bd",
              "version_major": 2,
              "version_minor": 0
            },
            "text/plain": [
              "Training epochs on cuda:0:   0%|          | 0/400 [00:00<?, ?epoch/s]"
            ]
          },
          "metadata": {},
          "output_type": "display_data"
        },
        {
          "data": {
            "application/vnd.jupyter.widget-view+json": {
              "model_id": "3c294a03e7c1418d996a757854bdf5b3",
              "version_major": 2,
              "version_minor": 0
            },
            "text/plain": [
              "Training batches on cuda:0:   0%|          | 0/17 [00:00<?, ?batch/s]"
            ]
          },
          "metadata": {},
          "output_type": "display_data"
        },
        {
          "data": {
            "application/vnd.jupyter.widget-view+json": {
              "model_id": "cc57da5850ef4ca2beaa99df9819ab31",
              "version_major": 2,
              "version_minor": 0
            },
            "text/plain": [
              "Training batches on cuda:0:   0%|          | 0/17 [00:00<?, ?batch/s]"
            ]
          },
          "metadata": {},
          "output_type": "display_data"
        },
        {
          "data": {
            "application/vnd.jupyter.widget-view+json": {
              "model_id": "6cd476c0104e430ba0ea7988592351b9",
              "version_major": 2,
              "version_minor": 0
            },
            "text/plain": [
              "Training batches on cuda:0:   0%|          | 0/17 [00:00<?, ?batch/s]"
            ]
          },
          "metadata": {},
          "output_type": "display_data"
        },
        {
          "data": {
            "application/vnd.jupyter.widget-view+json": {
              "model_id": "6d019672b5c049f59c54e12e3c3b343a",
              "version_major": 2,
              "version_minor": 0
            },
            "text/plain": [
              "Training batches on cuda:0:   0%|          | 0/17 [00:00<?, ?batch/s]"
            ]
          },
          "metadata": {},
          "output_type": "display_data"
        },
        {
          "data": {
            "application/vnd.jupyter.widget-view+json": {
              "model_id": "cfb92f6ee59541ac866cf77bdc9d8e56",
              "version_major": 2,
              "version_minor": 0
            },
            "text/plain": [
              "Training batches on cuda:0:   0%|          | 0/17 [00:00<?, ?batch/s]"
            ]
          },
          "metadata": {},
          "output_type": "display_data"
        },
        {
          "data": {
            "application/vnd.jupyter.widget-view+json": {
              "model_id": "8bc17e9b985548318209025ca6f377d2",
              "version_major": 2,
              "version_minor": 0
            },
            "text/plain": [
              "Training batches on cuda:0:   0%|          | 0/17 [00:00<?, ?batch/s]"
            ]
          },
          "metadata": {},
          "output_type": "display_data"
        },
        {
          "data": {
            "application/vnd.jupyter.widget-view+json": {
              "model_id": "83461e5ee4584c5d8ccad690f9e587ee",
              "version_major": 2,
              "version_minor": 0
            },
            "text/plain": [
              "Training batches on cuda:0:   0%|          | 0/17 [00:00<?, ?batch/s]"
            ]
          },
          "metadata": {},
          "output_type": "display_data"
        },
        {
          "data": {
            "application/vnd.jupyter.widget-view+json": {
              "model_id": "66fa85820e894cf3b88042e9ed1d675c",
              "version_major": 2,
              "version_minor": 0
            },
            "text/plain": [
              "Training batches on cuda:0:   0%|          | 0/17 [00:00<?, ?batch/s]"
            ]
          },
          "metadata": {},
          "output_type": "display_data"
        },
        {
          "data": {
            "application/vnd.jupyter.widget-view+json": {
              "model_id": "ec31200265154ca98bef1f23e7d3b83d",
              "version_major": 2,
              "version_minor": 0
            },
            "text/plain": [
              "Training batches on cuda:0:   0%|          | 0/17 [00:00<?, ?batch/s]"
            ]
          },
          "metadata": {},
          "output_type": "display_data"
        },
        {
          "data": {
            "application/vnd.jupyter.widget-view+json": {
              "model_id": "0857249705c3452bb03c0cc259eb34fd",
              "version_major": 2,
              "version_minor": 0
            },
            "text/plain": [
              "Training batches on cuda:0:   0%|          | 0/17 [00:00<?, ?batch/s]"
            ]
          },
          "metadata": {},
          "output_type": "display_data"
        },
        {
          "data": {
            "application/vnd.jupyter.widget-view+json": {
              "model_id": "ce6aeae4b7424f68837ec48207c17158",
              "version_major": 2,
              "version_minor": 0
            },
            "text/plain": [
              "Training batches on cuda:0:   0%|          | 0/17 [00:00<?, ?batch/s]"
            ]
          },
          "metadata": {},
          "output_type": "display_data"
        },
        {
          "data": {
            "application/vnd.jupyter.widget-view+json": {
              "model_id": "f31775ed016e42d5a91cf99b2e492268",
              "version_major": 2,
              "version_minor": 0
            },
            "text/plain": [
              "Training batches on cuda:0:   0%|          | 0/17 [00:00<?, ?batch/s]"
            ]
          },
          "metadata": {},
          "output_type": "display_data"
        },
        {
          "data": {
            "application/vnd.jupyter.widget-view+json": {
              "model_id": "75aadc02ed34441a81c3172263c85f22",
              "version_major": 2,
              "version_minor": 0
            },
            "text/plain": [
              "Training batches on cuda:0:   0%|          | 0/17 [00:00<?, ?batch/s]"
            ]
          },
          "metadata": {},
          "output_type": "display_data"
        },
        {
          "data": {
            "application/vnd.jupyter.widget-view+json": {
              "model_id": "a5bba89ca64b48d2a04227d494572a16",
              "version_major": 2,
              "version_minor": 0
            },
            "text/plain": [
              "Training batches on cuda:0:   0%|          | 0/17 [00:00<?, ?batch/s]"
            ]
          },
          "metadata": {},
          "output_type": "display_data"
        },
        {
          "data": {
            "application/vnd.jupyter.widget-view+json": {
              "model_id": "354c362e878e41aab74eef24bffc548e",
              "version_major": 2,
              "version_minor": 0
            },
            "text/plain": [
              "Training batches on cuda:0:   0%|          | 0/17 [00:00<?, ?batch/s]"
            ]
          },
          "metadata": {},
          "output_type": "display_data"
        },
        {
          "data": {
            "application/vnd.jupyter.widget-view+json": {
              "model_id": "c16420e5d85e47f38fa5178b8cab1961",
              "version_major": 2,
              "version_minor": 0
            },
            "text/plain": [
              "Training batches on cuda:0:   0%|          | 0/17 [00:00<?, ?batch/s]"
            ]
          },
          "metadata": {},
          "output_type": "display_data"
        },
        {
          "data": {
            "application/vnd.jupyter.widget-view+json": {
              "model_id": "e977a2815de147d1ad611816f97ced27",
              "version_major": 2,
              "version_minor": 0
            },
            "text/plain": [
              "Training batches on cuda:0:   0%|          | 0/17 [00:00<?, ?batch/s]"
            ]
          },
          "metadata": {},
          "output_type": "display_data"
        },
        {
          "data": {
            "application/vnd.jupyter.widget-view+json": {
              "model_id": "e02f5250983049e6a4740586ccfa0c98",
              "version_major": 2,
              "version_minor": 0
            },
            "text/plain": [
              "Training batches on cuda:0:   0%|          | 0/17 [00:00<?, ?batch/s]"
            ]
          },
          "metadata": {},
          "output_type": "display_data"
        },
        {
          "data": {
            "application/vnd.jupyter.widget-view+json": {
              "model_id": "995eee81024a424fac7446bb55ce2cf4",
              "version_major": 2,
              "version_minor": 0
            },
            "text/plain": [
              "Training batches on cuda:0:   0%|          | 0/17 [00:00<?, ?batch/s]"
            ]
          },
          "metadata": {},
          "output_type": "display_data"
        },
        {
          "data": {
            "application/vnd.jupyter.widget-view+json": {
              "model_id": "acea1e10c98046c3a12d135532a964a6",
              "version_major": 2,
              "version_minor": 0
            },
            "text/plain": [
              "Training batches on cuda:0:   0%|          | 0/17 [00:00<?, ?batch/s]"
            ]
          },
          "metadata": {},
          "output_type": "display_data"
        },
        {
          "data": {
            "application/vnd.jupyter.widget-view+json": {
              "model_id": "8b0ec1a9a41d47118c7e139bff3e725d",
              "version_major": 2,
              "version_minor": 0
            },
            "text/plain": [
              "Training batches on cuda:0:   0%|          | 0/17 [00:00<?, ?batch/s]"
            ]
          },
          "metadata": {},
          "output_type": "display_data"
        },
        {
          "data": {
            "application/vnd.jupyter.widget-view+json": {
              "model_id": "b937484bd6934e6496bf27752872a28f",
              "version_major": 2,
              "version_minor": 0
            },
            "text/plain": [
              "Training batches on cuda:0:   0%|          | 0/17 [00:00<?, ?batch/s]"
            ]
          },
          "metadata": {},
          "output_type": "display_data"
        },
        {
          "data": {
            "application/vnd.jupyter.widget-view+json": {
              "model_id": "6b52dc8899794d20824a585343374883",
              "version_major": 2,
              "version_minor": 0
            },
            "text/plain": [
              "Training batches on cuda:0:   0%|          | 0/17 [00:00<?, ?batch/s]"
            ]
          },
          "metadata": {},
          "output_type": "display_data"
        },
        {
          "data": {
            "application/vnd.jupyter.widget-view+json": {
              "model_id": "3e07baf60dbc45fc823088b28672b765",
              "version_major": 2,
              "version_minor": 0
            },
            "text/plain": [
              "Training batches on cuda:0:   0%|          | 0/17 [00:00<?, ?batch/s]"
            ]
          },
          "metadata": {},
          "output_type": "display_data"
        },
        {
          "data": {
            "application/vnd.jupyter.widget-view+json": {
              "model_id": "1c3f709d8b6f452a99528d9e1ff65f07",
              "version_major": 2,
              "version_minor": 0
            },
            "text/plain": [
              "Training batches on cuda:0:   0%|          | 0/17 [00:00<?, ?batch/s]"
            ]
          },
          "metadata": {},
          "output_type": "display_data"
        },
        {
          "data": {
            "application/vnd.jupyter.widget-view+json": {
              "model_id": "c13569587f0a411e9ababaa3090f6910",
              "version_major": 2,
              "version_minor": 0
            },
            "text/plain": [
              "Training batches on cuda:0:   0%|          | 0/17 [00:00<?, ?batch/s]"
            ]
          },
          "metadata": {},
          "output_type": "display_data"
        },
        {
          "data": {
            "application/vnd.jupyter.widget-view+json": {
              "model_id": "e562bdc064964de192b2f04b97869f44",
              "version_major": 2,
              "version_minor": 0
            },
            "text/plain": [
              "Training batches on cuda:0:   0%|          | 0/17 [00:00<?, ?batch/s]"
            ]
          },
          "metadata": {},
          "output_type": "display_data"
        },
        {
          "data": {
            "application/vnd.jupyter.widget-view+json": {
              "model_id": "dbc4930ac83e4092b3d9d376d29dc44d",
              "version_major": 2,
              "version_minor": 0
            },
            "text/plain": [
              "Training batches on cuda:0:   0%|          | 0/17 [00:00<?, ?batch/s]"
            ]
          },
          "metadata": {},
          "output_type": "display_data"
        },
        {
          "data": {
            "application/vnd.jupyter.widget-view+json": {
              "model_id": "7db2889ab8944a1db579c3f2eec65e03",
              "version_major": 2,
              "version_minor": 0
            },
            "text/plain": [
              "Training batches on cuda:0:   0%|          | 0/17 [00:00<?, ?batch/s]"
            ]
          },
          "metadata": {},
          "output_type": "display_data"
        },
        {
          "data": {
            "application/vnd.jupyter.widget-view+json": {
              "model_id": "848795aa23db40caa97174c14f994866",
              "version_major": 2,
              "version_minor": 0
            },
            "text/plain": [
              "Training batches on cuda:0:   0%|          | 0/17 [00:00<?, ?batch/s]"
            ]
          },
          "metadata": {},
          "output_type": "display_data"
        },
        {
          "data": {
            "application/vnd.jupyter.widget-view+json": {
              "model_id": "eca33b0625c141f09c5f32109d7f00c7",
              "version_major": 2,
              "version_minor": 0
            },
            "text/plain": [
              "Training batches on cuda:0:   0%|          | 0/17 [00:00<?, ?batch/s]"
            ]
          },
          "metadata": {},
          "output_type": "display_data"
        },
        {
          "data": {
            "application/vnd.jupyter.widget-view+json": {
              "model_id": "b264a7ef040d427682861bb61e9d8c03",
              "version_major": 2,
              "version_minor": 0
            },
            "text/plain": [
              "Training batches on cuda:0:   0%|          | 0/17 [00:00<?, ?batch/s]"
            ]
          },
          "metadata": {},
          "output_type": "display_data"
        },
        {
          "data": {
            "application/vnd.jupyter.widget-view+json": {
              "model_id": "5b18aaf13a124287b2541bc8dc89ad34",
              "version_major": 2,
              "version_minor": 0
            },
            "text/plain": [
              "Training batches on cuda:0:   0%|          | 0/17 [00:00<?, ?batch/s]"
            ]
          },
          "metadata": {},
          "output_type": "display_data"
        },
        {
          "data": {
            "application/vnd.jupyter.widget-view+json": {
              "model_id": "425cc32a54ae45fab9709deb3a629c4b",
              "version_major": 2,
              "version_minor": 0
            },
            "text/plain": [
              "Training batches on cuda:0:   0%|          | 0/17 [00:00<?, ?batch/s]"
            ]
          },
          "metadata": {},
          "output_type": "display_data"
        },
        {
          "data": {
            "application/vnd.jupyter.widget-view+json": {
              "model_id": "cf44e9691b7d4899a29fcb8042b62fc5",
              "version_major": 2,
              "version_minor": 0
            },
            "text/plain": [
              "Training batches on cuda:0:   0%|          | 0/17 [00:00<?, ?batch/s]"
            ]
          },
          "metadata": {},
          "output_type": "display_data"
        },
        {
          "data": {
            "application/vnd.jupyter.widget-view+json": {
              "model_id": "71bcc35c50544993a2e2dc4598f23d39",
              "version_major": 2,
              "version_minor": 0
            },
            "text/plain": [
              "Training batches on cuda:0:   0%|          | 0/17 [00:00<?, ?batch/s]"
            ]
          },
          "metadata": {},
          "output_type": "display_data"
        },
        {
          "data": {
            "application/vnd.jupyter.widget-view+json": {
              "model_id": "1c787382a6d54deb8f8dc15902af28c0",
              "version_major": 2,
              "version_minor": 0
            },
            "text/plain": [
              "Training batches on cuda:0:   0%|          | 0/17 [00:00<?, ?batch/s]"
            ]
          },
          "metadata": {},
          "output_type": "display_data"
        },
        {
          "data": {
            "application/vnd.jupyter.widget-view+json": {
              "model_id": "3ae12ab36ea24c439ed63438c49eadfa",
              "version_major": 2,
              "version_minor": 0
            },
            "text/plain": [
              "Training batches on cuda:0:   0%|          | 0/17 [00:00<?, ?batch/s]"
            ]
          },
          "metadata": {},
          "output_type": "display_data"
        },
        {
          "data": {
            "application/vnd.jupyter.widget-view+json": {
              "model_id": "bdb303b1ae5b4e98b5760fc6fb9a7bf1",
              "version_major": 2,
              "version_minor": 0
            },
            "text/plain": [
              "Training batches on cuda:0:   0%|          | 0/17 [00:00<?, ?batch/s]"
            ]
          },
          "metadata": {},
          "output_type": "display_data"
        },
        {
          "data": {
            "application/vnd.jupyter.widget-view+json": {
              "model_id": "a9601477c0cc449d9249181b138c1190",
              "version_major": 2,
              "version_minor": 0
            },
            "text/plain": [
              "Training batches on cuda:0:   0%|          | 0/17 [00:00<?, ?batch/s]"
            ]
          },
          "metadata": {},
          "output_type": "display_data"
        },
        {
          "data": {
            "application/vnd.jupyter.widget-view+json": {
              "model_id": "0fc4908a26754f7797b88b988619c926",
              "version_major": 2,
              "version_minor": 0
            },
            "text/plain": [
              "Training batches on cuda:0:   0%|          | 0/17 [00:00<?, ?batch/s]"
            ]
          },
          "metadata": {},
          "output_type": "display_data"
        },
        {
          "data": {
            "application/vnd.jupyter.widget-view+json": {
              "model_id": "521d82cc65664f9f94ce5928879d40ff",
              "version_major": 2,
              "version_minor": 0
            },
            "text/plain": [
              "Training batches on cuda:0:   0%|          | 0/17 [00:00<?, ?batch/s]"
            ]
          },
          "metadata": {},
          "output_type": "display_data"
        },
        {
          "data": {
            "application/vnd.jupyter.widget-view+json": {
              "model_id": "c6660af471f342cf8ef282e1dc89296a",
              "version_major": 2,
              "version_minor": 0
            },
            "text/plain": [
              "Training batches on cuda:0:   0%|          | 0/17 [00:00<?, ?batch/s]"
            ]
          },
          "metadata": {},
          "output_type": "display_data"
        },
        {
          "data": {
            "application/vnd.jupyter.widget-view+json": {
              "model_id": "32e1887dc83b4dc8baf1cd7e79db1b73",
              "version_major": 2,
              "version_minor": 0
            },
            "text/plain": [
              "Training batches on cuda:0:   0%|          | 0/17 [00:00<?, ?batch/s]"
            ]
          },
          "metadata": {},
          "output_type": "display_data"
        },
        {
          "data": {
            "application/vnd.jupyter.widget-view+json": {
              "model_id": "385bb6050bcf448c9e1f1dabab8dc90c",
              "version_major": 2,
              "version_minor": 0
            },
            "text/plain": [
              "Training batches on cuda:0:   0%|          | 0/17 [00:00<?, ?batch/s]"
            ]
          },
          "metadata": {},
          "output_type": "display_data"
        },
        {
          "data": {
            "application/vnd.jupyter.widget-view+json": {
              "model_id": "b7430222e54841618c0dd8e00183c531",
              "version_major": 2,
              "version_minor": 0
            },
            "text/plain": [
              "Training batches on cuda:0:   0%|          | 0/17 [00:00<?, ?batch/s]"
            ]
          },
          "metadata": {},
          "output_type": "display_data"
        },
        {
          "data": {
            "application/vnd.jupyter.widget-view+json": {
              "model_id": "0567334801d8405ba77f8cfd72e66c73",
              "version_major": 2,
              "version_minor": 0
            },
            "text/plain": [
              "Training batches on cuda:0:   0%|          | 0/17 [00:00<?, ?batch/s]"
            ]
          },
          "metadata": {},
          "output_type": "display_data"
        },
        {
          "data": {
            "application/vnd.jupyter.widget-view+json": {
              "model_id": "8e1e2d8cc8e54187b117e7bbd5d2b757",
              "version_major": 2,
              "version_minor": 0
            },
            "text/plain": [
              "Training batches on cuda:0:   0%|          | 0/17 [00:00<?, ?batch/s]"
            ]
          },
          "metadata": {},
          "output_type": "display_data"
        },
        {
          "data": {
            "application/vnd.jupyter.widget-view+json": {
              "model_id": "b15983786c734579a77e04af26045a30",
              "version_major": 2,
              "version_minor": 0
            },
            "text/plain": [
              "Training batches on cuda:0:   0%|          | 0/17 [00:00<?, ?batch/s]"
            ]
          },
          "metadata": {},
          "output_type": "display_data"
        },
        {
          "data": {
            "application/vnd.jupyter.widget-view+json": {
              "model_id": "f6b1284c334f44dcb69af902e372a664",
              "version_major": 2,
              "version_minor": 0
            },
            "text/plain": [
              "Training batches on cuda:0:   0%|          | 0/17 [00:00<?, ?batch/s]"
            ]
          },
          "metadata": {},
          "output_type": "display_data"
        },
        {
          "data": {
            "application/vnd.jupyter.widget-view+json": {
              "model_id": "3c0652ea55774f8bb4ca2773dc2b8286",
              "version_major": 2,
              "version_minor": 0
            },
            "text/plain": [
              "Training batches on cuda:0:   0%|          | 0/17 [00:00<?, ?batch/s]"
            ]
          },
          "metadata": {},
          "output_type": "display_data"
        },
        {
          "data": {
            "application/vnd.jupyter.widget-view+json": {
              "model_id": "4557d9f534a34e758e92e56a637a4ab0",
              "version_major": 2,
              "version_minor": 0
            },
            "text/plain": [
              "Training batches on cuda:0:   0%|          | 0/17 [00:00<?, ?batch/s]"
            ]
          },
          "metadata": {},
          "output_type": "display_data"
        },
        {
          "data": {
            "application/vnd.jupyter.widget-view+json": {
              "model_id": "b61ce89ff6704e0084fbbde40b32047d",
              "version_major": 2,
              "version_minor": 0
            },
            "text/plain": [
              "Training batches on cuda:0:   0%|          | 0/17 [00:00<?, ?batch/s]"
            ]
          },
          "metadata": {},
          "output_type": "display_data"
        },
        {
          "data": {
            "application/vnd.jupyter.widget-view+json": {
              "model_id": "120ff52d18b3488cb50231162012dcae",
              "version_major": 2,
              "version_minor": 0
            },
            "text/plain": [
              "Training batches on cuda:0:   0%|          | 0/17 [00:00<?, ?batch/s]"
            ]
          },
          "metadata": {},
          "output_type": "display_data"
        },
        {
          "data": {
            "application/vnd.jupyter.widget-view+json": {
              "model_id": "8e7e49ae48d64d76b8983089eb45861c",
              "version_major": 2,
              "version_minor": 0
            },
            "text/plain": [
              "Training batches on cuda:0:   0%|          | 0/17 [00:00<?, ?batch/s]"
            ]
          },
          "metadata": {},
          "output_type": "display_data"
        },
        {
          "data": {
            "application/vnd.jupyter.widget-view+json": {
              "model_id": "745ae3be6a2743b886a8787b644d4283",
              "version_major": 2,
              "version_minor": 0
            },
            "text/plain": [
              "Training batches on cuda:0:   0%|          | 0/17 [00:00<?, ?batch/s]"
            ]
          },
          "metadata": {},
          "output_type": "display_data"
        },
        {
          "data": {
            "application/vnd.jupyter.widget-view+json": {
              "model_id": "298630d224314e0b95e1a85526289a82",
              "version_major": 2,
              "version_minor": 0
            },
            "text/plain": [
              "Training batches on cuda:0:   0%|          | 0/17 [00:00<?, ?batch/s]"
            ]
          },
          "metadata": {},
          "output_type": "display_data"
        },
        {
          "data": {
            "application/vnd.jupyter.widget-view+json": {
              "model_id": "82aaf4c65163484d913af3a4b2a39efb",
              "version_major": 2,
              "version_minor": 0
            },
            "text/plain": [
              "Training batches on cuda:0:   0%|          | 0/17 [00:00<?, ?batch/s]"
            ]
          },
          "metadata": {},
          "output_type": "display_data"
        },
        {
          "data": {
            "application/vnd.jupyter.widget-view+json": {
              "model_id": "1c73f46a7c38485db8604c8f587fed77",
              "version_major": 2,
              "version_minor": 0
            },
            "text/plain": [
              "Training batches on cuda:0:   0%|          | 0/17 [00:00<?, ?batch/s]"
            ]
          },
          "metadata": {},
          "output_type": "display_data"
        },
        {
          "data": {
            "application/vnd.jupyter.widget-view+json": {
              "model_id": "1bdf4089004f43d195ee67c710d269fd",
              "version_major": 2,
              "version_minor": 0
            },
            "text/plain": [
              "Training batches on cuda:0:   0%|          | 0/17 [00:00<?, ?batch/s]"
            ]
          },
          "metadata": {},
          "output_type": "display_data"
        },
        {
          "data": {
            "application/vnd.jupyter.widget-view+json": {
              "model_id": "c0435e7c886f4a8a9ce9d86de8d6b5f6",
              "version_major": 2,
              "version_minor": 0
            },
            "text/plain": [
              "Training batches on cuda:0:   0%|          | 0/17 [00:00<?, ?batch/s]"
            ]
          },
          "metadata": {},
          "output_type": "display_data"
        },
        {
          "data": {
            "application/vnd.jupyter.widget-view+json": {
              "model_id": "c20d06457dae4139a8ce1bf5818b609f",
              "version_major": 2,
              "version_minor": 0
            },
            "text/plain": [
              "Training batches on cuda:0:   0%|          | 0/17 [00:00<?, ?batch/s]"
            ]
          },
          "metadata": {},
          "output_type": "display_data"
        },
        {
          "data": {
            "application/vnd.jupyter.widget-view+json": {
              "model_id": "0f8e05a464b44d13a494b4e09309762c",
              "version_major": 2,
              "version_minor": 0
            },
            "text/plain": [
              "Training batches on cuda:0:   0%|          | 0/17 [00:00<?, ?batch/s]"
            ]
          },
          "metadata": {},
          "output_type": "display_data"
        },
        {
          "data": {
            "application/vnd.jupyter.widget-view+json": {
              "model_id": "2a65e1d2f4044d618198771408704361",
              "version_major": 2,
              "version_minor": 0
            },
            "text/plain": [
              "Training batches on cuda:0:   0%|          | 0/17 [00:00<?, ?batch/s]"
            ]
          },
          "metadata": {},
          "output_type": "display_data"
        },
        {
          "data": {
            "application/vnd.jupyter.widget-view+json": {
              "model_id": "0c326b89a35d45609f1bf90682c907b7",
              "version_major": 2,
              "version_minor": 0
            },
            "text/plain": [
              "Training batches on cuda:0:   0%|          | 0/17 [00:00<?, ?batch/s]"
            ]
          },
          "metadata": {},
          "output_type": "display_data"
        },
        {
          "data": {
            "application/vnd.jupyter.widget-view+json": {
              "model_id": "9b368d1ec9244c41884c3c2f41ea815b",
              "version_major": 2,
              "version_minor": 0
            },
            "text/plain": [
              "Training batches on cuda:0:   0%|          | 0/17 [00:00<?, ?batch/s]"
            ]
          },
          "metadata": {},
          "output_type": "display_data"
        },
        {
          "data": {
            "application/vnd.jupyter.widget-view+json": {
              "model_id": "6dfbbbb7731844cb91c0f5865e044d8e",
              "version_major": 2,
              "version_minor": 0
            },
            "text/plain": [
              "Training batches on cuda:0:   0%|          | 0/17 [00:00<?, ?batch/s]"
            ]
          },
          "metadata": {},
          "output_type": "display_data"
        },
        {
          "data": {
            "application/vnd.jupyter.widget-view+json": {
              "model_id": "0301c01eaf5d4d8eb9c3fb8e51d12eff",
              "version_major": 2,
              "version_minor": 0
            },
            "text/plain": [
              "Training batches on cuda:0:   0%|          | 0/17 [00:00<?, ?batch/s]"
            ]
          },
          "metadata": {},
          "output_type": "display_data"
        },
        {
          "data": {
            "application/vnd.jupyter.widget-view+json": {
              "model_id": "200482bcef954ed9bcac758c07f4ac2f",
              "version_major": 2,
              "version_minor": 0
            },
            "text/plain": [
              "Training batches on cuda:0:   0%|          | 0/17 [00:00<?, ?batch/s]"
            ]
          },
          "metadata": {},
          "output_type": "display_data"
        },
        {
          "data": {
            "application/vnd.jupyter.widget-view+json": {
              "model_id": "63b156d53f6a493dad20051188429009",
              "version_major": 2,
              "version_minor": 0
            },
            "text/plain": [
              "Training batches on cuda:0:   0%|          | 0/17 [00:00<?, ?batch/s]"
            ]
          },
          "metadata": {},
          "output_type": "display_data"
        },
        {
          "data": {
            "application/vnd.jupyter.widget-view+json": {
              "model_id": "9bbe9b4672c24b138aa81865d0556af9",
              "version_major": 2,
              "version_minor": 0
            },
            "text/plain": [
              "Training batches on cuda:0:   0%|          | 0/17 [00:00<?, ?batch/s]"
            ]
          },
          "metadata": {},
          "output_type": "display_data"
        },
        {
          "data": {
            "application/vnd.jupyter.widget-view+json": {
              "model_id": "e90f24eb6618488cb059c339d19174ba",
              "version_major": 2,
              "version_minor": 0
            },
            "text/plain": [
              "Training batches on cuda:0:   0%|          | 0/17 [00:00<?, ?batch/s]"
            ]
          },
          "metadata": {},
          "output_type": "display_data"
        },
        {
          "data": {
            "application/vnd.jupyter.widget-view+json": {
              "model_id": "0cc22d5a8cb14ccd90ce1b27d38d2fab",
              "version_major": 2,
              "version_minor": 0
            },
            "text/plain": [
              "Training batches on cuda:0:   0%|          | 0/17 [00:00<?, ?batch/s]"
            ]
          },
          "metadata": {},
          "output_type": "display_data"
        },
        {
          "data": {
            "application/vnd.jupyter.widget-view+json": {
              "model_id": "8827d304cb064343baf288a1edcea986",
              "version_major": 2,
              "version_minor": 0
            },
            "text/plain": [
              "Training batches on cuda:0:   0%|          | 0/17 [00:00<?, ?batch/s]"
            ]
          },
          "metadata": {},
          "output_type": "display_data"
        },
        {
          "data": {
            "application/vnd.jupyter.widget-view+json": {
              "model_id": "c0b157fa443d45198e25b8e87772c513",
              "version_major": 2,
              "version_minor": 0
            },
            "text/plain": [
              "Training batches on cuda:0:   0%|          | 0/17 [00:00<?, ?batch/s]"
            ]
          },
          "metadata": {},
          "output_type": "display_data"
        },
        {
          "data": {
            "application/vnd.jupyter.widget-view+json": {
              "model_id": "62b5a43f13754d2295157eba56374b5b",
              "version_major": 2,
              "version_minor": 0
            },
            "text/plain": [
              "Training batches on cuda:0:   0%|          | 0/17 [00:00<?, ?batch/s]"
            ]
          },
          "metadata": {},
          "output_type": "display_data"
        },
        {
          "data": {
            "application/vnd.jupyter.widget-view+json": {
              "model_id": "8c0790cc6f424bc9b7f149e42ed2237c",
              "version_major": 2,
              "version_minor": 0
            },
            "text/plain": [
              "Training batches on cuda:0:   0%|          | 0/17 [00:00<?, ?batch/s]"
            ]
          },
          "metadata": {},
          "output_type": "display_data"
        },
        {
          "data": {
            "application/vnd.jupyter.widget-view+json": {
              "model_id": "cec1ae39ecc7480d8f9508fbfb669ee8",
              "version_major": 2,
              "version_minor": 0
            },
            "text/plain": [
              "Training batches on cuda:0:   0%|          | 0/17 [00:00<?, ?batch/s]"
            ]
          },
          "metadata": {},
          "output_type": "display_data"
        },
        {
          "data": {
            "application/vnd.jupyter.widget-view+json": {
              "model_id": "4924851125e3453cbc61c0c1111e3992",
              "version_major": 2,
              "version_minor": 0
            },
            "text/plain": [
              "Training batches on cuda:0:   0%|          | 0/17 [00:00<?, ?batch/s]"
            ]
          },
          "metadata": {},
          "output_type": "display_data"
        },
        {
          "data": {
            "application/vnd.jupyter.widget-view+json": {
              "model_id": "225445d8aed44b4ea7d40d9d72a28e50",
              "version_major": 2,
              "version_minor": 0
            },
            "text/plain": [
              "Training batches on cuda:0:   0%|          | 0/17 [00:00<?, ?batch/s]"
            ]
          },
          "metadata": {},
          "output_type": "display_data"
        },
        {
          "data": {
            "application/vnd.jupyter.widget-view+json": {
              "model_id": "cb4b8072376d460b85400bcae33320a8",
              "version_major": 2,
              "version_minor": 0
            },
            "text/plain": [
              "Training batches on cuda:0:   0%|          | 0/17 [00:00<?, ?batch/s]"
            ]
          },
          "metadata": {},
          "output_type": "display_data"
        },
        {
          "data": {
            "application/vnd.jupyter.widget-view+json": {
              "model_id": "4e869b16adad4c4f92440786b908c91f",
              "version_major": 2,
              "version_minor": 0
            },
            "text/plain": [
              "Training batches on cuda:0:   0%|          | 0/17 [00:00<?, ?batch/s]"
            ]
          },
          "metadata": {},
          "output_type": "display_data"
        },
        {
          "data": {
            "application/vnd.jupyter.widget-view+json": {
              "model_id": "ad50770c3faf497892a97a263b4a728c",
              "version_major": 2,
              "version_minor": 0
            },
            "text/plain": [
              "Training batches on cuda:0:   0%|          | 0/17 [00:00<?, ?batch/s]"
            ]
          },
          "metadata": {},
          "output_type": "display_data"
        },
        {
          "data": {
            "application/vnd.jupyter.widget-view+json": {
              "model_id": "d453f57b434d40bb8aeedb0aeda86b94",
              "version_major": 2,
              "version_minor": 0
            },
            "text/plain": [
              "Training batches on cuda:0:   0%|          | 0/17 [00:00<?, ?batch/s]"
            ]
          },
          "metadata": {},
          "output_type": "display_data"
        },
        {
          "data": {
            "application/vnd.jupyter.widget-view+json": {
              "model_id": "3321e7023f824bb897cb0e13e5798f41",
              "version_major": 2,
              "version_minor": 0
            },
            "text/plain": [
              "Training batches on cuda:0:   0%|          | 0/17 [00:00<?, ?batch/s]"
            ]
          },
          "metadata": {},
          "output_type": "display_data"
        },
        {
          "data": {
            "application/vnd.jupyter.widget-view+json": {
              "model_id": "01e9b0a6489246a18276e0305cd05eb2",
              "version_major": 2,
              "version_minor": 0
            },
            "text/plain": [
              "Training batches on cuda:0:   0%|          | 0/17 [00:00<?, ?batch/s]"
            ]
          },
          "metadata": {},
          "output_type": "display_data"
        },
        {
          "data": {
            "application/vnd.jupyter.widget-view+json": {
              "model_id": "72fe8b2830394221b84c0201c9a3c12b",
              "version_major": 2,
              "version_minor": 0
            },
            "text/plain": [
              "Training batches on cuda:0:   0%|          | 0/17 [00:00<?, ?batch/s]"
            ]
          },
          "metadata": {},
          "output_type": "display_data"
        },
        {
          "data": {
            "application/vnd.jupyter.widget-view+json": {
              "model_id": "d4917a8e054945559f2d4a3da8700160",
              "version_major": 2,
              "version_minor": 0
            },
            "text/plain": [
              "Training batches on cuda:0:   0%|          | 0/17 [00:00<?, ?batch/s]"
            ]
          },
          "metadata": {},
          "output_type": "display_data"
        },
        {
          "data": {
            "application/vnd.jupyter.widget-view+json": {
              "model_id": "466801b04a38469da94a13e505a82471",
              "version_major": 2,
              "version_minor": 0
            },
            "text/plain": [
              "Training batches on cuda:0:   0%|          | 0/17 [00:00<?, ?batch/s]"
            ]
          },
          "metadata": {},
          "output_type": "display_data"
        },
        {
          "data": {
            "application/vnd.jupyter.widget-view+json": {
              "model_id": "0704a47b85504e79b9729984b8d51895",
              "version_major": 2,
              "version_minor": 0
            },
            "text/plain": [
              "Training batches on cuda:0:   0%|          | 0/17 [00:00<?, ?batch/s]"
            ]
          },
          "metadata": {},
          "output_type": "display_data"
        },
        {
          "data": {
            "application/vnd.jupyter.widget-view+json": {
              "model_id": "140a57ab54c84ce29af04c0e984d20a6",
              "version_major": 2,
              "version_minor": 0
            },
            "text/plain": [
              "Training batches on cuda:0:   0%|          | 0/17 [00:00<?, ?batch/s]"
            ]
          },
          "metadata": {},
          "output_type": "display_data"
        },
        {
          "data": {
            "application/vnd.jupyter.widget-view+json": {
              "model_id": "c3605851a1da445091ff67883767a903",
              "version_major": 2,
              "version_minor": 0
            },
            "text/plain": [
              "Training batches on cuda:0:   0%|          | 0/17 [00:00<?, ?batch/s]"
            ]
          },
          "metadata": {},
          "output_type": "display_data"
        },
        {
          "data": {
            "application/vnd.jupyter.widget-view+json": {
              "model_id": "3ce02edd37424263872557745ae8a4db",
              "version_major": 2,
              "version_minor": 0
            },
            "text/plain": [
              "Training batches on cuda:0:   0%|          | 0/17 [00:00<?, ?batch/s]"
            ]
          },
          "metadata": {},
          "output_type": "display_data"
        },
        {
          "data": {
            "application/vnd.jupyter.widget-view+json": {
              "model_id": "83c976cc68c14093a2bb1a8d9ac0f4ae",
              "version_major": 2,
              "version_minor": 0
            },
            "text/plain": [
              "Training batches on cuda:0:   0%|          | 0/17 [00:00<?, ?batch/s]"
            ]
          },
          "metadata": {},
          "output_type": "display_data"
        },
        {
          "data": {
            "application/vnd.jupyter.widget-view+json": {
              "model_id": "19eb0a0a1bd448ad8c0aee8c9d1d1da3",
              "version_major": 2,
              "version_minor": 0
            },
            "text/plain": [
              "Training batches on cuda:0:   0%|          | 0/17 [00:00<?, ?batch/s]"
            ]
          },
          "metadata": {},
          "output_type": "display_data"
        },
        {
          "data": {
            "application/vnd.jupyter.widget-view+json": {
              "model_id": "d350d6eb2c05497daac63577fed2ca38",
              "version_major": 2,
              "version_minor": 0
            },
            "text/plain": [
              "Training batches on cuda:0:   0%|          | 0/17 [00:00<?, ?batch/s]"
            ]
          },
          "metadata": {},
          "output_type": "display_data"
        },
        {
          "data": {
            "application/vnd.jupyter.widget-view+json": {
              "model_id": "7c6537732978423f81e17ffc4039c9db",
              "version_major": 2,
              "version_minor": 0
            },
            "text/plain": [
              "Training batches on cuda:0:   0%|          | 0/17 [00:00<?, ?batch/s]"
            ]
          },
          "metadata": {},
          "output_type": "display_data"
        },
        {
          "data": {
            "application/vnd.jupyter.widget-view+json": {
              "model_id": "9a0182dded6f435386e4dd62304fefca",
              "version_major": 2,
              "version_minor": 0
            },
            "text/plain": [
              "Training batches on cuda:0:   0%|          | 0/17 [00:00<?, ?batch/s]"
            ]
          },
          "metadata": {},
          "output_type": "display_data"
        },
        {
          "data": {
            "application/vnd.jupyter.widget-view+json": {
              "model_id": "f4367a2106414e63b24801b69d521e61",
              "version_major": 2,
              "version_minor": 0
            },
            "text/plain": [
              "Training batches on cuda:0:   0%|          | 0/17 [00:00<?, ?batch/s]"
            ]
          },
          "metadata": {},
          "output_type": "display_data"
        },
        {
          "data": {
            "application/vnd.jupyter.widget-view+json": {
              "model_id": "5b620c5f759f4f4bb984615bfa8ebba6",
              "version_major": 2,
              "version_minor": 0
            },
            "text/plain": [
              "Training batches on cuda:0:   0%|          | 0/17 [00:00<?, ?batch/s]"
            ]
          },
          "metadata": {},
          "output_type": "display_data"
        },
        {
          "data": {
            "application/vnd.jupyter.widget-view+json": {
              "model_id": "a7f81dda25f447d4a93c8b9f058df48f",
              "version_major": 2,
              "version_minor": 0
            },
            "text/plain": [
              "Training batches on cuda:0:   0%|          | 0/17 [00:00<?, ?batch/s]"
            ]
          },
          "metadata": {},
          "output_type": "display_data"
        },
        {
          "data": {
            "application/vnd.jupyter.widget-view+json": {
              "model_id": "213db177a9ad495199ba0b2ade3743a5",
              "version_major": 2,
              "version_minor": 0
            },
            "text/plain": [
              "Training batches on cuda:0:   0%|          | 0/17 [00:00<?, ?batch/s]"
            ]
          },
          "metadata": {},
          "output_type": "display_data"
        },
        {
          "data": {
            "application/vnd.jupyter.widget-view+json": {
              "model_id": "f62812c86dd9437e81774b6dce366947",
              "version_major": 2,
              "version_minor": 0
            },
            "text/plain": [
              "Training batches on cuda:0:   0%|          | 0/17 [00:00<?, ?batch/s]"
            ]
          },
          "metadata": {},
          "output_type": "display_data"
        },
        {
          "data": {
            "application/vnd.jupyter.widget-view+json": {
              "model_id": "f19a49dbf91a40e8a267552b518326ea",
              "version_major": 2,
              "version_minor": 0
            },
            "text/plain": [
              "Training batches on cuda:0:   0%|          | 0/17 [00:00<?, ?batch/s]"
            ]
          },
          "metadata": {},
          "output_type": "display_data"
        },
        {
          "data": {
            "application/vnd.jupyter.widget-view+json": {
              "model_id": "3e6342b0725840ceb492a08450906f41",
              "version_major": 2,
              "version_minor": 0
            },
            "text/plain": [
              "Training batches on cuda:0:   0%|          | 0/17 [00:00<?, ?batch/s]"
            ]
          },
          "metadata": {},
          "output_type": "display_data"
        },
        {
          "data": {
            "application/vnd.jupyter.widget-view+json": {
              "model_id": "bce8572cfaee4d13851a415e69063aba",
              "version_major": 2,
              "version_minor": 0
            },
            "text/plain": [
              "Training batches on cuda:0:   0%|          | 0/17 [00:00<?, ?batch/s]"
            ]
          },
          "metadata": {},
          "output_type": "display_data"
        },
        {
          "data": {
            "application/vnd.jupyter.widget-view+json": {
              "model_id": "e0dee276f5a9473a9f05d7a0eef8053d",
              "version_major": 2,
              "version_minor": 0
            },
            "text/plain": [
              "Training batches on cuda:0:   0%|          | 0/17 [00:00<?, ?batch/s]"
            ]
          },
          "metadata": {},
          "output_type": "display_data"
        },
        {
          "data": {
            "application/vnd.jupyter.widget-view+json": {
              "model_id": "b08893d602d84d6fa41fe2ec9f4121dc",
              "version_major": 2,
              "version_minor": 0
            },
            "text/plain": [
              "Training batches on cuda:0:   0%|          | 0/17 [00:00<?, ?batch/s]"
            ]
          },
          "metadata": {},
          "output_type": "display_data"
        },
        {
          "data": {
            "application/vnd.jupyter.widget-view+json": {
              "model_id": "031db2f45e404a6ca842f28c278fd3af",
              "version_major": 2,
              "version_minor": 0
            },
            "text/plain": [
              "Training batches on cuda:0:   0%|          | 0/17 [00:00<?, ?batch/s]"
            ]
          },
          "metadata": {},
          "output_type": "display_data"
        },
        {
          "data": {
            "application/vnd.jupyter.widget-view+json": {
              "model_id": "ff45f50a5a9e48078ba512b027c6da7b",
              "version_major": 2,
              "version_minor": 0
            },
            "text/plain": [
              "Training batches on cuda:0:   0%|          | 0/17 [00:00<?, ?batch/s]"
            ]
          },
          "metadata": {},
          "output_type": "display_data"
        },
        {
          "data": {
            "application/vnd.jupyter.widget-view+json": {
              "model_id": "44c39b4c74ab4a3e9afe4f6ee26d76bc",
              "version_major": 2,
              "version_minor": 0
            },
            "text/plain": [
              "Training batches on cuda:0:   0%|          | 0/17 [00:00<?, ?batch/s]"
            ]
          },
          "metadata": {},
          "output_type": "display_data"
        },
        {
          "data": {
            "application/vnd.jupyter.widget-view+json": {
              "model_id": "530b61cc37d341d18433a18cc0b76986",
              "version_major": 2,
              "version_minor": 0
            },
            "text/plain": [
              "Training batches on cuda:0:   0%|          | 0/17 [00:00<?, ?batch/s]"
            ]
          },
          "metadata": {},
          "output_type": "display_data"
        },
        {
          "data": {
            "application/vnd.jupyter.widget-view+json": {
              "model_id": "1f598c7aac60476a9c6d8b2e31917939",
              "version_major": 2,
              "version_minor": 0
            },
            "text/plain": [
              "Training batches on cuda:0:   0%|          | 0/17 [00:00<?, ?batch/s]"
            ]
          },
          "metadata": {},
          "output_type": "display_data"
        },
        {
          "data": {
            "application/vnd.jupyter.widget-view+json": {
              "model_id": "73f381c9d49a4db0bfda91d40c84b045",
              "version_major": 2,
              "version_minor": 0
            },
            "text/plain": [
              "Training batches on cuda:0:   0%|          | 0/17 [00:00<?, ?batch/s]"
            ]
          },
          "metadata": {},
          "output_type": "display_data"
        },
        {
          "data": {
            "application/vnd.jupyter.widget-view+json": {
              "model_id": "0a7fdd4eb46e4e6984f5282c3a5ec8b4",
              "version_major": 2,
              "version_minor": 0
            },
            "text/plain": [
              "Training batches on cuda:0:   0%|          | 0/17 [00:00<?, ?batch/s]"
            ]
          },
          "metadata": {},
          "output_type": "display_data"
        },
        {
          "data": {
            "application/vnd.jupyter.widget-view+json": {
              "model_id": "ae2dd6ec35a44aab981a0398b6873dcd",
              "version_major": 2,
              "version_minor": 0
            },
            "text/plain": [
              "Training batches on cuda:0:   0%|          | 0/17 [00:00<?, ?batch/s]"
            ]
          },
          "metadata": {},
          "output_type": "display_data"
        },
        {
          "data": {
            "application/vnd.jupyter.widget-view+json": {
              "model_id": "36ec0c97c58d4fa4bf45e850e61343d9",
              "version_major": 2,
              "version_minor": 0
            },
            "text/plain": [
              "Training batches on cuda:0:   0%|          | 0/17 [00:00<?, ?batch/s]"
            ]
          },
          "metadata": {},
          "output_type": "display_data"
        },
        {
          "data": {
            "application/vnd.jupyter.widget-view+json": {
              "model_id": "b9ba505e5a2a4aa0abb543c140711d43",
              "version_major": 2,
              "version_minor": 0
            },
            "text/plain": [
              "Training batches on cuda:0:   0%|          | 0/17 [00:00<?, ?batch/s]"
            ]
          },
          "metadata": {},
          "output_type": "display_data"
        },
        {
          "data": {
            "application/vnd.jupyter.widget-view+json": {
              "model_id": "4779142095b84bc386b911d4b1ae35e3",
              "version_major": 2,
              "version_minor": 0
            },
            "text/plain": [
              "Training batches on cuda:0:   0%|          | 0/17 [00:00<?, ?batch/s]"
            ]
          },
          "metadata": {},
          "output_type": "display_data"
        },
        {
          "data": {
            "application/vnd.jupyter.widget-view+json": {
              "model_id": "0a96bf8d68d849ba8685057943ccfa6f",
              "version_major": 2,
              "version_minor": 0
            },
            "text/plain": [
              "Training batches on cuda:0:   0%|          | 0/17 [00:00<?, ?batch/s]"
            ]
          },
          "metadata": {},
          "output_type": "display_data"
        },
        {
          "data": {
            "application/vnd.jupyter.widget-view+json": {
              "model_id": "21d9370581d54376b3a9ddd55cd4369c",
              "version_major": 2,
              "version_minor": 0
            },
            "text/plain": [
              "Training batches on cuda:0:   0%|          | 0/17 [00:00<?, ?batch/s]"
            ]
          },
          "metadata": {},
          "output_type": "display_data"
        },
        {
          "data": {
            "application/vnd.jupyter.widget-view+json": {
              "model_id": "b79f0c7ccb1244c0a7467affa86bb005",
              "version_major": 2,
              "version_minor": 0
            },
            "text/plain": [
              "Training batches on cuda:0:   0%|          | 0/17 [00:00<?, ?batch/s]"
            ]
          },
          "metadata": {},
          "output_type": "display_data"
        },
        {
          "data": {
            "application/vnd.jupyter.widget-view+json": {
              "model_id": "1e305fa3965f4bccaeed73d0e010e200",
              "version_major": 2,
              "version_minor": 0
            },
            "text/plain": [
              "Training batches on cuda:0:   0%|          | 0/17 [00:00<?, ?batch/s]"
            ]
          },
          "metadata": {},
          "output_type": "display_data"
        },
        {
          "data": {
            "application/vnd.jupyter.widget-view+json": {
              "model_id": "b4a859709e014caf860781c0fd2f54a7",
              "version_major": 2,
              "version_minor": 0
            },
            "text/plain": [
              "Training batches on cuda:0:   0%|          | 0/17 [00:00<?, ?batch/s]"
            ]
          },
          "metadata": {},
          "output_type": "display_data"
        },
        {
          "data": {
            "application/vnd.jupyter.widget-view+json": {
              "model_id": "92aed9d2545e4df0ae228cdaf0b1294c",
              "version_major": 2,
              "version_minor": 0
            },
            "text/plain": [
              "Training batches on cuda:0:   0%|          | 0/17 [00:00<?, ?batch/s]"
            ]
          },
          "metadata": {},
          "output_type": "display_data"
        },
        {
          "data": {
            "application/vnd.jupyter.widget-view+json": {
              "model_id": "19d75629a0614ad7acae2a0aa0b1a645",
              "version_major": 2,
              "version_minor": 0
            },
            "text/plain": [
              "Training batches on cuda:0:   0%|          | 0/17 [00:00<?, ?batch/s]"
            ]
          },
          "metadata": {},
          "output_type": "display_data"
        },
        {
          "data": {
            "application/vnd.jupyter.widget-view+json": {
              "model_id": "1489a149dd26457cbadb7f7cbd5ca527",
              "version_major": 2,
              "version_minor": 0
            },
            "text/plain": [
              "Training batches on cuda:0:   0%|          | 0/17 [00:00<?, ?batch/s]"
            ]
          },
          "metadata": {},
          "output_type": "display_data"
        },
        {
          "data": {
            "application/vnd.jupyter.widget-view+json": {
              "model_id": "931bed48d5794786a33f215d64be6917",
              "version_major": 2,
              "version_minor": 0
            },
            "text/plain": [
              "Training batches on cuda:0:   0%|          | 0/17 [00:00<?, ?batch/s]"
            ]
          },
          "metadata": {},
          "output_type": "display_data"
        },
        {
          "data": {
            "application/vnd.jupyter.widget-view+json": {
              "model_id": "ecaffed03fa04ac180423a57303ec093",
              "version_major": 2,
              "version_minor": 0
            },
            "text/plain": [
              "Training batches on cuda:0:   0%|          | 0/17 [00:00<?, ?batch/s]"
            ]
          },
          "metadata": {},
          "output_type": "display_data"
        },
        {
          "data": {
            "application/vnd.jupyter.widget-view+json": {
              "model_id": "60b42e64e97642f099a42cdcacc5b242",
              "version_major": 2,
              "version_minor": 0
            },
            "text/plain": [
              "Training batches on cuda:0:   0%|          | 0/17 [00:00<?, ?batch/s]"
            ]
          },
          "metadata": {},
          "output_type": "display_data"
        },
        {
          "data": {
            "application/vnd.jupyter.widget-view+json": {
              "model_id": "919eabfcf9ae4fa8a9ce5f8d512acaac",
              "version_major": 2,
              "version_minor": 0
            },
            "text/plain": [
              "Training batches on cuda:0:   0%|          | 0/17 [00:00<?, ?batch/s]"
            ]
          },
          "metadata": {},
          "output_type": "display_data"
        },
        {
          "data": {
            "application/vnd.jupyter.widget-view+json": {
              "model_id": "3446a166f36e48b8af3666fb9ebd1655",
              "version_major": 2,
              "version_minor": 0
            },
            "text/plain": [
              "Training batches on cuda:0:   0%|          | 0/17 [00:00<?, ?batch/s]"
            ]
          },
          "metadata": {},
          "output_type": "display_data"
        },
        {
          "data": {
            "application/vnd.jupyter.widget-view+json": {
              "model_id": "05e4c510ccf14a9abf40e11bf109c46d",
              "version_major": 2,
              "version_minor": 0
            },
            "text/plain": [
              "Training batches on cuda:0:   0%|          | 0/17 [00:00<?, ?batch/s]"
            ]
          },
          "metadata": {},
          "output_type": "display_data"
        },
        {
          "data": {
            "application/vnd.jupyter.widget-view+json": {
              "model_id": "03af52e24e1240ddab7441d086f69a89",
              "version_major": 2,
              "version_minor": 0
            },
            "text/plain": [
              "Training batches on cuda:0:   0%|          | 0/17 [00:00<?, ?batch/s]"
            ]
          },
          "metadata": {},
          "output_type": "display_data"
        },
        {
          "data": {
            "application/vnd.jupyter.widget-view+json": {
              "model_id": "8df3bb318fe74471946ac702c033a1a5",
              "version_major": 2,
              "version_minor": 0
            },
            "text/plain": [
              "Training batches on cuda:0:   0%|          | 0/17 [00:00<?, ?batch/s]"
            ]
          },
          "metadata": {},
          "output_type": "display_data"
        },
        {
          "data": {
            "application/vnd.jupyter.widget-view+json": {
              "model_id": "ee8cff49e0854f4c8c769ca0b74d6e3c",
              "version_major": 2,
              "version_minor": 0
            },
            "text/plain": [
              "Training batches on cuda:0:   0%|          | 0/17 [00:00<?, ?batch/s]"
            ]
          },
          "metadata": {},
          "output_type": "display_data"
        },
        {
          "data": {
            "application/vnd.jupyter.widget-view+json": {
              "model_id": "e2038d5b417641ce80c1cc6c62252659",
              "version_major": 2,
              "version_minor": 0
            },
            "text/plain": [
              "Training batches on cuda:0:   0%|          | 0/17 [00:00<?, ?batch/s]"
            ]
          },
          "metadata": {},
          "output_type": "display_data"
        },
        {
          "data": {
            "application/vnd.jupyter.widget-view+json": {
              "model_id": "8835ce05f91945b4ac9b2471df42c22f",
              "version_major": 2,
              "version_minor": 0
            },
            "text/plain": [
              "Training batches on cuda:0:   0%|          | 0/17 [00:00<?, ?batch/s]"
            ]
          },
          "metadata": {},
          "output_type": "display_data"
        },
        {
          "data": {
            "application/vnd.jupyter.widget-view+json": {
              "model_id": "4d05fb7a9c694d1084e98865b9435686",
              "version_major": 2,
              "version_minor": 0
            },
            "text/plain": [
              "Training batches on cuda:0:   0%|          | 0/17 [00:00<?, ?batch/s]"
            ]
          },
          "metadata": {},
          "output_type": "display_data"
        },
        {
          "data": {
            "application/vnd.jupyter.widget-view+json": {
              "model_id": "9ebdd89ff37a4240b5db59c69da88fe3",
              "version_major": 2,
              "version_minor": 0
            },
            "text/plain": [
              "Training batches on cuda:0:   0%|          | 0/17 [00:00<?, ?batch/s]"
            ]
          },
          "metadata": {},
          "output_type": "display_data"
        },
        {
          "data": {
            "application/vnd.jupyter.widget-view+json": {
              "model_id": "c934dad79ce84a0eba2492ef5dc9328f",
              "version_major": 2,
              "version_minor": 0
            },
            "text/plain": [
              "Training batches on cuda:0:   0%|          | 0/17 [00:00<?, ?batch/s]"
            ]
          },
          "metadata": {},
          "output_type": "display_data"
        },
        {
          "data": {
            "application/vnd.jupyter.widget-view+json": {
              "model_id": "d0a026a33dac495ea81033fae233c6be",
              "version_major": 2,
              "version_minor": 0
            },
            "text/plain": [
              "Training batches on cuda:0:   0%|          | 0/17 [00:00<?, ?batch/s]"
            ]
          },
          "metadata": {},
          "output_type": "display_data"
        },
        {
          "data": {
            "application/vnd.jupyter.widget-view+json": {
              "model_id": "cebedadcd1fc452f82b2d0ce3d6967d5",
              "version_major": 2,
              "version_minor": 0
            },
            "text/plain": [
              "Training batches on cuda:0:   0%|          | 0/17 [00:00<?, ?batch/s]"
            ]
          },
          "metadata": {},
          "output_type": "display_data"
        },
        {
          "data": {
            "application/vnd.jupyter.widget-view+json": {
              "model_id": "0ebb23666fb54527b5b2cf75cc0d18ff",
              "version_major": 2,
              "version_minor": 0
            },
            "text/plain": [
              "Training batches on cuda:0:   0%|          | 0/17 [00:00<?, ?batch/s]"
            ]
          },
          "metadata": {},
          "output_type": "display_data"
        },
        {
          "data": {
            "application/vnd.jupyter.widget-view+json": {
              "model_id": "a0df7ed845c74f38b4b704f3131dc338",
              "version_major": 2,
              "version_minor": 0
            },
            "text/plain": [
              "Training batches on cuda:0:   0%|          | 0/17 [00:00<?, ?batch/s]"
            ]
          },
          "metadata": {},
          "output_type": "display_data"
        },
        {
          "data": {
            "application/vnd.jupyter.widget-view+json": {
              "model_id": "fa68b11f083e4680b64ecfc4944032ee",
              "version_major": 2,
              "version_minor": 0
            },
            "text/plain": [
              "Training batches on cuda:0:   0%|          | 0/17 [00:00<?, ?batch/s]"
            ]
          },
          "metadata": {},
          "output_type": "display_data"
        },
        {
          "data": {
            "application/vnd.jupyter.widget-view+json": {
              "model_id": "fd455714eca44080bef12184af37cd14",
              "version_major": 2,
              "version_minor": 0
            },
            "text/plain": [
              "Training batches on cuda:0:   0%|          | 0/17 [00:00<?, ?batch/s]"
            ]
          },
          "metadata": {},
          "output_type": "display_data"
        },
        {
          "data": {
            "application/vnd.jupyter.widget-view+json": {
              "model_id": "59c43ff7bf8949f6a083550c6e52dd9f",
              "version_major": 2,
              "version_minor": 0
            },
            "text/plain": [
              "Training batches on cuda:0:   0%|          | 0/17 [00:00<?, ?batch/s]"
            ]
          },
          "metadata": {},
          "output_type": "display_data"
        },
        {
          "data": {
            "application/vnd.jupyter.widget-view+json": {
              "model_id": "266c2701a4d64427b7f16cfd888a176e",
              "version_major": 2,
              "version_minor": 0
            },
            "text/plain": [
              "Training batches on cuda:0:   0%|          | 0/17 [00:00<?, ?batch/s]"
            ]
          },
          "metadata": {},
          "output_type": "display_data"
        },
        {
          "data": {
            "application/vnd.jupyter.widget-view+json": {
              "model_id": "31f47232e8db40ecaec6278d73fa59dd",
              "version_major": 2,
              "version_minor": 0
            },
            "text/plain": [
              "Training batches on cuda:0:   0%|          | 0/17 [00:00<?, ?batch/s]"
            ]
          },
          "metadata": {},
          "output_type": "display_data"
        },
        {
          "data": {
            "application/vnd.jupyter.widget-view+json": {
              "model_id": "02c10f987d09466990ea969084903582",
              "version_major": 2,
              "version_minor": 0
            },
            "text/plain": [
              "Training batches on cuda:0:   0%|          | 0/17 [00:00<?, ?batch/s]"
            ]
          },
          "metadata": {},
          "output_type": "display_data"
        },
        {
          "data": {
            "application/vnd.jupyter.widget-view+json": {
              "model_id": "fbe9085493364ac39dbee7dad87e5b5a",
              "version_major": 2,
              "version_minor": 0
            },
            "text/plain": [
              "Training batches on cuda:0:   0%|          | 0/17 [00:00<?, ?batch/s]"
            ]
          },
          "metadata": {},
          "output_type": "display_data"
        },
        {
          "data": {
            "application/vnd.jupyter.widget-view+json": {
              "model_id": "24109cc3245a425ea611f884a6cbe629",
              "version_major": 2,
              "version_minor": 0
            },
            "text/plain": [
              "Training batches on cuda:0:   0%|          | 0/17 [00:00<?, ?batch/s]"
            ]
          },
          "metadata": {},
          "output_type": "display_data"
        },
        {
          "data": {
            "application/vnd.jupyter.widget-view+json": {
              "model_id": "8653f24a46554573a872fa30489728ba",
              "version_major": 2,
              "version_minor": 0
            },
            "text/plain": [
              "Training batches on cuda:0:   0%|          | 0/17 [00:00<?, ?batch/s]"
            ]
          },
          "metadata": {},
          "output_type": "display_data"
        },
        {
          "data": {
            "application/vnd.jupyter.widget-view+json": {
              "model_id": "9c122972ff2448db92eecb93f9b39adc",
              "version_major": 2,
              "version_minor": 0
            },
            "text/plain": [
              "Training batches on cuda:0:   0%|          | 0/17 [00:00<?, ?batch/s]"
            ]
          },
          "metadata": {},
          "output_type": "display_data"
        },
        {
          "data": {
            "application/vnd.jupyter.widget-view+json": {
              "model_id": "52557334c66b4b88856173356e3ede7b",
              "version_major": 2,
              "version_minor": 0
            },
            "text/plain": [
              "Training batches on cuda:0:   0%|          | 0/17 [00:00<?, ?batch/s]"
            ]
          },
          "metadata": {},
          "output_type": "display_data"
        },
        {
          "data": {
            "application/vnd.jupyter.widget-view+json": {
              "model_id": "f7f0ffdec6ea48b3af302f8b9f8b36a4",
              "version_major": 2,
              "version_minor": 0
            },
            "text/plain": [
              "Training batches on cuda:0:   0%|          | 0/17 [00:00<?, ?batch/s]"
            ]
          },
          "metadata": {},
          "output_type": "display_data"
        },
        {
          "data": {
            "application/vnd.jupyter.widget-view+json": {
              "model_id": "fe58f0b95b5e4ea5aa07ade73af9822d",
              "version_major": 2,
              "version_minor": 0
            },
            "text/plain": [
              "Training batches on cuda:0:   0%|          | 0/17 [00:00<?, ?batch/s]"
            ]
          },
          "metadata": {},
          "output_type": "display_data"
        },
        {
          "data": {
            "application/vnd.jupyter.widget-view+json": {
              "model_id": "910e5750da1945968a12bc330e748eba",
              "version_major": 2,
              "version_minor": 0
            },
            "text/plain": [
              "Training batches on cuda:0:   0%|          | 0/17 [00:00<?, ?batch/s]"
            ]
          },
          "metadata": {},
          "output_type": "display_data"
        },
        {
          "data": {
            "application/vnd.jupyter.widget-view+json": {
              "model_id": "fda2337d05e547bea093804901531335",
              "version_major": 2,
              "version_minor": 0
            },
            "text/plain": [
              "Training batches on cuda:0:   0%|          | 0/17 [00:00<?, ?batch/s]"
            ]
          },
          "metadata": {},
          "output_type": "display_data"
        },
        {
          "data": {
            "application/vnd.jupyter.widget-view+json": {
              "model_id": "7e20008581b24fd1b435ac00cc079bd3",
              "version_major": 2,
              "version_minor": 0
            },
            "text/plain": [
              "Training batches on cuda:0:   0%|          | 0/17 [00:00<?, ?batch/s]"
            ]
          },
          "metadata": {},
          "output_type": "display_data"
        },
        {
          "data": {
            "application/vnd.jupyter.widget-view+json": {
              "model_id": "157ac5af84a04dc393b4afcd0ae01416",
              "version_major": 2,
              "version_minor": 0
            },
            "text/plain": [
              "Training batches on cuda:0:   0%|          | 0/17 [00:00<?, ?batch/s]"
            ]
          },
          "metadata": {},
          "output_type": "display_data"
        },
        {
          "data": {
            "application/vnd.jupyter.widget-view+json": {
              "model_id": "aa18a254dde24a48adec33f68a499b34",
              "version_major": 2,
              "version_minor": 0
            },
            "text/plain": [
              "Training batches on cuda:0:   0%|          | 0/17 [00:00<?, ?batch/s]"
            ]
          },
          "metadata": {},
          "output_type": "display_data"
        },
        {
          "data": {
            "application/vnd.jupyter.widget-view+json": {
              "model_id": "6f491df648884366b2654115fbfeffdd",
              "version_major": 2,
              "version_minor": 0
            },
            "text/plain": [
              "Training batches on cuda:0:   0%|          | 0/17 [00:00<?, ?batch/s]"
            ]
          },
          "metadata": {},
          "output_type": "display_data"
        },
        {
          "data": {
            "application/vnd.jupyter.widget-view+json": {
              "model_id": "7b35b56ab67f4a81959769a8fb88a177",
              "version_major": 2,
              "version_minor": 0
            },
            "text/plain": [
              "Training batches on cuda:0:   0%|          | 0/17 [00:00<?, ?batch/s]"
            ]
          },
          "metadata": {},
          "output_type": "display_data"
        },
        {
          "data": {
            "application/vnd.jupyter.widget-view+json": {
              "model_id": "079da651dfd14b4087ee41a8584def8c",
              "version_major": 2,
              "version_minor": 0
            },
            "text/plain": [
              "Training batches on cuda:0:   0%|          | 0/17 [00:00<?, ?batch/s]"
            ]
          },
          "metadata": {},
          "output_type": "display_data"
        },
        {
          "data": {
            "application/vnd.jupyter.widget-view+json": {
              "model_id": "d147cac825144bc9a4cbcb6998474d98",
              "version_major": 2,
              "version_minor": 0
            },
            "text/plain": [
              "Training batches on cuda:0:   0%|          | 0/17 [00:00<?, ?batch/s]"
            ]
          },
          "metadata": {},
          "output_type": "display_data"
        },
        {
          "data": {
            "application/vnd.jupyter.widget-view+json": {
              "model_id": "12306149701f42d9a1323088fd79afd5",
              "version_major": 2,
              "version_minor": 0
            },
            "text/plain": [
              "Training batches on cuda:0:   0%|          | 0/17 [00:00<?, ?batch/s]"
            ]
          },
          "metadata": {},
          "output_type": "display_data"
        },
        {
          "data": {
            "application/vnd.jupyter.widget-view+json": {
              "model_id": "c35db4a711124e879a696e62fbd8439a",
              "version_major": 2,
              "version_minor": 0
            },
            "text/plain": [
              "Training batches on cuda:0:   0%|          | 0/17 [00:00<?, ?batch/s]"
            ]
          },
          "metadata": {},
          "output_type": "display_data"
        },
        {
          "data": {
            "application/vnd.jupyter.widget-view+json": {
              "model_id": "48929576871d488d8543945823afb2a1",
              "version_major": 2,
              "version_minor": 0
            },
            "text/plain": [
              "Training batches on cuda:0:   0%|          | 0/17 [00:00<?, ?batch/s]"
            ]
          },
          "metadata": {},
          "output_type": "display_data"
        },
        {
          "data": {
            "application/vnd.jupyter.widget-view+json": {
              "model_id": "41d22b46658a47c6866b78359196bfdf",
              "version_major": 2,
              "version_minor": 0
            },
            "text/plain": [
              "Training batches on cuda:0:   0%|          | 0/17 [00:00<?, ?batch/s]"
            ]
          },
          "metadata": {},
          "output_type": "display_data"
        },
        {
          "data": {
            "application/vnd.jupyter.widget-view+json": {
              "model_id": "12afac64904a484db7aad8ab7131926b",
              "version_major": 2,
              "version_minor": 0
            },
            "text/plain": [
              "Training batches on cuda:0:   0%|          | 0/17 [00:00<?, ?batch/s]"
            ]
          },
          "metadata": {},
          "output_type": "display_data"
        },
        {
          "data": {
            "application/vnd.jupyter.widget-view+json": {
              "model_id": "2c7959721feb4f1ca5181cf0e91bcbd1",
              "version_major": 2,
              "version_minor": 0
            },
            "text/plain": [
              "Training batches on cuda:0:   0%|          | 0/17 [00:00<?, ?batch/s]"
            ]
          },
          "metadata": {},
          "output_type": "display_data"
        },
        {
          "data": {
            "application/vnd.jupyter.widget-view+json": {
              "model_id": "56e329153d1e4da08169cffe13fa5432",
              "version_major": 2,
              "version_minor": 0
            },
            "text/plain": [
              "Training batches on cuda:0:   0%|          | 0/17 [00:00<?, ?batch/s]"
            ]
          },
          "metadata": {},
          "output_type": "display_data"
        },
        {
          "data": {
            "application/vnd.jupyter.widget-view+json": {
              "model_id": "1a080450604640a4924e07e14c3bc56a",
              "version_major": 2,
              "version_minor": 0
            },
            "text/plain": [
              "Training batches on cuda:0:   0%|          | 0/17 [00:00<?, ?batch/s]"
            ]
          },
          "metadata": {},
          "output_type": "display_data"
        },
        {
          "data": {
            "application/vnd.jupyter.widget-view+json": {
              "model_id": "cd486c7ccb204008a2a1151198545770",
              "version_major": 2,
              "version_minor": 0
            },
            "text/plain": [
              "Training batches on cuda:0:   0%|          | 0/17 [00:00<?, ?batch/s]"
            ]
          },
          "metadata": {},
          "output_type": "display_data"
        },
        {
          "data": {
            "application/vnd.jupyter.widget-view+json": {
              "model_id": "fbb5c13c4c8c49a99d855458a99e4684",
              "version_major": 2,
              "version_minor": 0
            },
            "text/plain": [
              "Training batches on cuda:0:   0%|          | 0/17 [00:00<?, ?batch/s]"
            ]
          },
          "metadata": {},
          "output_type": "display_data"
        },
        {
          "data": {
            "application/vnd.jupyter.widget-view+json": {
              "model_id": "7aea01596dca48069a8f041e6d4b4f0f",
              "version_major": 2,
              "version_minor": 0
            },
            "text/plain": [
              "Training batches on cuda:0:   0%|          | 0/17 [00:00<?, ?batch/s]"
            ]
          },
          "metadata": {},
          "output_type": "display_data"
        },
        {
          "data": {
            "application/vnd.jupyter.widget-view+json": {
              "model_id": "a76a0159b0eb4bed871167b87ff83566",
              "version_major": 2,
              "version_minor": 0
            },
            "text/plain": [
              "Training batches on cuda:0:   0%|          | 0/17 [00:00<?, ?batch/s]"
            ]
          },
          "metadata": {},
          "output_type": "display_data"
        },
        {
          "data": {
            "application/vnd.jupyter.widget-view+json": {
              "model_id": "989d5e2470f94d59ac942bbe2f6c5a81",
              "version_major": 2,
              "version_minor": 0
            },
            "text/plain": [
              "Training batches on cuda:0:   0%|          | 0/17 [00:00<?, ?batch/s]"
            ]
          },
          "metadata": {},
          "output_type": "display_data"
        },
        {
          "data": {
            "application/vnd.jupyter.widget-view+json": {
              "model_id": "53ef2b7f45ad4a35892d71bce8bce77d",
              "version_major": 2,
              "version_minor": 0
            },
            "text/plain": [
              "Training batches on cuda:0:   0%|          | 0/17 [00:00<?, ?batch/s]"
            ]
          },
          "metadata": {},
          "output_type": "display_data"
        },
        {
          "data": {
            "application/vnd.jupyter.widget-view+json": {
              "model_id": "eff36b73eb2a4eaa9aac629bccfceef7",
              "version_major": 2,
              "version_minor": 0
            },
            "text/plain": [
              "Training batches on cuda:0:   0%|          | 0/17 [00:00<?, ?batch/s]"
            ]
          },
          "metadata": {},
          "output_type": "display_data"
        },
        {
          "data": {
            "application/vnd.jupyter.widget-view+json": {
              "model_id": "1a819eccadab46eeb29d2d9c27948b37",
              "version_major": 2,
              "version_minor": 0
            },
            "text/plain": [
              "Training batches on cuda:0:   0%|          | 0/17 [00:00<?, ?batch/s]"
            ]
          },
          "metadata": {},
          "output_type": "display_data"
        },
        {
          "data": {
            "application/vnd.jupyter.widget-view+json": {
              "model_id": "090bd239dd7941ebac87578710334d57",
              "version_major": 2,
              "version_minor": 0
            },
            "text/plain": [
              "Training batches on cuda:0:   0%|          | 0/17 [00:00<?, ?batch/s]"
            ]
          },
          "metadata": {},
          "output_type": "display_data"
        },
        {
          "data": {
            "application/vnd.jupyter.widget-view+json": {
              "model_id": "4942e632e5254c31b2d010f91a460577",
              "version_major": 2,
              "version_minor": 0
            },
            "text/plain": [
              "Training batches on cuda:0:   0%|          | 0/17 [00:00<?, ?batch/s]"
            ]
          },
          "metadata": {},
          "output_type": "display_data"
        },
        {
          "data": {
            "application/vnd.jupyter.widget-view+json": {
              "model_id": "fd1f053609a342629c82483a46806399",
              "version_major": 2,
              "version_minor": 0
            },
            "text/plain": [
              "Training batches on cuda:0:   0%|          | 0/17 [00:00<?, ?batch/s]"
            ]
          },
          "metadata": {},
          "output_type": "display_data"
        },
        {
          "data": {
            "application/vnd.jupyter.widget-view+json": {
              "model_id": "079d0c5c3d444ac3b8ba4f0f0b2b9377",
              "version_major": 2,
              "version_minor": 0
            },
            "text/plain": [
              "Training batches on cuda:0:   0%|          | 0/17 [00:00<?, ?batch/s]"
            ]
          },
          "metadata": {},
          "output_type": "display_data"
        },
        {
          "data": {
            "application/vnd.jupyter.widget-view+json": {
              "model_id": "854ad05dea7240cd8957366f759b01f8",
              "version_major": 2,
              "version_minor": 0
            },
            "text/plain": [
              "Training batches on cuda:0:   0%|          | 0/17 [00:00<?, ?batch/s]"
            ]
          },
          "metadata": {},
          "output_type": "display_data"
        },
        {
          "data": {
            "application/vnd.jupyter.widget-view+json": {
              "model_id": "9d015a0b625c410e9613cd6bf2838c5c",
              "version_major": 2,
              "version_minor": 0
            },
            "text/plain": [
              "Training batches on cuda:0:   0%|          | 0/17 [00:00<?, ?batch/s]"
            ]
          },
          "metadata": {},
          "output_type": "display_data"
        },
        {
          "data": {
            "application/vnd.jupyter.widget-view+json": {
              "model_id": "10ff46dfc3b0419bac63497e01fa2dcd",
              "version_major": 2,
              "version_minor": 0
            },
            "text/plain": [
              "Training batches on cuda:0:   0%|          | 0/17 [00:00<?, ?batch/s]"
            ]
          },
          "metadata": {},
          "output_type": "display_data"
        },
        {
          "data": {
            "application/vnd.jupyter.widget-view+json": {
              "model_id": "016437de25c54688a93a138f485b5e81",
              "version_major": 2,
              "version_minor": 0
            },
            "text/plain": [
              "Training batches on cuda:0:   0%|          | 0/17 [00:00<?, ?batch/s]"
            ]
          },
          "metadata": {},
          "output_type": "display_data"
        },
        {
          "data": {
            "application/vnd.jupyter.widget-view+json": {
              "model_id": "a04b4e7486174bb8af9d526512ed012c",
              "version_major": 2,
              "version_minor": 0
            },
            "text/plain": [
              "Training batches on cuda:0:   0%|          | 0/17 [00:00<?, ?batch/s]"
            ]
          },
          "metadata": {},
          "output_type": "display_data"
        },
        {
          "data": {
            "application/vnd.jupyter.widget-view+json": {
              "model_id": "e76daf3422ef4f06aabcb81289da2506",
              "version_major": 2,
              "version_minor": 0
            },
            "text/plain": [
              "Training batches on cuda:0:   0%|          | 0/17 [00:00<?, ?batch/s]"
            ]
          },
          "metadata": {},
          "output_type": "display_data"
        },
        {
          "data": {
            "application/vnd.jupyter.widget-view+json": {
              "model_id": "3759f33000fe429291cf5061f2d67311",
              "version_major": 2,
              "version_minor": 0
            },
            "text/plain": [
              "Training batches on cuda:0:   0%|          | 0/17 [00:00<?, ?batch/s]"
            ]
          },
          "metadata": {},
          "output_type": "display_data"
        },
        {
          "data": {
            "application/vnd.jupyter.widget-view+json": {
              "model_id": "a25f121fb4da4b8699e1e86e08ba28b4",
              "version_major": 2,
              "version_minor": 0
            },
            "text/plain": [
              "Training batches on cuda:0:   0%|          | 0/17 [00:00<?, ?batch/s]"
            ]
          },
          "metadata": {},
          "output_type": "display_data"
        },
        {
          "data": {
            "application/vnd.jupyter.widget-view+json": {
              "model_id": "c617123ff12b448c80557bc454500083",
              "version_major": 2,
              "version_minor": 0
            },
            "text/plain": [
              "Training batches on cuda:0:   0%|          | 0/17 [00:00<?, ?batch/s]"
            ]
          },
          "metadata": {},
          "output_type": "display_data"
        },
        {
          "data": {
            "application/vnd.jupyter.widget-view+json": {
              "model_id": "7e1e1ac9591e46fb894d2ebf91750cc2",
              "version_major": 2,
              "version_minor": 0
            },
            "text/plain": [
              "Training batches on cuda:0:   0%|          | 0/17 [00:00<?, ?batch/s]"
            ]
          },
          "metadata": {},
          "output_type": "display_data"
        },
        {
          "data": {
            "application/vnd.jupyter.widget-view+json": {
              "model_id": "b556602f043e4dadaae81fb4230729e8",
              "version_major": 2,
              "version_minor": 0
            },
            "text/plain": [
              "Training batches on cuda:0:   0%|          | 0/17 [00:00<?, ?batch/s]"
            ]
          },
          "metadata": {},
          "output_type": "display_data"
        },
        {
          "data": {
            "application/vnd.jupyter.widget-view+json": {
              "model_id": "cad47cf672464e37a88ae84ef186448a",
              "version_major": 2,
              "version_minor": 0
            },
            "text/plain": [
              "Training batches on cuda:0:   0%|          | 0/17 [00:00<?, ?batch/s]"
            ]
          },
          "metadata": {},
          "output_type": "display_data"
        },
        {
          "data": {
            "application/vnd.jupyter.widget-view+json": {
              "model_id": "4ed6662435e0460c8305f641ad18153e",
              "version_major": 2,
              "version_minor": 0
            },
            "text/plain": [
              "Training batches on cuda:0:   0%|          | 0/17 [00:00<?, ?batch/s]"
            ]
          },
          "metadata": {},
          "output_type": "display_data"
        },
        {
          "data": {
            "application/vnd.jupyter.widget-view+json": {
              "model_id": "199f8dda413e4df6a86356ab0e4a7630",
              "version_major": 2,
              "version_minor": 0
            },
            "text/plain": [
              "Training batches on cuda:0:   0%|          | 0/17 [00:00<?, ?batch/s]"
            ]
          },
          "metadata": {},
          "output_type": "display_data"
        },
        {
          "data": {
            "application/vnd.jupyter.widget-view+json": {
              "model_id": "1461c6eb122048e0a774464bb0c8769a",
              "version_major": 2,
              "version_minor": 0
            },
            "text/plain": [
              "Training batches on cuda:0:   0%|          | 0/17 [00:00<?, ?batch/s]"
            ]
          },
          "metadata": {},
          "output_type": "display_data"
        },
        {
          "data": {
            "application/vnd.jupyter.widget-view+json": {
              "model_id": "aadce330d165427bb96f152d76d49a0a",
              "version_major": 2,
              "version_minor": 0
            },
            "text/plain": [
              "Training batches on cuda:0:   0%|          | 0/17 [00:00<?, ?batch/s]"
            ]
          },
          "metadata": {},
          "output_type": "display_data"
        },
        {
          "data": {
            "application/vnd.jupyter.widget-view+json": {
              "model_id": "927b7d62ced649b4bb65fd3f4e555a19",
              "version_major": 2,
              "version_minor": 0
            },
            "text/plain": [
              "Training batches on cuda:0:   0%|          | 0/17 [00:00<?, ?batch/s]"
            ]
          },
          "metadata": {},
          "output_type": "display_data"
        },
        {
          "data": {
            "application/vnd.jupyter.widget-view+json": {
              "model_id": "8201b178053f4e829c3f8948b0c6f565",
              "version_major": 2,
              "version_minor": 0
            },
            "text/plain": [
              "Training batches on cuda:0:   0%|          | 0/17 [00:00<?, ?batch/s]"
            ]
          },
          "metadata": {},
          "output_type": "display_data"
        },
        {
          "data": {
            "application/vnd.jupyter.widget-view+json": {
              "model_id": "e3cb1822a6644b728fee9ce7aa1966f1",
              "version_major": 2,
              "version_minor": 0
            },
            "text/plain": [
              "Training batches on cuda:0:   0%|          | 0/17 [00:00<?, ?batch/s]"
            ]
          },
          "metadata": {},
          "output_type": "display_data"
        },
        {
          "data": {
            "application/vnd.jupyter.widget-view+json": {
              "model_id": "f5f1544748c54c9c9b2d1d513464072b",
              "version_major": 2,
              "version_minor": 0
            },
            "text/plain": [
              "Training batches on cuda:0:   0%|          | 0/17 [00:00<?, ?batch/s]"
            ]
          },
          "metadata": {},
          "output_type": "display_data"
        },
        {
          "data": {
            "application/vnd.jupyter.widget-view+json": {
              "model_id": "5132e12ae65d458da446723eceb3eb55",
              "version_major": 2,
              "version_minor": 0
            },
            "text/plain": [
              "Training batches on cuda:0:   0%|          | 0/17 [00:00<?, ?batch/s]"
            ]
          },
          "metadata": {},
          "output_type": "display_data"
        },
        {
          "data": {
            "application/vnd.jupyter.widget-view+json": {
              "model_id": "9ec839a730b14f27a930433d2b862c97",
              "version_major": 2,
              "version_minor": 0
            },
            "text/plain": [
              "Training batches on cuda:0:   0%|          | 0/17 [00:00<?, ?batch/s]"
            ]
          },
          "metadata": {},
          "output_type": "display_data"
        },
        {
          "data": {
            "application/vnd.jupyter.widget-view+json": {
              "model_id": "038867be1d9b49b3b8b4706454daa564",
              "version_major": 2,
              "version_minor": 0
            },
            "text/plain": [
              "Training batches on cuda:0:   0%|          | 0/17 [00:00<?, ?batch/s]"
            ]
          },
          "metadata": {},
          "output_type": "display_data"
        },
        {
          "data": {
            "application/vnd.jupyter.widget-view+json": {
              "model_id": "58f8cf77fa174b5ca15b3da4e20081cf",
              "version_major": 2,
              "version_minor": 0
            },
            "text/plain": [
              "Training batches on cuda:0:   0%|          | 0/17 [00:00<?, ?batch/s]"
            ]
          },
          "metadata": {},
          "output_type": "display_data"
        },
        {
          "data": {
            "application/vnd.jupyter.widget-view+json": {
              "model_id": "6e0f287a89bc491d91b59f5641a71697",
              "version_major": 2,
              "version_minor": 0
            },
            "text/plain": [
              "Training batches on cuda:0:   0%|          | 0/17 [00:00<?, ?batch/s]"
            ]
          },
          "metadata": {},
          "output_type": "display_data"
        },
        {
          "data": {
            "application/vnd.jupyter.widget-view+json": {
              "model_id": "675e7fb0aefd4cc9a3ea3bd15b7f049c",
              "version_major": 2,
              "version_minor": 0
            },
            "text/plain": [
              "Training batches on cuda:0:   0%|          | 0/17 [00:00<?, ?batch/s]"
            ]
          },
          "metadata": {},
          "output_type": "display_data"
        },
        {
          "data": {
            "application/vnd.jupyter.widget-view+json": {
              "model_id": "5058bf597f9643869fb733f2688a9b6b",
              "version_major": 2,
              "version_minor": 0
            },
            "text/plain": [
              "Training batches on cuda:0:   0%|          | 0/17 [00:00<?, ?batch/s]"
            ]
          },
          "metadata": {},
          "output_type": "display_data"
        },
        {
          "data": {
            "application/vnd.jupyter.widget-view+json": {
              "model_id": "ccaab8e5e12f49b0a4106628af43d6c6",
              "version_major": 2,
              "version_minor": 0
            },
            "text/plain": [
              "Training batches on cuda:0:   0%|          | 0/17 [00:00<?, ?batch/s]"
            ]
          },
          "metadata": {},
          "output_type": "display_data"
        },
        {
          "data": {
            "application/vnd.jupyter.widget-view+json": {
              "model_id": "cb25c54b003346c8ae792af54e93268d",
              "version_major": 2,
              "version_minor": 0
            },
            "text/plain": [
              "Training batches on cuda:0:   0%|          | 0/17 [00:00<?, ?batch/s]"
            ]
          },
          "metadata": {},
          "output_type": "display_data"
        },
        {
          "data": {
            "application/vnd.jupyter.widget-view+json": {
              "model_id": "3e59da5ed7754781b2cb6aab7eedd294",
              "version_major": 2,
              "version_minor": 0
            },
            "text/plain": [
              "Training batches on cuda:0:   0%|          | 0/17 [00:00<?, ?batch/s]"
            ]
          },
          "metadata": {},
          "output_type": "display_data"
        },
        {
          "data": {
            "application/vnd.jupyter.widget-view+json": {
              "model_id": "5afe655da05c4c1086d7c730092292f8",
              "version_major": 2,
              "version_minor": 0
            },
            "text/plain": [
              "Training batches on cuda:0:   0%|          | 0/17 [00:00<?, ?batch/s]"
            ]
          },
          "metadata": {},
          "output_type": "display_data"
        },
        {
          "data": {
            "application/vnd.jupyter.widget-view+json": {
              "model_id": "6ab2cbc66aa24c4597a1bd0e4435cb20",
              "version_major": 2,
              "version_minor": 0
            },
            "text/plain": [
              "Training batches on cuda:0:   0%|          | 0/17 [00:00<?, ?batch/s]"
            ]
          },
          "metadata": {},
          "output_type": "display_data"
        },
        {
          "data": {
            "application/vnd.jupyter.widget-view+json": {
              "model_id": "770de5fc0a6647baa6007d34e7b3a87b",
              "version_major": 2,
              "version_minor": 0
            },
            "text/plain": [
              "Training batches on cuda:0:   0%|          | 0/17 [00:00<?, ?batch/s]"
            ]
          },
          "metadata": {},
          "output_type": "display_data"
        },
        {
          "data": {
            "application/vnd.jupyter.widget-view+json": {
              "model_id": "1af11db3f6014af39d1b0cc3c715f34e",
              "version_major": 2,
              "version_minor": 0
            },
            "text/plain": [
              "Training batches on cuda:0:   0%|          | 0/17 [00:00<?, ?batch/s]"
            ]
          },
          "metadata": {},
          "output_type": "display_data"
        },
        {
          "data": {
            "application/vnd.jupyter.widget-view+json": {
              "model_id": "9cd56826c83b43c39f974e4968601b02",
              "version_major": 2,
              "version_minor": 0
            },
            "text/plain": [
              "Training batches on cuda:0:   0%|          | 0/17 [00:00<?, ?batch/s]"
            ]
          },
          "metadata": {},
          "output_type": "display_data"
        },
        {
          "data": {
            "application/vnd.jupyter.widget-view+json": {
              "model_id": "a7e61ebc3ce140d9bbc13c2776e2cc5f",
              "version_major": 2,
              "version_minor": 0
            },
            "text/plain": [
              "Training batches on cuda:0:   0%|          | 0/17 [00:00<?, ?batch/s]"
            ]
          },
          "metadata": {},
          "output_type": "display_data"
        },
        {
          "data": {
            "application/vnd.jupyter.widget-view+json": {
              "model_id": "4cc2f0c58b3a4d1686efe9f677382530",
              "version_major": 2,
              "version_minor": 0
            },
            "text/plain": [
              "Training batches on cuda:0:   0%|          | 0/17 [00:00<?, ?batch/s]"
            ]
          },
          "metadata": {},
          "output_type": "display_data"
        },
        {
          "data": {
            "application/vnd.jupyter.widget-view+json": {
              "model_id": "25e32d307589418287822c06df93a88c",
              "version_major": 2,
              "version_minor": 0
            },
            "text/plain": [
              "Training batches on cuda:0:   0%|          | 0/17 [00:00<?, ?batch/s]"
            ]
          },
          "metadata": {},
          "output_type": "display_data"
        },
        {
          "data": {
            "application/vnd.jupyter.widget-view+json": {
              "model_id": "8a7927281a8942c4bcaa82b38ef00b25",
              "version_major": 2,
              "version_minor": 0
            },
            "text/plain": [
              "Training batches on cuda:0:   0%|          | 0/17 [00:00<?, ?batch/s]"
            ]
          },
          "metadata": {},
          "output_type": "display_data"
        },
        {
          "data": {
            "application/vnd.jupyter.widget-view+json": {
              "model_id": "7b4fc7cba9c44c5fb61641bf89b448fc",
              "version_major": 2,
              "version_minor": 0
            },
            "text/plain": [
              "Training batches on cuda:0:   0%|          | 0/17 [00:00<?, ?batch/s]"
            ]
          },
          "metadata": {},
          "output_type": "display_data"
        },
        {
          "data": {
            "application/vnd.jupyter.widget-view+json": {
              "model_id": "aa538461b5fb42ae827799e703d8c1db",
              "version_major": 2,
              "version_minor": 0
            },
            "text/plain": [
              "Training batches on cuda:0:   0%|          | 0/17 [00:00<?, ?batch/s]"
            ]
          },
          "metadata": {},
          "output_type": "display_data"
        },
        {
          "data": {
            "application/vnd.jupyter.widget-view+json": {
              "model_id": "14de1ce36eb347a7a0e9abe87384fbc8",
              "version_major": 2,
              "version_minor": 0
            },
            "text/plain": [
              "Training batches on cuda:0:   0%|          | 0/17 [00:00<?, ?batch/s]"
            ]
          },
          "metadata": {},
          "output_type": "display_data"
        },
        {
          "data": {
            "application/vnd.jupyter.widget-view+json": {
              "model_id": "0dffb066024743e7b1811b08875504ff",
              "version_major": 2,
              "version_minor": 0
            },
            "text/plain": [
              "Training batches on cuda:0:   0%|          | 0/17 [00:00<?, ?batch/s]"
            ]
          },
          "metadata": {},
          "output_type": "display_data"
        },
        {
          "data": {
            "application/vnd.jupyter.widget-view+json": {
              "model_id": "a804d1bad07143d984c265117b344c24",
              "version_major": 2,
              "version_minor": 0
            },
            "text/plain": [
              "Training batches on cuda:0:   0%|          | 0/17 [00:00<?, ?batch/s]"
            ]
          },
          "metadata": {},
          "output_type": "display_data"
        },
        {
          "data": {
            "application/vnd.jupyter.widget-view+json": {
              "model_id": "f53f5e3a527949c2a2398af43ce55b0b",
              "version_major": 2,
              "version_minor": 0
            },
            "text/plain": [
              "Training batches on cuda:0:   0%|          | 0/17 [00:00<?, ?batch/s]"
            ]
          },
          "metadata": {},
          "output_type": "display_data"
        },
        {
          "data": {
            "application/vnd.jupyter.widget-view+json": {
              "model_id": "9668bb3eaf2c4c13a193a5b94ee44b8a",
              "version_major": 2,
              "version_minor": 0
            },
            "text/plain": [
              "Training batches on cuda:0:   0%|          | 0/17 [00:00<?, ?batch/s]"
            ]
          },
          "metadata": {},
          "output_type": "display_data"
        },
        {
          "data": {
            "application/vnd.jupyter.widget-view+json": {
              "model_id": "f7a19705f43d4ba78288e9aee9b46ba3",
              "version_major": 2,
              "version_minor": 0
            },
            "text/plain": [
              "Training batches on cuda:0:   0%|          | 0/17 [00:00<?, ?batch/s]"
            ]
          },
          "metadata": {},
          "output_type": "display_data"
        },
        {
          "data": {
            "application/vnd.jupyter.widget-view+json": {
              "model_id": "9a14ed79218742d996881f65131f2868",
              "version_major": 2,
              "version_minor": 0
            },
            "text/plain": [
              "Training batches on cuda:0:   0%|          | 0/17 [00:00<?, ?batch/s]"
            ]
          },
          "metadata": {},
          "output_type": "display_data"
        },
        {
          "data": {
            "application/vnd.jupyter.widget-view+json": {
              "model_id": "1808ab75dcda4980b8f8f958f6729612",
              "version_major": 2,
              "version_minor": 0
            },
            "text/plain": [
              "Training batches on cuda:0:   0%|          | 0/17 [00:00<?, ?batch/s]"
            ]
          },
          "metadata": {},
          "output_type": "display_data"
        },
        {
          "data": {
            "application/vnd.jupyter.widget-view+json": {
              "model_id": "41969c7b5a6e4298bd68133e7181b60d",
              "version_major": 2,
              "version_minor": 0
            },
            "text/plain": [
              "Training batches on cuda:0:   0%|          | 0/17 [00:00<?, ?batch/s]"
            ]
          },
          "metadata": {},
          "output_type": "display_data"
        },
        {
          "data": {
            "application/vnd.jupyter.widget-view+json": {
              "model_id": "e96302255e98414b89169acd13f5492f",
              "version_major": 2,
              "version_minor": 0
            },
            "text/plain": [
              "Training batches on cuda:0:   0%|          | 0/17 [00:00<?, ?batch/s]"
            ]
          },
          "metadata": {},
          "output_type": "display_data"
        },
        {
          "data": {
            "application/vnd.jupyter.widget-view+json": {
              "model_id": "d5b0fe556f09452d867390a4235b686f",
              "version_major": 2,
              "version_minor": 0
            },
            "text/plain": [
              "Training batches on cuda:0:   0%|          | 0/17 [00:00<?, ?batch/s]"
            ]
          },
          "metadata": {},
          "output_type": "display_data"
        },
        {
          "data": {
            "application/vnd.jupyter.widget-view+json": {
              "model_id": "9356e6fe2e714d03a1e25b8feba9e673",
              "version_major": 2,
              "version_minor": 0
            },
            "text/plain": [
              "Training batches on cuda:0:   0%|          | 0/17 [00:00<?, ?batch/s]"
            ]
          },
          "metadata": {},
          "output_type": "display_data"
        },
        {
          "data": {
            "application/vnd.jupyter.widget-view+json": {
              "model_id": "588db9ff1114405d8206e1b85d8bbb40",
              "version_major": 2,
              "version_minor": 0
            },
            "text/plain": [
              "Training batches on cuda:0:   0%|          | 0/17 [00:00<?, ?batch/s]"
            ]
          },
          "metadata": {},
          "output_type": "display_data"
        },
        {
          "data": {
            "application/vnd.jupyter.widget-view+json": {
              "model_id": "2fdc436a6bc9446abec2e11cfeb466b7",
              "version_major": 2,
              "version_minor": 0
            },
            "text/plain": [
              "Training batches on cuda:0:   0%|          | 0/17 [00:00<?, ?batch/s]"
            ]
          },
          "metadata": {},
          "output_type": "display_data"
        },
        {
          "data": {
            "application/vnd.jupyter.widget-view+json": {
              "model_id": "e9210b20bf954a61845883584b6ab1ce",
              "version_major": 2,
              "version_minor": 0
            },
            "text/plain": [
              "Training batches on cuda:0:   0%|          | 0/17 [00:00<?, ?batch/s]"
            ]
          },
          "metadata": {},
          "output_type": "display_data"
        },
        {
          "data": {
            "application/vnd.jupyter.widget-view+json": {
              "model_id": "cd95340342164ae2875a5762107bfc2c",
              "version_major": 2,
              "version_minor": 0
            },
            "text/plain": [
              "Training batches on cuda:0:   0%|          | 0/17 [00:00<?, ?batch/s]"
            ]
          },
          "metadata": {},
          "output_type": "display_data"
        },
        {
          "data": {
            "application/vnd.jupyter.widget-view+json": {
              "model_id": "02892f8434724a12b00b28ca03672b9b",
              "version_major": 2,
              "version_minor": 0
            },
            "text/plain": [
              "Training batches on cuda:0:   0%|          | 0/17 [00:00<?, ?batch/s]"
            ]
          },
          "metadata": {},
          "output_type": "display_data"
        },
        {
          "data": {
            "application/vnd.jupyter.widget-view+json": {
              "model_id": "d5bc7749ddd04dc289b3003bea2c18bc",
              "version_major": 2,
              "version_minor": 0
            },
            "text/plain": [
              "Training batches on cuda:0:   0%|          | 0/17 [00:00<?, ?batch/s]"
            ]
          },
          "metadata": {},
          "output_type": "display_data"
        },
        {
          "data": {
            "application/vnd.jupyter.widget-view+json": {
              "model_id": "c76ef4efbb8e4df89b0a32fe1e7f6ccd",
              "version_major": 2,
              "version_minor": 0
            },
            "text/plain": [
              "Training batches on cuda:0:   0%|          | 0/17 [00:00<?, ?batch/s]"
            ]
          },
          "metadata": {},
          "output_type": "display_data"
        },
        {
          "data": {
            "application/vnd.jupyter.widget-view+json": {
              "model_id": "8819a80108f34e5398e05e01064564d9",
              "version_major": 2,
              "version_minor": 0
            },
            "text/plain": [
              "Training batches on cuda:0:   0%|          | 0/17 [00:00<?, ?batch/s]"
            ]
          },
          "metadata": {},
          "output_type": "display_data"
        },
        {
          "data": {
            "application/vnd.jupyter.widget-view+json": {
              "model_id": "7eea9d1c9f0d494db0c60bf6ff1e2797",
              "version_major": 2,
              "version_minor": 0
            },
            "text/plain": [
              "Training batches on cuda:0:   0%|          | 0/17 [00:00<?, ?batch/s]"
            ]
          },
          "metadata": {},
          "output_type": "display_data"
        },
        {
          "data": {
            "application/vnd.jupyter.widget-view+json": {
              "model_id": "f268b28a197b464f8aa8c8ccdcdc7005",
              "version_major": 2,
              "version_minor": 0
            },
            "text/plain": [
              "Training batches on cuda:0:   0%|          | 0/17 [00:00<?, ?batch/s]"
            ]
          },
          "metadata": {},
          "output_type": "display_data"
        },
        {
          "data": {
            "application/vnd.jupyter.widget-view+json": {
              "model_id": "92b89b85d22144af9cc33696e81c8eb2",
              "version_major": 2,
              "version_minor": 0
            },
            "text/plain": [
              "Training batches on cuda:0:   0%|          | 0/17 [00:00<?, ?batch/s]"
            ]
          },
          "metadata": {},
          "output_type": "display_data"
        },
        {
          "data": {
            "application/vnd.jupyter.widget-view+json": {
              "model_id": "7b0c9af292d54d24805b9b00fd556848",
              "version_major": 2,
              "version_minor": 0
            },
            "text/plain": [
              "Training batches on cuda:0:   0%|          | 0/17 [00:00<?, ?batch/s]"
            ]
          },
          "metadata": {},
          "output_type": "display_data"
        },
        {
          "data": {
            "application/vnd.jupyter.widget-view+json": {
              "model_id": "05402c5c6344460f84016e1ca7131a96",
              "version_major": 2,
              "version_minor": 0
            },
            "text/plain": [
              "Training batches on cuda:0:   0%|          | 0/17 [00:00<?, ?batch/s]"
            ]
          },
          "metadata": {},
          "output_type": "display_data"
        },
        {
          "data": {
            "application/vnd.jupyter.widget-view+json": {
              "model_id": "f56cdad492c44816bad7bb33083f5705",
              "version_major": 2,
              "version_minor": 0
            },
            "text/plain": [
              "Training batches on cuda:0:   0%|          | 0/17 [00:00<?, ?batch/s]"
            ]
          },
          "metadata": {},
          "output_type": "display_data"
        },
        {
          "data": {
            "application/vnd.jupyter.widget-view+json": {
              "model_id": "5e79d4160ee34ea8a592bf926262a70b",
              "version_major": 2,
              "version_minor": 0
            },
            "text/plain": [
              "Training batches on cuda:0:   0%|          | 0/17 [00:00<?, ?batch/s]"
            ]
          },
          "metadata": {},
          "output_type": "display_data"
        },
        {
          "data": {
            "application/vnd.jupyter.widget-view+json": {
              "model_id": "5f134c5aa7f74dad965d4a858efee909",
              "version_major": 2,
              "version_minor": 0
            },
            "text/plain": [
              "Training batches on cuda:0:   0%|          | 0/17 [00:00<?, ?batch/s]"
            ]
          },
          "metadata": {},
          "output_type": "display_data"
        },
        {
          "data": {
            "application/vnd.jupyter.widget-view+json": {
              "model_id": "7b59f8619c6746b99157fef2f79ab38c",
              "version_major": 2,
              "version_minor": 0
            },
            "text/plain": [
              "Training batches on cuda:0:   0%|          | 0/17 [00:00<?, ?batch/s]"
            ]
          },
          "metadata": {},
          "output_type": "display_data"
        },
        {
          "data": {
            "application/vnd.jupyter.widget-view+json": {
              "model_id": "e31c757c2f8748bdb094b85a9852b6d4",
              "version_major": 2,
              "version_minor": 0
            },
            "text/plain": [
              "Training batches on cuda:0:   0%|          | 0/17 [00:00<?, ?batch/s]"
            ]
          },
          "metadata": {},
          "output_type": "display_data"
        },
        {
          "data": {
            "application/vnd.jupyter.widget-view+json": {
              "model_id": "a8b627f5506c4f8f8bac0e672ebb3483",
              "version_major": 2,
              "version_minor": 0
            },
            "text/plain": [
              "Training batches on cuda:0:   0%|          | 0/17 [00:00<?, ?batch/s]"
            ]
          },
          "metadata": {},
          "output_type": "display_data"
        },
        {
          "data": {
            "application/vnd.jupyter.widget-view+json": {
              "model_id": "1717725b1afc4bd3975428afc320401f",
              "version_major": 2,
              "version_minor": 0
            },
            "text/plain": [
              "Training batches on cuda:0:   0%|          | 0/17 [00:00<?, ?batch/s]"
            ]
          },
          "metadata": {},
          "output_type": "display_data"
        },
        {
          "data": {
            "application/vnd.jupyter.widget-view+json": {
              "model_id": "2baf4b60b59a47baab54e37997f5d7f8",
              "version_major": 2,
              "version_minor": 0
            },
            "text/plain": [
              "Training batches on cuda:0:   0%|          | 0/17 [00:00<?, ?batch/s]"
            ]
          },
          "metadata": {},
          "output_type": "display_data"
        },
        {
          "data": {
            "application/vnd.jupyter.widget-view+json": {
              "model_id": "066e8fc218304b4ba5d861b258850ca6",
              "version_major": 2,
              "version_minor": 0
            },
            "text/plain": [
              "Training batches on cuda:0:   0%|          | 0/17 [00:00<?, ?batch/s]"
            ]
          },
          "metadata": {},
          "output_type": "display_data"
        },
        {
          "data": {
            "application/vnd.jupyter.widget-view+json": {
              "model_id": "22c42069fe4e4191bde542ed6bee3767",
              "version_major": 2,
              "version_minor": 0
            },
            "text/plain": [
              "Training batches on cuda:0:   0%|          | 0/17 [00:00<?, ?batch/s]"
            ]
          },
          "metadata": {},
          "output_type": "display_data"
        },
        {
          "data": {
            "application/vnd.jupyter.widget-view+json": {
              "model_id": "c406346656eb4c1799f9cd3001421b03",
              "version_major": 2,
              "version_minor": 0
            },
            "text/plain": [
              "Training batches on cuda:0:   0%|          | 0/17 [00:00<?, ?batch/s]"
            ]
          },
          "metadata": {},
          "output_type": "display_data"
        },
        {
          "data": {
            "application/vnd.jupyter.widget-view+json": {
              "model_id": "b925358946a7431c973881edb4dfb700",
              "version_major": 2,
              "version_minor": 0
            },
            "text/plain": [
              "Training batches on cuda:0:   0%|          | 0/17 [00:00<?, ?batch/s]"
            ]
          },
          "metadata": {},
          "output_type": "display_data"
        },
        {
          "data": {
            "application/vnd.jupyter.widget-view+json": {
              "model_id": "b1d87229f7004c7bae7367b081236de1",
              "version_major": 2,
              "version_minor": 0
            },
            "text/plain": [
              "Training batches on cuda:0:   0%|          | 0/17 [00:00<?, ?batch/s]"
            ]
          },
          "metadata": {},
          "output_type": "display_data"
        },
        {
          "data": {
            "application/vnd.jupyter.widget-view+json": {
              "model_id": "94a75f97a29e4ac586bddb20f1ecb1d3",
              "version_major": 2,
              "version_minor": 0
            },
            "text/plain": [
              "Training batches on cuda:0:   0%|          | 0/17 [00:00<?, ?batch/s]"
            ]
          },
          "metadata": {},
          "output_type": "display_data"
        },
        {
          "data": {
            "application/vnd.jupyter.widget-view+json": {
              "model_id": "d3c3c36b21d74e79af585857a82da6ce",
              "version_major": 2,
              "version_minor": 0
            },
            "text/plain": [
              "Training batches on cuda:0:   0%|          | 0/17 [00:00<?, ?batch/s]"
            ]
          },
          "metadata": {},
          "output_type": "display_data"
        },
        {
          "data": {
            "application/vnd.jupyter.widget-view+json": {
              "model_id": "4ec58fd0c4424405896d86f321fab069",
              "version_major": 2,
              "version_minor": 0
            },
            "text/plain": [
              "Training batches on cuda:0:   0%|          | 0/17 [00:00<?, ?batch/s]"
            ]
          },
          "metadata": {},
          "output_type": "display_data"
        },
        {
          "data": {
            "application/vnd.jupyter.widget-view+json": {
              "model_id": "a01060259a2245f8a428616c2b51b2c0",
              "version_major": 2,
              "version_minor": 0
            },
            "text/plain": [
              "Training batches on cuda:0:   0%|          | 0/17 [00:00<?, ?batch/s]"
            ]
          },
          "metadata": {},
          "output_type": "display_data"
        },
        {
          "data": {
            "application/vnd.jupyter.widget-view+json": {
              "model_id": "f82d7c4f951645c6ba630e59fe493156",
              "version_major": 2,
              "version_minor": 0
            },
            "text/plain": [
              "Training batches on cuda:0:   0%|          | 0/17 [00:00<?, ?batch/s]"
            ]
          },
          "metadata": {},
          "output_type": "display_data"
        },
        {
          "data": {
            "application/vnd.jupyter.widget-view+json": {
              "model_id": "b628589b134a4dde91d6a2998b3a1da6",
              "version_major": 2,
              "version_minor": 0
            },
            "text/plain": [
              "Training batches on cuda:0:   0%|          | 0/17 [00:00<?, ?batch/s]"
            ]
          },
          "metadata": {},
          "output_type": "display_data"
        },
        {
          "data": {
            "application/vnd.jupyter.widget-view+json": {
              "model_id": "7ead54221d474c0cb33f0f4243ebb10e",
              "version_major": 2,
              "version_minor": 0
            },
            "text/plain": [
              "Training batches on cuda:0:   0%|          | 0/17 [00:00<?, ?batch/s]"
            ]
          },
          "metadata": {},
          "output_type": "display_data"
        },
        {
          "data": {
            "application/vnd.jupyter.widget-view+json": {
              "model_id": "77d05ffe099c4d6da3c581ec643d8a25",
              "version_major": 2,
              "version_minor": 0
            },
            "text/plain": [
              "Training batches on cuda:0:   0%|          | 0/17 [00:00<?, ?batch/s]"
            ]
          },
          "metadata": {},
          "output_type": "display_data"
        },
        {
          "data": {
            "application/vnd.jupyter.widget-view+json": {
              "model_id": "99a437086006414796b97b5343d3c4c7",
              "version_major": 2,
              "version_minor": 0
            },
            "text/plain": [
              "Training batches on cuda:0:   0%|          | 0/17 [00:00<?, ?batch/s]"
            ]
          },
          "metadata": {},
          "output_type": "display_data"
        },
        {
          "data": {
            "application/vnd.jupyter.widget-view+json": {
              "model_id": "897d01fbc022411b85de0fb25716b873",
              "version_major": 2,
              "version_minor": 0
            },
            "text/plain": [
              "Training batches on cuda:0:   0%|          | 0/17 [00:00<?, ?batch/s]"
            ]
          },
          "metadata": {},
          "output_type": "display_data"
        },
        {
          "data": {
            "application/vnd.jupyter.widget-view+json": {
              "model_id": "6efbc68ea9434a189bf3b982f486cbe7",
              "version_major": 2,
              "version_minor": 0
            },
            "text/plain": [
              "Training batches on cuda:0:   0%|          | 0/17 [00:00<?, ?batch/s]"
            ]
          },
          "metadata": {},
          "output_type": "display_data"
        },
        {
          "data": {
            "application/vnd.jupyter.widget-view+json": {
              "model_id": "29de2eef64ff442498af5fc2cc09e374",
              "version_major": 2,
              "version_minor": 0
            },
            "text/plain": [
              "Training batches on cuda:0:   0%|          | 0/17 [00:00<?, ?batch/s]"
            ]
          },
          "metadata": {},
          "output_type": "display_data"
        },
        {
          "data": {
            "application/vnd.jupyter.widget-view+json": {
              "model_id": "ffe5c7c589a74a3983778d481fc1f148",
              "version_major": 2,
              "version_minor": 0
            },
            "text/plain": [
              "Training batches on cuda:0:   0%|          | 0/17 [00:00<?, ?batch/s]"
            ]
          },
          "metadata": {},
          "output_type": "display_data"
        },
        {
          "data": {
            "application/vnd.jupyter.widget-view+json": {
              "model_id": "07159f4f81a74bb0922e7d3489055dbf",
              "version_major": 2,
              "version_minor": 0
            },
            "text/plain": [
              "Training batches on cuda:0:   0%|          | 0/17 [00:00<?, ?batch/s]"
            ]
          },
          "metadata": {},
          "output_type": "display_data"
        },
        {
          "data": {
            "application/vnd.jupyter.widget-view+json": {
              "model_id": "d642a3b4298942699b342d950e17d836",
              "version_major": 2,
              "version_minor": 0
            },
            "text/plain": [
              "Training batches on cuda:0:   0%|          | 0/17 [00:00<?, ?batch/s]"
            ]
          },
          "metadata": {},
          "output_type": "display_data"
        },
        {
          "data": {
            "application/vnd.jupyter.widget-view+json": {
              "model_id": "82ff603a52804891b7161fe9db9e8990",
              "version_major": 2,
              "version_minor": 0
            },
            "text/plain": [
              "Training batches on cuda:0:   0%|          | 0/17 [00:00<?, ?batch/s]"
            ]
          },
          "metadata": {},
          "output_type": "display_data"
        },
        {
          "data": {
            "application/vnd.jupyter.widget-view+json": {
              "model_id": "169260ad7ff446949cf8749497afb8ac",
              "version_major": 2,
              "version_minor": 0
            },
            "text/plain": [
              "Training batches on cuda:0:   0%|          | 0/17 [00:00<?, ?batch/s]"
            ]
          },
          "metadata": {},
          "output_type": "display_data"
        },
        {
          "data": {
            "application/vnd.jupyter.widget-view+json": {
              "model_id": "769f14d7e15045a384b2eebdb8edb727",
              "version_major": 2,
              "version_minor": 0
            },
            "text/plain": [
              "Training batches on cuda:0:   0%|          | 0/17 [00:00<?, ?batch/s]"
            ]
          },
          "metadata": {},
          "output_type": "display_data"
        },
        {
          "data": {
            "application/vnd.jupyter.widget-view+json": {
              "model_id": "80d57037c2c248f88725073ded844990",
              "version_major": 2,
              "version_minor": 0
            },
            "text/plain": [
              "Training batches on cuda:0:   0%|          | 0/17 [00:00<?, ?batch/s]"
            ]
          },
          "metadata": {},
          "output_type": "display_data"
        },
        {
          "data": {
            "application/vnd.jupyter.widget-view+json": {
              "model_id": "f33edb5f6733400c917b5d5092b59ed7",
              "version_major": 2,
              "version_minor": 0
            },
            "text/plain": [
              "Training batches on cuda:0:   0%|          | 0/17 [00:00<?, ?batch/s]"
            ]
          },
          "metadata": {},
          "output_type": "display_data"
        },
        {
          "data": {
            "application/vnd.jupyter.widget-view+json": {
              "model_id": "d7d5b881f1fc4774b1349aad9b12ae8d",
              "version_major": 2,
              "version_minor": 0
            },
            "text/plain": [
              "Training batches on cuda:0:   0%|          | 0/17 [00:00<?, ?batch/s]"
            ]
          },
          "metadata": {},
          "output_type": "display_data"
        },
        {
          "data": {
            "application/vnd.jupyter.widget-view+json": {
              "model_id": "6dc0ec42d1da4368bd9e8fa7b13dbb47",
              "version_major": 2,
              "version_minor": 0
            },
            "text/plain": [
              "Training batches on cuda:0:   0%|          | 0/17 [00:00<?, ?batch/s]"
            ]
          },
          "metadata": {},
          "output_type": "display_data"
        },
        {
          "data": {
            "application/vnd.jupyter.widget-view+json": {
              "model_id": "b622d5c11c124e45a46da938778f4f3d",
              "version_major": 2,
              "version_minor": 0
            },
            "text/plain": [
              "Training batches on cuda:0:   0%|          | 0/17 [00:00<?, ?batch/s]"
            ]
          },
          "metadata": {},
          "output_type": "display_data"
        },
        {
          "data": {
            "application/vnd.jupyter.widget-view+json": {
              "model_id": "76c6be54e0b54a4588f86876af584bd1",
              "version_major": 2,
              "version_minor": 0
            },
            "text/plain": [
              "Training batches on cuda:0:   0%|          | 0/17 [00:00<?, ?batch/s]"
            ]
          },
          "metadata": {},
          "output_type": "display_data"
        },
        {
          "data": {
            "application/vnd.jupyter.widget-view+json": {
              "model_id": "2f8d51bd12ee48a7b4914a3a8bb0b0dc",
              "version_major": 2,
              "version_minor": 0
            },
            "text/plain": [
              "Training batches on cuda:0:   0%|          | 0/17 [00:00<?, ?batch/s]"
            ]
          },
          "metadata": {},
          "output_type": "display_data"
        },
        {
          "data": {
            "application/vnd.jupyter.widget-view+json": {
              "model_id": "d20abffea8e6470baaf3c0ee9fac65ed",
              "version_major": 2,
              "version_minor": 0
            },
            "text/plain": [
              "Training batches on cuda:0:   0%|          | 0/17 [00:00<?, ?batch/s]"
            ]
          },
          "metadata": {},
          "output_type": "display_data"
        },
        {
          "data": {
            "application/vnd.jupyter.widget-view+json": {
              "model_id": "a141b065246d4cee8a784dcfe1a54232",
              "version_major": 2,
              "version_minor": 0
            },
            "text/plain": [
              "Training batches on cuda:0:   0%|          | 0/17 [00:00<?, ?batch/s]"
            ]
          },
          "metadata": {},
          "output_type": "display_data"
        },
        {
          "data": {
            "application/vnd.jupyter.widget-view+json": {
              "model_id": "07e5f092362446079ff08be002e152ae",
              "version_major": 2,
              "version_minor": 0
            },
            "text/plain": [
              "Training batches on cuda:0:   0%|          | 0/17 [00:00<?, ?batch/s]"
            ]
          },
          "metadata": {},
          "output_type": "display_data"
        },
        {
          "data": {
            "application/vnd.jupyter.widget-view+json": {
              "model_id": "020c73b7552d4a0b809c1aed30a6a8a1",
              "version_major": 2,
              "version_minor": 0
            },
            "text/plain": [
              "Training batches on cuda:0:   0%|          | 0/17 [00:00<?, ?batch/s]"
            ]
          },
          "metadata": {},
          "output_type": "display_data"
        },
        {
          "data": {
            "application/vnd.jupyter.widget-view+json": {
              "model_id": "f4f7034b42d246f69cd1a82ba15d25c5",
              "version_major": 2,
              "version_minor": 0
            },
            "text/plain": [
              "Training batches on cuda:0:   0%|          | 0/17 [00:00<?, ?batch/s]"
            ]
          },
          "metadata": {},
          "output_type": "display_data"
        },
        {
          "data": {
            "application/vnd.jupyter.widget-view+json": {
              "model_id": "9ea0a1c5b5884c5fa9219c4ecf0a11fb",
              "version_major": 2,
              "version_minor": 0
            },
            "text/plain": [
              "Training batches on cuda:0:   0%|          | 0/17 [00:00<?, ?batch/s]"
            ]
          },
          "metadata": {},
          "output_type": "display_data"
        },
        {
          "data": {
            "application/vnd.jupyter.widget-view+json": {
              "model_id": "d0f59bc02c5849f28cef6579901c21cb",
              "version_major": 2,
              "version_minor": 0
            },
            "text/plain": [
              "Training batches on cuda:0:   0%|          | 0/17 [00:00<?, ?batch/s]"
            ]
          },
          "metadata": {},
          "output_type": "display_data"
        },
        {
          "data": {
            "application/vnd.jupyter.widget-view+json": {
              "model_id": "40e3bfcae31b4c599e32c08277ef5252",
              "version_major": 2,
              "version_minor": 0
            },
            "text/plain": [
              "Training batches on cuda:0:   0%|          | 0/17 [00:00<?, ?batch/s]"
            ]
          },
          "metadata": {},
          "output_type": "display_data"
        },
        {
          "data": {
            "application/vnd.jupyter.widget-view+json": {
              "model_id": "754fd26d3f544bebbfb8dc08e2157969",
              "version_major": 2,
              "version_minor": 0
            },
            "text/plain": [
              "Training batches on cuda:0:   0%|          | 0/17 [00:00<?, ?batch/s]"
            ]
          },
          "metadata": {},
          "output_type": "display_data"
        },
        {
          "data": {
            "application/vnd.jupyter.widget-view+json": {
              "model_id": "5b9c34f197b1448da61b731b32403407",
              "version_major": 2,
              "version_minor": 0
            },
            "text/plain": [
              "Training batches on cuda:0:   0%|          | 0/17 [00:00<?, ?batch/s]"
            ]
          },
          "metadata": {},
          "output_type": "display_data"
        },
        {
          "data": {
            "application/vnd.jupyter.widget-view+json": {
              "model_id": "3d6bf290fbb14deeabbf01b079f6ab1c",
              "version_major": 2,
              "version_minor": 0
            },
            "text/plain": [
              "Training batches on cuda:0:   0%|          | 0/17 [00:00<?, ?batch/s]"
            ]
          },
          "metadata": {},
          "output_type": "display_data"
        },
        {
          "data": {
            "application/vnd.jupyter.widget-view+json": {
              "model_id": "cde686d184bc4a88987ec29fc3bee524",
              "version_major": 2,
              "version_minor": 0
            },
            "text/plain": [
              "Training batches on cuda:0:   0%|          | 0/17 [00:00<?, ?batch/s]"
            ]
          },
          "metadata": {},
          "output_type": "display_data"
        },
        {
          "data": {
            "application/vnd.jupyter.widget-view+json": {
              "model_id": "fc8a37644f22482da55b0c1d53529879",
              "version_major": 2,
              "version_minor": 0
            },
            "text/plain": [
              "Training batches on cuda:0:   0%|          | 0/17 [00:00<?, ?batch/s]"
            ]
          },
          "metadata": {},
          "output_type": "display_data"
        },
        {
          "data": {
            "application/vnd.jupyter.widget-view+json": {
              "model_id": "cf6223d3265249ec84d22ff17d04a8ab",
              "version_major": 2,
              "version_minor": 0
            },
            "text/plain": [
              "Training batches on cuda:0:   0%|          | 0/17 [00:00<?, ?batch/s]"
            ]
          },
          "metadata": {},
          "output_type": "display_data"
        },
        {
          "data": {
            "application/vnd.jupyter.widget-view+json": {
              "model_id": "78790da7256848e9af5c45e35eed1266",
              "version_major": 2,
              "version_minor": 0
            },
            "text/plain": [
              "Training batches on cuda:0:   0%|          | 0/17 [00:00<?, ?batch/s]"
            ]
          },
          "metadata": {},
          "output_type": "display_data"
        },
        {
          "data": {
            "application/vnd.jupyter.widget-view+json": {
              "model_id": "0be257e1144b41aa971f7f703d827240",
              "version_major": 2,
              "version_minor": 0
            },
            "text/plain": [
              "Training batches on cuda:0:   0%|          | 0/17 [00:00<?, ?batch/s]"
            ]
          },
          "metadata": {},
          "output_type": "display_data"
        },
        {
          "data": {
            "application/vnd.jupyter.widget-view+json": {
              "model_id": "5c75d0c4362d41cca281260f6f124cc4",
              "version_major": 2,
              "version_minor": 0
            },
            "text/plain": [
              "Training batches on cuda:0:   0%|          | 0/17 [00:00<?, ?batch/s]"
            ]
          },
          "metadata": {},
          "output_type": "display_data"
        },
        {
          "data": {
            "application/vnd.jupyter.widget-view+json": {
              "model_id": "8515caa260234fc0b3417a5dd9cb657b",
              "version_major": 2,
              "version_minor": 0
            },
            "text/plain": [
              "Training batches on cuda:0:   0%|          | 0/17 [00:00<?, ?batch/s]"
            ]
          },
          "metadata": {},
          "output_type": "display_data"
        },
        {
          "data": {
            "application/vnd.jupyter.widget-view+json": {
              "model_id": "6084d07fc0d6419da705682d58e70227",
              "version_major": 2,
              "version_minor": 0
            },
            "text/plain": [
              "Training batches on cuda:0:   0%|          | 0/17 [00:00<?, ?batch/s]"
            ]
          },
          "metadata": {},
          "output_type": "display_data"
        },
        {
          "data": {
            "application/vnd.jupyter.widget-view+json": {
              "model_id": "55a1f201af804e44b2e3e302fbb2003f",
              "version_major": 2,
              "version_minor": 0
            },
            "text/plain": [
              "Training batches on cuda:0:   0%|          | 0/17 [00:00<?, ?batch/s]"
            ]
          },
          "metadata": {},
          "output_type": "display_data"
        },
        {
          "data": {
            "application/vnd.jupyter.widget-view+json": {
              "model_id": "8736f5ff175943158c9319ed42822571",
              "version_major": 2,
              "version_minor": 0
            },
            "text/plain": [
              "Training batches on cuda:0:   0%|          | 0/17 [00:00<?, ?batch/s]"
            ]
          },
          "metadata": {},
          "output_type": "display_data"
        },
        {
          "data": {
            "application/vnd.jupyter.widget-view+json": {
              "model_id": "cca1c6bfe5664aba9e0f47347c5fa3c7",
              "version_major": 2,
              "version_minor": 0
            },
            "text/plain": [
              "Training batches on cuda:0:   0%|          | 0/17 [00:00<?, ?batch/s]"
            ]
          },
          "metadata": {},
          "output_type": "display_data"
        },
        {
          "data": {
            "application/vnd.jupyter.widget-view+json": {
              "model_id": "f500e868403848da9024edfed4b80cfa",
              "version_major": 2,
              "version_minor": 0
            },
            "text/plain": [
              "Training batches on cuda:0:   0%|          | 0/17 [00:00<?, ?batch/s]"
            ]
          },
          "metadata": {},
          "output_type": "display_data"
        },
        {
          "data": {
            "application/vnd.jupyter.widget-view+json": {
              "model_id": "d45cc214a61e4b69b8d607e1d2bdb694",
              "version_major": 2,
              "version_minor": 0
            },
            "text/plain": [
              "Training batches on cuda:0:   0%|          | 0/17 [00:00<?, ?batch/s]"
            ]
          },
          "metadata": {},
          "output_type": "display_data"
        },
        {
          "data": {
            "application/vnd.jupyter.widget-view+json": {
              "model_id": "ba23f43d45f44469971458c304aa0af1",
              "version_major": 2,
              "version_minor": 0
            },
            "text/plain": [
              "Training batches on cuda:0:   0%|          | 0/17 [00:00<?, ?batch/s]"
            ]
          },
          "metadata": {},
          "output_type": "display_data"
        },
        {
          "data": {
            "application/vnd.jupyter.widget-view+json": {
              "model_id": "2fdfa41b20c2436fb82fe364968bdee3",
              "version_major": 2,
              "version_minor": 0
            },
            "text/plain": [
              "Training batches on cuda:0:   0%|          | 0/17 [00:00<?, ?batch/s]"
            ]
          },
          "metadata": {},
          "output_type": "display_data"
        },
        {
          "data": {
            "application/vnd.jupyter.widget-view+json": {
              "model_id": "495eaec637264c11950c5e9359f18c09",
              "version_major": 2,
              "version_minor": 0
            },
            "text/plain": [
              "Training batches on cuda:0:   0%|          | 0/17 [00:00<?, ?batch/s]"
            ]
          },
          "metadata": {},
          "output_type": "display_data"
        },
        {
          "data": {
            "application/vnd.jupyter.widget-view+json": {
              "model_id": "8aa0d53cd7984f2fbeb4304d3e5d7050",
              "version_major": 2,
              "version_minor": 0
            },
            "text/plain": [
              "Training batches on cuda:0:   0%|          | 0/17 [00:00<?, ?batch/s]"
            ]
          },
          "metadata": {},
          "output_type": "display_data"
        },
        {
          "data": {
            "application/vnd.jupyter.widget-view+json": {
              "model_id": "c6076bbf4d75482490e0443312504ec6",
              "version_major": 2,
              "version_minor": 0
            },
            "text/plain": [
              "Training batches on cuda:0:   0%|          | 0/17 [00:00<?, ?batch/s]"
            ]
          },
          "metadata": {},
          "output_type": "display_data"
        },
        {
          "data": {
            "application/vnd.jupyter.widget-view+json": {
              "model_id": "8bd980ff9d8b46e89a04f051d6c998c4",
              "version_major": 2,
              "version_minor": 0
            },
            "text/plain": [
              "Training batches on cuda:0:   0%|          | 0/17 [00:00<?, ?batch/s]"
            ]
          },
          "metadata": {},
          "output_type": "display_data"
        },
        {
          "data": {
            "application/vnd.jupyter.widget-view+json": {
              "model_id": "08431a146a03445584649f5090fac5d1",
              "version_major": 2,
              "version_minor": 0
            },
            "text/plain": [
              "Training batches on cuda:0:   0%|          | 0/17 [00:00<?, ?batch/s]"
            ]
          },
          "metadata": {},
          "output_type": "display_data"
        },
        {
          "data": {
            "application/vnd.jupyter.widget-view+json": {
              "model_id": "d624311669ef4abfa132028b444f828d",
              "version_major": 2,
              "version_minor": 0
            },
            "text/plain": [
              "Training batches on cuda:0:   0%|          | 0/17 [00:00<?, ?batch/s]"
            ]
          },
          "metadata": {},
          "output_type": "display_data"
        },
        {
          "data": {
            "application/vnd.jupyter.widget-view+json": {
              "model_id": "996fb72ff2574225ac9cc8a82279065e",
              "version_major": 2,
              "version_minor": 0
            },
            "text/plain": [
              "Training batches on cuda:0:   0%|          | 0/17 [00:00<?, ?batch/s]"
            ]
          },
          "metadata": {},
          "output_type": "display_data"
        },
        {
          "data": {
            "application/vnd.jupyter.widget-view+json": {
              "model_id": "b136a687117f446cab5c0a949fbbd219",
              "version_major": 2,
              "version_minor": 0
            },
            "text/plain": [
              "Training batches on cuda:0:   0%|          | 0/17 [00:00<?, ?batch/s]"
            ]
          },
          "metadata": {},
          "output_type": "display_data"
        },
        {
          "data": {
            "application/vnd.jupyter.widget-view+json": {
              "model_id": "313f5858088b4b148941b489cb7df213",
              "version_major": 2,
              "version_minor": 0
            },
            "text/plain": [
              "Training batches on cuda:0:   0%|          | 0/17 [00:00<?, ?batch/s]"
            ]
          },
          "metadata": {},
          "output_type": "display_data"
        },
        {
          "data": {
            "application/vnd.jupyter.widget-view+json": {
              "model_id": "c4ddbc1657b4412fbfa6e0921921391a",
              "version_major": 2,
              "version_minor": 0
            },
            "text/plain": [
              "Training batches on cuda:0:   0%|          | 0/17 [00:00<?, ?batch/s]"
            ]
          },
          "metadata": {},
          "output_type": "display_data"
        },
        {
          "data": {
            "application/vnd.jupyter.widget-view+json": {
              "model_id": "19f076144c6f4a64918bf39cf50b42f7",
              "version_major": 2,
              "version_minor": 0
            },
            "text/plain": [
              "Training batches on cuda:0:   0%|          | 0/17 [00:00<?, ?batch/s]"
            ]
          },
          "metadata": {},
          "output_type": "display_data"
        },
        {
          "data": {
            "application/vnd.jupyter.widget-view+json": {
              "model_id": "46b12d7c895047afbdd2069fba758522",
              "version_major": 2,
              "version_minor": 0
            },
            "text/plain": [
              "Training batches on cuda:0:   0%|          | 0/17 [00:00<?, ?batch/s]"
            ]
          },
          "metadata": {},
          "output_type": "display_data"
        },
        {
          "data": {
            "application/vnd.jupyter.widget-view+json": {
              "model_id": "cb2e07124f294a10a74f2e380816c292",
              "version_major": 2,
              "version_minor": 0
            },
            "text/plain": [
              "Training batches on cuda:0:   0%|          | 0/17 [00:00<?, ?batch/s]"
            ]
          },
          "metadata": {},
          "output_type": "display_data"
        },
        {
          "data": {
            "application/vnd.jupyter.widget-view+json": {
              "model_id": "dc99421476a2402caed204344bca5f8d",
              "version_major": 2,
              "version_minor": 0
            },
            "text/plain": [
              "Training batches on cuda:0:   0%|          | 0/17 [00:00<?, ?batch/s]"
            ]
          },
          "metadata": {},
          "output_type": "display_data"
        },
        {
          "data": {
            "application/vnd.jupyter.widget-view+json": {
              "model_id": "a004f495354d47a7a5d2f4d19c2de811",
              "version_major": 2,
              "version_minor": 0
            },
            "text/plain": [
              "Training batches on cuda:0:   0%|          | 0/17 [00:00<?, ?batch/s]"
            ]
          },
          "metadata": {},
          "output_type": "display_data"
        },
        {
          "data": {
            "application/vnd.jupyter.widget-view+json": {
              "model_id": "f6410c3b479d44a09a7c56c2fb1a71bf",
              "version_major": 2,
              "version_minor": 0
            },
            "text/plain": [
              "Training batches on cuda:0:   0%|          | 0/17 [00:00<?, ?batch/s]"
            ]
          },
          "metadata": {},
          "output_type": "display_data"
        },
        {
          "data": {
            "application/vnd.jupyter.widget-view+json": {
              "model_id": "963939b2b6964068b8d3f1574d03bffb",
              "version_major": 2,
              "version_minor": 0
            },
            "text/plain": [
              "Training batches on cuda:0:   0%|          | 0/17 [00:00<?, ?batch/s]"
            ]
          },
          "metadata": {},
          "output_type": "display_data"
        },
        {
          "data": {
            "application/vnd.jupyter.widget-view+json": {
              "model_id": "6d9ac73432c24d63ad1b83a7402222c7",
              "version_major": 2,
              "version_minor": 0
            },
            "text/plain": [
              "Training batches on cuda:0:   0%|          | 0/17 [00:00<?, ?batch/s]"
            ]
          },
          "metadata": {},
          "output_type": "display_data"
        },
        {
          "data": {
            "application/vnd.jupyter.widget-view+json": {
              "model_id": "b6306d7915a641f9881bdceab7e2f063",
              "version_major": 2,
              "version_minor": 0
            },
            "text/plain": [
              "Training batches on cuda:0:   0%|          | 0/17 [00:00<?, ?batch/s]"
            ]
          },
          "metadata": {},
          "output_type": "display_data"
        },
        {
          "data": {
            "application/vnd.jupyter.widget-view+json": {
              "model_id": "bb3c128e938242d7a54520d8a3768db1",
              "version_major": 2,
              "version_minor": 0
            },
            "text/plain": [
              "Training batches on cuda:0:   0%|          | 0/17 [00:00<?, ?batch/s]"
            ]
          },
          "metadata": {},
          "output_type": "display_data"
        },
        {
          "data": {
            "application/vnd.jupyter.widget-view+json": {
              "model_id": "100bac8787604066aa152e46624bf6b0",
              "version_major": 2,
              "version_minor": 0
            },
            "text/plain": [
              "Training batches on cuda:0:   0%|          | 0/17 [00:00<?, ?batch/s]"
            ]
          },
          "metadata": {},
          "output_type": "display_data"
        },
        {
          "data": {
            "application/vnd.jupyter.widget-view+json": {
              "model_id": "044c3875ccc1446a824607e46daac179",
              "version_major": 2,
              "version_minor": 0
            },
            "text/plain": [
              "Training batches on cuda:0:   0%|          | 0/17 [00:00<?, ?batch/s]"
            ]
          },
          "metadata": {},
          "output_type": "display_data"
        },
        {
          "data": {
            "application/vnd.jupyter.widget-view+json": {
              "model_id": "d4f1ba83027f4dc09656f4572144e273",
              "version_major": 2,
              "version_minor": 0
            },
            "text/plain": [
              "Training batches on cuda:0:   0%|          | 0/17 [00:00<?, ?batch/s]"
            ]
          },
          "metadata": {},
          "output_type": "display_data"
        },
        {
          "data": {
            "application/vnd.jupyter.widget-view+json": {
              "model_id": "f2a445ac04714d769a9428195fb8d1ea",
              "version_major": 2,
              "version_minor": 0
            },
            "text/plain": [
              "Training batches on cuda:0:   0%|          | 0/17 [00:00<?, ?batch/s]"
            ]
          },
          "metadata": {},
          "output_type": "display_data"
        },
        {
          "data": {
            "application/vnd.jupyter.widget-view+json": {
              "model_id": "b668aecb6d864bbe96d95802420b04a3",
              "version_major": 2,
              "version_minor": 0
            },
            "text/plain": [
              "Training batches on cuda:0:   0%|          | 0/17 [00:00<?, ?batch/s]"
            ]
          },
          "metadata": {},
          "output_type": "display_data"
        },
        {
          "data": {
            "application/vnd.jupyter.widget-view+json": {
              "model_id": "68198b5508934cd88b826222c662c782",
              "version_major": 2,
              "version_minor": 0
            },
            "text/plain": [
              "Training batches on cuda:0:   0%|          | 0/17 [00:00<?, ?batch/s]"
            ]
          },
          "metadata": {},
          "output_type": "display_data"
        },
        {
          "data": {
            "application/vnd.jupyter.widget-view+json": {
              "model_id": "fd286ecb4c6545bf9aacf14864ac98c5",
              "version_major": 2,
              "version_minor": 0
            },
            "text/plain": [
              "Training batches on cuda:0:   0%|          | 0/17 [00:00<?, ?batch/s]"
            ]
          },
          "metadata": {},
          "output_type": "display_data"
        },
        {
          "data": {
            "application/vnd.jupyter.widget-view+json": {
              "model_id": "0faaba72ac59451ab8254aaedc1dfc6a",
              "version_major": 2,
              "version_minor": 0
            },
            "text/plain": [
              "Training batches on cuda:0:   0%|          | 0/17 [00:00<?, ?batch/s]"
            ]
          },
          "metadata": {},
          "output_type": "display_data"
        },
        {
          "data": {
            "application/vnd.jupyter.widget-view+json": {
              "model_id": "67d0664379b9415cab36f9fc27db39e2",
              "version_major": 2,
              "version_minor": 0
            },
            "text/plain": [
              "Training batches on cuda:0:   0%|          | 0/17 [00:00<?, ?batch/s]"
            ]
          },
          "metadata": {},
          "output_type": "display_data"
        },
        {
          "data": {
            "application/vnd.jupyter.widget-view+json": {
              "model_id": "5db07b04224e4bf98cfc6290c73ff0ba",
              "version_major": 2,
              "version_minor": 0
            },
            "text/plain": [
              "Training batches on cuda:0:   0%|          | 0/17 [00:00<?, ?batch/s]"
            ]
          },
          "metadata": {},
          "output_type": "display_data"
        },
        {
          "data": {
            "application/vnd.jupyter.widget-view+json": {
              "model_id": "1634f23393324da5a28239f5807a3b3e",
              "version_major": 2,
              "version_minor": 0
            },
            "text/plain": [
              "Training batches on cuda:0:   0%|          | 0/17 [00:00<?, ?batch/s]"
            ]
          },
          "metadata": {},
          "output_type": "display_data"
        },
        {
          "data": {
            "application/vnd.jupyter.widget-view+json": {
              "model_id": "48144efefaa74df78afec9de61323d07",
              "version_major": 2,
              "version_minor": 0
            },
            "text/plain": [
              "Training batches on cuda:0:   0%|          | 0/17 [00:00<?, ?batch/s]"
            ]
          },
          "metadata": {},
          "output_type": "display_data"
        },
        {
          "data": {
            "application/vnd.jupyter.widget-view+json": {
              "model_id": "079a6e560cfa4bfcab4e8e1641e4874b",
              "version_major": 2,
              "version_minor": 0
            },
            "text/plain": [
              "Training batches on cuda:0:   0%|          | 0/17 [00:00<?, ?batch/s]"
            ]
          },
          "metadata": {},
          "output_type": "display_data"
        },
        {
          "data": {
            "application/vnd.jupyter.widget-view+json": {
              "model_id": "6dcaffa5deeb4528aaebf88ee30943a8",
              "version_major": 2,
              "version_minor": 0
            },
            "text/plain": [
              "Training batches on cuda:0:   0%|          | 0/17 [00:00<?, ?batch/s]"
            ]
          },
          "metadata": {},
          "output_type": "display_data"
        },
        {
          "data": {
            "application/vnd.jupyter.widget-view+json": {
              "model_id": "7cfab0327b97482c9740fcc2ab5a37e1",
              "version_major": 2,
              "version_minor": 0
            },
            "text/plain": [
              "Training batches on cuda:0:   0%|          | 0/17 [00:00<?, ?batch/s]"
            ]
          },
          "metadata": {},
          "output_type": "display_data"
        },
        {
          "data": {
            "application/vnd.jupyter.widget-view+json": {
              "model_id": "1d7eaca6e8cd464692a399c103ef2182",
              "version_major": 2,
              "version_minor": 0
            },
            "text/plain": [
              "Training batches on cuda:0:   0%|          | 0/17 [00:00<?, ?batch/s]"
            ]
          },
          "metadata": {},
          "output_type": "display_data"
        },
        {
          "data": {
            "application/vnd.jupyter.widget-view+json": {
              "model_id": "e3bc0965afd340bab6c270db9f800239",
              "version_major": 2,
              "version_minor": 0
            },
            "text/plain": [
              "Training batches on cuda:0:   0%|          | 0/17 [00:00<?, ?batch/s]"
            ]
          },
          "metadata": {},
          "output_type": "display_data"
        },
        {
          "data": {
            "application/vnd.jupyter.widget-view+json": {
              "model_id": "2ae80ffdc03c458294663852ddcc69d3",
              "version_major": 2,
              "version_minor": 0
            },
            "text/plain": [
              "Training batches on cuda:0:   0%|          | 0/17 [00:00<?, ?batch/s]"
            ]
          },
          "metadata": {},
          "output_type": "display_data"
        },
        {
          "data": {
            "application/vnd.jupyter.widget-view+json": {
              "model_id": "12f6464eed3e4a2fac210ff383c6997a",
              "version_major": 2,
              "version_minor": 0
            },
            "text/plain": [
              "Training batches on cuda:0:   0%|          | 0/17 [00:00<?, ?batch/s]"
            ]
          },
          "metadata": {},
          "output_type": "display_data"
        },
        {
          "data": {
            "application/vnd.jupyter.widget-view+json": {
              "model_id": "0669ae2ac44e48f6a89fde56e790d714",
              "version_major": 2,
              "version_minor": 0
            },
            "text/plain": [
              "Training batches on cuda:0:   0%|          | 0/17 [00:00<?, ?batch/s]"
            ]
          },
          "metadata": {},
          "output_type": "display_data"
        },
        {
          "data": {
            "application/vnd.jupyter.widget-view+json": {
              "model_id": "b4bb7d90712f44569af1d699347097e8",
              "version_major": 2,
              "version_minor": 0
            },
            "text/plain": [
              "Training batches on cuda:0:   0%|          | 0/17 [00:00<?, ?batch/s]"
            ]
          },
          "metadata": {},
          "output_type": "display_data"
        },
        {
          "data": {
            "application/vnd.jupyter.widget-view+json": {
              "model_id": "54125abc5a514d388d231c0afd689fd0",
              "version_major": 2,
              "version_minor": 0
            },
            "text/plain": [
              "Training batches on cuda:0:   0%|          | 0/17 [00:00<?, ?batch/s]"
            ]
          },
          "metadata": {},
          "output_type": "display_data"
        },
        {
          "data": {
            "application/vnd.jupyter.widget-view+json": {
              "model_id": "d69be0addde145779ce9bd133034e695",
              "version_major": 2,
              "version_minor": 0
            },
            "text/plain": [
              "Training batches on cuda:0:   0%|          | 0/17 [00:00<?, ?batch/s]"
            ]
          },
          "metadata": {},
          "output_type": "display_data"
        },
        {
          "data": {
            "application/vnd.jupyter.widget-view+json": {
              "model_id": "89efcf82c0bd4da7beeace418ed92868",
              "version_major": 2,
              "version_minor": 0
            },
            "text/plain": [
              "Training batches on cuda:0:   0%|          | 0/17 [00:00<?, ?batch/s]"
            ]
          },
          "metadata": {},
          "output_type": "display_data"
        },
        {
          "data": {
            "application/vnd.jupyter.widget-view+json": {
              "model_id": "8b5807d138484b0a9ae142f5803b6bad",
              "version_major": 2,
              "version_minor": 0
            },
            "text/plain": [
              "Training batches on cuda:0:   0%|          | 0/17 [00:00<?, ?batch/s]"
            ]
          },
          "metadata": {},
          "output_type": "display_data"
        },
        {
          "data": {
            "application/vnd.jupyter.widget-view+json": {
              "model_id": "3bb32d3e41974a55b150fad6ace013cf",
              "version_major": 2,
              "version_minor": 0
            },
            "text/plain": [
              "Training batches on cuda:0:   0%|          | 0/17 [00:00<?, ?batch/s]"
            ]
          },
          "metadata": {},
          "output_type": "display_data"
        },
        {
          "data": {
            "application/vnd.jupyter.widget-view+json": {
              "model_id": "771c1e6e7b5646bfa0c0422868ecd0f0",
              "version_major": 2,
              "version_minor": 0
            },
            "text/plain": [
              "Training batches on cuda:0:   0%|          | 0/17 [00:00<?, ?batch/s]"
            ]
          },
          "metadata": {},
          "output_type": "display_data"
        },
        {
          "data": {
            "application/vnd.jupyter.widget-view+json": {
              "model_id": "dd2eb4ceed644bff859cd22b57ea0676",
              "version_major": 2,
              "version_minor": 0
            },
            "text/plain": [
              "Training batches on cuda:0:   0%|          | 0/17 [00:00<?, ?batch/s]"
            ]
          },
          "metadata": {},
          "output_type": "display_data"
        },
        {
          "data": {
            "application/vnd.jupyter.widget-view+json": {
              "model_id": "56c04a05d3774320b9accc8719b673a2",
              "version_major": 2,
              "version_minor": 0
            },
            "text/plain": [
              "Training batches on cuda:0:   0%|          | 0/17 [00:00<?, ?batch/s]"
            ]
          },
          "metadata": {},
          "output_type": "display_data"
        },
        {
          "data": {
            "application/vnd.jupyter.widget-view+json": {
              "model_id": "23cb9060c10c457e9b0b99064a6d48c3",
              "version_major": 2,
              "version_minor": 0
            },
            "text/plain": [
              "Training batches on cuda:0:   0%|          | 0/17 [00:00<?, ?batch/s]"
            ]
          },
          "metadata": {},
          "output_type": "display_data"
        },
        {
          "data": {
            "application/vnd.jupyter.widget-view+json": {
              "model_id": "0fe7724130294c08a46de36a9849d468",
              "version_major": 2,
              "version_minor": 0
            },
            "text/plain": [
              "Training batches on cuda:0:   0%|          | 0/17 [00:00<?, ?batch/s]"
            ]
          },
          "metadata": {},
          "output_type": "display_data"
        },
        {
          "data": {
            "application/vnd.jupyter.widget-view+json": {
              "model_id": "60646028aa01436a85242c7ff871aff4",
              "version_major": 2,
              "version_minor": 0
            },
            "text/plain": [
              "Training batches on cuda:0:   0%|          | 0/17 [00:00<?, ?batch/s]"
            ]
          },
          "metadata": {},
          "output_type": "display_data"
        },
        {
          "data": {
            "application/vnd.jupyter.widget-view+json": {
              "model_id": "baf8e4bff6a444f4aa559cfef640f36f",
              "version_major": 2,
              "version_minor": 0
            },
            "text/plain": [
              "Training batches on cuda:0:   0%|          | 0/17 [00:00<?, ?batch/s]"
            ]
          },
          "metadata": {},
          "output_type": "display_data"
        },
        {
          "data": {
            "application/vnd.jupyter.widget-view+json": {
              "model_id": "a191ae20b0bd40a6b92c323d0b2dffc2",
              "version_major": 2,
              "version_minor": 0
            },
            "text/plain": [
              "Training batches on cuda:0:   0%|          | 0/17 [00:00<?, ?batch/s]"
            ]
          },
          "metadata": {},
          "output_type": "display_data"
        },
        {
          "data": {
            "application/vnd.jupyter.widget-view+json": {
              "model_id": "d3e27904f411487fb41a3bc706131e02",
              "version_major": 2,
              "version_minor": 0
            },
            "text/plain": [
              "Training batches on cuda:0:   0%|          | 0/17 [00:00<?, ?batch/s]"
            ]
          },
          "metadata": {},
          "output_type": "display_data"
        },
        {
          "data": {
            "application/vnd.jupyter.widget-view+json": {
              "model_id": "4cbb65dbcf0b455a9acb4975c5a2cb67",
              "version_major": 2,
              "version_minor": 0
            },
            "text/plain": [
              "Training batches on cuda:0:   0%|          | 0/17 [00:00<?, ?batch/s]"
            ]
          },
          "metadata": {},
          "output_type": "display_data"
        },
        {
          "data": {
            "application/vnd.jupyter.widget-view+json": {
              "model_id": "9654f0fc6b0648ccaf475dd09f231804",
              "version_major": 2,
              "version_minor": 0
            },
            "text/plain": [
              "Training batches on cuda:0:   0%|          | 0/17 [00:00<?, ?batch/s]"
            ]
          },
          "metadata": {},
          "output_type": "display_data"
        },
        {
          "data": {
            "application/vnd.jupyter.widget-view+json": {
              "model_id": "5dc7489defa34e21862584fb114ce0bf",
              "version_major": 2,
              "version_minor": 0
            },
            "text/plain": [
              "Training batches on cuda:0:   0%|          | 0/17 [00:00<?, ?batch/s]"
            ]
          },
          "metadata": {},
          "output_type": "display_data"
        },
        {
          "data": {
            "application/vnd.jupyter.widget-view+json": {
              "model_id": "ef4c6c5f8ad94b4484957007fb5f049e",
              "version_major": 2,
              "version_minor": 0
            },
            "text/plain": [
              "Training batches on cuda:0:   0%|          | 0/17 [00:00<?, ?batch/s]"
            ]
          },
          "metadata": {},
          "output_type": "display_data"
        },
        {
          "data": {
            "application/vnd.jupyter.widget-view+json": {
              "model_id": "a69a9470199640bf9d52413b7b58a2a5",
              "version_major": 2,
              "version_minor": 0
            },
            "text/plain": [
              "Training batches on cuda:0:   0%|          | 0/17 [00:00<?, ?batch/s]"
            ]
          },
          "metadata": {},
          "output_type": "display_data"
        },
        {
          "data": {
            "application/vnd.jupyter.widget-view+json": {
              "model_id": "44dc87e0f34d4c98a34ca7de71ff7852",
              "version_major": 2,
              "version_minor": 0
            },
            "text/plain": [
              "Training batches on cuda:0:   0%|          | 0/17 [00:00<?, ?batch/s]"
            ]
          },
          "metadata": {},
          "output_type": "display_data"
        },
        {
          "data": {
            "application/vnd.jupyter.widget-view+json": {
              "model_id": "c1fb979ba58d4c519e34c18298023927",
              "version_major": 2,
              "version_minor": 0
            },
            "text/plain": [
              "Training batches on cuda:0:   0%|          | 0/17 [00:00<?, ?batch/s]"
            ]
          },
          "metadata": {},
          "output_type": "display_data"
        },
        {
          "data": {
            "application/vnd.jupyter.widget-view+json": {
              "model_id": "8fa13ddb53a141ca8dc4d6470ee8cf04",
              "version_major": 2,
              "version_minor": 0
            },
            "text/plain": [
              "Training batches on cuda:0:   0%|          | 0/17 [00:00<?, ?batch/s]"
            ]
          },
          "metadata": {},
          "output_type": "display_data"
        },
        {
          "data": {
            "application/vnd.jupyter.widget-view+json": {
              "model_id": "4dbe5eb40cbb4db88f27a9da6247ff67",
              "version_major": 2,
              "version_minor": 0
            },
            "text/plain": [
              "Training batches on cuda:0:   0%|          | 0/17 [00:00<?, ?batch/s]"
            ]
          },
          "metadata": {},
          "output_type": "display_data"
        },
        {
          "data": {
            "application/vnd.jupyter.widget-view+json": {
              "model_id": "600e457b343a4e508326843c36520ef2",
              "version_major": 2,
              "version_minor": 0
            },
            "text/plain": [
              "Training batches on cuda:0:   0%|          | 0/17 [00:00<?, ?batch/s]"
            ]
          },
          "metadata": {},
          "output_type": "display_data"
        },
        {
          "data": {
            "application/vnd.jupyter.widget-view+json": {
              "model_id": "24b73557a8ce416cb40f8e4ec7066195",
              "version_major": 2,
              "version_minor": 0
            },
            "text/plain": [
              "Training batches on cuda:0:   0%|          | 0/17 [00:00<?, ?batch/s]"
            ]
          },
          "metadata": {},
          "output_type": "display_data"
        },
        {
          "data": {
            "application/vnd.jupyter.widget-view+json": {
              "model_id": "8ebe6e2a299a4eba8492205c8459557f",
              "version_major": 2,
              "version_minor": 0
            },
            "text/plain": [
              "Training batches on cuda:0:   0%|          | 0/17 [00:00<?, ?batch/s]"
            ]
          },
          "metadata": {},
          "output_type": "display_data"
        },
        {
          "data": {
            "application/vnd.jupyter.widget-view+json": {
              "model_id": "a6441d8b8b9d468387c48f8c473b3a44",
              "version_major": 2,
              "version_minor": 0
            },
            "text/plain": [
              "Training batches on cuda:0:   0%|          | 0/17 [00:00<?, ?batch/s]"
            ]
          },
          "metadata": {},
          "output_type": "display_data"
        },
        {
          "data": {
            "application/vnd.jupyter.widget-view+json": {
              "model_id": "ccd546727e3e4a4daed7343f47456196",
              "version_major": 2,
              "version_minor": 0
            },
            "text/plain": [
              "Training batches on cuda:0:   0%|          | 0/17 [00:00<?, ?batch/s]"
            ]
          },
          "metadata": {},
          "output_type": "display_data"
        },
        {
          "data": {
            "application/vnd.jupyter.widget-view+json": {
              "model_id": "8cc3c18bb26446ac86b55d9084c98b02",
              "version_major": 2,
              "version_minor": 0
            },
            "text/plain": [
              "Training batches on cuda:0:   0%|          | 0/17 [00:00<?, ?batch/s]"
            ]
          },
          "metadata": {},
          "output_type": "display_data"
        },
        {
          "data": {
            "application/vnd.jupyter.widget-view+json": {
              "model_id": "0780eabfa4844b089726dd659a39dfc2",
              "version_major": 2,
              "version_minor": 0
            },
            "text/plain": [
              "Training batches on cuda:0:   0%|          | 0/17 [00:00<?, ?batch/s]"
            ]
          },
          "metadata": {},
          "output_type": "display_data"
        },
        {
          "data": {
            "application/vnd.jupyter.widget-view+json": {
              "model_id": "abe6d896b0624880b8b910fda408fa32",
              "version_major": 2,
              "version_minor": 0
            },
            "text/plain": [
              "Training batches on cuda:0:   0%|          | 0/17 [00:00<?, ?batch/s]"
            ]
          },
          "metadata": {},
          "output_type": "display_data"
        },
        {
          "data": {
            "application/vnd.jupyter.widget-view+json": {
              "model_id": "70357467208d4578bd6476df043cd79c",
              "version_major": 2,
              "version_minor": 0
            },
            "text/plain": [
              "Training batches on cuda:0:   0%|          | 0/17 [00:00<?, ?batch/s]"
            ]
          },
          "metadata": {},
          "output_type": "display_data"
        },
        {
          "data": {
            "application/vnd.jupyter.widget-view+json": {
              "model_id": "900973b8201742bcb55f70cae428bf4e",
              "version_major": 2,
              "version_minor": 0
            },
            "text/plain": [
              "Training batches on cuda:0:   0%|          | 0/17 [00:00<?, ?batch/s]"
            ]
          },
          "metadata": {},
          "output_type": "display_data"
        },
        {
          "data": {
            "application/vnd.jupyter.widget-view+json": {
              "model_id": "25570765a0714e3cab168275ceaed3f3",
              "version_major": 2,
              "version_minor": 0
            },
            "text/plain": [
              "Training batches on cuda:0:   0%|          | 0/17 [00:00<?, ?batch/s]"
            ]
          },
          "metadata": {},
          "output_type": "display_data"
        },
        {
          "data": {
            "application/vnd.jupyter.widget-view+json": {
              "model_id": "adde60d2c5b049fc9d5354c76122e906",
              "version_major": 2,
              "version_minor": 0
            },
            "text/plain": [
              "Training batches on cuda:0:   0%|          | 0/17 [00:00<?, ?batch/s]"
            ]
          },
          "metadata": {},
          "output_type": "display_data"
        },
        {
          "data": {
            "application/vnd.jupyter.widget-view+json": {
              "model_id": "d70de2b794694b899056dbd7a0bf102a",
              "version_major": 2,
              "version_minor": 0
            },
            "text/plain": [
              "Training batches on cuda:0:   0%|          | 0/17 [00:00<?, ?batch/s]"
            ]
          },
          "metadata": {},
          "output_type": "display_data"
        },
        {
          "data": {
            "application/vnd.jupyter.widget-view+json": {
              "model_id": "8027cc34d4c5415c9cb119ac59a9e710",
              "version_major": 2,
              "version_minor": 0
            },
            "text/plain": [
              "Training batches on cuda:0:   0%|          | 0/17 [00:00<?, ?batch/s]"
            ]
          },
          "metadata": {},
          "output_type": "display_data"
        },
        {
          "data": {
            "application/vnd.jupyter.widget-view+json": {
              "model_id": "04b48978362a4db48529117d83590cb1",
              "version_major": 2,
              "version_minor": 0
            },
            "text/plain": [
              "Training batches on cuda:0:   0%|          | 0/17 [00:00<?, ?batch/s]"
            ]
          },
          "metadata": {},
          "output_type": "display_data"
        },
        {
          "data": {
            "application/vnd.jupyter.widget-view+json": {
              "model_id": "f1c5a769a15942b2a0cc24293d3014ef",
              "version_major": 2,
              "version_minor": 0
            },
            "text/plain": [
              "Training batches on cuda:0:   0%|          | 0/17 [00:00<?, ?batch/s]"
            ]
          },
          "metadata": {},
          "output_type": "display_data"
        },
        {
          "data": {
            "application/vnd.jupyter.widget-view+json": {
              "model_id": "759d8a4550324326a020cb068465f696",
              "version_major": 2,
              "version_minor": 0
            },
            "text/plain": [
              "Training batches on cuda:0:   0%|          | 0/17 [00:00<?, ?batch/s]"
            ]
          },
          "metadata": {},
          "output_type": "display_data"
        },
        {
          "data": {
            "application/vnd.jupyter.widget-view+json": {
              "model_id": "8a4c866c1615473782a4711f133eabab",
              "version_major": 2,
              "version_minor": 0
            },
            "text/plain": [
              "Training batches on cuda:0:   0%|          | 0/17 [00:00<?, ?batch/s]"
            ]
          },
          "metadata": {},
          "output_type": "display_data"
        },
        {
          "data": {
            "application/vnd.jupyter.widget-view+json": {
              "model_id": "e31364a6cf4f42009e4c679676245471",
              "version_major": 2,
              "version_minor": 0
            },
            "text/plain": [
              "Training batches on cuda:0:   0%|          | 0/17 [00:00<?, ?batch/s]"
            ]
          },
          "metadata": {},
          "output_type": "display_data"
        }
      ],
      "source": [
        "from mowl.models import GraphPlusPyKEENModel\n",
        "from mowl.projection import DL2VecProjector\n",
        "from pykeen.models import TransE\n",
        "\n",
        "model = GraphPlusPyKEENModel(dataset,device='cuda')\n",
        "model.set_projector(DL2VecProjector()) #προβολή του dataset σε γράφο\n",
        "model.set_kge_method(TransE, random_seed=42) #χρηση του transE για την παραγωγη embedding στον γράφο γνώσης\n",
        "model.optimizer = th.optim.Adam\n",
        "model.lr = 0.0003\n",
        "model.batch_size = 20000\n",
        "model.embed_dim = 512\n",
        "model.train(epochs = 400) #εκπέδευση μοντελου\n",
        "\n",
        "\n",
        "\n"
      ]
    },
    {
      "cell_type": "markdown",
      "metadata": {
        "id": "BtutG3sn-C0N"
      },
      "source": [
        "Evaluation μοντέλου με χρήση του PPIEvaluator (εξηγήθηκε παραπάνω) και αποθήκευση μετρικών απόδοσης."
      ]
    },
    {
      "cell_type": "code",
      "execution_count": null,
      "metadata": {
        "id": "UCXVZ-cL-C0O",
        "outputId": "8e783e56-b98f-4c97-9f20-b908900743b9"
      },
      "outputs": [
        {
          "name": "stderr",
          "output_type": "stream",
          "text": [
            "A custom EvaluationModel should be created depending on the task. This is a generic one.\n",
            "WARNING:mowl.models.graph_kge.graph_pykeen_model:A custom EvaluationModel should be created depending on the task. This is a generic one.\n"
          ]
        },
        {
          "name": "stdout",
          "output_type": "stream",
          "text": [
            "{'mr': 386.77134551495016, 'mrr': 0.02835336452199421, 'f_mr': 386.77134551495016, 'f_mrr': 0.02835336452199421, 'auc': 0.9361094161121316, 'f_auc': 0.9361094161121316, 'hits@1': 0.0, 'hits@3': 0.016029900332225913, 'hits@10': 0.06669435215946844, 'hits@50': 0.28421926910299006, 'hits@100': 0.46403654485049833, 'f_hits@1': 0.0, 'f_hits@3': 0.016029900332225913, 'f_hits@10': 0.06669435215946844, 'f_hits@50': 0.28421926910299006, 'f_hits@100': 0.46403654485049833}\n"
          ]
        }
      ],
      "source": [
        "model.set_evaluator(PPIEvaluator)\n",
        "model.evaluate(dataset.testing)\n",
        "data3= model.metrics\n",
        "print(data3)"
      ]
    },
    {
      "cell_type": "markdown",
      "metadata": {
        "id": "SA92HaBX-C0O"
      },
      "source": [
        "## Συνακτικα μοντελα\n",
        "### [OPA2Vec](https://mowl.readthedocs.io/en/stable/examples/syntactic/plot_2_opa2vec.html#sphx-glr-examples-syntactic-plot-2-opa2vec-py)  <br>\n",
        "Για τα συνακτικά μοντέλα, απαραίτητη είναι η αναπαράσταση των αξιωμάτων σε μορφή text, ώστε στην συνέχεια με την χρήση ενός μοντέλου όπως το [Word2Vec](https://mowl.readthedocs.io/en/stable/api/mowl.models.SyntacticPlusW2VModel.html#mowl.models.SyntacticPlusW2VModel),για να παραχθούν τα embedding. Στο συγκεκριμένο παράδειγμα, χρησιμοποιούνται και reasoners για να δημιουργηθούν και αξιώματα υποκλάσης και εξισώσεις κλάσεων. Επιπλέον, χρησιμοποιείται άτυπη γνώση όπως μεταδεδομένα οντοτήτων (πχ συνώνημα, ορισμοί) με την χρήση του \"extract_and_save_annotation_corpus\" της [mowl.corpus](https://mowl.readthedocs.io/en/stable/api/corpus/index.html), όπου είναι και η διαφορά του μοντέλου από το [Onto2Vec](https://mowl.readthedocs.io/en/stable/examples/syntactic/plot_1_onto2vec.html#sphx-glr-examples-syntactic-plot-1-onto2vec-py).\n"
      ]
    },
    {
      "cell_type": "code",
      "execution_count": null,
      "metadata": {
        "id": "wZqc7Vvr-C0O",
        "outputId": "53d609e5-8245-40ab-c6cd-bd610caa5cf5"
      },
      "outputs": [
        {
          "name": "stderr",
          "output_type": "stream",
          "text": [
            "INFO:root:Number of inferred axioms: 555583.\n",
            "INFO:root:Number of inferred axioms: 56750.\n",
            "INFO:root:Generating axioms corpus\n",
            "INFO:root:Generating annotation corpus\n",
            "INFO:gensim.utils:Word2Vec lifecycle event {'params': 'Word2Vec<vocab=0, vector_size=100, alpha=0.025>', 'datetime': '2025-02-22T22:31:56.671863', 'gensim': '4.3.3', 'python': '3.10.11 (tags/v3.10.11:7d4cc5a, Apr  5 2023, 00:38:17) [MSC v.1929 64 bit (AMD64)]', 'platform': 'Windows-10-10.0.26100-SP0', 'event': 'created'}\n",
            "INFO:root:Generating axioms corpus\n",
            "INFO:root:Generating annotation corpus\n",
            "INFO:mowl.base_models.syntactic_model:Corpus saved in opa2vec_corpus.txt\n",
            "INFO:gensim.models.word2vec:collecting all words and their counts\n",
            "INFO:gensim.models.word2vec:PROGRESS: at sentence #0, processed 0 words, keeping 0 word types\n",
            "INFO:gensim.models.word2vec:PROGRESS: at sentence #10000, processed 47899 words, keeping 14664 word types\n",
            "INFO:gensim.models.word2vec:PROGRESS: at sentence #20000, processed 95373 words, keeping 24903 word types\n",
            "INFO:gensim.models.word2vec:PROGRESS: at sentence #30000, processed 143517 words, keeping 33297 word types\n",
            "INFO:gensim.models.word2vec:PROGRESS: at sentence #40000, processed 190563 words, keeping 40363 word types\n",
            "INFO:gensim.models.word2vec:PROGRESS: at sentence #50000, processed 238610 words, keeping 46575 word types\n",
            "INFO:gensim.models.word2vec:PROGRESS: at sentence #60000, processed 286842 words, keeping 52402 word types\n",
            "INFO:gensim.models.word2vec:PROGRESS: at sentence #70000, processed 335234 words, keeping 57381 word types\n",
            "INFO:gensim.models.word2vec:PROGRESS: at sentence #80000, processed 382560 words, keeping 61837 word types\n",
            "INFO:gensim.models.word2vec:PROGRESS: at sentence #90000, processed 430662 words, keeping 65999 word types\n",
            "INFO:gensim.models.word2vec:PROGRESS: at sentence #100000, processed 477756 words, keeping 69746 word types\n",
            "INFO:gensim.models.word2vec:PROGRESS: at sentence #110000, processed 526612 words, keeping 73379 word types\n",
            "INFO:gensim.models.word2vec:PROGRESS: at sentence #120000, processed 574092 words, keeping 76527 word types\n",
            "INFO:gensim.models.word2vec:PROGRESS: at sentence #130000, processed 622096 words, keeping 79741 word types\n",
            "INFO:gensim.models.word2vec:PROGRESS: at sentence #140000, processed 670377 words, keeping 82671 word types\n",
            "INFO:gensim.models.word2vec:PROGRESS: at sentence #150000, processed 718661 words, keeping 85338 word types\n",
            "INFO:gensim.models.word2vec:PROGRESS: at sentence #160000, processed 766393 words, keeping 87854 word types\n",
            "INFO:gensim.models.word2vec:PROGRESS: at sentence #170000, processed 814509 words, keeping 90323 word types\n",
            "INFO:gensim.models.word2vec:PROGRESS: at sentence #180000, processed 862875 words, keeping 92701 word types\n",
            "INFO:gensim.models.word2vec:PROGRESS: at sentence #190000, processed 910637 words, keeping 94979 word types\n",
            "INFO:gensim.models.word2vec:PROGRESS: at sentence #200000, processed 958211 words, keeping 96995 word types\n",
            "INFO:gensim.models.word2vec:PROGRESS: at sentence #210000, processed 1006388 words, keeping 98986 word types\n",
            "INFO:gensim.models.word2vec:PROGRESS: at sentence #220000, processed 1054012 words, keeping 100952 word types\n",
            "INFO:gensim.models.word2vec:PROGRESS: at sentence #230000, processed 1101560 words, keeping 102827 word types\n",
            "INFO:gensim.models.word2vec:PROGRESS: at sentence #240000, processed 1147853 words, keeping 104610 word types\n",
            "INFO:gensim.models.word2vec:PROGRESS: at sentence #250000, processed 1195899 words, keeping 106340 word types\n",
            "INFO:gensim.models.word2vec:PROGRESS: at sentence #260000, processed 1242908 words, keeping 108097 word types\n",
            "INFO:gensim.models.word2vec:PROGRESS: at sentence #270000, processed 1289617 words, keeping 109741 word types\n",
            "INFO:gensim.models.word2vec:PROGRESS: at sentence #280000, processed 1337207 words, keeping 111467 word types\n",
            "INFO:gensim.models.word2vec:PROGRESS: at sentence #290000, processed 1385342 words, keeping 113159 word types\n",
            "INFO:gensim.models.word2vec:PROGRESS: at sentence #300000, processed 1432246 words, keeping 114710 word types\n",
            "INFO:gensim.models.word2vec:PROGRESS: at sentence #310000, processed 1478810 words, keeping 116253 word types\n",
            "INFO:gensim.models.word2vec:PROGRESS: at sentence #320000, processed 1526707 words, keeping 117719 word types\n",
            "INFO:gensim.models.word2vec:PROGRESS: at sentence #330000, processed 1573799 words, keeping 119242 word types\n",
            "INFO:gensim.models.word2vec:PROGRESS: at sentence #340000, processed 1621342 words, keeping 120779 word types\n",
            "INFO:gensim.models.word2vec:PROGRESS: at sentence #350000, processed 1668789 words, keeping 122283 word types\n",
            "INFO:gensim.models.word2vec:PROGRESS: at sentence #360000, processed 1716133 words, keeping 123700 word types\n",
            "INFO:gensim.models.word2vec:PROGRESS: at sentence #370000, processed 1762530 words, keeping 125138 word types\n",
            "INFO:gensim.models.word2vec:PROGRESS: at sentence #380000, processed 1809475 words, keeping 126556 word types\n",
            "INFO:gensim.models.word2vec:PROGRESS: at sentence #390000, processed 1856270 words, keeping 127868 word types\n",
            "INFO:gensim.models.word2vec:PROGRESS: at sentence #400000, processed 1903075 words, keeping 129304 word types\n",
            "INFO:gensim.models.word2vec:PROGRESS: at sentence #410000, processed 1950190 words, keeping 130739 word types\n",
            "INFO:gensim.models.word2vec:PROGRESS: at sentence #420000, processed 1996321 words, keeping 132056 word types\n",
            "INFO:gensim.models.word2vec:PROGRESS: at sentence #430000, processed 2042984 words, keeping 133379 word types\n",
            "INFO:gensim.models.word2vec:PROGRESS: at sentence #440000, processed 2088985 words, keeping 134675 word types\n",
            "INFO:gensim.models.word2vec:PROGRESS: at sentence #450000, processed 2138302 words, keeping 136028 word types\n",
            "INFO:gensim.models.word2vec:PROGRESS: at sentence #460000, processed 2184087 words, keeping 137267 word types\n",
            "INFO:gensim.models.word2vec:PROGRESS: at sentence #470000, processed 2232365 words, keeping 138648 word types\n",
            "INFO:gensim.models.word2vec:PROGRESS: at sentence #480000, processed 2279470 words, keeping 139970 word types\n",
            "INFO:gensim.models.word2vec:PROGRESS: at sentence #490000, processed 2326741 words, keeping 141297 word types\n",
            "INFO:gensim.models.word2vec:PROGRESS: at sentence #500000, processed 2373917 words, keeping 142623 word types\n",
            "INFO:gensim.models.word2vec:PROGRESS: at sentence #510000, processed 2421491 words, keeping 143918 word types\n",
            "INFO:gensim.models.word2vec:PROGRESS: at sentence #520000, processed 2469056 words, keeping 145149 word types\n",
            "INFO:gensim.models.word2vec:PROGRESS: at sentence #530000, processed 2516253 words, keeping 146352 word types\n",
            "INFO:gensim.models.word2vec:PROGRESS: at sentence #540000, processed 2562751 words, keeping 147637 word types\n",
            "INFO:gensim.models.word2vec:PROGRESS: at sentence #550000, processed 2610469 words, keeping 148933 word types\n",
            "INFO:gensim.models.word2vec:PROGRESS: at sentence #560000, processed 2658048 words, keeping 150191 word types\n",
            "INFO:gensim.models.word2vec:PROGRESS: at sentence #570000, processed 2705371 words, keeping 151476 word types\n",
            "INFO:gensim.models.word2vec:PROGRESS: at sentence #580000, processed 2752065 words, keeping 152688 word types\n",
            "INFO:gensim.models.word2vec:PROGRESS: at sentence #590000, processed 2799873 words, keeping 153911 word types\n",
            "INFO:gensim.models.word2vec:PROGRESS: at sentence #600000, processed 2847410 words, keeping 155185 word types\n",
            "INFO:gensim.models.word2vec:PROGRESS: at sentence #610000, processed 2894461 words, keeping 156382 word types\n",
            "INFO:gensim.models.word2vec:PROGRESS: at sentence #620000, processed 2941088 words, keeping 157580 word types\n",
            "INFO:gensim.models.word2vec:PROGRESS: at sentence #630000, processed 2988449 words, keeping 158838 word types\n",
            "INFO:gensim.models.word2vec:PROGRESS: at sentence #640000, processed 3035475 words, keeping 159959 word types\n",
            "INFO:gensim.models.word2vec:PROGRESS: at sentence #650000, processed 3083223 words, keeping 161208 word types\n",
            "INFO:gensim.models.word2vec:PROGRESS: at sentence #660000, processed 3129892 words, keeping 162418 word types\n",
            "INFO:gensim.models.word2vec:PROGRESS: at sentence #670000, processed 3176430 words, keeping 163606 word types\n",
            "INFO:gensim.models.word2vec:PROGRESS: at sentence #680000, processed 3224099 words, keeping 164783 word types\n",
            "INFO:gensim.models.word2vec:PROGRESS: at sentence #690000, processed 3271193 words, keeping 165925 word types\n",
            "INFO:gensim.models.word2vec:PROGRESS: at sentence #700000, processed 3319171 words, keeping 167091 word types\n",
            "INFO:gensim.models.word2vec:PROGRESS: at sentence #710000, processed 3366069 words, keeping 168235 word types\n",
            "INFO:gensim.models.word2vec:PROGRESS: at sentence #720000, processed 3413308 words, keeping 169486 word types\n",
            "INFO:gensim.models.word2vec:PROGRESS: at sentence #730000, processed 3461503 words, keeping 170638 word types\n",
            "INFO:gensim.models.word2vec:PROGRESS: at sentence #740000, processed 3509045 words, keeping 171895 word types\n",
            "INFO:gensim.models.word2vec:PROGRESS: at sentence #750000, processed 3556530 words, keeping 173076 word types\n",
            "INFO:gensim.models.word2vec:PROGRESS: at sentence #760000, processed 3602517 words, keeping 174170 word types\n",
            "INFO:gensim.models.word2vec:PROGRESS: at sentence #770000, processed 3649335 words, keeping 175279 word types\n",
            "INFO:gensim.models.word2vec:PROGRESS: at sentence #780000, processed 3696915 words, keeping 176510 word types\n",
            "INFO:gensim.models.word2vec:PROGRESS: at sentence #790000, processed 3744097 words, keeping 177644 word types\n",
            "INFO:gensim.models.word2vec:PROGRESS: at sentence #800000, processed 3791279 words, keeping 178828 word types\n",
            "INFO:gensim.models.word2vec:PROGRESS: at sentence #810000, processed 3839450 words, keeping 179973 word types\n",
            "INFO:gensim.models.word2vec:PROGRESS: at sentence #820000, processed 3886085 words, keeping 181088 word types\n",
            "INFO:gensim.models.word2vec:PROGRESS: at sentence #830000, processed 3934258 words, keeping 182290 word types\n",
            "INFO:gensim.models.word2vec:PROGRESS: at sentence #840000, processed 3982464 words, keeping 183426 word types\n",
            "INFO:gensim.models.word2vec:PROGRESS: at sentence #850000, processed 4030792 words, keeping 184636 word types\n",
            "INFO:gensim.models.word2vec:PROGRESS: at sentence #860000, processed 4078692 words, keeping 185786 word types\n",
            "INFO:gensim.models.word2vec:PROGRESS: at sentence #870000, processed 4125786 words, keeping 186897 word types\n",
            "INFO:gensim.models.word2vec:PROGRESS: at sentence #880000, processed 4172929 words, keeping 188031 word types\n",
            "INFO:gensim.models.word2vec:PROGRESS: at sentence #890000, processed 4220379 words, keeping 189171 word types\n",
            "INFO:gensim.models.word2vec:PROGRESS: at sentence #900000, processed 4267346 words, keeping 190279 word types\n",
            "INFO:gensim.models.word2vec:PROGRESS: at sentence #910000, processed 4313835 words, keeping 191405 word types\n",
            "INFO:gensim.models.word2vec:PROGRESS: at sentence #920000, processed 4361546 words, keeping 192501 word types\n",
            "INFO:gensim.models.word2vec:PROGRESS: at sentence #930000, processed 4409140 words, keeping 193634 word types\n",
            "INFO:gensim.models.word2vec:PROGRESS: at sentence #940000, processed 4455229 words, keeping 194759 word types\n",
            "INFO:gensim.models.word2vec:PROGRESS: at sentence #950000, processed 4502878 words, keeping 195892 word types\n",
            "INFO:gensim.models.word2vec:PROGRESS: at sentence #960000, processed 4549750 words, keeping 197004 word types\n",
            "INFO:gensim.models.word2vec:PROGRESS: at sentence #970000, processed 4598030 words, keeping 198180 word types\n",
            "INFO:gensim.models.word2vec:PROGRESS: at sentence #980000, processed 4645798 words, keeping 199326 word types\n",
            "INFO:gensim.models.word2vec:PROGRESS: at sentence #990000, processed 4692278 words, keeping 200419 word types\n",
            "INFO:gensim.models.word2vec:PROGRESS: at sentence #1000000, processed 4739313 words, keeping 201566 word types\n",
            "INFO:gensim.models.word2vec:PROGRESS: at sentence #1010000, processed 4786572 words, keeping 202605 word types\n",
            "INFO:gensim.models.word2vec:PROGRESS: at sentence #1020000, processed 4835184 words, keeping 203753 word types\n",
            "INFO:gensim.models.word2vec:PROGRESS: at sentence #1030000, processed 4881707 words, keeping 204786 word types\n",
            "INFO:gensim.models.word2vec:PROGRESS: at sentence #1040000, processed 4930036 words, keeping 205813 word types\n",
            "INFO:gensim.models.word2vec:PROGRESS: at sentence #1050000, processed 4977259 words, keeping 206848 word types\n",
            "INFO:gensim.models.word2vec:PROGRESS: at sentence #1060000, processed 5025300 words, keeping 207939 word types\n",
            "INFO:gensim.models.word2vec:PROGRESS: at sentence #1070000, processed 5073653 words, keeping 209034 word types\n",
            "INFO:gensim.models.word2vec:PROGRESS: at sentence #1080000, processed 5121346 words, keeping 210090 word types\n",
            "INFO:gensim.models.word2vec:PROGRESS: at sentence #1090000, processed 5168921 words, keeping 211108 word types\n",
            "INFO:gensim.models.word2vec:PROGRESS: at sentence #1100000, processed 5216364 words, keeping 212280 word types\n",
            "INFO:gensim.models.word2vec:PROGRESS: at sentence #1110000, processed 5263642 words, keeping 213382 word types\n",
            "INFO:gensim.models.word2vec:PROGRESS: at sentence #1120000, processed 5311705 words, keeping 214449 word types\n",
            "INFO:gensim.models.word2vec:PROGRESS: at sentence #1130000, processed 5357659 words, keeping 215468 word types\n",
            "INFO:gensim.models.word2vec:PROGRESS: at sentence #1140000, processed 5405607 words, keeping 216524 word types\n",
            "INFO:gensim.models.word2vec:PROGRESS: at sentence #1150000, processed 5452399 words, keeping 217581 word types\n",
            "INFO:gensim.models.word2vec:PROGRESS: at sentence #1160000, processed 5500670 words, keeping 218653 word types\n",
            "INFO:gensim.models.word2vec:PROGRESS: at sentence #1170000, processed 5547337 words, keeping 219717 word types\n",
            "INFO:gensim.models.word2vec:PROGRESS: at sentence #1180000, processed 5594889 words, keeping 220800 word types\n",
            "INFO:gensim.models.word2vec:PROGRESS: at sentence #1190000, processed 5642520 words, keeping 221880 word types\n",
            "INFO:gensim.models.word2vec:PROGRESS: at sentence #1200000, processed 5690238 words, keeping 223026 word types\n",
            "INFO:gensim.models.word2vec:PROGRESS: at sentence #1210000, processed 5737789 words, keeping 224023 word types\n",
            "INFO:gensim.models.word2vec:PROGRESS: at sentence #1220000, processed 5784963 words, keeping 225081 word types\n",
            "INFO:gensim.models.word2vec:PROGRESS: at sentence #1230000, processed 5831650 words, keeping 226107 word types\n",
            "INFO:gensim.models.word2vec:PROGRESS: at sentence #1240000, processed 5879352 words, keeping 227161 word types\n",
            "INFO:gensim.models.word2vec:PROGRESS: at sentence #1250000, processed 5926746 words, keeping 228193 word types\n",
            "INFO:gensim.models.word2vec:PROGRESS: at sentence #1260000, processed 5975204 words, keeping 229282 word types\n",
            "INFO:gensim.models.word2vec:PROGRESS: at sentence #1270000, processed 6023284 words, keeping 230320 word types\n",
            "INFO:gensim.models.word2vec:PROGRESS: at sentence #1280000, processed 6071091 words, keeping 231387 word types\n",
            "INFO:gensim.models.word2vec:PROGRESS: at sentence #1290000, processed 6119149 words, keeping 232415 word types\n",
            "INFO:gensim.models.word2vec:PROGRESS: at sentence #1300000, processed 6166016 words, keeping 233470 word types\n",
            "INFO:gensim.models.word2vec:PROGRESS: at sentence #1310000, processed 6214095 words, keeping 234527 word types\n",
            "INFO:gensim.models.word2vec:PROGRESS: at sentence #1320000, processed 6261707 words, keeping 235593 word types\n",
            "INFO:gensim.models.word2vec:PROGRESS: at sentence #1330000, processed 6308393 words, keeping 236663 word types\n",
            "INFO:gensim.models.word2vec:PROGRESS: at sentence #1340000, processed 6355080 words, keeping 237665 word types\n",
            "INFO:gensim.models.word2vec:PROGRESS: at sentence #1350000, processed 6402239 words, keeping 238722 word types\n",
            "INFO:gensim.models.word2vec:PROGRESS: at sentence #1360000, processed 6451931 words, keeping 240060 word types\n",
            "INFO:gensim.models.word2vec:PROGRESS: at sentence #1370000, processed 6532216 words, keeping 244549 word types\n",
            "INFO:gensim.models.word2vec:PROGRESS: at sentence #1380000, processed 6611933 words, keeping 247757 word types\n",
            "INFO:gensim.models.word2vec:PROGRESS: at sentence #1390000, processed 6674451 words, keeping 253707 word types\n",
            "INFO:gensim.models.word2vec:PROGRESS: at sentence #1400000, processed 6729239 words, keeping 261172 word types\n",
            "INFO:gensim.models.word2vec:PROGRESS: at sentence #1410000, processed 6790493 words, keeping 267343 word types\n",
            "INFO:gensim.models.word2vec:PROGRESS: at sentence #1420000, processed 6861024 words, keeping 271074 word types\n",
            "INFO:gensim.models.word2vec:PROGRESS: at sentence #1430000, processed 6934820 words, keeping 275402 word types\n",
            "INFO:gensim.models.word2vec:PROGRESS: at sentence #1440000, processed 6997171 words, keeping 280901 word types\n",
            "INFO:gensim.models.word2vec:PROGRESS: at sentence #1450000, processed 7073963 words, keeping 284847 word types\n",
            "INFO:gensim.models.word2vec:PROGRESS: at sentence #1460000, processed 7152945 words, keeping 289373 word types\n",
            "INFO:gensim.models.word2vec:PROGRESS: at sentence #1470000, processed 7222802 words, keeping 294332 word types\n",
            "INFO:gensim.models.word2vec:PROGRESS: at sentence #1480000, processed 7283588 words, keeping 300510 word types\n",
            "INFO:gensim.models.word2vec:PROGRESS: at sentence #1490000, processed 7355759 words, keeping 303828 word types\n",
            "INFO:gensim.models.word2vec:PROGRESS: at sentence #1500000, processed 7425066 words, keeping 307490 word types\n",
            "INFO:gensim.models.word2vec:PROGRESS: at sentence #1510000, processed 7494363 words, keeping 311073 word types\n",
            "INFO:gensim.models.word2vec:PROGRESS: at sentence #1520000, processed 7566560 words, keeping 314615 word types\n",
            "INFO:gensim.models.word2vec:PROGRESS: at sentence #1530000, processed 7633076 words, keeping 319467 word types\n",
            "INFO:gensim.models.word2vec:PROGRESS: at sentence #1540000, processed 7704474 words, keeping 324076 word types\n",
            "INFO:gensim.models.word2vec:PROGRESS: at sentence #1550000, processed 7773842 words, keeping 328391 word types\n",
            "INFO:gensim.models.word2vec:PROGRESS: at sentence #1560000, processed 7847901 words, keeping 332143 word types\n",
            "INFO:gensim.models.word2vec:PROGRESS: at sentence #1570000, processed 7919515 words, keeping 336355 word types\n",
            "INFO:gensim.models.word2vec:PROGRESS: at sentence #1580000, processed 7993807 words, keeping 340368 word types\n",
            "INFO:gensim.models.word2vec:PROGRESS: at sentence #1590000, processed 8063419 words, keeping 343004 word types\n",
            "INFO:gensim.models.word2vec:PROGRESS: at sentence #1600000, processed 8122218 words, keeping 349375 word types\n",
            "INFO:gensim.models.word2vec:PROGRESS: at sentence #1610000, processed 8184938 words, keeping 354717 word types\n",
            "INFO:gensim.models.word2vec:PROGRESS: at sentence #1620000, processed 8243927 words, keeping 361012 word types\n",
            "INFO:gensim.models.word2vec:PROGRESS: at sentence #1630000, processed 8320982 words, keeping 364004 word types\n",
            "INFO:gensim.models.word2vec:PROGRESS: at sentence #1640000, processed 8402164 words, keeping 367908 word types\n",
            "INFO:gensim.models.word2vec:PROGRESS: at sentence #1650000, processed 8479582 words, keeping 371420 word types\n",
            "INFO:gensim.models.word2vec:PROGRESS: at sentence #1660000, processed 8545256 words, keeping 376047 word types\n",
            "INFO:gensim.models.word2vec:PROGRESS: at sentence #1670000, processed 8613348 words, keeping 380192 word types\n",
            "INFO:gensim.models.word2vec:PROGRESS: at sentence #1680000, processed 8690515 words, keeping 383894 word types\n",
            "INFO:gensim.models.word2vec:PROGRESS: at sentence #1690000, processed 8774861 words, keeping 387662 word types\n",
            "INFO:gensim.models.word2vec:PROGRESS: at sentence #1700000, processed 8843795 words, keeping 391996 word types\n",
            "INFO:gensim.models.word2vec:PROGRESS: at sentence #1710000, processed 8914192 words, keeping 396496 word types\n",
            "INFO:gensim.models.word2vec:PROGRESS: at sentence #1720000, processed 8969463 words, keeping 402155 word types\n",
            "INFO:gensim.models.word2vec:PROGRESS: at sentence #1730000, processed 9034420 words, keeping 406867 word types\n",
            "INFO:gensim.models.word2vec:PROGRESS: at sentence #1740000, processed 9106126 words, keeping 408887 word types\n",
            "INFO:gensim.models.word2vec:PROGRESS: at sentence #1750000, processed 9164524 words, keeping 410961 word types\n",
            "INFO:gensim.models.word2vec:PROGRESS: at sentence #1760000, processed 9230764 words, keeping 413187 word types\n",
            "INFO:gensim.models.word2vec:PROGRESS: at sentence #1770000, processed 9296836 words, keeping 415534 word types\n",
            "INFO:gensim.models.word2vec:PROGRESS: at sentence #1780000, processed 9365622 words, keeping 417474 word types\n",
            "INFO:gensim.models.word2vec:PROGRESS: at sentence #1790000, processed 9431498 words, keeping 419317 word types\n",
            "INFO:gensim.models.word2vec:PROGRESS: at sentence #1800000, processed 9499951 words, keeping 421107 word types\n",
            "INFO:gensim.models.word2vec:PROGRESS: at sentence #1810000, processed 9569205 words, keeping 422994 word types\n",
            "INFO:gensim.models.word2vec:PROGRESS: at sentence #1820000, processed 9637307 words, keeping 424851 word types\n",
            "INFO:gensim.models.word2vec:PROGRESS: at sentence #1830000, processed 9709387 words, keeping 426664 word types\n",
            "INFO:gensim.models.word2vec:PROGRESS: at sentence #1840000, processed 9777102 words, keeping 431159 word types\n",
            "INFO:gensim.models.word2vec:PROGRESS: at sentence #1850000, processed 9840495 words, keeping 434406 word types\n",
            "INFO:gensim.models.word2vec:collected 435381 word types from a corpus of 9857087 raw words and 1852759 sentences\n",
            "INFO:gensim.models.word2vec:Creating a fresh vocabulary\n",
            "INFO:gensim.utils:Word2Vec lifecycle event {'msg': 'effective_min_count=1 retains 435381 unique words (100.00% of original 435381, drops 0)', 'datetime': '2025-02-22T22:32:44.559443', 'gensim': '4.3.3', 'python': '3.10.11 (tags/v3.10.11:7d4cc5a, Apr  5 2023, 00:38:17) [MSC v.1929 64 bit (AMD64)]', 'platform': 'Windows-10-10.0.26100-SP0', 'event': 'prepare_vocab'}\n",
            "INFO:gensim.utils:Word2Vec lifecycle event {'msg': 'effective_min_count=1 leaves 9857087 word corpus (100.00% of original 9857087, drops 0)', 'datetime': '2025-02-22T22:32:44.559443', 'gensim': '4.3.3', 'python': '3.10.11 (tags/v3.10.11:7d4cc5a, Apr  5 2023, 00:38:17) [MSC v.1929 64 bit (AMD64)]', 'platform': 'Windows-10-10.0.26100-SP0', 'event': 'prepare_vocab'}\n",
            "INFO:gensim.models.word2vec:deleting the raw counts dictionary of 435381 items\n",
            "INFO:gensim.models.word2vec:sample=0.001 downsamples 38 most-common words\n",
            "INFO:gensim.utils:Word2Vec lifecycle event {'msg': 'downsampling leaves estimated 7682219.909853778 word corpus (77.9%% of prior 9857087)', 'datetime': '2025-02-22T22:32:46.933590', 'gensim': '4.3.3', 'python': '3.10.11 (tags/v3.10.11:7d4cc5a, Apr  5 2023, 00:38:17) [MSC v.1929 64 bit (AMD64)]', 'platform': 'Windows-10-10.0.26100-SP0', 'event': 'prepare_vocab'}\n",
            "INFO:gensim.models.word2vec:estimated required memory for 435381 words and 100 dimensions: 565995300 bytes\n",
            "INFO:gensim.models.word2vec:resetting layer weights\n",
            "INFO:gensim.utils:Word2Vec lifecycle event {'update': False, 'trim_rule': 'None', 'datetime': '2025-02-22T22:32:50.228430', 'gensim': '4.3.3', 'python': '3.10.11 (tags/v3.10.11:7d4cc5a, Apr  5 2023, 00:38:17) [MSC v.1929 64 bit (AMD64)]', 'platform': 'Windows-10-10.0.26100-SP0', 'event': 'build_vocab'}\n",
            "INFO:gensim.utils:Word2Vec lifecycle event {'msg': 'training model with 4 workers on 435381 vocabulary and 100 features, using sg=0 hs=0 sample=0.001 negative=5 window=5 shrink_windows=True', 'datetime': '2025-02-22T22:32:50.228430', 'gensim': '4.3.3', 'python': '3.10.11 (tags/v3.10.11:7d4cc5a, Apr  5 2023, 00:38:17) [MSC v.1929 64 bit (AMD64)]', 'platform': 'Windows-10-10.0.26100-SP0', 'event': 'train'}\n",
            "INFO:gensim.models.word2vec:EPOCH 0 - PROGRESS: at 9.23% examples, 605340 words/s, in_qsize 0, out_qsize 0\n",
            "INFO:gensim.models.word2vec:EPOCH 0 - PROGRESS: at 18.78% examples, 613276 words/s, in_qsize 0, out_qsize 0\n",
            "INFO:gensim.models.word2vec:EPOCH 0 - PROGRESS: at 26.12% examples, 566072 words/s, in_qsize 0, out_qsize 0\n",
            "INFO:gensim.models.word2vec:EPOCH 0 - PROGRESS: at 35.37% examples, 574012 words/s, in_qsize 0, out_qsize 0\n",
            "INFO:gensim.models.word2vec:EPOCH 0 - PROGRESS: at 42.91% examples, 556221 words/s, in_qsize 0, out_qsize 0\n",
            "INFO:gensim.models.word2vec:EPOCH 0 - PROGRESS: at 52.12% examples, 563465 words/s, in_qsize 0, out_qsize 0\n",
            "INFO:gensim.models.word2vec:EPOCH 0 - PROGRESS: at 59.49% examples, 551342 words/s, in_qsize 0, out_qsize 0\n",
            "INFO:gensim.models.word2vec:EPOCH 0 - PROGRESS: at 69.15% examples, 560316 words/s, in_qsize 0, out_qsize 0\n",
            "INFO:gensim.models.word2vec:EPOCH 0 - PROGRESS: at 77.71% examples, 568241 words/s, in_qsize 0, out_qsize 1\n",
            "INFO:gensim.models.word2vec:EPOCH 0 - PROGRESS: at 85.83% examples, 600055 words/s, in_qsize 0, out_qsize 0\n",
            "INFO:gensim.models.word2vec:EPOCH 0 - PROGRESS: at 94.07% examples, 625686 words/s, in_qsize 0, out_qsize 0\n",
            "INFO:gensim.models.word2vec:EPOCH 0: training on 9857087 raw words (7682112 effective words) took 12.0s, 641316 effective words/s\n",
            "INFO:gensim.models.word2vec:EPOCH 1 - PROGRESS: at 7.21% examples, 475960 words/s, in_qsize 0, out_qsize 0\n",
            "INFO:gensim.models.word2vec:EPOCH 1 - PROGRESS: at 16.74% examples, 550858 words/s, in_qsize 0, out_qsize 0\n",
            "INFO:gensim.models.word2vec:EPOCH 1 - PROGRESS: at 24.07% examples, 523163 words/s, in_qsize 0, out_qsize 0\n",
            "INFO:gensim.models.word2vec:EPOCH 1 - PROGRESS: at 33.43% examples, 544525 words/s, in_qsize 0, out_qsize 0\n",
            "INFO:gensim.models.word2vec:EPOCH 1 - PROGRESS: at 42.34% examples, 534007 words/s, in_qsize 0, out_qsize 1\n",
            "INFO:gensim.models.word2vec:EPOCH 1 - PROGRESS: at 51.33% examples, 542696 words/s, in_qsize 0, out_qsize 0\n",
            "INFO:gensim.models.word2vec:EPOCH 1 - PROGRESS: at 60.51% examples, 550625 words/s, in_qsize 0, out_qsize 0\n",
            "INFO:gensim.models.word2vec:EPOCH 1 - PROGRESS: at 67.69% examples, 540523 words/s, in_qsize 0, out_qsize 0\n",
            "INFO:gensim.models.word2vec:EPOCH 1 - PROGRESS: at 76.14% examples, 554565 words/s, in_qsize 0, out_qsize 0\n",
            "INFO:gensim.models.word2vec:EPOCH 1 - PROGRESS: at 83.80% examples, 572632 words/s, in_qsize 0, out_qsize 2\n",
            "INFO:gensim.models.word2vec:EPOCH 1 - PROGRESS: at 91.53% examples, 597420 words/s, in_qsize 0, out_qsize 0\n",
            "INFO:gensim.models.word2vec:EPOCH 1: training on 9857087 raw words (7682530 effective words) took 12.4s, 619637 effective words/s\n",
            "INFO:gensim.models.word2vec:EPOCH 2 - PROGRESS: at 8.22% examples, 492733 words/s, in_qsize 0, out_qsize 1\n",
            "INFO:gensim.models.word2vec:EPOCH 2 - PROGRESS: at 17.52% examples, 546033 words/s, in_qsize 0, out_qsize 0\n",
            "INFO:gensim.models.word2vec:EPOCH 2 - PROGRESS: at 26.70% examples, 522904 words/s, in_qsize 0, out_qsize 1\n",
            "INFO:gensim.models.word2vec:EPOCH 2 - PROGRESS: at 35.72% examples, 537577 words/s, in_qsize 0, out_qsize 0\n",
            "INFO:gensim.models.word2vec:EPOCH 2 - PROGRESS: at 45.17% examples, 552274 words/s, in_qsize 0, out_qsize 0\n",
            "INFO:gensim.models.word2vec:EPOCH 2 - PROGRESS: at 52.57% examples, 540722 words/s, in_qsize 0, out_qsize 0\n",
            "INFO:gensim.models.word2vec:EPOCH 2 - PROGRESS: at 62.00% examples, 549999 words/s, in_qsize 0, out_qsize 0\n",
            "INFO:gensim.models.word2vec:EPOCH 2 - PROGRESS: at 69.15% examples, 540183 words/s, in_qsize 0, out_qsize 0\n",
            "INFO:gensim.models.word2vec:EPOCH 2 - PROGRESS: at 77.71% examples, 561646 words/s, in_qsize 0, out_qsize 0\n",
            "INFO:gensim.models.word2vec:EPOCH 2 - PROGRESS: at 85.83% examples, 593899 words/s, in_qsize 0, out_qsize 0\n",
            "INFO:gensim.models.word2vec:EPOCH 2 - PROGRESS: at 92.29% examples, 601543 words/s, in_qsize 0, out_qsize 1\n",
            "INFO:gensim.models.word2vec:EPOCH 2 - PROGRESS: at 99.53% examples, 612237 words/s, in_qsize 0, out_qsize 0\n",
            "INFO:gensim.models.word2vec:EPOCH 2: training on 9857087 raw words (7682902 effective words) took 12.5s, 613244 effective words/s\n",
            "INFO:gensim.models.word2vec:EPOCH 3 - PROGRESS: at 8.67% examples, 573209 words/s, in_qsize 0, out_qsize 0\n",
            "INFO:gensim.models.word2vec:EPOCH 3 - PROGRESS: at 15.24% examples, 501875 words/s, in_qsize 0, out_qsize 0\n",
            "INFO:gensim.models.word2vec:EPOCH 3 - PROGRESS: at 23.97% examples, 521840 words/s, in_qsize 0, out_qsize 0\n",
            "INFO:gensim.models.word2vec:EPOCH 3 - PROGRESS: at 30.80% examples, 497520 words/s, in_qsize 0, out_qsize 1\n",
            "INFO:gensim.models.word2vec:EPOCH 3 - PROGRESS: at 39.48% examples, 510139 words/s, in_qsize 0, out_qsize 0\n",
            "INFO:gensim.models.word2vec:EPOCH 3 - PROGRESS: at 48.00% examples, 518109 words/s, in_qsize 0, out_qsize 0\n",
            "INFO:gensim.models.word2vec:EPOCH 3 - PROGRESS: at 54.52% examples, 503897 words/s, in_qsize 0, out_qsize 0\n",
            "INFO:gensim.models.word2vec:EPOCH 3 - PROGRESS: at 63.02% examples, 510611 words/s, in_qsize 0, out_qsize 0\n",
            "INFO:gensim.models.word2vec:EPOCH 3 - PROGRESS: at 69.37% examples, 499779 words/s, in_qsize 0, out_qsize 0\n",
            "INFO:gensim.models.word2vec:EPOCH 3 - PROGRESS: at 77.11% examples, 516800 words/s, in_qsize 0, out_qsize 0\n",
            "INFO:gensim.models.word2vec:EPOCH 3 - PROGRESS: at 84.55% examples, 543459 words/s, in_qsize 0, out_qsize 0\n",
            "INFO:gensim.models.word2vec:EPOCH 3 - PROGRESS: at 91.99% examples, 566415 words/s, in_qsize 0, out_qsize 0\n",
            "INFO:gensim.models.word2vec:EPOCH 3 - PROGRESS: at 98.29% examples, 571289 words/s, in_qsize 0, out_qsize 0\n",
            "INFO:gensim.models.word2vec:EPOCH 3: training on 9857087 raw words (7682464 effective words) took 13.3s, 575826 effective words/s\n",
            "INFO:gensim.models.word2vec:EPOCH 4 - PROGRESS: at 8.56% examples, 560472 words/s, in_qsize 0, out_qsize 0\n",
            "INFO:gensim.models.word2vec:EPOCH 4 - PROGRESS: at 16.16% examples, 479178 words/s, in_qsize 0, out_qsize 1\n",
            "INFO:gensim.models.word2vec:EPOCH 4 - PROGRESS: at 24.18% examples, 491996 words/s, in_qsize 0, out_qsize 0\n",
            "INFO:gensim.models.word2vec:EPOCH 4 - PROGRESS: at 31.37% examples, 486007 words/s, in_qsize 0, out_qsize 0\n",
            "INFO:gensim.models.word2vec:EPOCH 4 - PROGRESS: at 35.84% examples, 448253 words/s, in_qsize 0, out_qsize 0\n",
            "INFO:gensim.models.word2vec:EPOCH 4 - PROGRESS: at 43.70% examples, 458668 words/s, in_qsize 0, out_qsize 0\n",
            "INFO:gensim.models.word2vec:EPOCH 4 - PROGRESS: at 52.12% examples, 470609 words/s, in_qsize 0, out_qsize 0\n",
            "INFO:gensim.models.word2vec:EPOCH 4 - PROGRESS: at 58.13% examples, 461064 words/s, in_qsize 0, out_qsize 0\n",
            "INFO:gensim.models.word2vec:EPOCH 4 - PROGRESS: at 65.98% examples, 466477 words/s, in_qsize 0, out_qsize 0\n",
            "INFO:gensim.models.word2vec:EPOCH 4 - PROGRESS: at 72.45% examples, 461835 words/s, in_qsize 0, out_qsize 1\n",
            "INFO:gensim.models.word2vec:EPOCH 4 - PROGRESS: at 79.82% examples, 488495 words/s, in_qsize 0, out_qsize 0\n",
            "INFO:gensim.models.word2vec:EPOCH 4 - PROGRESS: at 86.68% examples, 508789 words/s, in_qsize 0, out_qsize 0\n",
            "INFO:gensim.models.word2vec:EPOCH 4 - PROGRESS: at 92.49% examples, 519885 words/s, in_qsize 0, out_qsize 0\n",
            "INFO:gensim.models.word2vec:EPOCH 4 - PROGRESS: at 99.44% examples, 533006 words/s, in_qsize 0, out_qsize 0\n",
            "INFO:gensim.models.word2vec:EPOCH 4: training on 9857087 raw words (7682393 effective words) took 14.4s, 533659 effective words/s\n",
            "INFO:gensim.models.word2vec:EPOCH 5 - PROGRESS: at 4.51% examples, 296884 words/s, in_qsize 0, out_qsize 0\n",
            "INFO:gensim.models.word2vec:EPOCH 5 - PROGRESS: at 11.48% examples, 378346 words/s, in_qsize 0, out_qsize 0\n",
            "INFO:gensim.models.word2vec:EPOCH 5 - PROGRESS: at 18.89% examples, 412841 words/s, in_qsize 0, out_qsize 0\n",
            "INFO:gensim.models.word2vec:EPOCH 5 - PROGRESS: at 23.97% examples, 389989 words/s, in_qsize 0, out_qsize 0\n",
            "INFO:gensim.models.word2vec:EPOCH 5 - PROGRESS: at 31.94% examples, 415912 words/s, in_qsize 0, out_qsize 0\n",
            "INFO:gensim.models.word2vec:EPOCH 5 - PROGRESS: at 38.57% examples, 418408 words/s, in_qsize 0, out_qsize 1\n",
            "INFO:gensim.models.word2vec:EPOCH 5 - PROGRESS: at 46.63% examples, 433880 words/s, in_qsize 0, out_qsize 0\n",
            "INFO:gensim.models.word2vec:EPOCH 5 - PROGRESS: at 53.03% examples, 431234 words/s, in_qsize 0, out_qsize 0\n",
            "INFO:gensim.models.word2vec:EPOCH 5 - PROGRESS: at 58.02% examples, 419629 words/s, in_qsize 0, out_qsize 0\n",
            "INFO:gensim.models.word2vec:EPOCH 5 - PROGRESS: at 66.44% examples, 432647 words/s, in_qsize 0, out_qsize 0\n",
            "INFO:gensim.models.word2vec:EPOCH 5 - PROGRESS: at 74.84% examples, 450755 words/s, in_qsize 0, out_qsize 0\n",
            "INFO:gensim.models.word2vec:EPOCH 5 - PROGRESS: at 80.81% examples, 466287 words/s, in_qsize 0, out_qsize 0\n",
            "INFO:gensim.models.word2vec:EPOCH 5 - PROGRESS: at 88.80% examples, 497320 words/s, in_qsize 0, out_qsize 0\n",
            "INFO:gensim.models.word2vec:EPOCH 5 - PROGRESS: at 97.10% examples, 524250 words/s, in_qsize 0, out_qsize 0\n",
            "INFO:gensim.models.word2vec:EPOCH 5: training on 9857087 raw words (7682851 effective words) took 14.4s, 532257 effective words/s\n",
            "INFO:gensim.models.word2vec:EPOCH 6 - PROGRESS: at 6.65% examples, 435377 words/s, in_qsize 0, out_qsize 0\n",
            "INFO:gensim.models.word2vec:EPOCH 6 - PROGRESS: at 15.70% examples, 515195 words/s, in_qsize 0, out_qsize 0\n",
            "INFO:gensim.models.word2vec:EPOCH 6 - PROGRESS: at 22.69% examples, 482174 words/s, in_qsize 0, out_qsize 0\n",
            "INFO:gensim.models.word2vec:EPOCH 6 - PROGRESS: at 31.49% examples, 504100 words/s, in_qsize 0, out_qsize 0\n",
            "INFO:gensim.models.word2vec:EPOCH 6 - PROGRESS: at 40.62% examples, 520942 words/s, in_qsize 0, out_qsize 0\n",
            "INFO:gensim.models.word2vec:EPOCH 6 - PROGRESS: at 47.66% examples, 511035 words/s, in_qsize 0, out_qsize 0\n",
            "INFO:gensim.models.word2vec:EPOCH 6 - PROGRESS: at 56.67% examples, 520780 words/s, in_qsize 0, out_qsize 0\n",
            "INFO:gensim.models.word2vec:EPOCH 6 - PROGRESS: at 63.71% examples, 513573 words/s, in_qsize 0, out_qsize 0\n",
            "INFO:gensim.models.word2vec:EPOCH 6 - PROGRESS: at 72.57% examples, 520475 words/s, in_qsize 0, out_qsize 0\n",
            "INFO:gensim.models.word2vec:EPOCH 6 - PROGRESS: at 80.57% examples, 552067 words/s, in_qsize 0, out_qsize 0\n",
            "INFO:gensim.models.word2vec:EPOCH 6 - PROGRESS: at 86.75% examples, 561802 words/s, in_qsize 0, out_qsize 0\n",
            "INFO:gensim.models.word2vec:EPOCH 6 - PROGRESS: at 94.66% examples, 586524 words/s, in_qsize 0, out_qsize 0\n",
            "INFO:gensim.models.word2vec:EPOCH 6: training on 9857087 raw words (7683407 effective words) took 12.8s, 600846 effective words/s\n",
            "INFO:gensim.models.word2vec:EPOCH 7 - PROGRESS: at 8.67% examples, 484990 words/s, in_qsize 0, out_qsize 1\n",
            "INFO:gensim.models.word2vec:EPOCH 7 - PROGRESS: at 17.87% examples, 537416 words/s, in_qsize 0, out_qsize 0\n",
            "INFO:gensim.models.word2vec:EPOCH 7 - PROGRESS: at 27.03% examples, 555148 words/s, in_qsize 0, out_qsize 0\n",
            "INFO:gensim.models.word2vec:EPOCH 7 - PROGRESS: at 34.22% examples, 533146 words/s, in_qsize 0, out_qsize 0\n",
            "INFO:gensim.models.word2vec:EPOCH 7 - PROGRESS: at 43.14% examples, 542187 words/s, in_qsize 0, out_qsize 0\n",
            "INFO:gensim.models.word2vec:EPOCH 7 - PROGRESS: at 50.29% examples, 529570 words/s, in_qsize 0, out_qsize 0\n",
            "INFO:gensim.models.word2vec:EPOCH 7 - PROGRESS: at 59.27% examples, 537355 words/s, in_qsize 0, out_qsize 0\n",
            "INFO:gensim.models.word2vec:EPOCH 7 - PROGRESS: at 66.44% examples, 528473 words/s, in_qsize 0, out_qsize 0\n",
            "INFO:gensim.models.word2vec:EPOCH 7 - PROGRESS: at 75.13% examples, 542226 words/s, in_qsize 0, out_qsize 0\n",
            "INFO:gensim.models.word2vec:EPOCH 7 - PROGRESS: at 83.05% examples, 572316 words/s, in_qsize 0, out_qsize 0\n",
            "INFO:gensim.models.word2vec:EPOCH 7 - PROGRESS: at 89.74% examples, 582621 words/s, in_qsize 0, out_qsize 0\n",
            "INFO:gensim.models.word2vec:EPOCH 7 - PROGRESS: at 97.50% examples, 601268 words/s, in_qsize 0, out_qsize 0\n",
            "INFO:gensim.models.word2vec:EPOCH 7: training on 9857087 raw words (7681758 effective words) took 12.6s, 607989 effective words/s\n",
            "INFO:gensim.models.word2vec:EPOCH 8 - PROGRESS: at 9.01% examples, 595366 words/s, in_qsize 0, out_qsize 0\n",
            "INFO:gensim.models.word2vec:EPOCH 8 - PROGRESS: at 15.93% examples, 521937 words/s, in_qsize 0, out_qsize 0\n",
            "INFO:gensim.models.word2vec:EPOCH 8 - PROGRESS: at 25.21% examples, 548186 words/s, in_qsize 0, out_qsize 0\n",
            "INFO:gensim.models.word2vec:EPOCH 8 - PROGRESS: at 32.05% examples, 522359 words/s, in_qsize 0, out_qsize 0\n",
            "INFO:gensim.models.word2vec:EPOCH 8 - PROGRESS: at 41.31% examples, 537877 words/s, in_qsize 0, out_qsize 0\n",
            "INFO:gensim.models.word2vec:EPOCH 8 - PROGRESS: at 49.28% examples, 525248 words/s, in_qsize 0, out_qsize 1\n",
            "INFO:gensim.models.word2vec:EPOCH 8 - PROGRESS: at 57.79% examples, 529922 words/s, in_qsize 0, out_qsize 0\n",
            "INFO:gensim.models.word2vec:EPOCH 8 - PROGRESS: at 66.33% examples, 533275 words/s, in_qsize 0, out_qsize 0\n",
            "INFO:gensim.models.word2vec:EPOCH 8 - PROGRESS: at 73.13% examples, 523740 words/s, in_qsize 0, out_qsize 0\n",
            "INFO:gensim.models.word2vec:EPOCH 8 - PROGRESS: at 81.03% examples, 556158 words/s, in_qsize 0, out_qsize 0\n",
            "INFO:gensim.models.word2vec:EPOCH 8 - PROGRESS: at 88.95% examples, 583856 words/s, in_qsize 0, out_qsize 0\n",
            "INFO:gensim.models.word2vec:EPOCH 8 - PROGRESS: at 95.34% examples, 591368 words/s, in_qsize 0, out_qsize 0\n",
            "INFO:gensim.models.word2vec:EPOCH 8: training on 9857087 raw words (7681614 effective words) took 12.7s, 603384 effective words/s\n",
            "INFO:gensim.models.word2vec:EPOCH 9 - PROGRESS: at 9.23% examples, 609389 words/s, in_qsize 0, out_qsize 0\n",
            "INFO:gensim.models.word2vec:EPOCH 9 - PROGRESS: at 16.16% examples, 530142 words/s, in_qsize 0, out_qsize 0\n",
            "INFO:gensim.models.word2vec:EPOCH 9 - PROGRESS: at 25.44% examples, 553200 words/s, in_qsize 0, out_qsize 0\n",
            "INFO:gensim.models.word2vec:EPOCH 9 - PROGRESS: at 33.77% examples, 533013 words/s, in_qsize 0, out_qsize 1\n",
            "INFO:gensim.models.word2vec:EPOCH 9 - PROGRESS: at 43.02% examples, 546990 words/s, in_qsize 0, out_qsize 0\n",
            "INFO:gensim.models.word2vec:EPOCH 9 - PROGRESS: at 52.12% examples, 554296 words/s, in_qsize 0, out_qsize 0\n",
            "INFO:gensim.models.word2vec:EPOCH 9 - PROGRESS: at 59.15% examples, 541039 words/s, in_qsize 0, out_qsize 0\n",
            "INFO:gensim.models.word2vec:EPOCH 9 - PROGRESS: at 68.36% examples, 548225 words/s, in_qsize 0, out_qsize 0\n",
            "INFO:gensim.models.word2vec:EPOCH 9 - PROGRESS: at 74.84% examples, 543414 words/s, in_qsize 0, out_qsize 0\n",
            "INFO:gensim.models.word2vec:EPOCH 9 - PROGRESS: at 82.68% examples, 572310 words/s, in_qsize 0, out_qsize 0\n",
            "INFO:gensim.models.word2vec:EPOCH 9 - PROGRESS: at 90.56% examples, 598553 words/s, in_qsize 1, out_qsize 0\n",
            "INFO:gensim.models.word2vec:EPOCH 9 - PROGRESS: at 98.89% examples, 620727 words/s, in_qsize 0, out_qsize 0\n",
            "INFO:gensim.models.word2vec:EPOCH 9: training on 9857087 raw words (7681390 effective words) took 12.3s, 623021 effective words/s\n",
            "INFO:gensim.models.word2vec:EPOCH 10 - PROGRESS: at 6.76% examples, 447220 words/s, in_qsize 0, out_qsize 0\n",
            "INFO:gensim.models.word2vec:EPOCH 10 - PROGRESS: at 15.93% examples, 523577 words/s, in_qsize 0, out_qsize 0\n",
            "INFO:gensim.models.word2vec:EPOCH 10 - PROGRESS: at 22.46% examples, 487462 words/s, in_qsize 0, out_qsize 0\n",
            "INFO:gensim.models.word2vec:EPOCH 10 - PROGRESS: at 31.37% examples, 510750 words/s, in_qsize 0, out_qsize 0\n",
            "INFO:gensim.models.word2vec:EPOCH 10 - PROGRESS: at 38.34% examples, 499439 words/s, in_qsize 0, out_qsize 0\n",
            "INFO:gensim.models.word2vec:EPOCH 10 - PROGRESS: at 47.54% examples, 516055 words/s, in_qsize 0, out_qsize 0\n",
            "INFO:gensim.models.word2vec:EPOCH 10 - PROGRESS: at 56.44% examples, 509952 words/s, in_qsize 0, out_qsize 1\n",
            "INFO:gensim.models.word2vec:EPOCH 10 - PROGRESS: at 64.51% examples, 511491 words/s, in_qsize 0, out_qsize 0\n",
            "INFO:gensim.models.word2vec:EPOCH 10 - PROGRESS: at 71.88% examples, 508615 words/s, in_qsize 0, out_qsize 0\n",
            "INFO:gensim.models.word2vec:EPOCH 10 - PROGRESS: at 77.93% examples, 516729 words/s, in_qsize 0, out_qsize 0\n",
            "INFO:gensim.models.word2vec:EPOCH 10 - PROGRESS: at 84.03% examples, 530301 words/s, in_qsize 0, out_qsize 0\n",
            "INFO:gensim.models.word2vec:EPOCH 10 - PROGRESS: at 91.83% examples, 557416 words/s, in_qsize 0, out_qsize 0\n",
            "INFO:gensim.models.word2vec:EPOCH 10: training on 9857087 raw words (7681927 effective words) took 13.2s, 580025 effective words/s\n",
            "INFO:gensim.models.word2vec:EPOCH 11 - PROGRESS: at 6.99% examples, 458017 words/s, in_qsize 0, out_qsize 0\n",
            "INFO:gensim.models.word2vec:EPOCH 11 - PROGRESS: at 16.04% examples, 524951 words/s, in_qsize 0, out_qsize 0\n",
            "INFO:gensim.models.word2vec:EPOCH 11 - PROGRESS: at 23.16% examples, 501640 words/s, in_qsize 0, out_qsize 0\n",
            "INFO:gensim.models.word2vec:EPOCH 11 - PROGRESS: at 31.94% examples, 518463 words/s, in_qsize 0, out_qsize 0\n",
            "INFO:gensim.models.word2vec:EPOCH 11 - PROGRESS: at 40.50% examples, 509474 words/s, in_qsize 0, out_qsize 0\n",
            "INFO:gensim.models.word2vec:EPOCH 11 - PROGRESS: at 48.70% examples, 512978 words/s, in_qsize 0, out_qsize 0\n",
            "INFO:gensim.models.word2vec:EPOCH 11 - PROGRESS: at 57.34% examples, 520309 words/s, in_qsize 0, out_qsize 0\n",
            "INFO:gensim.models.word2vec:EPOCH 11 - PROGRESS: at 62.79% examples, 499983 words/s, in_qsize 0, out_qsize 0\n",
            "INFO:gensim.models.word2vec:EPOCH 11 - PROGRESS: at 70.62% examples, 501107 words/s, in_qsize 0, out_qsize 0\n",
            "INFO:gensim.models.word2vec:EPOCH 11 - PROGRESS: at 78.14% examples, 520453 words/s, in_qsize 0, out_qsize 1\n",
            "INFO:gensim.models.word2vec:EPOCH 11 - PROGRESS: at 84.03% examples, 531705 words/s, in_qsize 0, out_qsize 0\n",
            "INFO:gensim.models.word2vec:EPOCH 11 - PROGRESS: at 91.83% examples, 558926 words/s, in_qsize 0, out_qsize 0\n",
            "INFO:gensim.models.word2vec:EPOCH 11: training on 9857087 raw words (7683054 effective words) took 13.2s, 581988 effective words/s\n",
            "INFO:gensim.models.word2vec:EPOCH 12 - PROGRESS: at 6.99% examples, 461880 words/s, in_qsize 0, out_qsize 0\n",
            "INFO:gensim.models.word2vec:EPOCH 12 - PROGRESS: at 15.81% examples, 522044 words/s, in_qsize 0, out_qsize 0\n",
            "INFO:gensim.models.word2vec:EPOCH 12 - PROGRESS: at 24.77% examples, 512049 words/s, in_qsize 0, out_qsize 0\n",
            "INFO:gensim.models.word2vec:EPOCH 12 - PROGRESS: at 33.88% examples, 531810 words/s, in_qsize 0, out_qsize 0\n",
            "INFO:gensim.models.word2vec:EPOCH 12 - PROGRESS: at 42.45% examples, 519449 words/s, in_qsize 1, out_qsize 0\n",
            "INFO:gensim.models.word2vec:EPOCH 12 - PROGRESS: at 50.76% examples, 523380 words/s, in_qsize 0, out_qsize 0\n",
            "INFO:gensim.models.word2vec:EPOCH 12 - PROGRESS: at 59.04% examples, 525773 words/s, in_qsize 0, out_qsize 0\n",
            "INFO:gensim.models.word2vec:EPOCH 12 - PROGRESS: at 65.52% examples, 513579 words/s, in_qsize 0, out_qsize 0\n",
            "INFO:gensim.models.word2vec:EPOCH 12 - PROGRESS: at 73.63% examples, 516944 words/s, in_qsize 0, out_qsize 0\n",
            "INFO:gensim.models.word2vec:EPOCH 12 - PROGRESS: at 81.58% examples, 550278 words/s, in_qsize 0, out_qsize 0\n",
            "INFO:gensim.models.word2vec:EPOCH 12 - PROGRESS: at 87.71% examples, 559278 words/s, in_qsize 0, out_qsize 0\n",
            "INFO:gensim.models.word2vec:EPOCH 12 - PROGRESS: at 95.76% examples, 584374 words/s, in_qsize 0, out_qsize 0\n",
            "INFO:gensim.models.word2vec:EPOCH 12: training on 9857087 raw words (7682520 effective words) took 12.9s, 596098 effective words/s\n",
            "INFO:gensim.models.word2vec:EPOCH 13 - PROGRESS: at 7.21% examples, 476787 words/s, in_qsize 0, out_qsize 1\n",
            "INFO:gensim.models.word2vec:EPOCH 13 - PROGRESS: at 15.70% examples, 516960 words/s, in_qsize 0, out_qsize 0\n",
            "INFO:gensim.models.word2vec:EPOCH 13 - PROGRESS: at 24.99% examples, 544405 words/s, in_qsize 0, out_qsize 0\n",
            "INFO:gensim.models.word2vec:EPOCH 13 - PROGRESS: at 32.05% examples, 522302 words/s, in_qsize 1, out_qsize 0\n",
            "INFO:gensim.models.word2vec:EPOCH 13 - PROGRESS: at 41.42% examples, 538825 words/s, in_qsize 0, out_qsize 0\n",
            "INFO:gensim.models.word2vec:EPOCH 13 - PROGRESS: at 47.54% examples, 514951 words/s, in_qsize 0, out_qsize 0\n",
            "INFO:gensim.models.word2vec:EPOCH 13 - PROGRESS: at 56.44% examples, 523354 words/s, in_qsize 1, out_qsize 0\n",
            "INFO:gensim.models.word2vec:EPOCH 13 - PROGRESS: at 63.60% examples, 514876 words/s, in_qsize 0, out_qsize 1\n",
            "INFO:gensim.models.word2vec:EPOCH 13 - PROGRESS: at 71.76% examples, 516835 words/s, in_qsize 0, out_qsize 0\n",
            "INFO:gensim.models.word2vec:EPOCH 13 - PROGRESS: at 79.45% examples, 542303 words/s, in_qsize 0, out_qsize 0\n",
            "INFO:gensim.models.word2vec:EPOCH 13 - PROGRESS: at 87.16% examples, 567271 words/s, in_qsize 0, out_qsize 0\n",
            "INFO:gensim.models.word2vec:EPOCH 13 - PROGRESS: at 91.83% examples, 564724 words/s, in_qsize 0, out_qsize 0\n",
            "INFO:gensim.models.word2vec:EPOCH 13: training on 9857087 raw words (7681941 effective words) took 13.1s, 587117 effective words/s\n",
            "INFO:gensim.models.word2vec:EPOCH 14 - PROGRESS: at 9.12% examples, 599434 words/s, in_qsize 0, out_qsize 0\n",
            "INFO:gensim.models.word2vec:EPOCH 14 - PROGRESS: at 15.93% examples, 522392 words/s, in_qsize 0, out_qsize 0\n",
            "INFO:gensim.models.word2vec:EPOCH 14 - PROGRESS: at 24.99% examples, 542353 words/s, in_qsize 0, out_qsize 0\n",
            "INFO:gensim.models.word2vec:EPOCH 14 - PROGRESS: at 31.94% examples, 519729 words/s, in_qsize 0, out_qsize 0\n",
            "INFO:gensim.models.word2vec:EPOCH 14 - PROGRESS: at 40.73% examples, 529450 words/s, in_qsize 0, out_qsize 0\n",
            "INFO:gensim.models.word2vec:EPOCH 14 - PROGRESS: at 48.81% examples, 518671 words/s, in_qsize 0, out_qsize 1\n",
            "INFO:gensim.models.word2vec:EPOCH 14 - PROGRESS: at 57.45% examples, 525373 words/s, in_qsize 0, out_qsize 0\n",
            "INFO:gensim.models.word2vec:EPOCH 14 - PROGRESS: at 65.75% examples, 527732 words/s, in_qsize 0, out_qsize 0\n",
            "INFO:gensim.models.word2vec:EPOCH 14 - PROGRESS: at 72.11% examples, 514930 words/s, in_qsize 0, out_qsize 0\n",
            "INFO:gensim.models.word2vec:EPOCH 14 - PROGRESS: at 80.06% examples, 544280 words/s, in_qsize 0, out_qsize 0\n",
            "INFO:gensim.models.word2vec:EPOCH 14 - PROGRESS: at 88.05% examples, 572799 words/s, in_qsize 0, out_qsize 0\n",
            "INFO:gensim.models.word2vec:EPOCH 14 - PROGRESS: at 94.45% examples, 581486 words/s, in_qsize 0, out_qsize 1\n",
            "INFO:gensim.models.word2vec:EPOCH 14: training on 9857087 raw words (7683316 effective words) took 12.9s, 593911 effective words/s\n",
            "INFO:gensim.models.word2vec:EPOCH 15 - PROGRESS: at 9.12% examples, 602078 words/s, in_qsize 0, out_qsize 0\n",
            "INFO:gensim.models.word2vec:EPOCH 15 - PROGRESS: at 16.27% examples, 534274 words/s, in_qsize 0, out_qsize 0\n",
            "INFO:gensim.models.word2vec:EPOCH 15 - PROGRESS: at 25.32% examples, 550593 words/s, in_qsize 0, out_qsize 0\n",
            "INFO:gensim.models.word2vec:EPOCH 15 - PROGRESS: at 34.22% examples, 528899 words/s, in_qsize 0, out_qsize 1\n",
            "INFO:gensim.models.word2vec:EPOCH 15 - PROGRESS: at 43.25% examples, 539325 words/s, in_qsize 0, out_qsize 0\n",
            "INFO:gensim.models.word2vec:EPOCH 15 - PROGRESS: at 52.24% examples, 547030 words/s, in_qsize 0, out_qsize 0\n",
            "INFO:gensim.models.word2vec:EPOCH 15 - PROGRESS: at 59.27% examples, 535239 words/s, in_qsize 0, out_qsize 0\n",
            "INFO:gensim.models.word2vec:EPOCH 15 - PROGRESS: at 68.36% examples, 542121 words/s, in_qsize 0, out_qsize 0\n",
            "INFO:gensim.models.word2vec:EPOCH 15 - PROGRESS: at 74.94% examples, 539054 words/s, in_qsize 0, out_qsize 0\n",
            "INFO:gensim.models.word2vec:EPOCH 15 - PROGRESS: at 82.83% examples, 568883 words/s, in_qsize 0, out_qsize 0\n",
            "INFO:gensim.models.word2vec:EPOCH 15 - PROGRESS: at 90.70% examples, 595040 words/s, in_qsize 0, out_qsize 0\n",
            "INFO:gensim.models.word2vec:EPOCH 15 - PROGRESS: at 99.13% examples, 617858 words/s, in_qsize 0, out_qsize 0\n",
            "INFO:gensim.models.word2vec:EPOCH 15: training on 9857087 raw words (7681730 effective words) took 12.4s, 620097 effective words/s\n",
            "INFO:gensim.models.word2vec:EPOCH 16 - PROGRESS: at 6.65% examples, 434736 words/s, in_qsize 0, out_qsize 0\n",
            "INFO:gensim.models.word2vec:EPOCH 16 - PROGRESS: at 15.47% examples, 507690 words/s, in_qsize 0, out_qsize 0\n",
            "INFO:gensim.models.word2vec:EPOCH 16 - PROGRESS: at 21.77% examples, 474306 words/s, in_qsize 0, out_qsize 0\n",
            "INFO:gensim.models.word2vec:EPOCH 16 - PROGRESS: at 30.91% examples, 503900 words/s, in_qsize 0, out_qsize 0\n",
            "INFO:gensim.models.word2vec:EPOCH 16 - PROGRESS: at 38.45% examples, 496282 words/s, in_qsize 0, out_qsize 0\n",
            "INFO:gensim.models.word2vec:EPOCH 16 - PROGRESS: at 47.66% examples, 512912 words/s, in_qsize 0, out_qsize 0\n",
            "INFO:gensim.models.word2vec:EPOCH 16 - PROGRESS: at 56.79% examples, 510163 words/s, in_qsize 0, out_qsize 0\n",
            "INFO:gensim.models.word2vec:EPOCH 16 - PROGRESS: at 65.87% examples, 519532 words/s, in_qsize 0, out_qsize 0\n",
            "INFO:gensim.models.word2vec:EPOCH 16 - PROGRESS: at 74.66% examples, 533768 words/s, in_qsize 0, out_qsize 0\n",
            "INFO:gensim.models.word2vec:EPOCH 16 - PROGRESS: at 80.65% examples, 543343 words/s, in_qsize 0, out_qsize 0\n",
            "INFO:gensim.models.word2vec:EPOCH 16 - PROGRESS: at 88.60% examples, 571485 words/s, in_qsize 0, out_qsize 0\n",
            "INFO:gensim.models.word2vec:EPOCH 16 - PROGRESS: at 96.80% examples, 595454 words/s, in_qsize 0, out_qsize 0\n",
            "INFO:gensim.models.word2vec:EPOCH 16: training on 9857087 raw words (7682488 effective words) took 12.7s, 603904 effective words/s\n",
            "INFO:gensim.models.word2vec:EPOCH 17 - PROGRESS: at 7.10% examples, 466955 words/s, in_qsize 0, out_qsize 0\n",
            "INFO:gensim.models.word2vec:EPOCH 17 - PROGRESS: at 16.27% examples, 535374 words/s, in_qsize 0, out_qsize 0\n",
            "INFO:gensim.models.word2vec:EPOCH 17 - PROGRESS: at 23.40% examples, 508801 words/s, in_qsize 0, out_qsize 0\n",
            "INFO:gensim.models.word2vec:EPOCH 17 - PROGRESS: at 32.17% examples, 524734 words/s, in_qsize 0, out_qsize 0\n",
            "INFO:gensim.models.word2vec:EPOCH 17 - PROGRESS: at 40.96% examples, 513792 words/s, in_qsize 0, out_qsize 1\n",
            "INFO:gensim.models.word2vec:EPOCH 17 - PROGRESS: at 49.27% examples, 518243 words/s, in_qsize 0, out_qsize 0\n",
            "INFO:gensim.models.word2vec:EPOCH 17 - PROGRESS: at 58.02% examples, 525760 words/s, in_qsize 0, out_qsize 0\n",
            "INFO:gensim.models.word2vec:EPOCH 17 - PROGRESS: at 64.84% examples, 515986 words/s, in_qsize 1, out_qsize 0\n",
            "INFO:gensim.models.word2vec:EPOCH 17 - PROGRESS: at 73.69% examples, 524721 words/s, in_qsize 0, out_qsize 0\n",
            "INFO:gensim.models.word2vec:EPOCH 17 - PROGRESS: at 81.04% examples, 542914 words/s, in_qsize 0, out_qsize 1\n",
            "INFO:gensim.models.word2vec:EPOCH 17 - PROGRESS: at 88.88% examples, 570277 words/s, in_qsize 0, out_qsize 0\n",
            "INFO:gensim.models.word2vec:EPOCH 17 - PROGRESS: at 97.18% examples, 594844 words/s, in_qsize 0, out_qsize 0\n",
            "INFO:gensim.models.word2vec:EPOCH 17: training on 9857087 raw words (7683652 effective words) took 12.8s, 602214 effective words/s\n",
            "INFO:gensim.models.word2vec:EPOCH 18 - PROGRESS: at 6.20% examples, 390431 words/s, in_qsize 0, out_qsize 1\n",
            "INFO:gensim.models.word2vec:EPOCH 18 - PROGRESS: at 14.80% examples, 472490 words/s, in_qsize 0, out_qsize 0\n",
            "INFO:gensim.models.word2vec:EPOCH 18 - PROGRESS: at 23.27% examples, 497810 words/s, in_qsize 0, out_qsize 0\n",
            "INFO:gensim.models.word2vec:EPOCH 18 - PROGRESS: at 30.12% examples, 485510 words/s, in_qsize 0, out_qsize 0\n",
            "INFO:gensim.models.word2vec:EPOCH 18 - PROGRESS: at 39.36% examples, 506949 words/s, in_qsize 0, out_qsize 0\n",
            "INFO:gensim.models.word2vec:EPOCH 18 - PROGRESS: at 46.30% examples, 497960 words/s, in_qsize 0, out_qsize 0\n",
            "INFO:gensim.models.word2vec:EPOCH 18 - PROGRESS: at 55.30% examples, 510119 words/s, in_qsize 0, out_qsize 0\n",
            "INFO:gensim.models.word2vec:EPOCH 18 - PROGRESS: at 62.68% examples, 503741 words/s, in_qsize 0, out_qsize 1\n",
            "INFO:gensim.models.word2vec:EPOCH 18 - PROGRESS: at 71.65% examples, 512949 words/s, in_qsize 0, out_qsize 0\n",
            "INFO:gensim.models.word2vec:EPOCH 18 - PROGRESS: at 79.82% examples, 542897 words/s, in_qsize 0, out_qsize 0\n",
            "INFO:gensim.models.word2vec:EPOCH 18 - PROGRESS: at 86.28% examples, 555644 words/s, in_qsize 0, out_qsize 1\n",
            "INFO:gensim.models.word2vec:EPOCH 18 - PROGRESS: at 94.16% examples, 580204 words/s, in_qsize 0, out_qsize 0\n",
            "INFO:gensim.models.word2vec:EPOCH 18: training on 9857087 raw words (7680544 effective words) took 12.9s, 596440 effective words/s\n",
            "INFO:gensim.models.word2vec:EPOCH 19 - PROGRESS: at 8.90% examples, 588067 words/s, in_qsize 0, out_qsize 0\n",
            "INFO:gensim.models.word2vec:EPOCH 19 - PROGRESS: at 15.58% examples, 513512 words/s, in_qsize 0, out_qsize 0\n",
            "INFO:gensim.models.word2vec:EPOCH 19 - PROGRESS: at 24.65% examples, 537219 words/s, in_qsize 0, out_qsize 0\n",
            "INFO:gensim.models.word2vec:EPOCH 19 - PROGRESS: at 31.71% examples, 517994 words/s, in_qsize 0, out_qsize 0\n",
            "INFO:gensim.models.word2vec:EPOCH 19 - PROGRESS: at 40.73% examples, 531462 words/s, in_qsize 0, out_qsize 0\n",
            "INFO:gensim.models.word2vec:EPOCH 19 - PROGRESS: at 47.44% examples, 516047 words/s, in_qsize 0, out_qsize 0\n",
            "INFO:gensim.models.word2vec:EPOCH 19 - PROGRESS: at 55.99% examples, 519475 words/s, in_qsize 0, out_qsize 0\n",
            "INFO:gensim.models.word2vec:EPOCH 19 - PROGRESS: at 62.79% examples, 509991 words/s, in_qsize 0, out_qsize 0\n",
            "INFO:gensim.models.word2vec:EPOCH 19 - PROGRESS: at 67.81% examples, 489776 words/s, in_qsize 0, out_qsize 0\n",
            "INFO:gensim.models.word2vec:EPOCH 19 - PROGRESS: at 74.94% examples, 495699 words/s, in_qsize 0, out_qsize 0\n",
            "INFO:gensim.models.word2vec:EPOCH 19 - PROGRESS: at 82.52% examples, 524254 words/s, in_qsize 0, out_qsize 0\n",
            "INFO:gensim.models.word2vec:EPOCH 19 - PROGRESS: at 89.16% examples, 540971 words/s, in_qsize 0, out_qsize 0\n",
            "INFO:gensim.models.word2vec:EPOCH 19 - PROGRESS: at 93.53% examples, 535794 words/s, in_qsize 0, out_qsize 0\n",
            "INFO:gensim.models.word2vec:EPOCH 19: training on 9857087 raw words (7682284 effective words) took 14.1s, 545209 effective words/s\n",
            "INFO:gensim.models.word2vec:EPOCH 20 - PROGRESS: at 8.22% examples, 540852 words/s, in_qsize 0, out_qsize 0\n",
            "INFO:gensim.models.word2vec:EPOCH 20 - PROGRESS: at 15.03% examples, 493714 words/s, in_qsize 0, out_qsize 0\n",
            "INFO:gensim.models.word2vec:EPOCH 20 - PROGRESS: at 24.18% examples, 526756 words/s, in_qsize 0, out_qsize 0\n",
            "INFO:gensim.models.word2vec:EPOCH 20 - PROGRESS: at 31.26% examples, 510077 words/s, in_qsize 0, out_qsize 0\n",
            "INFO:gensim.models.word2vec:EPOCH 20 - PROGRESS: at 40.15% examples, 524160 words/s, in_qsize 0, out_qsize 0\n",
            "INFO:gensim.models.word2vec:EPOCH 20 - PROGRESS: at 49.04% examples, 533454 words/s, in_qsize 0, out_qsize 0\n",
            "INFO:gensim.models.word2vec:EPOCH 20 - PROGRESS: at 55.88% examples, 520958 words/s, in_qsize 1, out_qsize 0\n",
            "INFO:gensim.models.word2vec:EPOCH 20 - PROGRESS: at 64.84% examples, 528723 words/s, in_qsize 0, out_qsize 0\n",
            "INFO:gensim.models.word2vec:EPOCH 20 - PROGRESS: at 71.76% examples, 520299 words/s, in_qsize 0, out_qsize 0\n",
            "INFO:gensim.models.word2vec:EPOCH 20 - PROGRESS: at 79.82% examples, 548936 words/s, in_qsize 0, out_qsize 0\n",
            "INFO:gensim.models.word2vec:EPOCH 20 - PROGRESS: at 87.59% examples, 574336 words/s, in_qsize 0, out_qsize 0\n",
            "INFO:gensim.models.word2vec:EPOCH 20 - PROGRESS: at 94.40% examples, 583426 words/s, in_qsize 0, out_qsize 1\n",
            "INFO:gensim.models.word2vec:EPOCH 20: training on 9857087 raw words (7681283 effective words) took 12.8s, 599135 effective words/s\n",
            "INFO:gensim.models.word2vec:EPOCH 21 - PROGRESS: at 9.01% examples, 592121 words/s, in_qsize 2, out_qsize 0\n",
            "INFO:gensim.models.word2vec:EPOCH 21 - PROGRESS: at 16.04% examples, 527287 words/s, in_qsize 1, out_qsize 0\n",
            "INFO:gensim.models.word2vec:EPOCH 21 - PROGRESS: at 24.77% examples, 539287 words/s, in_qsize 0, out_qsize 0\n",
            "INFO:gensim.models.word2vec:EPOCH 21 - PROGRESS: at 32.97% examples, 518389 words/s, in_qsize 0, out_qsize 0\n",
            "INFO:gensim.models.word2vec:EPOCH 21 - PROGRESS: at 42.00% examples, 531308 words/s, in_qsize 0, out_qsize 0\n",
            "INFO:gensim.models.word2vec:EPOCH 21 - PROGRESS: at 50.64% examples, 536976 words/s, in_qsize 0, out_qsize 0\n",
            "INFO:gensim.models.word2vec:EPOCH 21 - PROGRESS: at 57.68% examples, 525917 words/s, in_qsize 0, out_qsize 0\n",
            "INFO:gensim.models.word2vec:EPOCH 21 - PROGRESS: at 66.78% examples, 534499 words/s, in_qsize 0, out_qsize 0\n",
            "INFO:gensim.models.word2vec:EPOCH 21 - PROGRESS: at 73.82% examples, 529865 words/s, in_qsize 0, out_qsize 0\n",
            "INFO:gensim.models.word2vec:EPOCH 21 - PROGRESS: at 81.58% examples, 559828 words/s, in_qsize 0, out_qsize 0\n",
            "INFO:gensim.models.word2vec:EPOCH 21 - PROGRESS: at 89.59% examples, 587486 words/s, in_qsize 0, out_qsize 0\n",
            "INFO:gensim.models.word2vec:EPOCH 21 - PROGRESS: at 95.84% examples, 593469 words/s, in_qsize 0, out_qsize 1\n",
            "INFO:gensim.models.word2vec:EPOCH 21: training on 9857087 raw words (7682259 effective words) took 12.7s, 604850 effective words/s\n",
            "INFO:gensim.models.word2vec:EPOCH 22 - PROGRESS: at 9.12% examples, 602346 words/s, in_qsize 0, out_qsize 0\n",
            "INFO:gensim.models.word2vec:EPOCH 22 - PROGRESS: at 16.27% examples, 533161 words/s, in_qsize 0, out_qsize 0\n",
            "INFO:gensim.models.word2vec:EPOCH 22 - PROGRESS: at 25.56% examples, 553815 words/s, in_qsize 0, out_qsize 0\n",
            "INFO:gensim.models.word2vec:EPOCH 22 - PROGRESS: at 34.45% examples, 534353 words/s, in_qsize 0, out_qsize 1\n",
            "INFO:gensim.models.word2vec:EPOCH 22 - PROGRESS: at 43.47% examples, 544515 words/s, in_qsize 0, out_qsize 0\n",
            "INFO:gensim.models.word2vec:EPOCH 22 - PROGRESS: at 52.57% examples, 552408 words/s, in_qsize 0, out_qsize 0\n",
            "INFO:gensim.models.word2vec:EPOCH 22 - PROGRESS: at 59.49% examples, 538689 words/s, in_qsize 0, out_qsize 0\n",
            "INFO:gensim.models.word2vec:EPOCH 22 - PROGRESS: at 68.58% examples, 545042 words/s, in_qsize 0, out_qsize 0\n",
            "INFO:gensim.models.word2vec:EPOCH 22 - PROGRESS: at 75.43% examples, 544622 words/s, in_qsize 0, out_qsize 0\n",
            "INFO:gensim.models.word2vec:EPOCH 22 - PROGRESS: at 82.83% examples, 569553 words/s, in_qsize 1, out_qsize 0\n",
            "INFO:gensim.models.word2vec:EPOCH 22 - PROGRESS: at 90.50% examples, 593200 words/s, in_qsize 0, out_qsize 0\n",
            "INFO:gensim.models.word2vec:EPOCH 22 - PROGRESS: at 99.05% examples, 617200 words/s, in_qsize 0, out_qsize 0\n",
            "INFO:gensim.models.word2vec:EPOCH 22: training on 9857087 raw words (7681666 effective words) took 12.6s, 608197 effective words/s\n",
            "INFO:gensim.models.word2vec:EPOCH 23 - PROGRESS: at 9.12% examples, 598434 words/s, in_qsize 1, out_qsize 0\n",
            "INFO:gensim.models.word2vec:EPOCH 23 - PROGRESS: at 18.10% examples, 592800 words/s, in_qsize 0, out_qsize 0\n",
            "INFO:gensim.models.word2vec:EPOCH 23 - PROGRESS: at 25.22% examples, 545751 words/s, in_qsize 0, out_qsize 1\n",
            "INFO:gensim.models.word2vec:EPOCH 23 - PROGRESS: at 34.46% examples, 559951 words/s, in_qsize 0, out_qsize 0\n",
            "INFO:gensim.models.word2vec:EPOCH 23 - PROGRESS: at 41.19% examples, 535473 words/s, in_qsize 0, out_qsize 1\n",
            "INFO:gensim.models.word2vec:EPOCH 23 - PROGRESS: at 49.61% examples, 537545 words/s, in_qsize 0, out_qsize 0\n",
            "INFO:gensim.models.word2vec:EPOCH 23 - PROGRESS: at 57.01% examples, 526699 words/s, in_qsize 0, out_qsize 1\n",
            "INFO:gensim.models.word2vec:EPOCH 23 - PROGRESS: at 65.64% examples, 530813 words/s, in_qsize 0, out_qsize 0\n",
            "INFO:gensim.models.word2vec:EPOCH 23 - PROGRESS: at 73.50% examples, 529982 words/s, in_qsize 0, out_qsize 0\n",
            "INFO:gensim.models.word2vec:EPOCH 23 - PROGRESS: at 78.46% examples, 531284 words/s, in_qsize 0, out_qsize 0\n",
            "INFO:gensim.models.word2vec:EPOCH 23 - PROGRESS: at 84.99% examples, 547783 words/s, in_qsize 0, out_qsize 0\n",
            "INFO:gensim.models.word2vec:EPOCH 23 - PROGRESS: at 92.20% examples, 568288 words/s, in_qsize 0, out_qsize 0\n",
            "INFO:gensim.models.word2vec:EPOCH 23: training on 9857087 raw words (7681013 effective words) took 13.0s, 589163 effective words/s\n",
            "INFO:gensim.models.word2vec:EPOCH 24 - PROGRESS: at 6.43% examples, 421335 words/s, in_qsize 0, out_qsize 0\n",
            "INFO:gensim.models.word2vec:EPOCH 24 - PROGRESS: at 15.47% examples, 507092 words/s, in_qsize 0, out_qsize 0\n",
            "INFO:gensim.models.word2vec:EPOCH 24 - PROGRESS: at 22.35% examples, 485050 words/s, in_qsize 0, out_qsize 1\n",
            "INFO:gensim.models.word2vec:EPOCH 24 - PROGRESS: at 31.15% examples, 506496 words/s, in_qsize 0, out_qsize 0\n",
            "INFO:gensim.models.word2vec:EPOCH 24 - PROGRESS: at 39.59% examples, 514966 words/s, in_qsize 0, out_qsize 0\n",
            "INFO:gensim.models.word2vec:EPOCH 24 - PROGRESS: at 46.18% examples, 501279 words/s, in_qsize 0, out_qsize 0\n",
            "INFO:gensim.models.word2vec:EPOCH 24 - PROGRESS: at 54.85% examples, 510126 words/s, in_qsize 0, out_qsize 0\n",
            "INFO:gensim.models.word2vec:EPOCH 24 - PROGRESS: at 61.66% examples, 502091 words/s, in_qsize 0, out_qsize 0\n",
            "INFO:gensim.models.word2vec:EPOCH 24 - PROGRESS: at 70.28% examples, 508521 words/s, in_qsize 0, out_qsize 0\n",
            "INFO:gensim.models.word2vec:EPOCH 24 - PROGRESS: at 78.14% examples, 529841 words/s, in_qsize 0, out_qsize 0\n",
            "INFO:gensim.models.word2vec:EPOCH 24 - PROGRESS: at 83.95% examples, 539574 words/s, in_qsize 0, out_qsize 0\n",
            "INFO:gensim.models.word2vec:EPOCH 24 - PROGRESS: at 91.53% examples, 564228 words/s, in_qsize 0, out_qsize 0\n",
            "INFO:gensim.models.word2vec:EPOCH 24: training on 9857087 raw words (7682117 effective words) took 13.1s, 587804 effective words/s\n",
            "INFO:gensim.models.word2vec:EPOCH 25 - PROGRESS: at 6.65% examples, 437371 words/s, in_qsize 0, out_qsize 0\n",
            "INFO:gensim.models.word2vec:EPOCH 25 - PROGRESS: at 14.34% examples, 469994 words/s, in_qsize 0, out_qsize 0\n",
            "INFO:gensim.models.word2vec:EPOCH 25 - PROGRESS: at 21.77% examples, 472700 words/s, in_qsize 0, out_qsize 0\n",
            "INFO:gensim.models.word2vec:EPOCH 25 - PROGRESS: at 27.15% examples, 441667 words/s, in_qsize 0, out_qsize 0\n",
            "INFO:gensim.models.word2vec:EPOCH 25 - PROGRESS: at 34.69% examples, 451091 words/s, in_qsize 0, out_qsize 0\n",
            "INFO:gensim.models.word2vec:EPOCH 25 - PROGRESS: at 42.22% examples, 456907 words/s, in_qsize 0, out_qsize 0\n",
            "INFO:gensim.models.word2vec:EPOCH 25 - PROGRESS: at 47.54% examples, 440744 words/s, in_qsize 0, out_qsize 0\n",
            "INFO:gensim.models.word2vec:EPOCH 25 - PROGRESS: at 55.07% examples, 446699 words/s, in_qsize 0, out_qsize 0\n",
            "INFO:gensim.models.word2vec:EPOCH 25 - PROGRESS: at 61.43% examples, 436521 words/s, in_qsize 0, out_qsize 1\n",
            "INFO:gensim.models.word2vec:EPOCH 25 - PROGRESS: at 68.81% examples, 441122 words/s, in_qsize 0, out_qsize 0\n",
            "INFO:gensim.models.word2vec:EPOCH 25 - PROGRESS: at 75.83% examples, 451907 words/s, in_qsize 0, out_qsize 0\n",
            "INFO:gensim.models.word2vec:EPOCH 25 - PROGRESS: at 82.36% examples, 473403 words/s, in_qsize 0, out_qsize 0\n",
            "INFO:gensim.models.word2vec:EPOCH 25 - PROGRESS: at 86.07% examples, 468351 words/s, in_qsize 0, out_qsize 0\n",
            "INFO:gensim.models.word2vec:EPOCH 25 - PROGRESS: at 92.20% examples, 483034 words/s, in_qsize 0, out_qsize 0\n",
            "INFO:gensim.models.word2vec:EPOCH 25 - PROGRESS: at 99.05% examples, 496942 words/s, in_qsize 0, out_qsize 0\n",
            "INFO:gensim.models.word2vec:EPOCH 25: training on 9857087 raw words (7681391 effective words) took 15.4s, 499042 effective words/s\n",
            "INFO:gensim.models.word2vec:EPOCH 26 - PROGRESS: at 7.32% examples, 483215 words/s, in_qsize 0, out_qsize 0\n",
            "INFO:gensim.models.word2vec:EPOCH 26 - PROGRESS: at 12.39% examples, 408034 words/s, in_qsize 0, out_qsize 0\n",
            "INFO:gensim.models.word2vec:EPOCH 26 - PROGRESS: at 19.58% examples, 427494 words/s, in_qsize 0, out_qsize 0\n",
            "INFO:gensim.models.word2vec:EPOCH 26 - PROGRESS: at 26.82% examples, 437783 words/s, in_qsize 0, out_qsize 0\n",
            "INFO:gensim.models.word2vec:EPOCH 26 - PROGRESS: at 31.83% examples, 414948 words/s, in_qsize 0, out_qsize 0\n",
            "INFO:gensim.models.word2vec:EPOCH 26 - PROGRESS: at 39.02% examples, 423737 words/s, in_qsize 0, out_qsize 0\n",
            "INFO:gensim.models.word2vec:EPOCH 26 - PROGRESS: at 45.84% examples, 411083 words/s, in_qsize 0, out_qsize 0\n",
            "INFO:gensim.models.word2vec:EPOCH 26 - PROGRESS: at 52.80% examples, 415650 words/s, in_qsize 0, out_qsize 0\n",
            "INFO:gensim.models.word2vec:EPOCH 26 - PROGRESS: at 59.95% examples, 421235 words/s, in_qsize 0, out_qsize 0\n",
            "INFO:gensim.models.word2vec:EPOCH 26 - PROGRESS: at 64.62% examples, 409686 words/s, in_qsize 0, out_qsize 0\n",
            "INFO:gensim.models.word2vec:EPOCH 26 - PROGRESS: at 71.42% examples, 412785 words/s, in_qsize 0, out_qsize 0\n",
            "INFO:gensim.models.word2vec:EPOCH 26 - PROGRESS: at 77.71% examples, 427790 words/s, in_qsize 0, out_qsize 0\n",
            "INFO:gensim.models.word2vec:EPOCH 26 - PROGRESS: at 83.80% examples, 446134 words/s, in_qsize 0, out_qsize 0\n",
            "INFO:gensim.models.word2vec:EPOCH 26 - PROGRESS: at 88.22% examples, 448277 words/s, in_qsize 0, out_qsize 1\n",
            "INFO:gensim.models.word2vec:EPOCH 26 - PROGRESS: at 94.25% examples, 461602 words/s, in_qsize 0, out_qsize 0\n",
            "INFO:gensim.models.word2vec:EPOCH 26: training on 9857087 raw words (7680879 effective words) took 16.2s, 475205 effective words/s\n",
            "INFO:gensim.models.word2vec:EPOCH 27 - PROGRESS: at 7.10% examples, 469255 words/s, in_qsize 0, out_qsize 0\n",
            "INFO:gensim.models.word2vec:EPOCH 27 - PROGRESS: at 11.94% examples, 392775 words/s, in_qsize 0, out_qsize 0\n",
            "INFO:gensim.models.word2vec:EPOCH 27 - PROGRESS: at 19.23% examples, 419184 words/s, in_qsize 0, out_qsize 0\n",
            "INFO:gensim.models.word2vec:EPOCH 27 - PROGRESS: at 26.35% examples, 429299 words/s, in_qsize 0, out_qsize 0\n",
            "INFO:gensim.models.word2vec:EPOCH 27 - PROGRESS: at 31.37% examples, 408085 words/s, in_qsize 0, out_qsize 0\n",
            "INFO:gensim.models.word2vec:EPOCH 27 - PROGRESS: at 38.23% examples, 414519 words/s, in_qsize 0, out_qsize 0\n",
            "INFO:gensim.models.word2vec:EPOCH 27 - PROGRESS: at 45.17% examples, 419184 words/s, in_qsize 0, out_qsize 0\n",
            "INFO:gensim.models.word2vec:EPOCH 27 - PROGRESS: at 50.06% examples, 406681 words/s, in_qsize 0, out_qsize 0\n",
            "INFO:gensim.models.word2vec:EPOCH 27 - PROGRESS: at 57.23% examples, 413253 words/s, in_qsize 0, out_qsize 0\n",
            "INFO:gensim.models.word2vec:EPOCH 27 - PROGRESS: at 63.60% examples, 413466 words/s, in_qsize 0, out_qsize 0\n",
            "INFO:gensim.models.word2vec:EPOCH 27 - PROGRESS: at 69.71% examples, 411847 words/s, in_qsize 0, out_qsize 0\n",
            "INFO:gensim.models.word2vec:EPOCH 27 - PROGRESS: at 76.60% examples, 426307 words/s, in_qsize 0, out_qsize 0\n",
            "INFO:gensim.models.word2vec:EPOCH 27 - PROGRESS: at 82.52% examples, 443262 words/s, in_qsize 0, out_qsize 0\n",
            "INFO:gensim.models.word2vec:EPOCH 27 - PROGRESS: at 88.53% examples, 458196 words/s, in_qsize 0, out_qsize 0\n",
            "INFO:gensim.models.word2vec:EPOCH 27 - PROGRESS: at 93.60% examples, 464651 words/s, in_qsize 0, out_qsize 0\n",
            "INFO:gensim.models.word2vec:EPOCH 27: training on 9857087 raw words (7682822 effective words) took 15.9s, 481807 effective words/s\n",
            "INFO:gensim.models.word2vec:EPOCH 28 - PROGRESS: at 7.66% examples, 504971 words/s, in_qsize 0, out_qsize 0\n",
            "INFO:gensim.models.word2vec:EPOCH 28 - PROGRESS: at 14.22% examples, 468163 words/s, in_qsize 0, out_qsize 0\n",
            "INFO:gensim.models.word2vec:EPOCH 28 - PROGRESS: at 22.92% examples, 500211 words/s, in_qsize 0, out_qsize 0\n",
            "INFO:gensim.models.word2vec:EPOCH 28 - PROGRESS: at 31.37% examples, 511399 words/s, in_qsize 0, out_qsize 0\n",
            "INFO:gensim.models.word2vec:EPOCH 28 - PROGRESS: at 37.77% examples, 492406 words/s, in_qsize 0, out_qsize 0\n",
            "INFO:gensim.models.word2vec:EPOCH 28 - PROGRESS: at 46.75% examples, 506698 words/s, in_qsize 1, out_qsize 0\n",
            "INFO:gensim.models.word2vec:EPOCH 28 - PROGRESS: at 53.38% examples, 495650 words/s, in_qsize 0, out_qsize 0\n",
            "INFO:gensim.models.word2vec:EPOCH 28 - PROGRESS: at 62.12% examples, 504908 words/s, in_qsize 0, out_qsize 0\n",
            "INFO:gensim.models.word2vec:EPOCH 28 - PROGRESS: at 68.92% examples, 497386 words/s, in_qsize 0, out_qsize 0\n",
            "INFO:gensim.models.word2vec:EPOCH 28 - PROGRESS: at 76.07% examples, 505488 words/s, in_qsize 0, out_qsize 0\n",
            "INFO:gensim.models.word2vec:EPOCH 28 - PROGRESS: at 83.27% examples, 531441 words/s, in_qsize 0, out_qsize 0\n",
            "INFO:gensim.models.word2vec:EPOCH 28 - PROGRESS: at 90.78% examples, 555599 words/s, in_qsize 0, out_qsize 0\n",
            "INFO:gensim.models.word2vec:EPOCH 28 - PROGRESS: at 96.95% examples, 561989 words/s, in_qsize 0, out_qsize 0\n",
            "INFO:gensim.models.word2vec:EPOCH 28: training on 9857087 raw words (7680345 effective words) took 13.5s, 569253 effective words/s\n",
            "INFO:gensim.models.word2vec:EPOCH 29 - PROGRESS: at 8.67% examples, 572084 words/s, in_qsize 0, out_qsize 0\n",
            "INFO:gensim.models.word2vec:EPOCH 29 - PROGRESS: at 16.16% examples, 512667 words/s, in_qsize 0, out_qsize 1\n",
            "INFO:gensim.models.word2vec:EPOCH 29 - PROGRESS: at 25.32% examples, 538808 words/s, in_qsize 0, out_qsize 0\n",
            "INFO:gensim.models.word2vec:EPOCH 29 - PROGRESS: at 34.34% examples, 550497 words/s, in_qsize 0, out_qsize 0\n",
            "INFO:gensim.models.word2vec:EPOCH 29 - PROGRESS: at 41.08% examples, 528174 words/s, in_qsize 0, out_qsize 0\n",
            "INFO:gensim.models.word2vec:EPOCH 29 - PROGRESS: at 49.72% examples, 533957 words/s, in_qsize 0, out_qsize 0\n",
            "INFO:gensim.models.word2vec:EPOCH 29 - PROGRESS: at 56.44% examples, 519785 words/s, in_qsize 0, out_qsize 0\n",
            "INFO:gensim.models.word2vec:EPOCH 29 - PROGRESS: at 65.06% examples, 525079 words/s, in_qsize 0, out_qsize 0\n",
            "INFO:gensim.models.word2vec:EPOCH 29 - PROGRESS: at 72.68% examples, 515888 words/s, in_qsize 0, out_qsize 0\n",
            "INFO:gensim.models.word2vec:EPOCH 29 - PROGRESS: at 79.64% examples, 537174 words/s, in_qsize 0, out_qsize 0\n",
            "INFO:gensim.models.word2vec:EPOCH 29 - PROGRESS: at 87.44% examples, 563413 words/s, in_qsize 0, out_qsize 0\n",
            "INFO:gensim.models.word2vec:EPOCH 29 - PROGRESS: at 95.26% examples, 586992 words/s, in_qsize 0, out_qsize 0\n",
            "INFO:gensim.models.word2vec:EPOCH 29: training on 9857087 raw words (7682615 effective words) took 12.8s, 599444 effective words/s\n",
            "INFO:gensim.utils:Word2Vec lifecycle event {'msg': 'training on 295712610 raw words (230463267 effective words) took 398.0s, 579089 effective words/s', 'datetime': '2025-02-22T22:39:28.205237', 'gensim': '4.3.3', 'python': '3.10.11 (tags/v3.10.11:7d4cc5a, Apr  5 2023, 00:38:17) [MSC v.1929 64 bit (AMD64)]', 'platform': 'Windows-10-10.0.26100-SP0', 'event': 'train'}\n"
          ]
        }
      ],
      "source": [
        "from mowl.corpus import extract_and_save_axiom_corpus, extract_and_save_annotation_corpus\n",
        "from mowl.owlapi import OWLAPIAdapter\n",
        "from mowl.reasoning import MOWLReasoner\n",
        "from org.semanticweb.elk.owlapi import ElkReasonerFactory\n",
        "from java.util import HashSet\n",
        "from mowl.models import SyntacticPlusW2VModel\n",
        "import os\n",
        "logging.basicConfig(level=logging.WARNING)\n",
        "reasoner_factory = ElkReasonerFactory()\n",
        "reasoner = reasoner_factory.createReasoner(dataset.ontology)\n",
        "mowl_reasoner = MOWLReasoner(reasoner)\n",
        "\n",
        "classes = dataset.ontology.getClassesInSignature()\n",
        "subclass_axioms = mowl_reasoner.infer_subclass_axioms(classes) #αξιωματα υποκλάσεων\n",
        "equivalent_class_axioms = mowl_reasoner.infer_equivalent_class_axioms(classes) #αξιωματα εξισωσης κλάσεων\n",
        "\n",
        "adapter = OWLAPIAdapter()\n",
        "manager = adapter.owl_manager\n",
        "\n",
        "axioms = HashSet()\n",
        "axioms.addAll(subclass_axioms)\n",
        "axioms.addAll(equivalent_class_axioms)\n",
        "\n",
        "manager.addAxioms(dataset.ontology, axioms) #προσθηκη των αξιωματων που παρηχθηκαν απο το reasoner στην οντολογία που χρησιμοποιείται\n",
        "\n",
        "extract_and_save_axiom_corpus(dataset.ontology, \"opa2vec_corpus.txt\") #αποθηκευση ολων των αξιωματων που υπηρχαν και παράχθηκαν σε μορφη text\n",
        "extract_and_save_annotation_corpus(dataset.ontology, \"opa2vec_corpus.txt\", mode=\"a\") #επεκταση text με μεταδεδομένα όπως ορισμοί και περιγραφές στιγμιοτύπων\n",
        "\n",
        "\n",
        "model = SyntacticPlusW2VModel(dataset, corpus_filepath=\"opa2vec_corpus.txt\") #Word2Vec στο text για παραγωγη embedding\n",
        "model.set_w2v_model(min_count=1, workers=4)\n",
        "model.generate_corpus(save=True, with_annotations=True)\n",
        "model.train(epochs=30)\n",
        "os.remove(\"opa2vec_corpus.txt\")\n"
      ]
    },
    {
      "cell_type": "markdown",
      "metadata": {
        "id": "w09kU0pk-C0O"
      },
      "source": [
        "## Evaluation του OPA2Vec\n",
        "Για άλλη μια φορά χρησιμοποείται το PPIEvaluator όπως και πάνω."
      ]
    },
    {
      "cell_type": "code",
      "execution_count": null,
      "metadata": {
        "id": "yWwOAJc2-C0O",
        "outputId": "58cfa342-80e8-4c3f-d055-790b4f1d5727"
      },
      "outputs": [
        {
          "name": "stderr",
          "output_type": "stream",
          "text": [
            "Class http://4932.YCL020W not found in w2v model\n",
            "WARNING:mowl.models.syntactic.w2v_model:Class http://4932.YCL020W not found in w2v model\n",
            "Class http://4932.YCR108C not found in w2v model\n",
            "WARNING:mowl.models.syntactic.w2v_model:Class http://4932.YCR108C not found in w2v model\n",
            "Class http://4932.YDR182W-A not found in w2v model\n",
            "WARNING:mowl.models.syntactic.w2v_model:Class http://4932.YDR182W-A not found in w2v model\n",
            "Class http://4932.YDR504C not found in w2v model\n",
            "WARNING:mowl.models.syntactic.w2v_model:Class http://4932.YDR504C not found in w2v model\n",
            "Class http://4932.YGL176C not found in w2v model\n",
            "WARNING:mowl.models.syntactic.w2v_model:Class http://4932.YGL176C not found in w2v model\n",
            "Class http://4932.YHR078W not found in w2v model\n",
            "WARNING:mowl.models.syntactic.w2v_model:Class http://4932.YHR078W not found in w2v model\n",
            "Class http://4932.YJL195C not found in w2v model\n",
            "WARNING:mowl.models.syntactic.w2v_model:Class http://4932.YJL195C not found in w2v model\n",
            "Class http://4932.YLR444C not found in w2v model\n",
            "WARNING:mowl.models.syntactic.w2v_model:Class http://4932.YLR444C not found in w2v model\n",
            "Class http://4932.YML116W-A not found in w2v model\n",
            "WARNING:mowl.models.syntactic.w2v_model:Class http://4932.YML116W-A not found in w2v model\n",
            "Class http://www.w3.org/2002/07/owl#Nothing not found in w2v model\n",
            "WARNING:mowl.models.syntactic.w2v_model:Class http://www.w3.org/2002/07/owl#Nothing not found in w2v model\n",
            "Class http://www.w3.org/2002/07/owl#Thing not found in w2v model\n",
            "WARNING:mowl.models.syntactic.w2v_model:Class http://www.w3.org/2002/07/owl#Thing not found in w2v model\n"
          ]
        },
        {
          "name": "stdout",
          "output_type": "stream",
          "text": [
            "{'mr': 1615.480315614618, 'mrr': 0.0033769556624762124, 'f_mr': 1615.480315614618, 'f_mrr': 0.0033769556624762124, 'auc': 0.7326133958902586, 'f_auc': 0.7326133958902586, 'hits@1': 0.000664451827242525, 'hits@3': 0.001495016611295681, 'hits@10': 0.004069767441860465, 'hits@50': 0.01818936877076412, 'hits@100': 0.03504983388704319, 'f_hits@1': 0.000664451827242525, 'f_hits@3': 0.001495016611295681, 'f_hits@10': 0.004069767441860465, 'f_hits@50': 0.01818936877076412, 'f_hits@100': 0.03504983388704319}\n"
          ]
        }
      ],
      "source": [
        "model.set_evaluator(PPIEvaluator)\n",
        "model.evaluate(dataset.testing)\n",
        "data4= model.metrics\n",
        "print(data4)"
      ]
    },
    {
      "cell_type": "markdown",
      "metadata": {
        "id": "RizkszBf-C0P"
      },
      "source": [
        "### Ευνοϊκή για σύγκριση αναπαράσταση αποδόσεων των μοντέλων με χρήση DataFrame της βιβλιοθήκης pandas."
      ]
    },
    {
      "cell_type": "code",
      "execution_count": null,
      "metadata": {
        "id": "CcoM8dQJ-C0P",
        "outputId": "ce635459-fc68-497b-bbcf-268759978178"
      },
      "outputs": [
        {
          "name": "stdout",
          "output_type": "stream",
          "text": [
            "                 mr      mrr        f_mr    f_mrr      auc    f_auc   hits@1  \\\n",
            "Model 1  490.411960 0.027478  490.411960 0.027478 0.918945 0.918945 0.000415   \n",
            "Model 2 1021.359551 0.006920 1021.359551 0.006920 0.831010 0.831010 0.000083   \n",
            "Model 3  386.771346 0.028353  386.771346 0.028353 0.936109 0.936109 0.000000   \n",
            "Model 4 1615.480316 0.003377 1615.480316 0.003377 0.732613 0.732613 0.000664   \n",
            "\n",
            "          hits@3  hits@10  hits@50  hits@100  f_hits@1  f_hits@3  f_hits@10  \\\n",
            "Model 1 0.008721 0.062292 0.326744  0.474834  0.000415  0.008721   0.062292   \n",
            "Model 2 0.002076 0.010465 0.055648  0.114535  0.000083  0.002076   0.010465   \n",
            "Model 3 0.016030 0.066694 0.284219  0.464037  0.000000  0.016030   0.066694   \n",
            "Model 4 0.001495 0.004070 0.018189  0.035050  0.000664  0.001495   0.004070   \n",
            "\n",
            "         f_hits@50  f_hits@100  \n",
            "Model 1   0.326744    0.474834  \n",
            "Model 2   0.055648    0.114535  \n",
            "Model 3   0.284219    0.464037  \n",
            "Model 4   0.018189    0.035050  \n"
          ]
        }
      ],
      "source": [
        "import pandas as pd\n",
        "df = pd.DataFrame([data1, data2, data3,data4], index=['Model 1', 'Model 2', 'Model 3', 'Model 4'])\n",
        "\n",
        "pd.set_option('display.float_format', lambda x: f'{x:.6f}') #δεκαδική μορφή\n",
        "print(df)"
      ]
    },
    {
      "cell_type": "code",
      "execution_count": null,
      "metadata": {
        "id": "Uq063-SyKfCE"
      },
      "outputs": [],
      "source": []
    },
    {
      "cell_type": "code",
      "execution_count": null,
      "metadata": {
        "id": "LCNu9-b2KfCE"
      },
      "outputs": [],
      "source": []
    }
  ],
  "metadata": {
    "accelerator": "GPU",
    "colab": {
      "gpuType": "T4",
      "provenance": []
    },
    "kernelspec": {
      "display_name": "Python 3 (ipykernel)",
      "language": "python",
      "name": "python3"
    },
    "language_info": {
      "codemirror_mode": {
        "name": "ipython",
        "version": 3
      },
      "file_extension": ".py",
      "mimetype": "text/x-python",
      "name": "python",
      "nbconvert_exporter": "python",
      "pygments_lexer": "ipython3",
      "version": "3.10.11"
    }
  },
  "nbformat": 4,
  "nbformat_minor": 0
}