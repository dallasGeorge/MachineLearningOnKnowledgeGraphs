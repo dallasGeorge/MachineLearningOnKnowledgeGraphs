{
  "cells": [
    {
      "cell_type": "markdown",
      "metadata": {
        "id": "_QjceqWg-C0F"
      },
      "source": [
        "To notepad αυτό αποτελεί ένα \"hello-world\" για την χρήση της βιβλιοθήκης [mOWL](https://mowl.readthedocs.io/en/latest/index.html). Ο σκοπός είναι να στηθεί ένα απλό παράδειγμα που επιδεικνύει τη χρήση της mOWL για την αναγνώριση \"ακμών\" ενός γράφου γνώσης (ΓΓ).\n",
        "\n",
        "**Προσοχή: Eάν το notebook τρέχει στο google colab, πρέπει να επιλεχθεί από το menu, η επιλογή Runtime -> Change runtime type και να επιλεχθεί ένα διαθέσιμο GPU. Αυτό γίνεται γιατί τα μοντέλα τρέχουν με χρήση CUDA, για γρηγορότερο χρόνο εκπέδευσης** </h5>"
      ]
    },
    {
      "cell_type": "code",
      "execution_count": 2,
      "metadata": {
        "colab": {
          "base_uri": "https://localhost:8080/"
        },
        "id": "8My_2PMm-D9a",
        "outputId": "7ab31a91-8333-48c9-84f5-3daa68fc6fe2",
        "collapsed": true
      },
      "outputs": [
        {
          "output_type": "stream",
          "name": "stdout",
          "text": [
            "Collecting mowl-borg\n",
            "  Downloading mowl_borg-1.0.1-py3-none-any.whl.metadata (4.8 kB)\n",
            "Requirement already satisfied: click in /usr/local/lib/python3.11/dist-packages (from mowl-borg) (8.1.8)\n",
            "Requirement already satisfied: deprecated in /usr/local/lib/python3.11/dist-packages (from mowl-borg) (1.2.15)\n",
            "Requirement already satisfied: gensim>=4.3.0 in /usr/local/lib/python3.11/dist-packages (from mowl-borg) (4.3.3)\n",
            "Collecting JPype1==1.5.0 (from mowl-borg)\n",
            "  Downloading JPype1-1.5.0-cp311-cp311-manylinux_2_17_x86_64.manylinux2014_x86_64.whl.metadata (4.9 kB)\n",
            "Requirement already satisfied: matplotlib in /usr/local/lib/python3.11/dist-packages (from mowl-borg) (3.10.0)\n",
            "Requirement already satisfied: networkx in /usr/local/lib/python3.11/dist-packages (from mowl-borg) (3.4.2)\n",
            "Requirement already satisfied: numpy in /usr/local/lib/python3.11/dist-packages (from mowl-borg) (1.26.4)\n",
            "Requirement already satisfied: pandas in /usr/local/lib/python3.11/dist-packages (from mowl-borg) (2.2.2)\n",
            "Collecting pykeen==1.11.0 (from mowl-borg)\n",
            "  Downloading pykeen-1.11.0-py3-none-any.whl.metadata (85 kB)\n",
            "\u001b[2K     \u001b[90m━━━━━━━━━━━━━━━━━━━━━━━━━━━━━━━━━━━━━━━━\u001b[0m \u001b[32m85.5/85.5 kB\u001b[0m \u001b[31m7.9 MB/s\u001b[0m eta \u001b[36m0:00:00\u001b[0m\n",
            "\u001b[?25hRequirement already satisfied: pyyaml in /usr/local/lib/python3.11/dist-packages (from mowl-borg) (6.0.2)\n",
            "Requirement already satisfied: requests in /usr/local/lib/python3.11/dist-packages (from mowl-borg) (2.32.3)\n",
            "Requirement already satisfied: scikit-learn in /usr/local/lib/python3.11/dist-packages (from mowl-borg) (1.6.0)\n",
            "Requirement already satisfied: scipy<1.15.0 in /usr/local/lib/python3.11/dist-packages (from mowl-borg) (1.13.1)\n",
            "Collecting temp (from mowl-borg)\n",
            "  Downloading temp-2020.7.2.tar.gz (1.4 kB)\n",
            "  Preparing metadata (setup.py) ... \u001b[?25l\u001b[?25hdone\n",
            "Requirement already satisfied: tqdm in /usr/local/lib/python3.11/dist-packages (from mowl-borg) (4.67.1)\n",
            "Requirement already satisfied: torch in /usr/local/lib/python3.11/dist-packages (from mowl-borg) (2.5.1+cu121)\n",
            "Requirement already satisfied: urllib3 in /usr/local/lib/python3.11/dist-packages (from mowl-borg) (2.3.0)\n",
            "Requirement already satisfied: packaging in /usr/local/lib/python3.11/dist-packages (from JPype1==1.5.0->mowl-borg) (24.2)\n",
            "Collecting dataclasses-json (from pykeen==1.11.0->mowl-borg)\n",
            "  Downloading dataclasses_json-0.6.7-py3-none-any.whl.metadata (25 kB)\n",
            "Collecting click-default-group (from pykeen==1.11.0->mowl-borg)\n",
            "  Downloading click_default_group-1.2.4-py2.py3-none-any.whl.metadata (2.8 kB)\n",
            "Collecting optuna>=2.0.0 (from pykeen==1.11.0->mowl-borg)\n",
            "  Downloading optuna-4.1.0-py3-none-any.whl.metadata (16 kB)\n",
            "Requirement already satisfied: tabulate in /usr/local/lib/python3.11/dist-packages (from pykeen==1.11.0->mowl-borg) (0.9.0)\n",
            "Collecting more-click (from pykeen==1.11.0->mowl-borg)\n",
            "  Downloading more_click-0.1.2-py3-none-any.whl.metadata (4.3 kB)\n",
            "Requirement already satisfied: more-itertools in /usr/local/lib/python3.11/dist-packages (from pykeen==1.11.0->mowl-borg) (10.5.0)\n",
            "Collecting pystow>=0.4.3 (from pykeen==1.11.0->mowl-borg)\n",
            "  Downloading pystow-0.7.0-py3-none-any.whl.metadata (17 kB)\n",
            "Collecting docdata (from pykeen==1.11.0->mowl-borg)\n",
            "  Downloading docdata-0.0.4-py3-none-any.whl.metadata (13 kB)\n",
            "Collecting class-resolver>=0.5.1 (from pykeen==1.11.0->mowl-borg)\n",
            "  Downloading class_resolver-0.5.4-py3-none-any.whl.metadata (14 kB)\n",
            "Collecting torch-max-mem>=0.1.1 (from pykeen==1.11.0->mowl-borg)\n",
            "  Downloading torch_max_mem-0.1.3-py3-none-any.whl.metadata (7.4 kB)\n",
            "Collecting torch-ppr>=0.0.7 (from pykeen==1.11.0->mowl-borg)\n",
            "  Downloading torch_ppr-0.0.8-py3-none-any.whl.metadata (9.3 kB)\n",
            "Requirement already satisfied: typing-extensions in /usr/local/lib/python3.11/dist-packages (from pykeen==1.11.0->mowl-borg) (4.12.2)\n",
            "Requirement already satisfied: smart-open>=1.8.1 in /usr/local/lib/python3.11/dist-packages (from gensim>=4.3.0->mowl-borg) (7.1.0)\n",
            "Requirement already satisfied: python-dateutil>=2.8.2 in /usr/local/lib/python3.11/dist-packages (from pandas->mowl-borg) (2.8.2)\n",
            "Requirement already satisfied: pytz>=2020.1 in /usr/local/lib/python3.11/dist-packages (from pandas->mowl-borg) (2024.2)\n",
            "Requirement already satisfied: tzdata>=2022.7 in /usr/local/lib/python3.11/dist-packages (from pandas->mowl-borg) (2024.2)\n",
            "Requirement already satisfied: filelock in /usr/local/lib/python3.11/dist-packages (from torch->mowl-borg) (3.16.1)\n",
            "Requirement already satisfied: jinja2 in /usr/local/lib/python3.11/dist-packages (from torch->mowl-borg) (3.1.5)\n",
            "Requirement already satisfied: fsspec in /usr/local/lib/python3.11/dist-packages (from torch->mowl-borg) (2024.10.0)\n",
            "Requirement already satisfied: nvidia-cuda-nvrtc-cu12==12.1.105 in /usr/local/lib/python3.11/dist-packages (from torch->mowl-borg) (12.1.105)\n",
            "Requirement already satisfied: nvidia-cuda-runtime-cu12==12.1.105 in /usr/local/lib/python3.11/dist-packages (from torch->mowl-borg) (12.1.105)\n",
            "Requirement already satisfied: nvidia-cuda-cupti-cu12==12.1.105 in /usr/local/lib/python3.11/dist-packages (from torch->mowl-borg) (12.1.105)\n",
            "Requirement already satisfied: nvidia-cudnn-cu12==9.1.0.70 in /usr/local/lib/python3.11/dist-packages (from torch->mowl-borg) (9.1.0.70)\n",
            "Requirement already satisfied: nvidia-cublas-cu12==12.1.3.1 in /usr/local/lib/python3.11/dist-packages (from torch->mowl-borg) (12.1.3.1)\n",
            "Requirement already satisfied: nvidia-cufft-cu12==11.0.2.54 in /usr/local/lib/python3.11/dist-packages (from torch->mowl-borg) (11.0.2.54)\n",
            "Requirement already satisfied: nvidia-curand-cu12==10.3.2.106 in /usr/local/lib/python3.11/dist-packages (from torch->mowl-borg) (10.3.2.106)\n",
            "Requirement already satisfied: nvidia-cusolver-cu12==11.4.5.107 in /usr/local/lib/python3.11/dist-packages (from torch->mowl-borg) (11.4.5.107)\n",
            "Requirement already satisfied: nvidia-cusparse-cu12==12.1.0.106 in /usr/local/lib/python3.11/dist-packages (from torch->mowl-borg) (12.1.0.106)\n",
            "Requirement already satisfied: nvidia-nccl-cu12==2.21.5 in /usr/local/lib/python3.11/dist-packages (from torch->mowl-borg) (2.21.5)\n",
            "Requirement already satisfied: nvidia-nvtx-cu12==12.1.105 in /usr/local/lib/python3.11/dist-packages (from torch->mowl-borg) (12.1.105)\n",
            "Requirement already satisfied: triton==3.1.0 in /usr/local/lib/python3.11/dist-packages (from torch->mowl-borg) (3.1.0)\n",
            "Requirement already satisfied: sympy==1.13.1 in /usr/local/lib/python3.11/dist-packages (from torch->mowl-borg) (1.13.1)\n",
            "Requirement already satisfied: nvidia-nvjitlink-cu12 in /usr/local/lib/python3.11/dist-packages (from nvidia-cusolver-cu12==11.4.5.107->torch->mowl-borg) (12.6.85)\n",
            "Requirement already satisfied: mpmath<1.4,>=1.1.0 in /usr/local/lib/python3.11/dist-packages (from sympy==1.13.1->torch->mowl-borg) (1.3.0)\n",
            "Requirement already satisfied: wrapt<2,>=1.10 in /usr/local/lib/python3.11/dist-packages (from deprecated->mowl-borg) (1.17.0)\n",
            "Requirement already satisfied: contourpy>=1.0.1 in /usr/local/lib/python3.11/dist-packages (from matplotlib->mowl-borg) (1.3.1)\n",
            "Requirement already satisfied: cycler>=0.10 in /usr/local/lib/python3.11/dist-packages (from matplotlib->mowl-borg) (0.12.1)\n",
            "Requirement already satisfied: fonttools>=4.22.0 in /usr/local/lib/python3.11/dist-packages (from matplotlib->mowl-borg) (4.55.3)\n",
            "Requirement already satisfied: kiwisolver>=1.3.1 in /usr/local/lib/python3.11/dist-packages (from matplotlib->mowl-borg) (1.4.8)\n",
            "Requirement already satisfied: pillow>=8 in /usr/local/lib/python3.11/dist-packages (from matplotlib->mowl-borg) (11.1.0)\n",
            "Requirement already satisfied: pyparsing>=2.3.1 in /usr/local/lib/python3.11/dist-packages (from matplotlib->mowl-borg) (3.2.1)\n",
            "Requirement already satisfied: charset-normalizer<4,>=2 in /usr/local/lib/python3.11/dist-packages (from requests->mowl-borg) (3.4.1)\n",
            "Requirement already satisfied: idna<4,>=2.5 in /usr/local/lib/python3.11/dist-packages (from requests->mowl-borg) (3.10)\n",
            "Requirement already satisfied: certifi>=2017.4.17 in /usr/local/lib/python3.11/dist-packages (from requests->mowl-borg) (2024.12.14)\n",
            "Requirement already satisfied: joblib>=1.2.0 in /usr/local/lib/python3.11/dist-packages (from scikit-learn->mowl-borg) (1.4.2)\n",
            "Requirement already satisfied: threadpoolctl>=3.1.0 in /usr/local/lib/python3.11/dist-packages (from scikit-learn->mowl-borg) (3.5.0)\n",
            "Collecting alembic>=1.5.0 (from optuna>=2.0.0->pykeen==1.11.0->mowl-borg)\n",
            "  Downloading alembic-1.14.0-py3-none-any.whl.metadata (7.4 kB)\n",
            "Collecting colorlog (from optuna>=2.0.0->pykeen==1.11.0->mowl-borg)\n",
            "  Downloading colorlog-6.9.0-py3-none-any.whl.metadata (10 kB)\n",
            "Requirement already satisfied: sqlalchemy>=1.4.2 in /usr/local/lib/python3.11/dist-packages (from optuna>=2.0.0->pykeen==1.11.0->mowl-borg) (2.0.37)\n",
            "Requirement already satisfied: six>=1.5 in /usr/local/lib/python3.11/dist-packages (from python-dateutil>=2.8.2->pandas->mowl-borg) (1.17.0)\n",
            "Collecting marshmallow<4.0.0,>=3.18.0 (from dataclasses-json->pykeen==1.11.0->mowl-borg)\n",
            "  Downloading marshmallow-3.25.1-py3-none-any.whl.metadata (7.3 kB)\n",
            "Collecting typing-inspect<1,>=0.4.0 (from dataclasses-json->pykeen==1.11.0->mowl-borg)\n",
            "  Downloading typing_inspect-0.9.0-py3-none-any.whl.metadata (1.5 kB)\n",
            "Requirement already satisfied: MarkupSafe>=2.0 in /usr/local/lib/python3.11/dist-packages (from jinja2->torch->mowl-borg) (3.0.2)\n",
            "Collecting Mako (from alembic>=1.5.0->optuna>=2.0.0->pykeen==1.11.0->mowl-borg)\n",
            "  Downloading Mako-1.3.8-py3-none-any.whl.metadata (2.9 kB)\n",
            "Requirement already satisfied: greenlet!=0.4.17 in /usr/local/lib/python3.11/dist-packages (from sqlalchemy>=1.4.2->optuna>=2.0.0->pykeen==1.11.0->mowl-borg) (3.1.1)\n",
            "Collecting mypy-extensions>=0.3.0 (from typing-inspect<1,>=0.4.0->dataclasses-json->pykeen==1.11.0->mowl-borg)\n",
            "  Downloading mypy_extensions-1.0.0-py3-none-any.whl.metadata (1.1 kB)\n",
            "Downloading mowl_borg-1.0.1-py3-none-any.whl (68.8 MB)\n",
            "\u001b[2K   \u001b[90m━━━━━━━━━━━━━━━━━━━━━━━━━━━━━━━━━━━━━━━━\u001b[0m \u001b[32m68.8/68.8 MB\u001b[0m \u001b[31m1.4 MB/s\u001b[0m eta \u001b[36m0:00:00\u001b[0m\n",
            "\u001b[?25hDownloading JPype1-1.5.0-cp311-cp311-manylinux_2_17_x86_64.manylinux2014_x86_64.whl (488 kB)\n",
            "\u001b[2K   \u001b[90m━━━━━━━━━━━━━━━━━━━━━━━━━━━━━━━━━━━━━━━━\u001b[0m \u001b[32m488.6/488.6 kB\u001b[0m \u001b[31m38.1 MB/s\u001b[0m eta \u001b[36m0:00:00\u001b[0m\n",
            "\u001b[?25hDownloading pykeen-1.11.0-py3-none-any.whl (718 kB)\n",
            "\u001b[2K   \u001b[90m━━━━━━━━━━━━━━━━━━━━━━━━━━━━━━━━━━━━━━━━\u001b[0m \u001b[32m718.4/718.4 kB\u001b[0m \u001b[31m50.0 MB/s\u001b[0m eta \u001b[36m0:00:00\u001b[0m\n",
            "\u001b[?25hDownloading class_resolver-0.5.4-py3-none-any.whl (29 kB)\n",
            "Downloading optuna-4.1.0-py3-none-any.whl (364 kB)\n",
            "\u001b[2K   \u001b[90m━━━━━━━━━━━━━━━━━━━━━━━━━━━━━━━━━━━━━━━━\u001b[0m \u001b[32m364.4/364.4 kB\u001b[0m \u001b[31m32.4 MB/s\u001b[0m eta \u001b[36m0:00:00\u001b[0m\n",
            "\u001b[?25hDownloading pystow-0.7.0-py3-none-any.whl (38 kB)\n",
            "Downloading torch_max_mem-0.1.3-py3-none-any.whl (10 kB)\n",
            "Downloading torch_ppr-0.0.8-py3-none-any.whl (12 kB)\n",
            "Downloading click_default_group-1.2.4-py2.py3-none-any.whl (4.1 kB)\n",
            "Downloading dataclasses_json-0.6.7-py3-none-any.whl (28 kB)\n",
            "Downloading docdata-0.0.4-py3-none-any.whl (9.1 kB)\n",
            "Downloading more_click-0.1.2-py3-none-any.whl (6.7 kB)\n",
            "Downloading alembic-1.14.0-py3-none-any.whl (233 kB)\n",
            "\u001b[2K   \u001b[90m━━━━━━━━━━━━━━━━━━━━━━━━━━━━━━━━━━━━━━━━\u001b[0m \u001b[32m233.5/233.5 kB\u001b[0m \u001b[31m19.2 MB/s\u001b[0m eta \u001b[36m0:00:00\u001b[0m\n",
            "\u001b[?25hDownloading marshmallow-3.25.1-py3-none-any.whl (49 kB)\n",
            "\u001b[2K   \u001b[90m━━━━━━━━━━━━━━━━━━━━━━━━━━━━━━━━━━━━━━━━\u001b[0m \u001b[32m49.6/49.6 kB\u001b[0m \u001b[31m5.2 MB/s\u001b[0m eta \u001b[36m0:00:00\u001b[0m\n",
            "\u001b[?25hDownloading typing_inspect-0.9.0-py3-none-any.whl (8.8 kB)\n",
            "Downloading colorlog-6.9.0-py3-none-any.whl (11 kB)\n",
            "Downloading mypy_extensions-1.0.0-py3-none-any.whl (4.7 kB)\n",
            "Downloading Mako-1.3.8-py3-none-any.whl (78 kB)\n",
            "\u001b[2K   \u001b[90m━━━━━━━━━━━━━━━━━━━━━━━━━━━━━━━━━━━━━━━━\u001b[0m \u001b[32m78.6/78.6 kB\u001b[0m \u001b[31m7.8 MB/s\u001b[0m eta \u001b[36m0:00:00\u001b[0m\n",
            "\u001b[?25hBuilding wheels for collected packages: temp\n",
            "  Building wheel for temp (setup.py) ... \u001b[?25l\u001b[?25hdone\n",
            "  Created wheel for temp: filename=temp-2020.7.2-py3-none-any.whl size=1230 sha256=8bfba88a431866a4bac3c349ea11d32e625e009beea5fc18e7a118a0dff5ee03\n",
            "  Stored in directory: /root/.cache/pip/wheels/98/e0/1f/91a11fdb0b701b93b6a6d05cb43a2f9ce2adff114186764e11\n",
            "Successfully built temp\n",
            "Installing collected packages: temp, mypy-extensions, more-click, marshmallow, Mako, JPype1, docdata, colorlog, click-default-group, class-resolver, typing-inspect, pystow, alembic, optuna, dataclasses-json, torch-max-mem, torch-ppr, pykeen, mowl-borg\n",
            "Successfully installed JPype1-1.5.0 Mako-1.3.8 alembic-1.14.0 class-resolver-0.5.4 click-default-group-1.2.4 colorlog-6.9.0 dataclasses-json-0.6.7 docdata-0.0.4 marshmallow-3.25.1 more-click-0.1.2 mowl-borg-1.0.1 mypy-extensions-1.0.0 optuna-4.1.0 pykeen-1.11.0 pystow-0.7.0 temp-2020.7.2 torch-max-mem-0.1.3 torch-ppr-0.0.8 typing-inspect-0.9.0\n"
          ]
        }
      ],
      "source": [
        "!pip install mowl-borg"
      ]
    },
    {
      "cell_type": "markdown",
      "metadata": {
        "id": "23uf9Smkbi54"
      },
      "source": [
        "## Αρχικοποίηση\n",
        "Αρχικά εισάγεται η βιβλιοθήκη mowl και η torch\n",
        "και αρχικοποιείται η διαθέσιμη προς χρήση μνήμη για το Java Virtual Machine ως 10 Gigabytes. <br>\n",
        "Η βιβλιοθήκη [mOWL](https://mowl.readthedocs.io/en/latest/) είναι μια βιβλιοθήκη που έχει σχεδιαστεί για να υποστηρίζει τη Μηχανική Μάθηση με Οντολογίες, προσφέροντας λειτουργίες για τη διαχείριση οντολογιών και τη δημιουργία αναπαραστάσεων σε μορφή διανυσμάτων (embeddings) για τις οντότητες τους. Αξιοποιεί την [OWLAPI](https://github.com/owlcs/owlapi/wiki/Documentation), μια βιβλιοθήκη γραμμένη σε Java, μέσω του JPype και για αυτό τον λόγο είναι αναγκαία και η αρχικοποίηση μνήμης στο JVM.\n",
        "Η [Torch](https://pytorch.org/docs/stable/index.html) παρέχει ισχυρά εργαλεία για την εκπαίδευση και τη χρήση αλγορίθμων μηχανικής μάθησης και νευρωνικών δικτύων."
      ]
    },
    {
      "cell_type": "code",
      "execution_count": 2,
      "metadata": {
        "id": "MpNa7bF9-C0H",
        "jupyter": {
          "outputs_hidden": false
        }
      },
      "outputs": [],
      "source": [
        "import mowl\n",
        "mowl.init_jvm(\"10g\")\n",
        "import torch as th"
      ]
    },
    {
      "cell_type": "markdown",
      "metadata": {
        "id": "TFUjr8rN-C0H"
      },
      "source": [
        "### Dataset που χρησιμοποιείται:\n",
        "Το dataset που χρησιμοποιείται είναι το [PPIYeastDataset](https://mowl.readthedocs.io/en/latest/api/mowl.datasets.builtin.PPIYeastDataset.html#mowl.datasets.builtin.PPIYeastDataset) το οποίο είναι built-in στη βιβλιοθήκη mowl. Το dataset αυτό περιλαμβάνει protein-protein interactions που αφορούν τον συγκεκριμένο μήκυτα και οι σχέσεις μεταξύ πρωτεϊνών αναπαραστούνται σαν αξιώματα με τον παρακάτω τρόπο: <br>\n",
        "<b>protein1 ⊆ interacts_with.protein2</b>\n"
      ]
    },
    {
      "cell_type": "markdown",
      "metadata": {
        "id": "H4nUtPx4-C0I"
      },
      "source": [
        "## EL-embedding μοντέλο\n",
        "H mOWL μπορεί να παράξει embeddings με πολλούς τρόπους. Το [EL-embedding μοντέλο](https://mowl.readthedocs.io/en/latest/examples/elmodels/plot_1_elembeddings.html#sphx-glr-examples-elmodels-plot-1-elembeddings-py), είναι ένας από αυτούς.\n",
        "Το [EL profile](https://www.w3.org/TR/owl2-profiles/#OWL_2_EL), είναι ένα lightweight profile της OWL που υποστηρίζει βασικές εκφράσεις λογικής περιγραφών, καθιστώντας το ιδιαίτερα χρήσιμο για μεγάλα datasets με απλές ιεραρχίες.\n",
        "\n",
        "Το EL profile βασίζεται στα εξής General Concept Inclusions (GCIs):\n",
        "\n",
        "**GCI 0** - `C ⊑ D`: Περιγράφει ότι κάθε στοιχείο της κλάσης 𝐶 ανήκει και στην κλάση D. <br>\n",
        "**GCI 1** - `C1 ⊓ C2 ⊑ D`: Περιγράφει ότι αν κάτι ανήκει στην κλάση C1 και στην κλάση C2, τότε ανήκει και στην κλάση D<br>\n",
        "**GCI 2** - `C ⊑ ∃R.D`: Περιγράφει ότι όλα τα μέλη της κλάσης C πρέπει να έχουν μια σχέση R με τουλάχιστον ένα αντικείμενο που ανήκει στην κλάση D<br>\n",
        "**GCI 3** - `∃R.C ⊑ D`: Περιγράφει ότι αν υπάρχει μια σχέση R που συνδέει κάποιο αντικείμενο με ένα μέλος της κλάσης C, τότε το αντικείμενο αυτό ανήκει στην κλάση D.<br>\n",
        "**GCI bot 0** - `C ⊑ ⊥`: Περιγράφει ότι δεν υπάρχει κάποιο αντικείμενο στην κλάση C.<br>\n",
        "**GCI bot 1** - `C1 ⊓ C2 ⊑ ⊥`: Περιγράφει ότι η τομή των κλάσεων C1 και C2 είναι κενή<br>\n",
        "**GCI bot 3** - `∃R.C ⊑ ⊥`: Περιγράφει ότι δεν υπάρχει αντικείμενο που να έχει μια σχέση R προς κάτι που ανήκει στην κλάση C.<br>\n",
        "\n",
        "όπου τα C1, C2, D είναι κλάσεις, το R αντιστοιχεί σε μια ιδιότητα.\n",
        "Ουσιαστικά, τα GCIs αποτυπώνουν τους \"κανόνες\" που μπορούμε να χρησιμοποιήσουμε για να περιγράψουμε γνώση με το συγκεκριμένο OWL profile.\n",
        "\n",
        "Σύμφωνα με το σχετικό [paper](https://www.ijcai.org/proceedings/2019/845), το EL embedding μοντέλο αποσκοπεί στο να μεταφέρει τις κλάσεις και τις σχέσεις σε μια γεωμετρική διάσταση (όπως έναν n-διάστατο πραγματικό χώρο). Ο στόχος είναι να διατηρηθεί η σημασιολογική δομή της οντολογίας μέσα σε αυτόν τον γεωμετρικό χώρο.\n",
        "Για να επιτευχθεί αυτό αντιστοιχεί κάθε κλάση σε μια n-διάστατη σφαίρα (\"μπάλα\"). Αν καταλαβαίνω καλά, η n-μπάλα που αντιστοιχεί στην κλάση C1 περικλείει όλα τα individuals της κλάσης. Κάθε σημείο της \"υπερσφαίρας\" αυτής αποτελεί ένα από τα individuals της κλάσης. Με αυτή τη λογική, αν μια κλάση είναι υποκλάση μιας άλλης, η αντίστοιχη n-μπάλα που αναπαριστά την πρώτη κλάση θα πρέπει να βρίσκεται μέσα στην n-μπάλα της δεύτερης.\n",
        "\n",
        "Οι σχέσεις μεταξύ κλάσεων (object properties) αντιστοιχίζονται σε διανύσματα σε αυτόν τον n-διάστατο χώρο. Ας υποθέσουμε ένα object property P που διασυνδέει τα individuals c της κλάσης C και d της κλάσης D. Αυτή η σχέση θα αποτυπωθεί στον διανυσματικό χώρο του μετασχηματισμού σαν ένα διάνυσμα που ενώνει δύο σημεία τα οποία περικλείονται από τις αντίστοιχες n-μπάλες που αποτελούν τον μετασχηματισμό της κλάσης C και της κλάσης D.\n",
        "\n",
        "Το μοντέλο εκμάθησης χρησιμοποιεί συναρτήσεις απώλειας για να διασφαλίσει ότι η γεωμετρική αναπαράσταση της οντολογίας διατηρεί τις λογικές σχέσεις μεταξύ των κλάσεων και των σχέσεων.\n",
        "Ορίζεται λοιπόν για κάθε ένα GCI μια απώλεια και το άθρισμα τους, χρησιμοποιείται για την δυνατόν καλύτερη προσαρμογή των σφαιρών στου κανόνες του EL Profile.  \n",
        "\n",
        "Ως παράδειγμα, υπάρχει ένα μοντέλο που χρησιμοποιείται για να μοντελοποιήσει τις σχέσεις των PPIs. Το μοντέλο αυτό είναι ένα μοντέλο τύπου EL-embedding ([ELEmPPI](https://mowl.readthedocs.io/en/latest/_modules/mowl/models/elembeddings/examples/model_ppi.html#ELEmPPI)) αλλά παρέχεται και ένα γενικότερο μοντέλο που μπορεί να προσαρμοστεί για οποιοδήποτε dataset. <br>\n",
        "\n"
      ]
    },
    {
      "cell_type": "markdown",
      "metadata": {
        "id": "xH4XK7nJ-C0I"
      },
      "source": [
        "## Εκπαίδευση μοντέλου EL embedding\n",
        "Στις παραμέτρους του ELEmPPI μπορούν να δοκιμαστούν διάφορες τιμές για κάθε όρισμα"
      ]
    },
    {
      "cell_type": "code",
      "execution_count": 3,
      "metadata": {
        "id": "eu2vtj9I-C0J",
        "jupyter": {
          "outputs_hidden": false
        },
        "outputId": "7988293c-4e3f-4376-b81a-95012d6fbf27",
        "colab": {
          "base_uri": "https://localhost:8080/"
        }
      },
      "outputs": [
        {
          "output_type": "stream",
          "name": "stderr",
          "text": [
            "INFO:pykeen.utils:Using opt_einsum\n",
            "100%|██████████| 100/100 [01:00<00:00,  1.66it/s]\n"
          ]
        },
        {
          "output_type": "execute_result",
          "data": {
            "text/plain": [
              "1"
            ]
          },
          "metadata": {},
          "execution_count": 3
        }
      ],
      "source": [
        "import logging\n",
        "from mowl.datasets.builtin import PPIYeastDataset\n",
        "from mowl.models import ELEmPPI\n",
        "\n",
        "# logging να αγνοεί τα info μηνύματα\n",
        "logging.basicConfig(level=logging.WARNING)\n",
        "\n",
        "# dataset που χρησιμοποιείται (το συγκεκριμένο είναι built-in)\n",
        "dataset = PPIYeastDataset()\n",
        "\n",
        "# initialize model with the required parameters\n",
        "model = ELEmPPI(dataset, #το dataset που χρησιμοποιείται για εκπέδευση (στο συγκεκριμένο μέσα στο ELemPPI παίρνει το training κομμ΄άτι του και τα GCIs αυτού\n",
        "                embed_dim=50, #διάσταση των embedding\n",
        "                learning_rate=0.001,#ρυθμός μάθησης (ρυθμός ενημέρωσης παραμέτρων εκπέδευσης σε κάθε βήμα)\n",
        "                epochs=100,#αριθμός εποχών (δλδ πλήρης επαναλήψεων εκπέδευσης)\n",
        "                batch_size=20000, #τα δείγματα που επεξεργάζονται σε κάθε βήμα\n",
        "                model_filepath=None,\n",
        "                device='cuda') #Χρήση cuda (gpu) για γρηγορότερους υπολογισμούς στο training\n",
        "\n",
        "#κλήση μεθόδου εκπέδευσης\n",
        "model.train()\n"
      ]
    },
    {
      "cell_type": "markdown",
      "metadata": {
        "id": "T76qGqvF-C0L"
      },
      "source": [
        "## Evaluation\n",
        "\n",
        "To evaluation των embeddings διαφέρει ανάλογα με το dataset. Στο συγκεκριμένο παράδειγμα, χρησιμοποιείται το PPIYeastDataset και το built-in [PPIEvaluator](https://mowl.readthedocs.io/en/latest/api/mowl.evaluation.PPIEvaluator.html#mowl.evaluation.PPIEvaluator). <b> Κάθε κλάση Evaluator χαρακτηρίζεται από δύο κύρια σημεία: τον τύπο των οντοτήτων που εμπλέκονται και τον τύπο των αξιωμάτων που θα αξιολογηθούν. </b> Στην περίπτωση του PPIEvaluator, οι εμπλεκόμενες οντότητες είναι μόνο αυτές που εκπροσωπούν πρωτεΐνες, χωρίς να λαμβάνονται υπόψη άλλες οντότητες. Τα αξιώματα που αξιολογούνται με τον PPIEvaluator είναι του τύπου \"p1 αλληλεπιδρά με p2\" (εξού και το PPI όνομα). Κάθε dataset έχει τη δική του ιδιότητα evaluation_classes, όπου καθορίζει τι είδους οντότητες ή αξιώματα θα εξεταστούν από το dataset στο πλαίσιο της αξιολόγησης."
      ]
    },
    {
      "cell_type": "code",
      "execution_count": 1,
      "metadata": {
        "id": "4HyamIoE-C0L",
        "jupyter": {
          "outputs_hidden": false
        },
        "outputId": "b9a909da-9266-4d73-f215-92ad32746309",
        "colab": {
          "base_uri": "https://localhost:8080/",
          "height": 384
        }
      },
      "outputs": [
        {
          "output_type": "error",
          "ename": "ModuleNotFoundError",
          "evalue": "No module named 'mowl'",
          "traceback": [
            "\u001b[0;31m---------------------------------------------------------------------------\u001b[0m",
            "\u001b[0;31mModuleNotFoundError\u001b[0m                       Traceback (most recent call last)",
            "\u001b[0;32m<ipython-input-1-11ede09a7444>\u001b[0m in \u001b[0;36m<cell line: 0>\u001b[0;34m()\u001b[0m\n\u001b[0;32m----> 1\u001b[0;31m \u001b[0;32mfrom\u001b[0m \u001b[0mmowl\u001b[0m\u001b[0;34m.\u001b[0m\u001b[0mevaluation\u001b[0m \u001b[0;32mimport\u001b[0m \u001b[0mPPIEvaluator\u001b[0m\u001b[0;34m\u001b[0m\u001b[0;34m\u001b[0m\u001b[0m\n\u001b[0m\u001b[1;32m      2\u001b[0m \u001b[0mmodel\u001b[0m\u001b[0;34m.\u001b[0m\u001b[0mset_evaluator\u001b[0m\u001b[0;34m(\u001b[0m\u001b[0mPPIEvaluator\u001b[0m\u001b[0;34m)\u001b[0m\u001b[0;34m\u001b[0m\u001b[0;34m\u001b[0m\u001b[0m\n\u001b[1;32m      3\u001b[0m \u001b[0mmodel\u001b[0m\u001b[0;34m.\u001b[0m\u001b[0mevaluate\u001b[0m\u001b[0;34m(\u001b[0m\u001b[0mdataset\u001b[0m\u001b[0;34m.\u001b[0m\u001b[0mtesting\u001b[0m\u001b[0;34m)\u001b[0m\u001b[0;34m\u001b[0m\u001b[0;34m\u001b[0m\u001b[0m\n\u001b[1;32m      4\u001b[0m \u001b[0;34m\u001b[0m\u001b[0m\n\u001b[1;32m      5\u001b[0m \u001b[0mdata1\u001b[0m \u001b[0;34m=\u001b[0m \u001b[0mmodel\u001b[0m\u001b[0;34m.\u001b[0m\u001b[0mmetrics\u001b[0m \u001b[0;31m#αποθήκευση αποτελεσμάτων για το ELembedding\u001b[0m\u001b[0;34m\u001b[0m\u001b[0;34m\u001b[0m\u001b[0m\n",
            "\u001b[0;31mModuleNotFoundError\u001b[0m: No module named 'mowl'",
            "",
            "\u001b[0;31m---------------------------------------------------------------------------\u001b[0;32m\nNOTE: If your import is failing due to a missing package, you can\nmanually install dependencies using either !pip or !apt.\n\nTo view examples of installing some common dependencies, click the\n\"Open Examples\" button below.\n\u001b[0;31m---------------------------------------------------------------------------\u001b[0m\n"
          ],
          "errorDetails": {
            "actions": [
              {
                "action": "open_url",
                "actionText": "Open Examples",
                "url": "/notebooks/snippets/importing_libraries.ipynb"
              }
            ]
          }
        }
      ],
      "source": [
        "from mowl.evaluation import PPIEvaluator\n",
        "model.set_evaluator(PPIEvaluator)\n",
        "model.evaluate(dataset.testing)\n",
        "\n",
        "data1 = model.metrics #αποθήκευση αποτελεσμάτων για το ELembedding\n",
        "print(data1)"
      ]
    },
    {
      "cell_type": "markdown",
      "metadata": {
        "id": "s521pgkm-C0M"
      },
      "source": [
        "## ELBox Embedding\n",
        "Στην περίπτωση των EL Embeddings, τα γεωμετρικά αντικείμενα που αναπαριστούν τις κλάσεις της οντολογίας είναι μπάλες n-διαστάσεων. Ένα από τα GCI στην EL είναι: <br>\n",
        "`C1 ⊓ C2 ⊑ D'\n",
        "Όπως είναι φανερό, σε αυτό το GCI, υπάρχει μια πράξη τομής . Η υπολογιστική αυτή τομή χρησιμοποιώντας μπάλες δεν είναι μια κλειστή πράξη διότι η περιοχή που περιέχεται στην τομή δύο μπαλών δεν είναι μπάλα. Για να λυθεί αυτό το ζήτημα, γίνεται αλλαγή γεωμετρικών αντικειμένων σε κουτιά, για τα οποία η πράξη της τομής έχει την ιδιότητα της κλειστότητας. Aυτό γίνεται με το έτοιμο μοντέλο [ELBoxPPI](https://mowl.readthedocs.io/en/latest/_modules/mowl/models/elboxembeddings/examples/model_ppi.html#ELBoxPPI) της mowl, αντιστοίχως.\n"
      ]
    },
    {
      "cell_type": "code",
      "execution_count": null,
      "metadata": {
        "id": "O-3OejFr-C0M",
        "jupyter": {
          "outputs_hidden": false
        }
      },
      "outputs": [],
      "source": [
        "from mowl.models.elboxembeddings.examples.model_ppi import ELBoxPPI\n",
        "model = ELBoxPPI(dataset,\n",
        "                 embed_dim=50,\n",
        "                 learning_rate=0.001,\n",
        "                 epochs=100,\n",
        "                 batch_size=20000,\n",
        "                 model_filepath=None,\n",
        "                 device='cuda')\n",
        "model.train()"
      ]
    },
    {
      "cell_type": "markdown",
      "metadata": {
        "id": "-yGloQ-2-C0N"
      },
      "source": [
        "Εδώ χρησιμοποιείται για άλλη μια φορά το built-in evaluator για PPIs της mowl και αποθηκεύονται τα αποτελέσματα απόδοσης του embedding."
      ]
    },
    {
      "cell_type": "code",
      "execution_count": null,
      "metadata": {
        "id": "rjyf_DEh-C0N"
      },
      "outputs": [],
      "source": [
        "from mowl.evaluation import PPIEvaluator\n",
        "\n",
        "model.set_evaluator(PPIEvaluator)\n",
        "model.evaluate(dataset.testing)\n",
        "data2= model.metrics\n",
        "print(data2)"
      ]
    },
    {
      "cell_type": "markdown",
      "metadata": {
        "id": "4Mf1bxav-C0N"
      },
      "source": [
        "## Embedding με χρήση γράφου\n",
        "### TransE Embedding\n",
        "Η αποτύπωση μίας οντολογίας σε μορφή γράφου, διευρύνει κατά πολύ τις μεθοδολογίες που μπορούν να χρησιμοποιηθούν για την παραγωγή embeddings, όπως η χρήση random walks και αλλων KGE μεθόδων, διατειρώντας την σημασιολογία μεταξύ κλάσεων και σχέσεων.\n",
        "Στο παράδειγμα αυτό, αρχικά το dataset προβάλλεται σε γράφο με χρήση του [DL2VecProjector](https://mowl.readthedocs.io/en/latest/api/mowl.projection.DL2VecProjector.html#mowl.projection.DL2VecProjector). H προβολή αυτή, ουσιαστικά παράγει [τριπλέτες για το pyKEEN μοντέλο](https://mowl.readthedocs.io/en/stable/api/mowl.projection.Edge.html#mowl.projection.Edge), ιδανικές δηλαδή για χρήση TransE embedding.<br>\n",
        "Tο [TransE](https://arxiv.org/pdf/2406.10964) αντιπροσωπεύει τις οντότητες (ℎ, 𝑡) και τις σχέσεις (𝑟) ενός γράφου γνώσης ως διανύσματα στον ίδιο χώρο. Ο βασικός στόχος του TransE είναι να μοντελοποιήσει τις σχέσεις μεταξύ των οντοτήτων ως μετατοπίσεις στον χώρο. Ουσιαστικά η εξίσωση που προσπαθεί να λύσει είναι η εξής: ℎ+𝑟≈𝑡 <br>"
      ]
    },
    {
      "cell_type": "code",
      "execution_count": null,
      "metadata": {
        "id": "s74TsZO8-C0N",
        "scrolled": true
      },
      "outputs": [],
      "source": [
        "from mowl.models import GraphPlusPyKEENModel\n",
        "from mowl.projection import DL2VecProjector\n",
        "from pykeen.models import TransE\n",
        "\n",
        "model = GraphPlusPyKEENModel(dataset,device='cuda')\n",
        "model.set_projector(DL2VecProjector()) #προβολή του dataset σε γράφο\n",
        "model.set_kge_method(TransE, random_seed=42) #χρηση του transE για την παραγωγη embedding στον γράφο γνώσης\n",
        "model.optimizer = th.optim.Adam\n",
        "model.lr = 0.001\n",
        "model.batch_size = 32\n",
        "\n",
        "model.train(epochs = 20) #εκπέδευση μοντελου\n",
        "\n",
        "\n",
        "\n"
      ]
    },
    {
      "cell_type": "markdown",
      "metadata": {
        "id": "BtutG3sn-C0N"
      },
      "source": [
        "Evaluation μοντέλου με χρήση του PPIEvaluator και αποθήκευση μετρικών απόδοσης."
      ]
    },
    {
      "cell_type": "code",
      "execution_count": null,
      "metadata": {
        "id": "UCXVZ-cL-C0O"
      },
      "outputs": [],
      "source": [
        "model.set_evaluator(PPIEvaluator)\n",
        "model.evaluate(dataset.testing)\n",
        "data3= model.metrics"
      ]
    },
    {
      "cell_type": "markdown",
      "metadata": {
        "id": "SA92HaBX-C0O"
      },
      "source": [
        "## Συνακτικα μοντελα\n",
        "### OPA2Vec  <br>\n",
        "Για τα συνακτικά μοντέλα, απαραίτητη είναι η αναπαράσταση των αξιωμάτων σε μορφή text, ώστε στην συνέχεια με την χρήση ενός μοντέλου όπως το [Word2Vec](https://mowl.readthedocs.io/en/stable/api/mowl.models.SyntacticPlusW2VModel.html#mowl.models.SyntacticPlusW2VModel),για να παραχθούν τα embedding. Στο συγκεκριμένο παράδειγμα, χρησιμοποιούνται και reasoners για να δημιουργηθούν και αξιώματα υποκλάσης και εξίσωσης κλάσεων. Επιπλέον, χρησιμοποιείται άτυπη γνώση όπως μεταδεδομένα οντοτήτων (πχ συνώνημα, ορισμοί) με την χρήση του \"extract_and_save_annotation_corpus\" της [mowl.corpus](https://mowl.readthedocs.io/en/stable/api/corpus/index.html), όπου είναι και η διαφορά του μοντέλου από το [Onto2Vec](https://mowl.readthedocs.io/en/stable/examples/syntactic/plot_1_onto2vec.html#sphx-glr-examples-syntactic-plot-1-onto2vec-py).\n"
      ]
    },
    {
      "cell_type": "code",
      "execution_count": null,
      "metadata": {
        "id": "wZqc7Vvr-C0O"
      },
      "outputs": [],
      "source": [
        "from mowl.corpus import extract_and_save_axiom_corpus, extract_and_save_annotation_corpus\n",
        "from mowl.owlapi import OWLAPIAdapter\n",
        "from mowl.reasoning import MOWLReasoner\n",
        "from org.semanticweb.elk.owlapi import ElkReasonerFactory\n",
        "from java.util import HashSet\n",
        "from mowl.models import SyntacticPlusW2VModel\n",
        "import os\n",
        "logging.basicConfig(level=logging.WARNING)\n",
        "reasoner_factory = ElkReasonerFactory()\n",
        "reasoner = reasoner_factory.createReasoner(dataset.ontology)\n",
        "mowl_reasoner = MOWLReasoner(reasoner)\n",
        "\n",
        "classes = dataset.ontology.getClassesInSignature()\n",
        "subclass_axioms = mowl_reasoner.infer_subclass_axioms(classes) #αξιωματα υποκλάσεων\n",
        "equivalent_class_axioms = mowl_reasoner.infer_equivalent_class_axioms(classes) #αξιωματα εξισωσης κλάσεων\n",
        "\n",
        "adapter = OWLAPIAdapter()\n",
        "manager = adapter.owl_manager\n",
        "\n",
        "axioms = HashSet()\n",
        "axioms.addAll(subclass_axioms)\n",
        "axioms.addAll(equivalent_class_axioms)\n",
        "\n",
        "manager.addAxioms(dataset.ontology, axioms) #προσθηκη των αξιωματων που παρηχθηκαν απο το reasoner στην οντολογία που χρησιμοποιείται\n",
        "\n",
        "extract_and_save_axiom_corpus(dataset.ontology, \"opa2vec_corpus.txt\") #αποθηκευση ολων των αξιωματων που υπηρχαν και παράχθηκαν σε μορφη text\n",
        "extract_and_save_annotation_corpus(dataset.ontology, \"opa2vec_corpus.txt\", mode=\"a\") #επεκταση text με μεταδεδομένα όπως ορισμοί και περιγραφές στιγμιοτύπων\n",
        "\n",
        "\n",
        "model = SyntacticPlusW2VModel(dataset, corpus_filepath=\"opa2vec_corpus.txt\") #Word2Vec στο text για παραγωγη embedding\n",
        "model.set_w2v_model(min_count=1, workers=4, epochs=20)\n",
        "model.generate_corpus(save=True, with_annotations=True)\n",
        "model.train()\n",
        "os.remove(\"opa2vec_corpus.txt\")\n"
      ]
    },
    {
      "cell_type": "markdown",
      "metadata": {
        "id": "w09kU0pk-C0O"
      },
      "source": [
        "## Evaluation του OPA2Vec\n",
        "Για άλλη μια φορά χρησιμοποείται το PPIEvaluator όπως και πάνω."
      ]
    },
    {
      "cell_type": "code",
      "execution_count": null,
      "metadata": {
        "id": "yWwOAJc2-C0O"
      },
      "outputs": [],
      "source": [
        "model.set_evaluator(PPIEvaluator)\n",
        "model.evaluate(dataset.testing)\n",
        "data4= model.metrics\n"
      ]
    },
    {
      "cell_type": "markdown",
      "metadata": {
        "id": "RizkszBf-C0P"
      },
      "source": [
        "### Ευνοϊκή για σύγκριση αναπαράσταση αποδόσεων των μοντέλων με χρήση DataFrame της βιβλιοθήκης pandas."
      ]
    },
    {
      "cell_type": "code",
      "execution_count": null,
      "metadata": {
        "id": "CcoM8dQJ-C0P"
      },
      "outputs": [],
      "source": [
        "import pandas as pd\n",
        "df = pd.DataFrame([data1, data2, data3,data4], index=['Model 1', 'Model 2', 'Model 3', 'Model 4'])\n",
        "\n",
        "pd.set_option('display.float_format', lambda x: f'{x:.6f}') #δεκαδική μορφή\n",
        "print(df)"
      ]
    }
  ],
  "metadata": {
    "colab": {
      "provenance": [],
      "gpuType": "T4"
    },
    "kernelspec": {
      "display_name": "Python 3",
      "name": "python3"
    },
    "language_info": {
      "codemirror_mode": {
        "name": "ipython",
        "version": 3
      },
      "file_extension": ".py",
      "mimetype": "text/x-python",
      "name": "python",
      "nbconvert_exporter": "python",
      "pygments_lexer": "ipython3",
      "version": "3.10.11"
    },
    "accelerator": "GPU"
  },
  "nbformat": 4,
  "nbformat_minor": 0
}