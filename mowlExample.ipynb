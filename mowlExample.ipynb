{
 "cells": [
  {
   "cell_type": "markdown",
   "metadata": {
    "id": "_QjceqWg-C0F"
   },
   "source": [
    "To notepad αυτό αποτελεί ένα \"hello-world\" για την χρήση της βιβλιοθήκης [mOWL](https://mowl.readthedocs.io/en/latest/index.html). Ο σκοπός είναι να στηθεί ένα απλό παράδειγμα που επιδεικνύει τη χρήση της mOWL για την αναγνώριση \"ακμών\" ενός γράφου γνώσης (ΓΓ).\n",
    "\n",
    "**Προσοχή: πριν να τρέξει ο κώδικας του github θα πρέπει να έχει εγκατασταθεί στο virtual environment το πακέτο της βιβλιοθήκης mOWL (!pip install mowl-borg). Αυτή η διαδικασία γίνεται \"χειροκίνητα\" από τον κάθε χρήστη που εκτελεί το collab. Επιπλέον, εάν το notebook τρέχει στο google colab, πρέπει να επιλεχθεί από το menu, η επιλογή Runtime -> Change runtime type και να επιλεχθεί ένα διαθέσιμο GPU. Αυτό γίνεται γιατί τα μοντέλα τρέχουν με χρήση CUDA, για γρηγορότερο χρόνο εκπέδευσης** </h5>"
   ]
  },
  {
   "cell_type": "code",
   "execution_count": 1,
   "metadata": {
    "colab": {
     "base_uri": "https://localhost:8080/"
    },
    "id": "8My_2PMm-D9a",
    "outputId": "28c6e915-6307-4548-e456-db1c416f14d0"
   },
   "outputs": [
    {
     "name": "stdout",
     "output_type": "stream",
     "text": [
      "Requirement already satisfied: mowl-borg in c:\\users\\dalla\\appdata\\local\\programs\\python\\python310\\lib\\site-packages (1.0.1)\n",
      "Requirement already satisfied: click in c:\\users\\dalla\\appdata\\local\\programs\\python\\python310\\lib\\site-packages (from mowl-borg) (8.1.8)\n",
      "Requirement already satisfied: deprecated in c:\\users\\dalla\\appdata\\local\\programs\\python\\python310\\lib\\site-packages (from mowl-borg) (1.2.15)\n",
      "Requirement already satisfied: gensim>=4.3.0 in c:\\users\\dalla\\appdata\\local\\programs\\python\\python310\\lib\\site-packages (from mowl-borg) (4.3.3)\n",
      "Requirement already satisfied: JPype1==1.5.0 in c:\\users\\dalla\\appdata\\local\\programs\\python\\python310\\lib\\site-packages (from mowl-borg) (1.5.0)\n",
      "Requirement already satisfied: matplotlib in c:\\users\\dalla\\appdata\\local\\programs\\python\\python310\\lib\\site-packages (from mowl-borg) (3.10.0)\n",
      "Requirement already satisfied: networkx in c:\\users\\dalla\\appdata\\local\\programs\\python\\python310\\lib\\site-packages (from mowl-borg) (3.4.2)\n",
      "Requirement already satisfied: numpy in c:\\users\\dalla\\appdata\\local\\programs\\python\\python310\\lib\\site-packages (from mowl-borg) (1.26.4)\n",
      "Requirement already satisfied: pandas in c:\\users\\dalla\\appdata\\local\\programs\\python\\python310\\lib\\site-packages (from mowl-borg) (2.2.3)\n",
      "Requirement already satisfied: pykeen==1.11.0 in c:\\users\\dalla\\appdata\\local\\programs\\python\\python310\\lib\\site-packages (from mowl-borg) (1.11.0)\n",
      "Requirement already satisfied: pyyaml in c:\\users\\dalla\\appdata\\local\\programs\\python\\python310\\lib\\site-packages (from mowl-borg) (6.0.2)\n",
      "Requirement already satisfied: requests in c:\\users\\dalla\\appdata\\local\\programs\\python\\python310\\lib\\site-packages (from mowl-borg) (2.32.3)\n",
      "Requirement already satisfied: scikit-learn in c:\\users\\dalla\\appdata\\local\\programs\\python\\python310\\lib\\site-packages (from mowl-borg) (1.6.0)\n",
      "Requirement already satisfied: scipy<1.15.0 in c:\\users\\dalla\\appdata\\local\\programs\\python\\python310\\lib\\site-packages (from mowl-borg) (1.13.1)\n",
      "Requirement already satisfied: temp in c:\\users\\dalla\\appdata\\local\\programs\\python\\python310\\lib\\site-packages (from mowl-borg) (2020.7.2)\n",
      "Requirement already satisfied: tqdm in c:\\users\\dalla\\appdata\\local\\programs\\python\\python310\\lib\\site-packages (from mowl-borg) (4.67.1)\n",
      "Requirement already satisfied: torch in c:\\users\\dalla\\appdata\\local\\programs\\python\\python310\\lib\\site-packages (from mowl-borg) (2.5.1+cu118)\n",
      "Requirement already satisfied: urllib3 in c:\\users\\dalla\\appdata\\local\\programs\\python\\python310\\lib\\site-packages (from mowl-borg) (2.3.0)\n",
      "Requirement already satisfied: packaging in c:\\users\\dalla\\appdata\\local\\programs\\python\\python310\\lib\\site-packages (from JPype1==1.5.0->mowl-borg) (24.2)\n",
      "Requirement already satisfied: dataclasses-json in c:\\users\\dalla\\appdata\\local\\programs\\python\\python310\\lib\\site-packages (from pykeen==1.11.0->mowl-borg) (0.6.7)\n",
      "Requirement already satisfied: click-default-group in c:\\users\\dalla\\appdata\\local\\programs\\python\\python310\\lib\\site-packages (from pykeen==1.11.0->mowl-borg) (1.2.4)\n",
      "Requirement already satisfied: optuna>=2.0.0 in c:\\users\\dalla\\appdata\\local\\programs\\python\\python310\\lib\\site-packages (from pykeen==1.11.0->mowl-borg) (4.1.0)\n",
      "Requirement already satisfied: tabulate in c:\\users\\dalla\\appdata\\local\\programs\\python\\python310\\lib\\site-packages (from pykeen==1.11.0->mowl-borg) (0.9.0)\n",
      "Requirement already satisfied: more-click in c:\\users\\dalla\\appdata\\local\\programs\\python\\python310\\lib\\site-packages (from pykeen==1.11.0->mowl-borg) (0.1.2)\n",
      "Requirement already satisfied: more-itertools in c:\\users\\dalla\\appdata\\local\\programs\\python\\python310\\lib\\site-packages (from pykeen==1.11.0->mowl-borg) (10.5.0)\n",
      "Requirement already satisfied: pystow>=0.4.3 in c:\\users\\dalla\\appdata\\local\\programs\\python\\python310\\lib\\site-packages (from pykeen==1.11.0->mowl-borg) (0.6.1)\n",
      "Requirement already satisfied: docdata in c:\\users\\dalla\\appdata\\local\\programs\\python\\python310\\lib\\site-packages (from pykeen==1.11.0->mowl-borg) (0.0.4)\n",
      "Requirement already satisfied: class-resolver>=0.5.1 in c:\\users\\dalla\\appdata\\local\\programs\\python\\python310\\lib\\site-packages (from pykeen==1.11.0->mowl-borg) (0.5.4)\n",
      "Requirement already satisfied: torch-max-mem>=0.1.1 in c:\\users\\dalla\\appdata\\local\\programs\\python\\python310\\lib\\site-packages (from pykeen==1.11.0->mowl-borg) (0.1.3)\n",
      "Requirement already satisfied: torch-ppr>=0.0.7 in c:\\users\\dalla\\appdata\\local\\programs\\python\\python310\\lib\\site-packages (from pykeen==1.11.0->mowl-borg) (0.0.8)\n",
      "Requirement already satisfied: typing-extensions in c:\\users\\dalla\\appdata\\local\\programs\\python\\python310\\lib\\site-packages (from pykeen==1.11.0->mowl-borg) (4.12.2)\n",
      "Requirement already satisfied: smart-open>=1.8.1 in c:\\users\\dalla\\appdata\\local\\programs\\python\\python310\\lib\\site-packages (from gensim>=4.3.0->mowl-borg) (7.1.0)\n",
      "Requirement already satisfied: python-dateutil>=2.8.2 in c:\\users\\dalla\\appdata\\local\\programs\\python\\python310\\lib\\site-packages (from pandas->mowl-borg) (2.9.0.post0)\n",
      "Requirement already satisfied: pytz>=2020.1 in c:\\users\\dalla\\appdata\\local\\programs\\python\\python310\\lib\\site-packages (from pandas->mowl-borg) (2024.2)\n",
      "Requirement already satisfied: tzdata>=2022.7 in c:\\users\\dalla\\appdata\\local\\programs\\python\\python310\\lib\\site-packages (from pandas->mowl-borg) (2024.2)\n",
      "Requirement already satisfied: filelock in c:\\users\\dalla\\appdata\\local\\programs\\python\\python310\\lib\\site-packages (from torch->mowl-borg) (3.16.1)\n",
      "Requirement already satisfied: jinja2 in c:\\users\\dalla\\appdata\\local\\programs\\python\\python310\\lib\\site-packages (from torch->mowl-borg) (3.1.5)\n",
      "Requirement already satisfied: fsspec in c:\\users\\dalla\\appdata\\local\\programs\\python\\python310\\lib\\site-packages (from torch->mowl-borg) (2024.12.0)\n",
      "Requirement already satisfied: sympy==1.13.1 in c:\\users\\dalla\\appdata\\local\\programs\\python\\python310\\lib\\site-packages (from torch->mowl-borg) (1.13.1)\n",
      "Requirement already satisfied: mpmath<1.4,>=1.1.0 in c:\\users\\dalla\\appdata\\local\\programs\\python\\python310\\lib\\site-packages (from sympy==1.13.1->torch->mowl-borg) (1.3.0)\n",
      "Requirement already satisfied: colorama in c:\\users\\dalla\\appdata\\local\\programs\\python\\python310\\lib\\site-packages (from click->mowl-borg) (0.4.6)\n",
      "Requirement already satisfied: wrapt<2,>=1.10 in c:\\users\\dalla\\appdata\\local\\programs\\python\\python310\\lib\\site-packages (from deprecated->mowl-borg) (1.17.0)\n",
      "Requirement already satisfied: contourpy>=1.0.1 in c:\\users\\dalla\\appdata\\local\\programs\\python\\python310\\lib\\site-packages (from matplotlib->mowl-borg) (1.3.1)\n",
      "Requirement already satisfied: cycler>=0.10 in c:\\users\\dalla\\appdata\\local\\programs\\python\\python310\\lib\\site-packages (from matplotlib->mowl-borg) (0.12.1)\n",
      "Requirement already satisfied: fonttools>=4.22.0 in c:\\users\\dalla\\appdata\\local\\programs\\python\\python310\\lib\\site-packages (from matplotlib->mowl-borg) (4.55.3)\n",
      "Requirement already satisfied: kiwisolver>=1.3.1 in c:\\users\\dalla\\appdata\\local\\programs\\python\\python310\\lib\\site-packages (from matplotlib->mowl-borg) (1.4.8)\n",
      "Requirement already satisfied: pillow>=8 in c:\\users\\dalla\\appdata\\local\\programs\\python\\python310\\lib\\site-packages (from matplotlib->mowl-borg) (11.0.0)\n",
      "Requirement already satisfied: pyparsing>=2.3.1 in c:\\users\\dalla\\appdata\\local\\programs\\python\\python310\\lib\\site-packages (from matplotlib->mowl-borg) (3.2.0)\n",
      "Requirement already satisfied: charset-normalizer<4,>=2 in c:\\users\\dalla\\appdata\\local\\programs\\python\\python310\\lib\\site-packages (from requests->mowl-borg) (3.4.1)\n",
      "Requirement already satisfied: idna<4,>=2.5 in c:\\users\\dalla\\appdata\\local\\programs\\python\\python310\\lib\\site-packages (from requests->mowl-borg) (3.10)\n",
      "Requirement already satisfied: certifi>=2017.4.17 in c:\\users\\dalla\\appdata\\local\\programs\\python\\python310\\lib\\site-packages (from requests->mowl-borg) (2024.12.14)\n",
      "Requirement already satisfied: joblib>=1.2.0 in c:\\users\\dalla\\appdata\\local\\programs\\python\\python310\\lib\\site-packages (from scikit-learn->mowl-borg) (1.4.2)\n",
      "Requirement already satisfied: threadpoolctl>=3.1.0 in c:\\users\\dalla\\appdata\\local\\programs\\python\\python310\\lib\\site-packages (from scikit-learn->mowl-borg) (3.5.0)\n",
      "Requirement already satisfied: alembic>=1.5.0 in c:\\users\\dalla\\appdata\\local\\programs\\python\\python310\\lib\\site-packages (from optuna>=2.0.0->pykeen==1.11.0->mowl-borg) (1.14.0)\n",
      "Requirement already satisfied: colorlog in c:\\users\\dalla\\appdata\\local\\programs\\python\\python310\\lib\\site-packages (from optuna>=2.0.0->pykeen==1.11.0->mowl-borg) (6.9.0)\n",
      "Requirement already satisfied: sqlalchemy>=1.4.2 in c:\\users\\dalla\\appdata\\local\\programs\\python\\python310\\lib\\site-packages (from optuna>=2.0.0->pykeen==1.11.0->mowl-borg) (2.0.36)\n",
      "Requirement already satisfied: six>=1.5 in c:\\users\\dalla\\appdata\\local\\programs\\python\\python310\\lib\\site-packages (from python-dateutil>=2.8.2->pandas->mowl-borg) (1.17.0)\n",
      "Requirement already satisfied: marshmallow<4.0.0,>=3.18.0 in c:\\users\\dalla\\appdata\\local\\programs\\python\\python310\\lib\\site-packages (from dataclasses-json->pykeen==1.11.0->mowl-borg) (3.23.2)\n",
      "Requirement already satisfied: typing-inspect<1,>=0.4.0 in c:\\users\\dalla\\appdata\\local\\programs\\python\\python310\\lib\\site-packages (from dataclasses-json->pykeen==1.11.0->mowl-borg) (0.9.0)\n",
      "Requirement already satisfied: MarkupSafe>=2.0 in c:\\users\\dalla\\appdata\\local\\programs\\python\\python310\\lib\\site-packages (from jinja2->torch->mowl-borg) (3.0.2)\n",
      "Requirement already satisfied: Mako in c:\\users\\dalla\\appdata\\local\\programs\\python\\python310\\lib\\site-packages (from alembic>=1.5.0->optuna>=2.0.0->pykeen==1.11.0->mowl-borg) (1.3.8)\n",
      "Requirement already satisfied: greenlet!=0.4.17 in c:\\users\\dalla\\appdata\\local\\programs\\python\\python310\\lib\\site-packages (from sqlalchemy>=1.4.2->optuna>=2.0.0->pykeen==1.11.0->mowl-borg) (3.1.1)\n",
      "Requirement already satisfied: mypy-extensions>=0.3.0 in c:\\users\\dalla\\appdata\\local\\programs\\python\\python310\\lib\\site-packages (from typing-inspect<1,>=0.4.0->dataclasses-json->pykeen==1.11.0->mowl-borg) (1.0.0)\n"
     ]
    }
   ],
   "source": [
    "!pip install mowl-borg"
   ]
  },
  {
   "cell_type": "markdown",
   "metadata": {},
   "source": [
    "## Αρχικοποίηση\n",
    "Αρχικά εισάγεται η βιβλιοθήκη mowl και η torch\n",
    "και αρχικοποιείται η διαθέσιμη προς χρήση μνήμη για το Java Virtual Machine ως 10 Gigabytes. <br>\n",
    "Η βιβλιοθήκη [mOWL](https://mowl.readthedocs.io/en/latest/) είναι μια βιβλιοθήκη που έχει σχεδιαστεί για να υποστηρίζει τη Μηχανική Μάθηση με Οντολογίες, προσφέροντας λειτουργίες για τη διαχείριση οντολογιών και τη δημιουργία αναπαραστάσεων σε μορφή διανυσμάτων (embeddings) για τις οντότητες τους. Αξιοποιεί την [OWLAPI](https://github.com/owlcs/owlapi/wiki/Documentation), μια βιβλιοθήκη γραμμένη σε Java, μέσω του JPype και για αυτό τον λόγο είναι αναγκαία και η αρχικοποίηση μνήμης στο JVM.\n",
    "Η [Torch](https://pytorch.org/docs/stable/index.html) παρέχει ισχυρά εργαλεία για την εκπαίδευση και τη χρήση αλγορίθμων μηχανικής μάθησης και νευρωνικών δικτύων."
   ]
  },
  {
   "cell_type": "code",
   "execution_count": 2,
   "metadata": {
    "collapsed": false,
    "id": "MpNa7bF9-C0H",
    "jupyter": {
     "outputs_hidden": false
    }
   },
   "outputs": [
    {
     "name": "stderr",
     "output_type": "stream",
     "text": [
      "\n",
      "KeyboardInterrupt\n",
      "\n"
     ]
    }
   ],
   "source": [
    "import mowl\n",
    "mowl.init_jvm(\"10g\")\n",
    "import torch as th"
   ]
  },
  {
   "cell_type": "markdown",
   "metadata": {
    "id": "TFUjr8rN-C0H"
   },
   "source": [
    "### Dataset που χρησιμοποιείται:\n",
    "Το dataset που χρησιμοποιείται είναι το [PPIYeastDataset](https://mowl.readthedocs.io/en/latest/api/mowl.datasets.builtin.PPIYeastDataset.html#mowl.datasets.builtin.PPIYeastDataset) το οποίο είναι built-in στη βιβλιοθήκη mowl. Το dataset αυτό περιλαμβάνει protein-protein interactions που αφορούν τον συγκεκριμένο μήκυτα και οι σχέσεις μεταξύ πρωτεϊνών αναπαραστούνται σαν αξιώματα με τον παρακάτω τρόπο: <br>\n",
    "<b>protein1 ⊆ interacts_with.protein2</b> \n"
   ]
  },
  {
   "cell_type": "markdown",
   "metadata": {
    "id": "H4nUtPx4-C0I"
   },
   "source": [
    "## EL-embedding μοντέλο\n",
    "H mOWL μπορεί να παράξει embeddings με πολλούς τρόπους. Το [EL-embedding μοντέλο](https://mowl.readthedocs.io/en/latest/examples/elmodels/plot_1_elembeddings.html#sphx-glr-examples-elmodels-plot-1-elembeddings-py), είναι ένας από αυτούς. \n",
    "Το EL profile, είναι ένα lightweight profile της OWL που υποστηρίζει βασικές εκφράσεις λογικής περιγραφών, καθιστώντας το ιδιαίτερα χρήσιμο για μεγάλα datasets με απλές ιεραρχίες.\n",
    "Η διαδικασία μετασχηματισμού που ακολουθείται βασίζεται στα semantics του profile EL της [OWL](https://www.w3.org/TR/owl2-profiles/).\n",
    "Το EL profile βασίζεται στα εξής General Concept Inclusions (CGIs):\n",
    "\n",
    "**GCI 0** - `C ⊑ D`: Περιγράφει ότι κάθε στοιχείο της κλάσης 𝐶 ανήκει και στην κλάση D. <br>\n",
    "**GCI 1** - `C1 ⊓ C2 ⊑ D`: Περιγράφει ότι αν κάτι ανήκει στην κλάση C1 και στην κλάση C2, τότε ανήκει και στην κλάση D<br>\n",
    "**GCI 2** - `C ⊑ ∃R.D`: Περιγράφει ότι όλα τα μέλη της κλάσης C πρέπει να έχουν μια σχέση R με τουλάχιστον ένα αντικείμενο που ανήκει στην κλάση D<br>\n",
    "**GCI 3** - `∃R.C ⊑ D`: Περιγράφει ότι αν υπάρχει μια σχέση R που συνδέει κάποιο αντικείμενο με ένα μέλος της κλάσης C, τότε το αντικείμενο αυτό ανήκει στην κλάση D.<br>\n",
    "**GCI bot 0** - `C ⊑ ⊥`: Περιγράφει ότι δεν υπάρχει κάποιο αντικείμενο στην κλάση C.<br>\n",
    "**GCI bot 1** - `C1 ⊓ C2 ⊑ ⊥`: Περιγράφει ότι η τομή των κλάσεων C1 και C2 είναι κενή<br>\n",
    "**GCI bot 3** - `∃R.C ⊑ ⊥`: Περιγράφει ότι δεν υπάρχει αντικείμενο που να έχει μια σχέση R προς κάτι που ανήκει στην κλάση C.<br>\n",
    "\n",
    "όπου τα C1, C2, D είναι κλάσεις, το R αντιστοιχεί σε μια ιδιότητα.\n",
    "Ουσιαστικά, τα GCIs αποτυπώνουν τους \"κανόνες\" που μπορούμε να χρησιμοποιήσουμε για να περιγράψουμε γνώση με το συγκεκριμένο OWL profile.\n",
    "\n",
    "Το [EL-embedding](https://arxiv.org/pdf/1902.10499) αποσκοπεί στο να μεταφέρει τις κλάσεις και τις σχέσεις σε μια γεωμετρική διάσταση (όπως έναν n-διάστατο πραγματικό χώρο). Ο στόχος είναι να διατηρηθεί η σημασιολογική δομή της οντολογίας μέσα σε αυτόν τον γεωμετρικό χώρο.\n",
    "Για να επιτευχθεί αυτό αντιστοιχεί κάθε κλάση σε μια n-διάστατη σφαίρα. Οι σχέσεις μεταξύ κλάσεων αντιστοιχίζονται σε διανύσματα σε αυτόν τον χώρο.\n",
    "Το μοντέλο χρησιμοποιεί συναρτήσεις απώλειας για να διασφαλίσει ότι η γεωμετρική αναπαράσταση της οντολογίας διατηρεί τις λογικές σχέσεις μεταξύ των κλάσεων και των σχέσεων. Για παράδειγμα, αν μια κλάση είναι υποκλάση μιας άλλης, η αντίστοιχη n-μπάλα που αναπαριστά την πρώτη κλάση θα πρέπει να βρίσκεται μέσα στην n-μπάλα της δεύτερης.Κάθε σημείο μέσα στην n-σφαίρα, είναι και ένα πιθανό αντικείμενο αυτής της κλάσης, \n",
    "Ορίζεται λοιπόν για κάθε ένα GCI μια απώλεια και το άθρισμα τους, χρησιμοποιείται για την δυνατόν καλύτερη προσαρμογή των σφαιρών στου κανόνες του EL Profile.  \n",
    "Για τα PPI, υπάρχει [έτοιμο μοντέλο για EL embedding](https://mowl.readthedocs.io/en/latest/_modules/mowl/models/elembeddings/examples/model_ppi.html#ELEmPPI) αλλά παρέχεται και ένα γενικότερο μοντέλο που μπορεί να προσαρμοστεί για οποιοδήποτε dataset. <br>\n",
    "\n"
   ]
  },
  {
   "cell_type": "markdown",
   "metadata": {
    "id": "xH4XK7nJ-C0I"
   },
   "source": [
    "## Εκπέδευη μοντέλου EL embedding\n",
    "Στις παραμέτρους του ELEmPPI μπορούν να δοκιμαστούν διάφορες τιμές για κάθε όρισμα"
   ]
  },
  {
   "cell_type": "code",
   "execution_count": null,
   "metadata": {
    "collapsed": false,
    "id": "eu2vtj9I-C0J",
    "jupyter": {
     "outputs_hidden": false
    },
    "outputId": "0a3789c0-2c14-4013-885a-954e95daa788"
   },
   "outputs": [],
   "source": [
    "import logging\n",
    "from mowl.datasets.builtin import PPIYeastDataset\n",
    "from mowl.models import ELEmPPI\n",
    "\n",
    "# logging να αγνοεί τα info μηνύματα\n",
    "logging.basicConfig(level=logging.WARNING)\n",
    "\n",
    "# dataset που χρησιμοποιείται (το συγκεκριμένο είναι built-in)\n",
    "dataset = PPIYeastDataset()\n",
    "\n",
    "# initialize model with the required parameters\n",
    "model = ELEmPPI(dataset, #το dataset που χρησιμοποιείται για εκπέδευση (στο συγκεκριμένο μέσα στο ELemPPI παίρνει το training κομμ΄άτι του και τα GCIs αυτού\n",
    "                embed_dim=50, #διάσταση των embedding\n",
    "                learning_rate=0.001,#ρυθμός μάθησης (ρυθμός ενημέρωσης παραμέτρων εκπέδευσης σε κάθε βήμα)\n",
    "                epochs=100,#αριθμός εποχών (δλδ πλήρης επαναλήψεων εκπέδευσης)\n",
    "                batch_size=20000, #τα δείγματα που επεξεργάζονται σε κάθε βήμα\n",
    "                model_filepath=None,\n",
    "                device='cuda') #Χρήση cuda (gpu) για γρηγορότερους υπολογισμούς στο training\n",
    "\n",
    "#κλήση μεθόδου εκπέδευσης\n",
    "model.train()\n"
   ]
  },
  {
   "cell_type": "markdown",
   "metadata": {
    "id": "T76qGqvF-C0L"
   },
   "source": [
    "## Evaluating\n",
    "\n",
    "To evaluation των embeddings διαφέρει ανάλογα με το dataset. Στο συγκεκριμένο παράδειγμα, χρησιμοποιείται το PPIYeastDataset και το built-in [PPIEvaluator](https://mowl.readthedocs.io/en/latest/api/mowl.evaluation.PPIEvaluator.html#mowl.evaluation.PPIEvaluator). <b> Κάθε κλάση Evaluator χαρακτηρίζεται από δύο κύρια σημεία: τον τύπο των οντοτήτων που εμπλέκονται και τον τύπο των αξιωμάτων που θα αξιολογηθούν. </b> Στην περίπτωση του PPIEvaluator, οι εμπλεκόμενες οντότητες είναι μόνο αυτές που εκπροσωπούν πρωτεΐνες, χωρίς να λαμβάνονται υπόψη άλλες οντότητες. Τα αξιώματα που αξιολογούνται με τον PPIEvaluator είναι του τύπου \"p1 αλληλεπιδρά με p2\" (εξού και το PPI όνομα). Κάθε dataset έχει τη δική του ιδιότητα evaluation_classes, όπου καθορίζει τι είδους οντότητες ή αξιώματα θα εξεταστούν από το dataset στο πλαίσιο της αξιολόγησης."
   ]
  },
  {
   "cell_type": "code",
   "execution_count": null,
   "metadata": {
    "collapsed": false,
    "id": "4HyamIoE-C0L",
    "jupyter": {
     "outputs_hidden": false
    }
   },
   "outputs": [],
   "source": [
    "from mowl.evaluation import PPIEvaluator\n",
    "model.set_evaluator(PPIEvaluator)\n",
    "model.evaluate(dataset.testing)\n",
    "\n",
    "data1 = model.metrics #αποθήκευση αποτελεσμάτων για το ELembedding\n",
    "print(data1)"
   ]
  },
  {
   "cell_type": "markdown",
   "metadata": {
    "id": "s521pgkm-C0M"
   },
   "source": [
    "## ELBox Embedding\n",
    "Στην περίπτωση των EL Embeddings, τα γεωμετρικά αντικείμενα που αναπαριστούν τις κλάσεις της οντολογίας είναι μπάλες n-διαστάσεων. Ένα από τα GCI στην EL είναι: <br>\n",
    "`C1 ⊓ C2 ⊑ D'\n",
    "Όπως είναι φανερό, σε αυτό το GCI, υπάρχει μια πράξη τομής . Η υπολογιστική αυτή τομή χρησιμοποιώντας μπάλες δεν είναι μια κλειστή πράξη διότι η περιοχή που περιέχεται στην τομή δύο μπαλών δεν είναι μπάλα. Για να λυθεί αυτό το ζήτημα, γίνεται αλλαγή γεωμετρικών αντικειμένων σε κουτιά, για τα οποία η πράξη της τομής έχει την ιδιότητα της κλειστότητας. Aυτό γίνεται με το έτοιμο μοντέλο [ELBoxPPI](https://mowl.readthedocs.io/en/latest/_modules/mowl/models/elboxembeddings/examples/model_ppi.html#ELBoxPPI) της mowl, αντιστοίχως.\n"
   ]
  },
  {
   "cell_type": "code",
   "execution_count": null,
   "metadata": {
    "collapsed": false,
    "id": "O-3OejFr-C0M",
    "jupyter": {
     "outputs_hidden": false
    },
    "outputId": "bfc24bcc-b941-444f-f513-896b12c16acd"
   },
   "outputs": [],
   "source": [
    "from mowl.models.elboxembeddings.examples.model_ppi import ELBoxPPI\n",
    "model = ELBoxPPI(dataset,\n",
    "                 embed_dim=50,\n",
    "                 learning_rate=0.001,\n",
    "                 epochs=100,\n",
    "                 batch_size=20000,\n",
    "                 model_filepath=None,\n",
    "                 device='cuda')\n",
    "model.train()"
   ]
  },
  {
   "cell_type": "markdown",
   "metadata": {
    "id": "-yGloQ-2-C0N"
   },
   "source": [
    "Εδώ χρησιμοποιείται για άλλη μια φορά το built-in evaluator για PPIs της mowl και αποθηκεύονται τα αποτελέσματα απόδοσης του embedding."
   ]
  },
  {
   "cell_type": "code",
   "execution_count": null,
   "metadata": {
    "id": "rjyf_DEh-C0N"
   },
   "outputs": [],
   "source": [
    "from mowl.evaluation import PPIEvaluator\n",
    "\n",
    "model.set_evaluator(PPIEvaluator)\n",
    "model.evaluate(dataset.testing)\n",
    "data2= model.metrics\n",
    "print(data2)"
   ]
  },
  {
   "cell_type": "markdown",
   "metadata": {
    "id": "4Mf1bxav-C0N"
   },
   "source": [
    "## Embedding με χρήση γράφου\n",
    "### TransE Embedding\n",
    "Η αποτύπωση μίας οντολογίας σε μορφή γράφου, διευρύνει κατά πολύ τις μεθοδολογίες που μπορούν να χρησιμοποιηθούν για την παραγωγή embeddings, όπως η χρήση random walks και αλλων KGE μεθόδων, διατειρώντας την σημασιολογία μεταξύ κλάσεων και σχέσεων.\n",
    "Στο παράδειγμα αυτό, αρχικά το dataset προβάλλεται σε γράφο με χρήση του [DL2VecProjector](https://mowl.readthedocs.io/en/latest/api/mowl.projection.DL2VecProjector.html#mowl.projection.DL2VecProjector). H προβολή αυτή, ουσιαστικά παράγει [τριπλέτες για το pyKEEN μοντέλο](https://mowl.readthedocs.io/en/stable/api/mowl.projection.Edge.html#mowl.projection.Edge), ιδανικές δηλαδή για χρήση TransE embedding.<br>\n",
    "Tο [TransE](https://arxiv.org/pdf/2406.10964) αντιπροσωπεύει τις οντότητες (ℎ, 𝑡) και τις σχέσεις (𝑟) ενός γράφου γνώσης ως διανύσματα στον ίδιο χώρο. Ο βασικός στόχος του TransE είναι να μοντελοποιήσει τις σχέσεις μεταξύ των οντοτήτων ως μετατοπίσεις στον χώρο. Ουσιαστικά η εξίσωση που προσπαθεί να λύσει είναι η εξής: ℎ+𝑟≈𝑡 <br>"
   ]
  },
  {
   "cell_type": "code",
   "execution_count": null,
   "metadata": {
    "colab": {
     "referenced_widgets": [
      "f3882db620484215a8b70fc42eccfa0f",
      "bc8e8d1228284cd2a23134d50f471fe7",
      "e73bc74c22e8449f9170e32c1aa9ff02",
      "9c6b170d858649ff91949de5d05f84c0",
      "dacd2030f95a464285a520ad0f56a47c",
      "86805248009d42ebbd2a608c9b1c2860",
      "d9cc4bd63ada4ca3b5b81d130eda151a",
      "d456e792b37b423e9084eb40b3ff4174",
      "0f5e3f0712cc42ef8aad94ec180a5bc6",
      "deb852e24218469289106bca0ea1ea92",
      "6395e3bf82884fa9a9d6777ab12f7ba8",
      "b3050dc10e50470ba11881a9d99d3730",
      "9fadc5b035a7495c91269260f39aee0e",
      "3b7ec3503bae4358b48edabbbfa673b3",
      "cffcd0f09d314d5581db13c3da39012a",
      "fafede34e79c461ca23459123fd1cbf0",
      "c6f143223e2e44a28a58ffe627be73f5",
      "fd857a00cd79485bb7d6d916d98b1f83",
      "1d564060573d43a8bb0917c347156551",
      "f24a37d0611e4c3685a5b63163e7e139",
      "147397423ffd4759afb681d86740fb6d"
     ]
    },
    "id": "s74TsZO8-C0N",
    "outputId": "432fca7a-83fe-4459-fbdb-5ef18564fb68",
    "scrolled": true
   },
   "outputs": [],
   "source": [
    "from mowl.models import GraphPlusPyKEENModel\n",
    "from mowl.projection import DL2VecProjector\n",
    "from pykeen.models import TransE\n",
    "\n",
    "model = GraphPlusPyKEENModel(dataset,device='cuda')\n",
    "model.set_projector(DL2VecProjector()) #προβολή του dataset σε γράφο\n",
    "model.set_kge_method(TransE, random_seed=42) #χρηση του transE για την παραγωγη embedding στον γράφο γνώσης\n",
    "model.optimizer = th.optim.Adam\n",
    "model.lr = 0.001\n",
    "model.batch_size = 32\n",
    "\n",
    "model.train(epochs = 20) #εκπέδευση μοντελου\n",
    "\n",
    "\n",
    "\n"
   ]
  },
  {
   "cell_type": "markdown",
   "metadata": {
    "id": "BtutG3sn-C0N"
   },
   "source": [
    "Evaluation μοντέλου με χρήση του PPIEvaluator και αποθήκευση μετρικών απόδοσης."
   ]
  },
  {
   "cell_type": "code",
   "execution_count": null,
   "metadata": {
    "id": "UCXVZ-cL-C0O",
    "outputId": "0944f2aa-f314-43a6-d328-f4516209504a"
   },
   "outputs": [],
   "source": [
    "model.set_evaluator(PPIEvaluator)\n",
    "model.evaluate(dataset.testing)\n",
    "data3= model.metrics"
   ]
  },
  {
   "cell_type": "markdown",
   "metadata": {
    "id": "SA92HaBX-C0O"
   },
   "source": [
    "## Συνακτικα μοντελα\n",
    "### OPA2Vec  <br>\n",
    "Για τα συνακτικά μοντέλα, απαραίτητη είναι η αναπαράσταση των αξιωμάτων σε μορφή text, ώστε στην συνέχεια με την χρήση ενός μοντέλου όπως το [Word2Vec](https://mowl.readthedocs.io/en/stable/api/mowl.models.SyntacticPlusW2VModel.html#mowl.models.SyntacticPlusW2VModel),για να παραχθούν τα embedding. Στο συγκεκριμένο παράδειγμα, χρησιμοποιούνται και reasoners για να δημιουργηθούν και αξιώματα υποκλάσης και εξίσωσης κλάσεων. Επιπλέον, χρησιμοποιείται άτυπη γνώση όπως μεταδεδομένα οντοτήτων (πχ συνώνημα, ορισμοί) με την χρήση του \"extract_and_save_annotation_corpus\" της [mowl.corpus](https://mowl.readthedocs.io/en/stable/api/corpus/index.html), όπου είναι και η διαφορά του μοντέλου από το [Onto2Vec](https://mowl.readthedocs.io/en/stable/examples/syntactic/plot_1_onto2vec.html#sphx-glr-examples-syntactic-plot-1-onto2vec-py).\n"
   ]
  },
  {
   "cell_type": "code",
   "execution_count": null,
   "metadata": {
    "id": "wZqc7Vvr-C0O",
    "outputId": "925188fb-9f5c-48c0-a88b-fd4e8675c0d2"
   },
   "outputs": [],
   "source": [
    "from mowl.corpus import extract_and_save_axiom_corpus, extract_and_save_annotation_corpus\n",
    "from mowl.owlapi import OWLAPIAdapter\n",
    "from mowl.reasoning import MOWLReasoner\n",
    "from org.semanticweb.elk.owlapi import ElkReasonerFactory\n",
    "from java.util import HashSet\n",
    "from mowl.models import SyntacticPlusW2VModel\n",
    "import os\n",
    "logging.basicConfig(level=logging.WARNING)\n",
    "reasoner_factory = ElkReasonerFactory()\n",
    "reasoner = reasoner_factory.createReasoner(dataset.ontology)\n",
    "mowl_reasoner = MOWLReasoner(reasoner)\n",
    "\n",
    "classes = dataset.ontology.getClassesInSignature()\n",
    "subclass_axioms = mowl_reasoner.infer_subclass_axioms(classes) #αξιωματα υποκλάσεων\n",
    "equivalent_class_axioms = mowl_reasoner.infer_equivalent_class_axioms(classes) #αξιωματα εξισωσης κλάσεων\n",
    "\n",
    "adapter = OWLAPIAdapter()\n",
    "manager = adapter.owl_manager\n",
    "\n",
    "axioms = HashSet()\n",
    "axioms.addAll(subclass_axioms)\n",
    "axioms.addAll(equivalent_class_axioms)\n",
    "\n",
    "manager.addAxioms(dataset.ontology, axioms) #προσθηκη των αξιωματων που παρηχθηκαν απο το reasoner στην οντολογία που χρησιμοποιείται\n",
    "\n",
    "extract_and_save_axiom_corpus(dataset.ontology, \"opa2vec_corpus.txt\") #αποθηκευση ολων των αξιωματων που υπηρχαν και παράχθηκαν σε μορφη text\n",
    "extract_and_save_annotation_corpus(dataset.ontology, \"opa2vec_corpus.txt\", mode=\"a\") #επεκταση text με μεταδεδομένα όπως ορισμοί και περιγραφές στιγμιοτύπων\n",
    "\n",
    "\n",
    "model = SyntacticPlusW2VModel(dataset, corpus_filepath=\"opa2vec_corpus.txt\") #Word2Vec στο text για παραγωγη embedding\n",
    "model.set_w2v_model(min_count=1, workers=4, epochs=20)\n",
    "model.generate_corpus(save=True, with_annotations=True)\n",
    "model.train()\n",
    "os.remove(\"opa2vec_corpus.txt\")\n"
   ]
  },
  {
   "cell_type": "markdown",
   "metadata": {
    "id": "w09kU0pk-C0O"
   },
   "source": [
    "## Evaluation του OPA2Vec\n",
    "Για άλλη μια φορά χρησιμοποείται το PPIEvaluator όπως και πάνω."
   ]
  },
  {
   "cell_type": "code",
   "execution_count": null,
   "metadata": {
    "id": "yWwOAJc2-C0O",
    "outputId": "04bd6d18-9c6b-4af6-8778-ccb6142112f2"
   },
   "outputs": [],
   "source": [
    "model.set_evaluator(PPIEvaluator)\n",
    "model.evaluate(dataset.testing)\n",
    "data4= model.metrics\n"
   ]
  },
  {
   "cell_type": "markdown",
   "metadata": {
    "id": "RizkszBf-C0P"
   },
   "source": [
    "### Ευνοϊκή για σύγκριση αναπαράσταση αποδόσεων των μοντέλων με χρήση DataFrame της βιβλιοθήκης pandas."
   ]
  },
  {
   "cell_type": "code",
   "execution_count": null,
   "metadata": {
    "id": "CcoM8dQJ-C0P",
    "outputId": "0444c5da-f44e-4722-f0ba-564864d8213d"
   },
   "outputs": [],
   "source": [
    "import pandas as pd\n",
    "df = pd.DataFrame([data1, data2, data3,data4], index=['Model 1', 'Model 2', 'Model 3', 'Model 4'])\n",
    "\n",
    "pd.set_option('display.float_format', lambda x: f'{x:.6f}') #δεκαδική μορφή\n",
    "print(df)"
   ]
  }
 ],
 "metadata": {
  "colab": {
   "provenance": []
  },
  "kernelspec": {
   "display_name": "Python 3 (ipykernel)",
   "language": "python",
   "name": "python3"
  },
  "language_info": {
   "codemirror_mode": {
    "name": "ipython",
    "version": 3
   },
   "file_extension": ".py",
   "mimetype": "text/x-python",
   "name": "python",
   "nbconvert_exporter": "python",
   "pygments_lexer": "ipython3",
   "version": "3.10.11"
  }
 },
 "nbformat": 4,
 "nbformat_minor": 4
}
